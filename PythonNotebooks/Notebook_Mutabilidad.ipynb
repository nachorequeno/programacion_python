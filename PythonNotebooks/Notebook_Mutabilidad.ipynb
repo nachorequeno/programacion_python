{
 "cells": [
  {
   "cell_type": "markdown",
   "metadata": {},
   "source": [
    "# Mutabilidad e inmutabilidad en Python"
   ]
  },
  {
   "cell_type": "markdown",
   "metadata": {},
   "source": [
    "### Identidad, tipo y valor"
   ]
  },
  {
   "cell_type": "markdown",
   "metadata": {},
   "source": [
    "En Python, cada dato que aparece en un fragmento de código es un objeto que posee un **identificador** (de la posición de memoria que ocupa), un **tipo** y un **valor**. Por ejemplo, un número entero es un objeto."
   ]
  },
  {
   "cell_type": "code",
   "execution_count": 1,
   "metadata": {},
   "outputs": [
    {
     "data": {
      "text/plain": [
       "140733567775696"
      ]
     },
     "execution_count": 1,
     "metadata": {},
     "output_type": "execute_result"
    }
   ],
   "source": [
    "id(5)   # Identificador del objeto"
   ]
  },
  {
   "cell_type": "code",
   "execution_count": 2,
   "metadata": {},
   "outputs": [
    {
     "data": {
      "text/plain": [
       "int"
      ]
     },
     "execution_count": 2,
     "metadata": {},
     "output_type": "execute_result"
    }
   ],
   "source": [
    "type(5) # Tipo del objeto"
   ]
  },
  {
   "cell_type": "markdown",
   "metadata": {},
   "source": [
    "En Python, las funciones también son objetos."
   ]
  },
  {
   "cell_type": "code",
   "execution_count": 3,
   "metadata": {},
   "outputs": [
    {
     "name": "stdout",
     "output_type": "stream",
     "text": [
      "2512470464984\n",
      "<class 'function'>\n"
     ]
    }
   ],
   "source": [
    "def f():\n",
    "    pass\n",
    "print(id(f))   # Identificador del objeto\n",
    "print(type(f)) # Tipo del objeto"
   ]
  },
  {
   "cell_type": "markdown",
   "metadata": {},
   "source": [
    "Las variables son referencias a objetos. Una variable posee el identificador (de la posición de memoria que ocupa), el tipo y el valor del objeto al que referencia."
   ]
  },
  {
   "cell_type": "code",
   "execution_count": 4,
   "metadata": {
    "scrolled": true
   },
   "outputs": [
    {
     "name": "stdout",
     "output_type": "stream",
     "text": [
      "140733567775696\n",
      "<class 'int'>\n"
     ]
    }
   ],
   "source": [
    "dato = 5\n",
    "print(id(dato))   # Identificador del objeto\n",
    "print(type(dato)) # Tipo del objeto"
   ]
  },
  {
   "cell_type": "markdown",
   "metadata": {},
   "source": [
    "### Mutabilidad"
   ]
  },
  {
   "cell_type": "markdown",
   "metadata": {},
   "source": [
    "Los tipos de Python pueden ser clasificados atendiendo a su mutablidad. Algunos tipos de objetos son inmutables y otros son mutables.\n",
    "  - Tipos **inmutables**: Tipos cuyos objetos no se pueden modificar (números, cadenas y tuplas).\n",
    "  - Tipos **mutables**: Tipos cuyos objetos se pueden modificar (listas y diccionarios)."
   ]
  },
  {
   "cell_type": "code",
   "execution_count": 5,
   "metadata": {},
   "outputs": [
    {
     "name": "stdout",
     "output_type": "stream",
     "text": [
      "140733567775696\n",
      "140733567775760\n"
     ]
    }
   ],
   "source": [
    "dato = 5                  # Tipo inmutable\n",
    "print(id(dato))           # Identificador antes de la modificación \n",
    "dato = dato + 2           \n",
    "print(id(dato))           # Identificador después de la modificación"
   ]
  },
  {
   "cell_type": "code",
   "execution_count": 6,
   "metadata": {
    "scrolled": true
   },
   "outputs": [
    {
     "name": "stdout",
     "output_type": "stream",
     "text": [
      "2512470461168\n",
      "2512470460720\n"
     ]
    }
   ],
   "source": [
    "cadena = \"tipo inmutable\" # Tipo inmutable\n",
    "print(id(cadena))         # Identificador antes de la modificación \n",
    "cadena = cadena + \"!\"\n",
    "print(id(cadena))         # Identificador después de la modificación"
   ]
  },
  {
   "cell_type": "code",
   "execution_count": 7,
   "metadata": {},
   "outputs": [
    {
     "ename": "TypeError",
     "evalue": "'tuple' object does not support item assignment",
     "output_type": "error",
     "traceback": [
      "\u001b[1;31m---------------------------------------------------------------------------\u001b[0m",
      "\u001b[1;31mTypeError\u001b[0m                                 Traceback (most recent call last)",
      "\u001b[1;32m<ipython-input-7-5ecb4cb52259>\u001b[0m in \u001b[0;36m<module>\u001b[1;34m\u001b[0m\n\u001b[0;32m      1\u001b[0m \u001b[0mpunto\u001b[0m \u001b[1;33m=\u001b[0m \u001b[1;33m(\u001b[0m\u001b[1;36m3\u001b[0m\u001b[1;33m,\u001b[0m\u001b[1;36m7\u001b[0m\u001b[1;33m)\u001b[0m             \u001b[1;31m# Tipo inmutable\u001b[0m\u001b[1;33m\u001b[0m\u001b[1;33m\u001b[0m\u001b[0m\n\u001b[1;32m----> 2\u001b[1;33m \u001b[0mpunto\u001b[0m\u001b[1;33m[\u001b[0m\u001b[1;36m0\u001b[0m\u001b[1;33m]\u001b[0m \u001b[1;33m=\u001b[0m \u001b[1;36m5\u001b[0m\u001b[1;33m\u001b[0m\u001b[1;33m\u001b[0m\u001b[0m\n\u001b[0m",
      "\u001b[1;31mTypeError\u001b[0m: 'tuple' object does not support item assignment"
     ]
    }
   ],
   "source": [
    "punto = (3,7)             # Tipo inmutable\n",
    "punto[0] = 5"
   ]
  },
  {
   "cell_type": "code",
   "execution_count": 8,
   "metadata": {},
   "outputs": [
    {
     "name": "stdout",
     "output_type": "stream",
     "text": [
      "[1, 2, 3, 4, 5]\n",
      "2512469550792\n",
      "[1, 2, 3, 4, 5, 6]\n",
      "2512469550792\n"
     ]
    }
   ],
   "source": [
    "lista = [1,2,3,4,5] # Tipo mutable\n",
    "print(lista)\n",
    "print(id(lista))    # Identificador antes de la modificación\n",
    "lista.append(6)\n",
    "print(lista)\n",
    "print(id(lista))    # Identificador después de la modificación"
   ]
  },
  {
   "cell_type": "code",
   "execution_count": 9,
   "metadata": {},
   "outputs": [
    {
     "name": "stdout",
     "output_type": "stream",
     "text": [
      "{'azul': 0, 'rojo': 1, 'verde': 2}\n",
      "2512470482088\n",
      "{'azul': -1, 'rojo': 1, 'verde': 2}\n",
      "2512470482088\n"
     ]
    }
   ],
   "source": [
    "diccionario = {'azul':0,'rojo':1,'verde':2} # Tipo mutable\n",
    "print(diccionario)\n",
    "print(id(diccionario))                      # Identificador antes de la modificación\n",
    "diccionario['azul']=-1\n",
    "print(diccionario)\n",
    "print(id(diccionario))                      # Identificador después de la modificación"
   ]
  },
  {
   "cell_type": "markdown",
   "metadata": {},
   "source": [
    "**Observación**: Existen casos en que podría parecer que se modifica un objeto de un tipo inmutable."
   ]
  },
  {
   "cell_type": "code",
   "execution_count": 10,
   "metadata": {},
   "outputs": [
    {
     "name": "stdout",
     "output_type": "stream",
     "text": [
      "ANTES de la modificación -- id(tupla): 2512471290088 | id(lista): 2512469739784\n",
      "   Tupla: (1, 2, 3, [4, 5, 6, 7])\n",
      "DESPUÉS de la modificación -- id(tupla): 2512471290088 | id(lista): 2512469739784\n",
      "   Tupla: (1, 2, 3, [4, 5, 6, 0])\n",
      "DESPUÉS de la modificación -- id(tupla): 2512471290088 | id(lista): 2512469739784\n",
      "   Tupla: (1, 2, 3, [4, 5, 6, -1])\n"
     ]
    }
   ],
   "source": [
    "lista = [4, 5, 6, 7]\n",
    "tupla_compuesta = (1, 2, 3, lista)\n",
    "print(\"ANTES de la modificación -- id(tupla): \"+ str(id(tupla_compuesta)) + \" | id(lista): \" + str(id(tupla_compuesta[3])))\n",
    "print(\"   Tupla: \"+str(tupla_compuesta))\n",
    "lista[3] = 0\n",
    "print(\"DESPUÉS de la modificación -- id(tupla): \"+ str(id(tupla_compuesta)) + \" | id(lista): \" + str(id(tupla_compuesta[3])))\n",
    "print(\"   Tupla: \"+str(tupla_compuesta))\n",
    "tupla_compuesta[3][3] = -1\n",
    "print(\"DESPUÉS de la modificación -- id(tupla): \"+ str(id(tupla_compuesta)) + \" | id(lista): \" + str(id(tupla_compuesta[3])))\n",
    "print(\"   Tupla: \"+str(tupla_compuesta))"
   ]
  },
  {
   "cell_type": "markdown",
   "metadata": {},
   "source": [
    "### Mutabilidad y parámetros de funciones"
   ]
  },
  {
   "cell_type": "markdown",
   "metadata": {},
   "source": [
    "Cuando un valor de un tipo inmutable es utilizado como parámetro de una función, el resultado de las modificaciones que sufre se almacena en una posición de memoria diferente a la asociada al valor de entrada."
   ]
  },
  {
   "cell_type": "code",
   "execution_count": 11,
   "metadata": {},
   "outputs": [
    {
     "name": "stdout",
     "output_type": "stream",
     "text": [
      "ANTES de la llamada -- Parámetro: 0 | id(parametro): 140733567775760\n",
      "DURANTE la llamada (premodificación) -- Parámetro: 0 | id(parametro): 140733567775536\n",
      "DURANTE la llamada (postmodificación) -- Parámetro: 2 | id(parametro): 140733567775600\n",
      "DESPUÉS de la llamada -- Parámetro: 0 | id(parametro): 140733567775760\n"
     ]
    }
   ],
   "source": [
    "def funcion(n):\n",
    "    print(\"DURANTE la llamada (premodificación) -- Parámetro: \" + str(n) + \" | id(parametro): \" + str(id(n)))\n",
    "    n = n + 2\n",
    "    print(\"DURANTE la llamada (postmodificación) -- Parámetro: \" + str(n) + \" | id(parametro): \" + str(id(n)))\n",
    "    return n\n",
    "valor = 0\n",
    "print(\"ANTES de la llamada -- Parámetro: \" + str(valor) + \" | id(parametro): \" + str(id(dato)))\n",
    "funcion(valor)\n",
    "print(\"DESPUÉS de la llamada -- Parámetro: \" + str(valor) + \" | id(parametro): \" + str(id(dato)))"
   ]
  },
  {
   "cell_type": "markdown",
   "metadata": {},
   "source": [
    "Cuando un valor de un tipo mutable es utilizado como parámetro de una función, el resultado de las modificaciones que sufre se almacena en la posición de memoria asociada al valor de entrada.   "
   ]
  },
  {
   "cell_type": "code",
   "execution_count": 12,
   "metadata": {},
   "outputs": [
    {
     "name": "stdout",
     "output_type": "stream",
     "text": [
      "ANTES de la llamada -- Parámetro: [1, 2, 3, 4, 5] | id(parametro): 2512469634824\n",
      "DURANTE la llamada (premodificación) -- Parámetro: [1, 2, 3, 4, 5] | id(parametro): 2512469634824\n",
      "DURANTE la llamada (postmodificación) -- Parámetro: [1, 2, 3, 4, 5, 6] | id(parametro): 2512469634824\n",
      "DESPUÉS de la llamada -- Parámetro: [1, 2, 3, 4, 5, 6] | id(parametro): 2512469634824\n"
     ]
    }
   ],
   "source": [
    "def funcion(lst):\n",
    "    print(\"DURANTE la llamada (premodificación) -- Parámetro: \" + str(lst) + \" | id(parametro): \" + str(id(lst)))\n",
    "    lst.append(6)\n",
    "    print(\"DURANTE la llamada (postmodificación) -- Parámetro: \" + str(lst) + \" | id(parametro): \" + str(id(lst)))\n",
    "    return lst\n",
    "secuencia = [1,2,3,4,5]\n",
    "print(\"ANTES de la llamada -- Parámetro: \" + str(secuencia) + \" | id(parametro): \" + str(id(secuencia)))\n",
    "funcion(secuencia)\n",
    "print(\"DESPUÉS de la llamada -- Parámetro: \" + str(secuencia) + \" | id(parametro): \" + str(id(secuencia)))"
   ]
  },
  {
   "cell_type": "markdown",
   "metadata": {},
   "source": [
    "Por otra parte, es necesario ser cuidadosos con ciertas modificaciones de objetos mutables. Por ejemplo, la eliminación de elementos de una estructura de datos mutable mientras se recorre dicha estructura \n",
    "puede compararse con serrar la rama de un árbol mientras se está sentado en ella."
   ]
  },
  {
   "cell_type": "code",
   "execution_count": 13,
   "metadata": {},
   "outputs": [
    {
     "ename": "RuntimeError",
     "evalue": "dictionary changed size during iteration",
     "output_type": "error",
     "traceback": [
      "\u001b[1;31m---------------------------------------------------------------------------\u001b[0m",
      "\u001b[1;31mRuntimeError\u001b[0m                              Traceback (most recent call last)",
      "\u001b[1;32m<ipython-input-13-9b5e6793417f>\u001b[0m in \u001b[0;36m<module>\u001b[1;34m\u001b[0m\n\u001b[0;32m      4\u001b[0m             \u001b[1;32mdel\u001b[0m\u001b[1;33m(\u001b[0m\u001b[0mdiccionario\u001b[0m\u001b[1;33m[\u001b[0m\u001b[0mid\u001b[0m\u001b[1;33m]\u001b[0m\u001b[1;33m)\u001b[0m\u001b[1;33m\u001b[0m\u001b[1;33m\u001b[0m\u001b[0m\n\u001b[0;32m      5\u001b[0m \u001b[0mplanificacion\u001b[0m\u001b[1;33m=\u001b[0m\u001b[1;33m{\u001b[0m\u001b[1;34m'L'\u001b[0m\u001b[1;33m:\u001b[0m\u001b[1;36m13\u001b[0m\u001b[1;33m,\u001b[0m\u001b[1;34m'M'\u001b[0m\u001b[1;33m:\u001b[0m\u001b[1;36m15\u001b[0m\u001b[1;33m,\u001b[0m\u001b[1;34m'X'\u001b[0m\u001b[1;33m:\u001b[0m\u001b[1;36m13\u001b[0m\u001b[1;33m,\u001b[0m\u001b[1;34m'J'\u001b[0m\u001b[1;33m:\u001b[0m\u001b[1;36m13\u001b[0m\u001b[1;33m,\u001b[0m\u001b[1;34m'V'\u001b[0m\u001b[1;33m:\u001b[0m\u001b[1;36m19\u001b[0m\u001b[1;33m,\u001b[0m\u001b[1;34m'S'\u001b[0m\u001b[1;33m:\u001b[0m\u001b[1;36m20\u001b[0m\u001b[1;33m,\u001b[0m\u001b[1;34m'D'\u001b[0m\u001b[1;33m:\u001b[0m\u001b[1;36m13\u001b[0m\u001b[1;33m}\u001b[0m\u001b[1;33m\u001b[0m\u001b[1;33m\u001b[0m\u001b[0m\n\u001b[1;32m----> 6\u001b[1;33m \u001b[0mremoveDiccionario_incorrecto\u001b[0m\u001b[1;33m(\u001b[0m\u001b[0mplanificacion\u001b[0m\u001b[1;33m,\u001b[0m\u001b[1;36m13\u001b[0m\u001b[1;33m)\u001b[0m\u001b[1;33m\u001b[0m\u001b[1;33m\u001b[0m\u001b[0m\n\u001b[0m",
      "\u001b[1;32m<ipython-input-13-9b5e6793417f>\u001b[0m in \u001b[0;36mremoveDiccionario_incorrecto\u001b[1;34m(diccionario, datoValor)\u001b[0m\n\u001b[0;32m      1\u001b[0m \u001b[1;32mdef\u001b[0m \u001b[0mremoveDiccionario_incorrecto\u001b[0m\u001b[1;33m(\u001b[0m\u001b[0mdiccionario\u001b[0m\u001b[1;33m,\u001b[0m\u001b[0mdatoValor\u001b[0m\u001b[1;33m)\u001b[0m\u001b[1;33m:\u001b[0m\u001b[1;33m\u001b[0m\u001b[1;33m\u001b[0m\u001b[0m\n\u001b[1;32m----> 2\u001b[1;33m     \u001b[1;32mfor\u001b[0m \u001b[0mid\u001b[0m \u001b[1;32min\u001b[0m \u001b[0mdiccionario\u001b[0m\u001b[1;33m:\u001b[0m\u001b[1;33m\u001b[0m\u001b[1;33m\u001b[0m\u001b[0m\n\u001b[0m\u001b[0;32m      3\u001b[0m         \u001b[1;32mif\u001b[0m \u001b[1;33m(\u001b[0m\u001b[0mdiccionario\u001b[0m\u001b[1;33m[\u001b[0m\u001b[0mid\u001b[0m\u001b[1;33m]\u001b[0m\u001b[1;33m==\u001b[0m\u001b[0mdatoValor\u001b[0m\u001b[1;33m)\u001b[0m\u001b[1;33m:\u001b[0m\u001b[1;33m\u001b[0m\u001b[1;33m\u001b[0m\u001b[0m\n\u001b[0;32m      4\u001b[0m             \u001b[1;32mdel\u001b[0m\u001b[1;33m(\u001b[0m\u001b[0mdiccionario\u001b[0m\u001b[1;33m[\u001b[0m\u001b[0mid\u001b[0m\u001b[1;33m]\u001b[0m\u001b[1;33m)\u001b[0m\u001b[1;33m\u001b[0m\u001b[1;33m\u001b[0m\u001b[0m\n\u001b[0;32m      5\u001b[0m \u001b[0mplanificacion\u001b[0m\u001b[1;33m=\u001b[0m\u001b[1;33m{\u001b[0m\u001b[1;34m'L'\u001b[0m\u001b[1;33m:\u001b[0m\u001b[1;36m13\u001b[0m\u001b[1;33m,\u001b[0m\u001b[1;34m'M'\u001b[0m\u001b[1;33m:\u001b[0m\u001b[1;36m15\u001b[0m\u001b[1;33m,\u001b[0m\u001b[1;34m'X'\u001b[0m\u001b[1;33m:\u001b[0m\u001b[1;36m13\u001b[0m\u001b[1;33m,\u001b[0m\u001b[1;34m'J'\u001b[0m\u001b[1;33m:\u001b[0m\u001b[1;36m13\u001b[0m\u001b[1;33m,\u001b[0m\u001b[1;34m'V'\u001b[0m\u001b[1;33m:\u001b[0m\u001b[1;36m19\u001b[0m\u001b[1;33m,\u001b[0m\u001b[1;34m'S'\u001b[0m\u001b[1;33m:\u001b[0m\u001b[1;36m20\u001b[0m\u001b[1;33m,\u001b[0m\u001b[1;34m'D'\u001b[0m\u001b[1;33m:\u001b[0m\u001b[1;36m13\u001b[0m\u001b[1;33m}\u001b[0m\u001b[1;33m\u001b[0m\u001b[1;33m\u001b[0m\u001b[0m\n",
      "\u001b[1;31mRuntimeError\u001b[0m: dictionary changed size during iteration"
     ]
    }
   ],
   "source": [
    "def removeDiccionario_incorrecto(diccionario,datoValor):\n",
    "    for id in diccionario: \n",
    "        if (diccionario[id]==datoValor):\n",
    "            del(diccionario[id])\n",
    "planificacion={'L':13,'M':15,'X':13,'J':13,'V':19,'S':20,'D':13}\n",
    "removeDiccionario_incorrecto(planificacion,13)"
   ]
  },
  {
   "cell_type": "markdown",
   "metadata": {},
   "source": [
    "En este sentido, la eliminación de elementos de una lista mientras se recorre dicha lista produce situaciones irregulares."
   ]
  },
  {
   "cell_type": "code",
   "execution_count": 14,
   "metadata": {},
   "outputs": [
    {
     "name": "stdout",
     "output_type": "stream",
     "text": [
      "Bucle asociado al elemento: 15\n",
      "   lista (antes):[15, 13, 13, 19, 20, 13]\n",
      "   lista (después):[15, 13, 13, 19, 20, 13]\n",
      "Bucle asociado al elemento: 13\n",
      "   lista (antes):[15, 13, 13, 19, 20, 13]\n",
      "   lista (después):[15, 13, 19, 20, 13]\n",
      "Bucle asociado al elemento: 19\n",
      "   lista (antes):[15, 13, 19, 20, 13]\n",
      "   lista (después):[15, 13, 19, 20, 13]\n",
      "Bucle asociado al elemento: 20\n",
      "   lista (antes):[15, 13, 19, 20, 13]\n",
      "   lista (después):[15, 13, 19, 20, 13]\n",
      "Bucle asociado al elemento: 13\n",
      "   lista (antes):[15, 13, 19, 20, 13]\n",
      "   lista (después):[15, 19, 20, 13]\n"
     ]
    }
   ],
   "source": [
    "def removeLista_incorrecto(lista,dato):\n",
    "    for elemento in lista:\n",
    "        print(\"Bucle asociado al elemento: \"+str(elemento))\n",
    "        print(\"   lista (antes):\"+str(lista))    \n",
    "        if (elemento==dato):\n",
    "            lista.remove(elemento)\n",
    "        print(\"   lista (después):\"+str(lista))    \n",
    "listaHoras=list(planificacion.values())\n",
    "removeLista_incorrecto(listaHoras,13)"
   ]
  },
  {
   "cell_type": "markdown",
   "metadata": {},
   "source": [
    "Sin embargo, la eliminación de elementos de una lista puede realizarse recorriendo el rango de sus posiciones.  "
   ]
  },
  {
   "cell_type": "code",
   "execution_count": 15,
   "metadata": {},
   "outputs": [
    {
     "name": "stdout",
     "output_type": "stream",
     "text": [
      "Bucle asociado a la posición: 1\n",
      "   lista:[15, 13, 13, 19, 20, 13]\n",
      "Bucle asociado a la posición: 1\n",
      "   lista:[15, 13, 19, 20, 13]\n",
      "Bucle asociado a la posición: 1\n",
      "   lista:[15, 19, 20, 13]\n",
      "Bucle asociado a la posición: 2\n",
      "   lista:[15, 19, 20, 13]\n",
      "Bucle asociado a la posición: 3\n",
      "   lista:[15, 19, 20, 13]\n",
      "Bucle asociado a la posición: 3\n",
      "   lista:[15, 19, 20]\n"
     ]
    }
   ],
   "source": [
    "def removeLista_correcto(lista,dato):\n",
    "    posicion=0\n",
    "    while (posicion<len(lista)):\n",
    "        if (lista[posicion]==dato):\n",
    "            lista.pop(posicion)\n",
    "        else:\n",
    "            posicion=posicion+1\n",
    "        print(\"Bucle asociado a la posición: \"+str(posicion)+\"\\n   lista:\"+str(lista)) \n",
    "listaHoras=list(planificacion.values())\n",
    "removeLista_correcto(listaHoras,13)"
   ]
  },
  {
   "cell_type": "markdown",
   "metadata": {},
   "source": [
    "De forma similar, la eliminación de elementos de un diccionario puede realizarse recorriendo la lista de sus elementos."
   ]
  },
  {
   "cell_type": "code",
   "execution_count": 16,
   "metadata": {},
   "outputs": [
    {
     "name": "stdout",
     "output_type": "stream",
     "text": [
      "INICIO DE LA FUNCIÓN\n",
      "  Parámetro: {'L': 13, 'M': 15, 'X': 13, 'J': 13, 'V': 19, 'S': 20, 'D': 13}\n",
      "  Lista auxiliar: [('L', 13), ('M', 15), ('X', 13), ('J', 13), ('V', 19), ('S', 20), ('D', 13)]\n",
      "FINAL DE LA FUNCIÓN\n",
      "  Parámetro: {'M': 15, 'V': 19, 'S': 20}\n",
      "  Lista auxiliar: [('L', 13), ('M', 15), ('X', 13), ('J', 13), ('V', 19), ('S', 20), ('D', 13)]\n"
     ]
    }
   ],
   "source": [
    "def removeDiccionario_correcto(diccionario,datoValor):\n",
    "    listaPares=list(diccionario.items())\n",
    "    print(\"INICIO DE LA FUNCIÓN\\n  Parámetro: \"+str(diccionario))\n",
    "    print(\"  Lista auxiliar: \"+str(listaPares))   \n",
    "    for elemento in listaPares:\n",
    "        if (elemento[1]==datoValor):\n",
    "            del(diccionario[elemento[0]])\n",
    "    print(\"FINAL DE LA FUNCIÓN\\n  Parámetro: \"+str(diccionario))\n",
    "    print(\"  Lista auxiliar: \"+str(listaPares))   \n",
    "planificacion={'L':13,'M':15,'X':13,'J':13,'V':19,'S':20,'D':13}\n",
    "removeDiccionario_correcto(planificacion,13)"
   ]
  }
 ],
 "metadata": {
  "kernelspec": {
   "display_name": "Python 3",
   "language": "python",
   "name": "python3"
  },
  "language_info": {
   "codemirror_mode": {
    "name": "ipython",
    "version": 3
   },
   "file_extension": ".py",
   "mimetype": "text/x-python",
   "name": "python",
   "nbconvert_exporter": "python",
   "pygments_lexer": "ipython3",
   "version": "3.7.1"
  }
 },
 "nbformat": 4,
 "nbformat_minor": 2
}
