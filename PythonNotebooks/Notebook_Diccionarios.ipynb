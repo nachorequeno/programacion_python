{
 "cells": [
  {
   "cell_type": "markdown",
   "metadata": {},
   "source": [
    "# Diccionarios en Python\n",
    "Los __diccionarios__ son la implementación de Python de una estructura de datos que se conoce como __lista asociativa__. Un diccionario consta de una colección de pares clave-valor, de modo que cada par clave-valor asigna la clave a su valor asociado. \n",
    "\n",
    "Los diccionarios y las listas comparten las características siguientes:\n",
    "   1. Ambos son mutables.\n",
    "   2. Ambos son dinámicos: pueden crecer y encoger según sea necesario.\n",
    "   3. Ambos se pueden anidar: una lista puede contener otra lista, un diccionario puede contener otro diccionario, un diccionario también puede contener una lista y viceversa.\n",
    "\n",
    "Los diccionarios se diferencian de las listas en el modo de acceder a los elementos: los elementos de una lista son accesibles a través de la indexación (por su posición en la lista) y los elementos de un diccionario son accesibles a través de la claves."
   ]
  },
  {
   "cell_type": "markdown",
   "metadata": {},
   "source": [
    "### Definición de un diccionario\n",
    "Podemos definir un diccionario encerrando una secuencia de pares clave-valor entre llaves ({}), cada clave se separa de su valor asociado con dos puntos (:). También disponemos del método `dict()`, cuyo parámetro es una secuencia de pares clave-valor (por ejemplo, una lista de tuplas). En ambos casos, puede emplearse una secuencia vacía."
   ]
  },
  {
   "cell_type": "code",
   "execution_count": 1,
   "metadata": {},
   "outputs": [
    {
     "name": "stdout",
     "output_type": "stream",
     "text": [
      "Estudio: {'LUNES': 3, 'MARTES': 2, 'MIERCOLES': 1, 'JUEVES': 2, 'VIERNES': 3, 'SABADO': 3, 'DOMINGO': 3}\n",
      "Deporte: {'LUNES': 1, 'MARTES': 2, 'MIERCOLES': 3, 'JUEVES': 2, 'VIERNES': 1, 'SABADO': 0, 'DOMINGO': 0}\n",
      "Vacio: {}\n"
     ]
    }
   ],
   "source": [
    "horasEstudio = {'LUNES':3,'MARTES':2,'MIERCOLES':1,'JUEVES':2,'VIERNES':3,'SABADO':3,'DOMINGO':3}\n",
    "horasDeporte = dict([('LUNES',1),('MARTES',2),('MIERCOLES',3),('JUEVES',2),('VIERNES',1),('SABADO',0),('DOMINGO',0)])\n",
    "diccionarioVacio = {} # Equivalente a diccionarioVacio=dict([])\n",
    "print(\"Estudio: \" + str(horasEstudio))\n",
    "print(\"Deporte: \" + str(horasDeporte))\n",
    "print(\"Vacio: \" + str(diccionarioVacio))\n"
   ]
  },
  {
   "cell_type": "markdown",
   "metadata": {},
   "source": [
    "### Modificación de un diccionario\n",
    "Un valor se recupera especificando su clave correspondiente entre corchetes ([]). Si se emplea una clave inexistente en el diccionario, entonces Python genera una excepción de la clase `KeyError`."
   ]
  },
  {
   "cell_type": "code",
   "execution_count": 2,
   "metadata": {},
   "outputs": [
    {
     "name": "stdout",
     "output_type": "stream",
     "text": [
      "Estudio jueves: 2\n"
     ]
    },
    {
     "ename": "KeyError",
     "evalue": "'SABAD'",
     "output_type": "error",
     "traceback": [
      "\u001b[1;31m---------------------------------------------------------------------------\u001b[0m",
      "\u001b[1;31mKeyError\u001b[0m                                  Traceback (most recent call last)",
      "\u001b[1;32m~\\AppData\\Local\\Temp\\ipykernel_20896\\3235539032.py\u001b[0m in \u001b[0;36m<module>\u001b[1;34m\u001b[0m\n\u001b[0;32m      1\u001b[0m \u001b[0mestudioJueves\u001b[0m \u001b[1;33m=\u001b[0m \u001b[0mhorasEstudio\u001b[0m\u001b[1;33m[\u001b[0m\u001b[1;34m'JUEVES'\u001b[0m\u001b[1;33m]\u001b[0m\u001b[1;33m\u001b[0m\u001b[1;33m\u001b[0m\u001b[0m\n\u001b[0;32m      2\u001b[0m \u001b[0mprint\u001b[0m\u001b[1;33m(\u001b[0m\u001b[1;34m\"Estudio jueves: \"\u001b[0m \u001b[1;33m+\u001b[0m \u001b[0mstr\u001b[0m\u001b[1;33m(\u001b[0m\u001b[0mestudioJueves\u001b[0m\u001b[1;33m)\u001b[0m\u001b[1;33m)\u001b[0m\u001b[1;33m\u001b[0m\u001b[1;33m\u001b[0m\u001b[0m\n\u001b[1;32m----> 3\u001b[1;33m \u001b[0mdeporteSabado\u001b[0m \u001b[1;33m=\u001b[0m \u001b[0mhorasDeporte\u001b[0m\u001b[1;33m[\u001b[0m\u001b[1;34m'SABAD'\u001b[0m\u001b[1;33m]\u001b[0m\u001b[1;33m\u001b[0m\u001b[1;33m\u001b[0m\u001b[0m\n\u001b[0m",
      "\u001b[1;31mKeyError\u001b[0m: 'SABAD'"
     ]
    }
   ],
   "source": [
    "estudioJueves = horasEstudio['JUEVES']\n",
    "print(\"Estudio jueves: \" + str(estudioJueves))\n",
    "deporteSabado = horasDeporte['SABAD']"
   ]
  },
  {
   "cell_type": "markdown",
   "metadata": {},
   "source": [
    "La excepción de la clase `KeyError` se puede evitar mediante el operador `[not] in` o el método `get()`. \n",
    "El operador `[not] in` devuelve un valor booleano indicando si el dato especificado aparece o no como una clave en el diccionario. Las llamadas de la forma `d.get(clave[,valorAlternativo])` buscan `clave` en el diccionario `d`y devuelven su valor asociado si se encuentra. En caso contrario, devuelven `valorAlternativo` o `None` si este no se ha especificado."
   ]
  },
  {
   "cell_type": "code",
   "execution_count": 3,
   "metadata": {},
   "outputs": [
    {
     "name": "stdout",
     "output_type": "stream",
     "text": [
      "Valor asociado a SABAD: -1\n",
      "Valor asociado a SABAD get(): -10\n",
      "Valor asociado a SABAD get(): None\n"
     ]
    }
   ],
   "source": [
    "clave = 'SABAD' \n",
    "valor = -1\n",
    "if (clave in horasDeporte):\n",
    "    valor = horasDeporte[clave]\n",
    "print(\"Valor asociado a \" + str(clave) + \": \" + str(valor))\n",
    "valor = horasDeporte.get(clave,-10) # Implementación alternativa\n",
    "print(\"Valor asociado a \" + str(clave) + \" get(): \" + str(valor))\n",
    "valor = horasDeporte.get(clave)    # Implementación alternativa\n",
    "print(\"Valor asociado a \" + str(clave) + \" get(): \" + str(valor))"
   ]
  },
  {
   "cell_type": "markdown",
   "metadata": {},
   "source": [
    "Para añadir un nuevo par clave-valor a un diccionario dado debemos asignar dicho valor a la clave. Cada clave puede aparecer en un diccionario solo una vez, es decir, no se permiten claves duplicadas. De hecho, cuando se asigna un valor a una clave ya existente, Python no agrega la clave por segunda vez, sino que reemplaza el valor existente por el valor asignado."
   ]
  },
  {
   "cell_type": "code",
   "execution_count": 4,
   "metadata": {},
   "outputs": [
    {
     "name": "stdout",
     "output_type": "stream",
     "text": [
      "Estudio: {'LUNES': 3, 'MARTES': 2, 'MIERCOLES': 1, 'JUEVES': 2, 'VIERNES': 3, 'SABADO': 1, 'DOMINGO': 3, 'FESTIVO': 4}\n"
     ]
    }
   ],
   "source": [
    "horasEstudio['FESTIVO'] = 4\n",
    "horasEstudio['SABADO'] = 1\n",
    "print(\"Estudio: \" + str(horasEstudio))"
   ]
  },
  {
   "cell_type": "markdown",
   "metadata": {},
   "source": [
    "Para eliminar un par clave-valor de un diccionario, disponemos de la función `del()` que requiere especificar la clave que se desea eliminar. Si se emplea una clave inexistente en el diccionario, entonces Python genera una excepción de la clase `KeyError`."
   ]
  },
  {
   "cell_type": "code",
   "execution_count": 5,
   "metadata": {},
   "outputs": [
    {
     "name": "stdout",
     "output_type": "stream",
     "text": [
      "Estudio: {'LUNES': 3, 'MARTES': 2, 'MIERCOLES': 1, 'JUEVES': 2, 'VIERNES': 3, 'SABADO': 1, 'DOMINGO': 3}\n"
     ]
    },
    {
     "ename": "KeyError",
     "evalue": "'SABAD'",
     "output_type": "error",
     "traceback": [
      "\u001b[1;31m---------------------------------------------------------------------------\u001b[0m",
      "\u001b[1;31mKeyError\u001b[0m                                  Traceback (most recent call last)",
      "\u001b[1;32m~\\AppData\\Local\\Temp\\ipykernel_20896\\3667860854.py\u001b[0m in \u001b[0;36m<module>\u001b[1;34m\u001b[0m\n\u001b[0;32m      1\u001b[0m \u001b[1;32mdel\u001b[0m\u001b[1;33m(\u001b[0m\u001b[0mhorasEstudio\u001b[0m\u001b[1;33m[\u001b[0m\u001b[1;34m'FESTIVO'\u001b[0m\u001b[1;33m]\u001b[0m\u001b[1;33m)\u001b[0m\u001b[1;33m\u001b[0m\u001b[1;33m\u001b[0m\u001b[0m\n\u001b[0;32m      2\u001b[0m \u001b[0mprint\u001b[0m\u001b[1;33m(\u001b[0m\u001b[1;34m\"Estudio: \"\u001b[0m \u001b[1;33m+\u001b[0m \u001b[0mstr\u001b[0m\u001b[1;33m(\u001b[0m\u001b[0mhorasEstudio\u001b[0m\u001b[1;33m)\u001b[0m\u001b[1;33m)\u001b[0m\u001b[1;33m\u001b[0m\u001b[1;33m\u001b[0m\u001b[0m\n\u001b[1;32m----> 3\u001b[1;33m \u001b[1;32mdel\u001b[0m\u001b[1;33m(\u001b[0m\u001b[0mhorasEstudio\u001b[0m\u001b[1;33m[\u001b[0m\u001b[1;34m'SABAD'\u001b[0m\u001b[1;33m]\u001b[0m\u001b[1;33m)\u001b[0m\u001b[1;33m\u001b[0m\u001b[1;33m\u001b[0m\u001b[0m\n\u001b[0m",
      "\u001b[1;31mKeyError\u001b[0m: 'SABAD'"
     ]
    }
   ],
   "source": [
    "del(horasEstudio['FESTIVO'])\n",
    "print(\"Estudio: \" + str(horasEstudio))\n",
    "del(horasEstudio['SABAD'])"
   ]
  },
  {
   "cell_type": "markdown",
   "metadata": {},
   "source": [
    "Para eliminar un par clave-valor de un diccionario, también disponemos del método `pop()` que requiere especificar la clave que se desea eliminar. Las llamadas de la forma `d.pop(clave)` eliminan el par `clave`-valor del diccionario `d` devolviendo el valor eliminado si se encuentra, y en caso contrario generan una excepción de la clase `KeyError`. Por otra parte, las llamadas de la forma `d.pop(clave,valorAlternativo)` eliminan el par `clave`-valor del diccionario `d` devolviendo el valor eliminado si se encuentra, y en caso contrario devuelven `valorAlternativo`. "
   ]
  },
  {
   "cell_type": "code",
   "execution_count": 6,
   "metadata": {},
   "outputs": [
    {
     "name": "stdout",
     "output_type": "stream",
     "text": [
      "Horas de estudio eliminadas: 3\n",
      "Estudio: {'LUNES': 3, 'MARTES': 2, 'MIERCOLES': 1, 'JUEVES': 2, 'VIERNES': 3, 'SABADO': 1}\n",
      "Horas de estudio eliminadas: 0\n",
      "Estudio: {'LUNES': 3, 'MARTES': 2, 'MIERCOLES': 1, 'JUEVES': 2, 'VIERNES': 3, 'SABADO': 1}\n"
     ]
    },
    {
     "ename": "KeyError",
     "evalue": "'DOMINGO'",
     "output_type": "error",
     "traceback": [
      "\u001b[1;31m---------------------------------------------------------------------------\u001b[0m",
      "\u001b[1;31mKeyError\u001b[0m                                  Traceback (most recent call last)",
      "\u001b[1;32m~\\AppData\\Local\\Temp\\ipykernel_20896\\4217966325.py\u001b[0m in \u001b[0;36m<module>\u001b[1;34m\u001b[0m\n\u001b[0;32m      5\u001b[0m \u001b[0mprint\u001b[0m\u001b[1;33m(\u001b[0m\u001b[1;34m\"Horas de estudio eliminadas: \"\u001b[0m \u001b[1;33m+\u001b[0m \u001b[0mstr\u001b[0m\u001b[1;33m(\u001b[0m\u001b[0mhoras\u001b[0m\u001b[1;33m)\u001b[0m\u001b[1;33m)\u001b[0m\u001b[1;33m\u001b[0m\u001b[1;33m\u001b[0m\u001b[0m\n\u001b[0;32m      6\u001b[0m \u001b[0mprint\u001b[0m\u001b[1;33m(\u001b[0m\u001b[1;34m\"Estudio: \"\u001b[0m \u001b[1;33m+\u001b[0m \u001b[0mstr\u001b[0m\u001b[1;33m(\u001b[0m\u001b[0mhorasEstudio\u001b[0m\u001b[1;33m)\u001b[0m\u001b[1;33m)\u001b[0m\u001b[1;33m\u001b[0m\u001b[1;33m\u001b[0m\u001b[0m\n\u001b[1;32m----> 7\u001b[1;33m \u001b[0mhoras\u001b[0m \u001b[1;33m=\u001b[0m \u001b[0mhorasEstudio\u001b[0m\u001b[1;33m.\u001b[0m\u001b[0mpop\u001b[0m\u001b[1;33m(\u001b[0m\u001b[1;34m'DOMINGO'\u001b[0m\u001b[1;33m)\u001b[0m\u001b[1;33m\u001b[0m\u001b[1;33m\u001b[0m\u001b[0m\n\u001b[0m\u001b[0;32m      8\u001b[0m \u001b[0mprint\u001b[0m\u001b[1;33m(\u001b[0m\u001b[1;34m\"Horas de estudio eliminadas: \"\u001b[0m \u001b[1;33m+\u001b[0m \u001b[0mstr\u001b[0m\u001b[1;33m(\u001b[0m\u001b[0mhoras\u001b[0m\u001b[1;33m)\u001b[0m\u001b[1;33m)\u001b[0m\u001b[1;33m\u001b[0m\u001b[1;33m\u001b[0m\u001b[0m\n\u001b[0;32m      9\u001b[0m \u001b[0mprint\u001b[0m\u001b[1;33m(\u001b[0m\u001b[1;34m\"Estudio: \"\u001b[0m \u001b[1;33m+\u001b[0m \u001b[0mstr\u001b[0m\u001b[1;33m(\u001b[0m\u001b[0mhorasEstudio\u001b[0m\u001b[1;33m)\u001b[0m\u001b[1;33m)\u001b[0m\u001b[1;33m\u001b[0m\u001b[1;33m\u001b[0m\u001b[0m\n",
      "\u001b[1;31mKeyError\u001b[0m: 'DOMINGO'"
     ]
    }
   ],
   "source": [
    "horas = horasEstudio.pop('DOMINGO')\n",
    "print(\"Horas de estudio eliminadas: \" + str(horas))\n",
    "print(\"Estudio: \" + str(horasEstudio))\n",
    "horas = horasEstudio.pop('DOMINGO',0)\n",
    "print(\"Horas de estudio eliminadas: \" + str(horas))\n",
    "print(\"Estudio: \" + str(horasEstudio))\n",
    "horas = horasEstudio.pop('DOMINGO')\n",
    "print(\"Horas de estudio eliminadas: \" + str(horas))\n",
    "print(\"Estudio: \" + str(horasEstudio))"
   ]
  },
  {
   "cell_type": "markdown",
   "metadata": {},
   "source": [
    "Otra opción útil para actualizar el contenido de un diccionario es el método `update()`, que fusiona un diccionario (el parámetro implícito) con otro diccionario o con una colección de pares clave-valor (el parámetro explícito). "
   ]
  },
  {
   "cell_type": "code",
   "execution_count": 7,
   "metadata": {},
   "outputs": [
    {
     "name": "stdout",
     "output_type": "stream",
     "text": [
      "Estudio (sin repaso): {'LUNES': 3, 'MARTES': 2, 'MIERCOLES': 1, 'JUEVES': 2, 'VIERNES': 3, 'SABADO': 1}\n",
      "Estudio (con repaso): {'LUNES': 5, 'MARTES': 2, 'MIERCOLES': 1, 'JUEVES': 2, 'VIERNES': 3, 'SABADO': 4, 'DOMINGO': 2}\n"
     ]
    }
   ],
   "source": [
    "horasRepaso = {'LUNES':5,'SABADO':4,'DOMINGO':2}\n",
    "print(\"Estudio (sin repaso): \" + str(horasEstudio))\n",
    "horasEstudio.update(horasRepaso)\n",
    "print(\"Estudio (con repaso): \" + str(horasEstudio))"
   ]
  },
  {
   "cell_type": "code",
   "execution_count": 8,
   "metadata": {},
   "outputs": [
    {
     "name": "stdout",
     "output_type": "stream",
     "text": [
      "Estudio final: {'LUNES': 5, 'MARTES': 3, 'MIERCOLES': 1, 'JUEVES': 2, 'VIERNES': 3, 'SABADO': 4, 'DOMINGO': 2, 'FESTIVO': 2}\n"
     ]
    }
   ],
   "source": [
    "horasEstudio.update([('MARTES',3),('FESTIVO',2)])\n",
    "print(\"Estudio final: \" + str(horasEstudio))"
   ]
  },
  {
   "cell_type": "markdown",
   "metadata": {},
   "source": [
    "__Nota:__ Aunque el acceso a los elementos de un diccionario no depende de su orden, Python garantiza dicho orden, es decir, cuando se muestran los elementos de un diccionario, estos aparecen en el orden en que se definieron y la iteración a través de las claves también se produce en ese orden. Además, los elementos agregados a un diccionario se añaden al final y si se eliminan elementos, entonces se conserva el orden de los restantes. Esta preservación del orden se agregó como parte de la especificación del lenguaje Python en la versión 3.7."
   ]
  },
  {
   "cell_type": "code",
   "execution_count": 9,
   "metadata": {},
   "outputs": [
    {
     "name": "stdout",
     "output_type": "stream",
     "text": [
      "Estudio: {'LUNES': 5, 'MARTES': 3, 'MIERCOLES': 1, 'JUEVES': 2, 'VIERNES': 3, 'SABADO': 4, 'DOMINGO': 2, 'FESTIVO': 2}\n",
      "Horas de estudio eliminadas: ('FESTIVO', 2)\n",
      "Estudio: {'LUNES': 5, 'MARTES': 3, 'MIERCOLES': 1, 'JUEVES': 2, 'VIERNES': 3, 'SABADO': 4, 'DOMINGO': 2}\n"
     ]
    }
   ],
   "source": [
    "print(\"Estudio: \" + str(horasEstudio))\n",
    "horas = horasEstudio.popitem() # Eliminación del último elemento del diccionario\n",
    "print(\"Horas de estudio eliminadas: \" + str(horas))\n",
    "print(\"Estudio: \" + str(horasEstudio))"
   ]
  },
  {
   "cell_type": "markdown",
   "metadata": {},
   "source": [
    "### Restricciones de las claves y los valores de un diccionario\n",
    "No es necesario que las claves de un diccionario sean del mismo tipo. Análogamente, no es necesario que los valores de un diccionario sean del mismo tipo. Por otra parte, las claves de un diccionario deben pertenecer a tipos inmutables, mientras que los valores de un diccionario puede ser de cualquier tipo, incluidos los tipos mutables."
   ]
  },
  {
   "cell_type": "code",
   "execution_count": 10,
   "metadata": {},
   "outputs": [
    {
     "name": "stdout",
     "output_type": "stream",
     "text": [
      "Alfabeto: {0: 'a', 1: 'b', 2: 'c', 'TRES': 3}\n",
      "Coordenadas_string: {(0, 0): 'Madrid', (0, 1): 'Berlín', (1, 1): 'París'}\n",
      "Coordenadas_list: {(0, 0): [-1, -1, -1], (0, 1): [0, 0, 0], (1, 1): [1, 1, 1]}\n"
     ]
    },
    {
     "ename": "TypeError",
     "evalue": "unhashable type: 'list'",
     "output_type": "error",
     "traceback": [
      "\u001b[1;31m---------------------------------------------------------------------------\u001b[0m",
      "\u001b[1;31mTypeError\u001b[0m                                 Traceback (most recent call last)",
      "\u001b[1;32m~\\AppData\\Local\\Temp\\ipykernel_20896\\1770698985.py\u001b[0m in \u001b[0;36m<module>\u001b[1;34m\u001b[0m\n\u001b[0;32m      5\u001b[0m \u001b[0mprint\u001b[0m\u001b[1;33m(\u001b[0m\u001b[1;34m\"Coordenadas_string: \"\u001b[0m \u001b[1;33m+\u001b[0m \u001b[0mstr\u001b[0m\u001b[1;33m(\u001b[0m\u001b[0mcoordenadas_string\u001b[0m\u001b[1;33m)\u001b[0m\u001b[1;33m)\u001b[0m\u001b[1;33m\u001b[0m\u001b[1;33m\u001b[0m\u001b[0m\n\u001b[0;32m      6\u001b[0m \u001b[0mprint\u001b[0m\u001b[1;33m(\u001b[0m\u001b[1;34m\"Coordenadas_list: \"\u001b[0m \u001b[1;33m+\u001b[0m \u001b[0mstr\u001b[0m\u001b[1;33m(\u001b[0m\u001b[0mcoordenadas_list\u001b[0m\u001b[1;33m)\u001b[0m\u001b[1;33m)\u001b[0m\u001b[1;33m\u001b[0m\u001b[1;33m\u001b[0m\u001b[0m\n\u001b[1;32m----> 7\u001b[1;33m \u001b[0mcoordenadas_list2\u001b[0m \u001b[1;33m=\u001b[0m \u001b[1;33m{\u001b[0m\u001b[1;33m[\u001b[0m\u001b[1;36m0\u001b[0m\u001b[1;33m,\u001b[0m\u001b[1;36m0\u001b[0m\u001b[1;33m]\u001b[0m\u001b[1;33m:\u001b[0m\u001b[1;33m[\u001b[0m\u001b[1;33m-\u001b[0m\u001b[1;36m1\u001b[0m\u001b[1;33m,\u001b[0m\u001b[1;33m-\u001b[0m\u001b[1;36m1\u001b[0m\u001b[1;33m,\u001b[0m\u001b[1;33m-\u001b[0m\u001b[1;36m1\u001b[0m\u001b[1;33m]\u001b[0m\u001b[1;33m,\u001b[0m\u001b[1;33m[\u001b[0m\u001b[1;36m0\u001b[0m\u001b[1;33m,\u001b[0m\u001b[1;36m1\u001b[0m\u001b[1;33m]\u001b[0m\u001b[1;33m:\u001b[0m\u001b[1;33m[\u001b[0m\u001b[1;36m0\u001b[0m\u001b[1;33m,\u001b[0m\u001b[1;36m0\u001b[0m\u001b[1;33m,\u001b[0m\u001b[1;36m0\u001b[0m\u001b[1;33m]\u001b[0m\u001b[1;33m,\u001b[0m\u001b[1;33m[\u001b[0m\u001b[1;36m1\u001b[0m\u001b[1;33m,\u001b[0m\u001b[1;36m1\u001b[0m\u001b[1;33m]\u001b[0m\u001b[1;33m:\u001b[0m\u001b[1;33m[\u001b[0m\u001b[1;36m1\u001b[0m\u001b[1;33m,\u001b[0m\u001b[1;36m1\u001b[0m\u001b[1;33m,\u001b[0m\u001b[1;36m1\u001b[0m\u001b[1;33m]\u001b[0m\u001b[1;33m}\u001b[0m\u001b[1;33m\u001b[0m\u001b[1;33m\u001b[0m\u001b[0m\n\u001b[0m",
      "\u001b[1;31mTypeError\u001b[0m: unhashable type: 'list'"
     ]
    }
   ],
   "source": [
    "alfabeto = {0:'a',1:'b',2:'c','TRES':3}\n",
    "print(\"Alfabeto: \" + str(alfabeto))\n",
    "coordenadas_string = {(0,0):'Madrid',(0,1):'Berlín',(1,1):'París'}\n",
    "coordenadas_list = {(0,0):[-1,-1,-1],(0,1):[0,0,0],(1,1):[1,1,1]}\n",
    "print(\"Coordenadas_string: \" + str(coordenadas_string))\n",
    "print(\"Coordenadas_list: \" + str(coordenadas_list))\n",
    "coordenadas_list2 = {[0,0]:[-1,-1,-1],[0,1]:[0,0,0],[1,1]:[1,1,1]}"
   ]
  },
  {
   "cell_type": "markdown",
   "metadata": {},
   "source": [
    "__Nota:__ Técnicamente, no es exacto decir que un objeto debe ser inmutable para ser utilizado como clave de un diccionario. Específicamente, un objeto debe ser `hash`, es decir, su clase debe implementar el método `hash()`. Recordamos que el método `hash()` de Python devuelve el valor de un objeto `hash`y genera una excepción para un objeto que no lo es. Actualmente, todos los tipos inmutables son `hash` y los tipos de colecciones mutables (listas y diccionarios) no lo son. Como consecuencia, en este contexto los términos hash e inmutable parecen sinónimos, sin embargo, existen objetos mutables que también son `hash`."
   ]
  },
  {
   "cell_type": "code",
   "execution_count": 11,
   "metadata": {},
   "outputs": [
    {
     "name": "stdout",
     "output_type": "stream",
     "text": [
      "Objetos: {Objeto(1): 1, Objeto(2): 2, Objeto(3): 3}\n"
     ]
    }
   ],
   "source": [
    "class Objeto(object):\n",
    "    def __init__(self,atributo):\n",
    "        self.atributo = atributo\n",
    "    def __eq__(self,otro):\n",
    "        if (instanceof(otro,Objeto)):\n",
    "            return self.atributo == otro.atributo\n",
    "        return False\n",
    "    def __ne__(self,otro):\n",
    "        return not self.__eq__(otro)\n",
    "    def __hash__(self):\n",
    "        return hash(self.atributo)\n",
    "    def __repr__(self):\n",
    "        return \"Objeto(\" + str(self.atributo) + \")\"\n",
    "diccionarioObjetos = {Objeto(1):1,Objeto(2):2,Objeto(3):3}\n",
    "print(\"Objetos: \" + str(diccionarioObjetos))"
   ]
  },
  {
   "cell_type": "markdown",
   "metadata": {},
   "source": [
    "### Recorrido de las claves y los valores de un diccionario\n",
    "El método `items()` devuelve una lista de tuplas que contiene los pares clave-valor de un diccionario (el primer elemento de cada tupla es la clave y el segundo elemento es el valor de la clave). La llamada `d.keys()` devuelve una lista de todas las claves en `d` y la llamada `d.values()` devuelve una lista de todos los valores en `d`. Por último, `d.clear()` vacía el diccionario `d` de todos los pares clave-valor."
   ]
  },
  {
   "cell_type": "code",
   "execution_count": 12,
   "metadata": {},
   "outputs": [
    {
     "name": "stdout",
     "output_type": "stream",
     "text": [
      "Deporte: {'LUNES': 1, 'MARTES': 2, 'MIERCOLES': 3, 'JUEVES': 2, 'VIERNES': 1, 'SABADO': 0, 'DOMINGO': 0}\n",
      "dict_items([('LUNES', 1), ('MARTES', 2), ('MIERCOLES', 3), ('JUEVES', 2), ('VIERNES', 1), ('SABADO', 0), ('DOMINGO', 0)])\n",
      "dict_keys(['LUNES', 'MARTES', 'MIERCOLES', 'JUEVES', 'VIERNES', 'SABADO', 'DOMINGO'])\n",
      "dict_values([1, 2, 3, 2, 1, 0, 0])\n",
      "Deporte: {}\n"
     ]
    }
   ],
   "source": [
    "# horasDeporte = dict([('LUNES',1),('MARTES',2),('MIERCOLES',3),('JUEVES',2),('VIERNES',1),('SABADO',0),('DOMINGO',0)])\n",
    "print(\"Deporte: \" + str(horasDeporte))\n",
    "listaPares = horasDeporte.items()\n",
    "print(listaPares)\n",
    "listaClaves = horasDeporte.keys()\n",
    "print(listaClaves)\n",
    "listaValores = horasDeporte.values()\n",
    "print(listaValores)\n",
    "horasDeporte.clear()\n",
    "print(\"Deporte: \" + str(horasDeporte))"
   ]
  }
 ],
 "metadata": {
  "kernelspec": {
   "display_name": "Python 3 (ipykernel)",
   "language": "python",
   "name": "python3"
  },
  "language_info": {
   "codemirror_mode": {
    "name": "ipython",
    "version": 3
   },
   "file_extension": ".py",
   "mimetype": "text/x-python",
   "name": "python",
   "nbconvert_exporter": "python",
   "pygments_lexer": "ipython3",
   "version": "3.9.13"
  }
 },
 "nbformat": 4,
 "nbformat_minor": 4
}
