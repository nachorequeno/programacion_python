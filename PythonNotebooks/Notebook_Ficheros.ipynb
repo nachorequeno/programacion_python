{
 "cells": [
  {
   "cell_type": "markdown",
   "id": "0ba9128e",
   "metadata": {},
   "source": [
    "## Ficheros en Python\n",
    "Un __fichero__ es un conjunto de datos relacionados entre sí que son almacenados de forma __permanente__. Esto significa que los datos permanecen en el medio en que se almacenan después de que el programa que los genera deja de ejecutarse. El __contenido__ y la __estructura__ de un fichero responden al criterio del desarrollador de la aplicación que lo crea. Respecto a la naturaleza de los datos almacenados, los ficheros se clasifican en ficheros binarios y ficheros de texto:\n",
    "* __Fichero binario:__ contiene la representación binaria de los datos. No es editable.  \n",
    "* __Fichero de texto:__ contiene la representación alfanumérica de los datos. Está estructurado en líneas y cada línea termina con una marca especial denominada __marca de fin de línea__ (_EOL_ o _End Of Line_). Los ficheros de texto son editables mediante un editor de texto.  \n",
    "\n",
    "Las operaciones de lectura/escritura de los ficheros se basan en el concepto de __flujo__ de datos o __stream__. Un stream es una conexión entre una aplicación y la fuente (lectura) o el destino (escritura) de los datos, de modo que la información se traslada en serie a través de esta conexión. Además, de forma transparente al programador, la entrada/salida emplea cierta cantidad de memoria auxiliar denominada __buffer__: dado que las operaciones de lectura/escritura de los ficheros son mucho más lentas que las realizadas en la RAM, los datos son temporalmente leídos/escritos en búferes. De este modo, las aplicaciones no se ralentizan. \n",
    "\n",
    "Por otra parte, cuando empleamos la función `print()`, los datos se escriben en su fichero _por defecto_, la pantalla; y cuando empleamos la función `input()`, los datos se leen de su fichero _por defecto_, el teclado. Cuando no se emplean estos _ficheros estándar_, se deben realizar ciertas tareas:\n",
    "* __Apertura del fichero:__ es necesario tanto asociar el fichero (definido a nivel del sistema operativo) con un _objeto_ que represente la fuente de datos como indicar si se va a emplear para la entrada o para la salida de datos, es decir, para leer o para escribir. Cada vez abrimos un fichero, se crea un _puntero_ que se posiciona en un lugar determinado del fichero (al principio o al final) y se desplaza de acuerdo con las operaciones de lectura/escritura indicadas.\n",
    "* __Cierre del fichero:__ cuando el objeto que representa el fichero deja de usarse definitivamente, es necesario informar al sistema operativo para que realice las acciones necesarias.\n",
    "    - El sistema operativo fuerza la transferencia de los datos pendientes en el buffer. \n",
    "    - Se libera la memoria consumida durante las operaciones de lectura/escritura (el buffer y otros elementos).\n",
    "    - El sistema operativo determina una cantidad máxima de ficheros que pueden estar abiertos simultáneamente. Si no se cierran los ficheros que no están en uso, entonces puede que no podamos abrir otros que sí son necesarios. "
   ]
  },
  {
   "cell_type": "markdown",
   "id": "979430ba",
   "metadata": {},
   "source": [
    "### Apertura de un fichero\n",
    "Para abrir un fichero disponemos de la función `open()`, que devuelve el objeto con el que trabajaremos a partir de ese momento. Entre los parámetros de esta función encontramos los siguientes:\n",
    "* `rutaFichero`: nombre del fichero con el que se desea trabajar. Puede incluir la ruta de acceso al fichero.\n",
    "* `modo`: __modo de apertura__ del fichero. Es una cadena de caracteres opcional que indica el tipo de operaciones que vamos a realizar con el fichero. Si no se especifica, el fichero se abre en modo de solo lectura (`r`). Los modos de apertura más importantes son los siguientes: \n",
    "    - `r`: si el fichero especificado existe, entonces este se abre en modo de solo lectura (el puntero de archivo se coloca al principio del mismo). En caso contrario, la función lanza una excepción de la clase `FileNotFoundError`. El modo `rb` es el análogo para ficheros binarios.\n",
    "    - `r+`: si el fichero especificado existe, entonces este se abre en modo de lectura/escritura (el puntero de archivo se coloca al principio del mismo). En caso contrario, la función lanza una excepción de la clase `FileNotFoundError`. El modo `rb+` es el análogo para ficheros binarios.\n",
    "    - `w`: si el fichero especificado existe, entonces se borra su contenido y se abre en modo de solo escritura. En caso contrario, la función crea un nuevo archivo y lo abre en modo de solo escritura. El modo `wb` es el análogo para ficheros binarios.\n",
    "    - `w+`: si el fichero especificado existe, entonces se borra su contenido y se abre en modo de lectura/escritura. En caso contrario, la función crea un nuevo archivo y lo abre en modo de lectura/escritura. El modo `wb+` es el análogo para ficheros binarios.\n",
    "    - `a`: si el fichero especificado existe, entonces este se abre en modo de agregación (el puntero de archivo se coloca al final del mismo). En caso contrario, la función crea un nuevo archivo y lo abre en modo de agregación (el puntero de archivo se coloca al principio del mismo). El modo `ab` es el análogo para ficheros binarios. \n",
    "    - `a+`: si el fichero especificado existe, entonces este se abre en modo de lectura/agregación (el puntero de archivo se coloca al final del mismo). En caso contrario, la función crea un nuevo archivo y lo abre en modo de lectura/agregación (el puntero de archivo se coloca al principio del mismo). El modo `ab+` es el análogo para ficheros binarios. \n",
    "    - `x`: si el fichero especificado existe, la función lanza una excepción de la clase `FileExistsError`. En caso contrario, se crea un nuevo archivo en modo de solo escritura. \n",
    "\n",
    "### Cierre de un fichero\n",
    "Para cerrar un fichero disponemos del método `close()`. Trataremos el cierre de un fichero más adelante."
   ]
  },
  {
   "cell_type": "code",
   "execution_count": 1,
   "id": "10991c54",
   "metadata": {},
   "outputs": [],
   "source": [
    "fichero = open('datos.txt') # Apertura del fichero en modo de solo lectura\n",
    "fichero.close()             # Cierre del fichero"
   ]
  },
  {
   "cell_type": "markdown",
   "id": "b18eb881",
   "metadata": {},
   "source": [
    "### Manipulación de ficheros de texto\n",
    "#### Lectura de ficheros de texto\n",
    "El modo más habitual de leer un fichero de texto es hacerlo línea por línea, para lo cual disponemos tanto del método `readline()` como de los bucles `for` definidos sobre objetos iterables. Debemos recordar que cada línea de un fichero de texto incluye la marca de fin de línea (eliminada en los ejemplos mediante el método `strip()`) y que la función `print()` introduce por defecto otra marca de fín de línea (eliminada en los ejemplos mediante el parámetro opcional `end`). __Nota:__ El método `readline()` tiene un parámetro opcional que permite especificar la cantidad de caracteres leídos sin exceder la longitud de la línea correspondiente."
   ]
  },
  {
   "cell_type": "code",
   "execution_count": 2,
   "id": "536d06f9",
   "metadata": {},
   "outputs": [
    {
     "name": "stdout",
     "output_type": "stream",
     "text": [
      "1 2 3  "
     ]
    }
   ],
   "source": [
    "fichero = open('datos.txt')\n",
    "linea = ' '\n",
    "while (len(linea)!=0): \n",
    "    linea = fichero.readline().strip() # Eliminación de la marca EOL\n",
    "    print(linea, end=' ')\n",
    "fichero.close()"
   ]
  },
  {
   "cell_type": "code",
   "execution_count": 3,
   "id": "c3878d6c",
   "metadata": {},
   "outputs": [
    {
     "name": "stdout",
     "output_type": "stream",
     "text": [
      "1 2 3 "
     ]
    }
   ],
   "source": [
    "fichero = open('datos.txt')\n",
    "for linea in fichero:\n",
    "    print(linea.strip(), end=' ')      # Eliminación de la marca EOL\n",
    "fichero.close()"
   ]
  },
  {
   "cell_type": "markdown",
   "id": "12304a93",
   "metadata": {},
   "source": [
    "En el ejemplo que mostramos a continuación, los datos del fichero (cuyo formato es conocido) se almacenan en una lista de números enteros."
   ]
  },
  {
   "cell_type": "code",
   "execution_count": 2,
   "id": "7bb98c27",
   "metadata": {},
   "outputs": [
    {
     "name": "stdout",
     "output_type": "stream",
     "text": [
      "[1, 2, 3]\n"
     ]
    }
   ],
   "source": [
    "def readData(nombreFichero):\n",
    "    fichero = open(nombreFichero)\n",
    "    listaDatos = []\n",
    "    for linea in fichero:\n",
    "        listaDatos.append(int(linea.strip()))\n",
    "    fichero.close()\n",
    "    return listaDatos\n",
    "lista = readData('datos.txt')\n",
    "print(lista)"
   ]
  },
  {
   "cell_type": "markdown",
   "id": "8f99b7ad",
   "metadata": {},
   "source": [
    "También podemos leer el archivo con una única operación empleando los métodos `readlines()` o `read()`: \n",
    "* `readlines()`: lee todas las líneas del fichero y devuelve una lista donde cada elemento es una línea.\n",
    "* `read()`: lee el contenido del fichero y devuelve una cadena de caracteres que es la concatenación de todas las líneas."
   ]
  },
  {
   "cell_type": "code",
   "execution_count": 5,
   "id": "3c2e13d1",
   "metadata": {},
   "outputs": [
    {
     "name": "stdout",
     "output_type": "stream",
     "text": [
      "Lista de lineas de readlines():['1\\n', '2\\n', '3\\n']\n",
      "Lista de enteros de readlines(): [1, 2, 3]\n"
     ]
    }
   ],
   "source": [
    "fichero = open('datos.txt')\n",
    "listaLineas = fichero.readlines()\n",
    "fichero.close()\n",
    "listaEnteros = [int(linea) for linea in listaLineas]\n",
    "print(\"Lista de lineas de readlines():\" + str(listaLineas))\n",
    "print(\"Lista de enteros de readlines(): \" + str(listaEnteros))"
   ]
  },
  {
   "cell_type": "code",
   "execution_count": 6,
   "id": "a3e3a51e",
   "metadata": {},
   "outputs": [
    {
     "name": "stdout",
     "output_type": "stream",
     "text": [
      "Linea unica de read():\n",
      "1\n",
      "2\n",
      "3\n",
      "\n",
      "Lista de enteros de read(): [1, 2, 3]\n"
     ]
    }
   ],
   "source": [
    "fichero = open('datos.txt')\n",
    "linea = fichero.read()\n",
    "fichero.close()\n",
    "listaEnteros = [int(token) for token in linea.split()]\n",
    "print(\"Linea unica de read():\\n\" + str(linea))\n",
    "print(\"Lista de enteros de read(): \" + str(listaEnteros))"
   ]
  },
  {
   "cell_type": "markdown",
   "id": "c084c47d",
   "metadata": {},
   "source": [
    "#### El administrador de contexto `with`\n",
    "Los ejemplos anteriores muestran que el éxito de la lectura de un fichero depende, en gran medida, de que su formato sea conocido por el implementador (si el formato que se espera no es el que existe realmente, pueden producirse excepciones que impidan la liberación del fichero). También debemos tener en cuenta que, cuando se manipulan ficheros, existen elementos externos que dependen del _hardware_ y del sistema operativo que pueden fallar y que están fuera del control del programador. Por ejemplo, si se pretende abrir en modo de escritura un fichero protegido contra ella, se producirá una excepción que, mal gestionada, evitará el cierre del fichero. \n",
    "\n",
    "Estas situaciones reflejan la dificultad de la gestión de __recursos externos__ como conexiones de red y archivos, ya que a veces, una aplicación retiene estos recursos indefinidamente, incluso si ya no los necesita. Por ejemplo, cuando los implementadores que trabajan con bases de datos siguen creando nuevas conexiones sin liberarlas o reutilizarlas, la base de datos deja de aceptar nuevas conexiones. Análogamente, si los implementadores que trabajan con ficheros no cierran los buffer de escritura, podrían perderse parte de los datos antes de ser almacenados. En general, es posible que una aplicación se encuentre con errores o excepciones que hagan que se pase por alto el código responsable de liberar el recurso externo correspondiente.   \n",
    "\n",
    "En Python podemos emplear dos mecanismos para gestionar los recursos externos: la construcción `try...finally` y el administrador de contexto `with`."
   ]
  },
  {
   "cell_type": "code",
   "execution_count": 7,
   "id": "42036ccb",
   "metadata": {},
   "outputs": [
    {
     "name": "stdout",
     "output_type": "stream",
     "text": [
      "[1, 2, 3]\n"
     ]
    }
   ],
   "source": [
    "fichero = None\n",
    "try:\n",
    "    fichero = open('datos.txt', 'r') # FileNotFoundError si el fichero no existe\n",
    "    listaDatos,i = [0]*3,0           # IndexError si se reduce el tamaño de listaDatos \n",
    "    for linea in fichero:\n",
    "        listaDatos[i] = int(linea.strip())\n",
    "        i = i+1\n",
    "    print(listaDatos)\n",
    "except Exception as e:\n",
    "    print(\"Error: \" +str(e))\n",
    "finally:\n",
    "    if (fichero is not None):\n",
    "        fichero.close()"
   ]
  },
  {
   "cell_type": "markdown",
   "id": "1aa29b61",
   "metadata": {},
   "source": [
    "La estructura `with` simplifica la gestión de los ficheros creando un __contexto__ que, ante la posible aparición de excepciones, maneja el recurso que representa el fichero. Si se emplea la estructura `with`, no es necesario cerrar explícitamente el fichero con el método `close()`.   "
   ]
  },
  {
   "cell_type": "code",
   "execution_count": 8,
   "id": "d072a11c",
   "metadata": {},
   "outputs": [
    {
     "name": "stdout",
     "output_type": "stream",
     "text": [
      "[1, 2, 3]\n"
     ]
    }
   ],
   "source": [
    "try:\n",
    "    with open('datos.txt', 'r') as fichero: # FileNotFoundError si el fichero no existe\n",
    "        listaDatos,i = [0]*3,0              # IndexError si se reduce el tamaño de listaDatos \n",
    "        for linea in fichero:\n",
    "            listaDatos[i] = int(linea.strip())\n",
    "            i = i+1\n",
    "        print(listaDatos)\n",
    "except Exception as e:\n",
    "    print(\"Error: \" +str(e))"
   ]
  },
  {
   "cell_type": "markdown",
   "id": "150c149a",
   "metadata": {},
   "source": [
    "#### Escritura de ficheros de texto"
   ]
  },
  {
   "cell_type": "markdown",
   "id": "3556c550",
   "metadata": {},
   "source": [
    "La escritura de ficheros de texto se realiza mediante los métodos `write()` y `writelines()`. El método `write()` escribe la cadena de texto especificada como parámetro y devuelve la cantidad de caracteres escritos. El método `writelines()` recibe como parámetro un objeto iterable cuyos elementos se escribirán uno a uno. Ninguno de los métodos añade la marca de fin de línea al final de cada cadena de caracteres, de modo que debemos incluirla explícitamente."
   ]
  },
  {
   "cell_type": "code",
   "execution_count": 9,
   "id": "0cdf6e09",
   "metadata": {},
   "outputs": [],
   "source": [
    "def writeData(nombreFichero, titulo, lista):\n",
    "    with open(nombreFichero, 'w') as fichero:\n",
    "        fichero.write(titulo + '\\n')  \n",
    "        fichero.writelines(lista)\n",
    "titulo_productos = 'PRODUCTOS - ABRIL'\n",
    "lista_productos = ['producto1\\n','producto2\\n','producto3\\n']\n",
    "writeData('inventarioAbril.txt', titulo_productos, lista_productos)"
   ]
  },
  {
   "cell_type": "markdown",
   "id": "e7b27704",
   "metadata": {},
   "source": [
    "### Manipulación de ficheros binarios. El módulo `pickle`"
   ]
  },
  {
   "cell_type": "markdown",
   "id": "a0fed996",
   "metadata": {},
   "source": [
    "El módulo `pickle` implementa protocolos para __serializar__ y __deserializar__ objetos en Python. _Pickling_ es el proceso mediante el que un objeto de Python se convierte en una secuencia de bytes (serialización) que puede almacenarse en un fichero o enviarse a través de una red. El _unpickling_ es la operación inversa, mediante la cual una secuencia de bytes es convertida  nuevo en un objeto (deserialización). Para utilizar las funciones del módulo, es necesario importarlo mediante la instrucción `import pickle`."
   ]
  },
  {
   "cell_type": "code",
   "execution_count": 10,
   "id": "8fef1f15",
   "metadata": {},
   "outputs": [],
   "source": [
    "import pickle"
   ]
  },
  {
   "cell_type": "markdown",
   "id": "026e62f4",
   "metadata": {},
   "source": [
    "El módulo `pickle` incluye distintos tipos de serialización llamados __protocolos__, identificados con un número. Cuanto mayor es el número, más optimizado es el protocolo y más reciente es la versión de Python necesaria para leer la secuencia de bytes producida. Actualmente hay seis protocolos diferentes y la versión 4 es la predeterminada a partir de Python 3.8. "
   ]
  },
  {
   "cell_type": "code",
   "execution_count": 11,
   "id": "c12ba6aa",
   "metadata": {},
   "outputs": [
    {
     "name": "stdout",
     "output_type": "stream",
     "text": [
      "Version mas alta: 5\n",
      "Version predeterminada: 4\n"
     ]
    }
   ],
   "source": [
    "print(\"Version mas alta: \" + str(pickle.HIGHEST_PROTOCOL))       # Versión de protocolo más alta disponible\n",
    "print(\"Version predeterminada: \" + str(pickle.DEFAULT_PROTOCOL)) # Versión de protocolo predeterminada"
   ]
  },
  {
   "cell_type": "markdown",
   "id": "ddf92354",
   "metadata": {},
   "source": [
    "Las funciones más importantes del módulo son `dump()`, `dumps()`, `load()` y `loads()`. Las dos primeras permiten serializar un objeto, mientras que las dos últimas realizan la deserialización. Las funciones `dumps()` y `loads()` trabajan directamente con el objeto serializado, a diferencia de las funciones `dump()` y `load()`, las cuales escriben y leen respectivamente el objeto serializado en el archivo binario indicado como argumento."
   ]
  },
  {
   "cell_type": "code",
   "execution_count": 12,
   "id": "0338c8e8",
   "metadata": {},
   "outputs": [
    {
     "name": "stdout",
     "output_type": "stream",
     "text": [
      "Objeto serializado: b'\\x80\\x04\\x95\\x19\\x00\\x00\\x00\\x00\\x00\\x00\\x00]\\x94(K\\x01K\\x02K\\x03K\\x04K\\x05K\\x06K\\x07K\\x08K\\tK\\ne.'\n",
      "Objeto deserializado: [1, 2, 3, 4, 5, 6, 7, 8, 9, 10]\n"
     ]
    }
   ],
   "source": [
    "lista = [1,2,3,4,5,6,7,8,9,10]\n",
    "pickled_lista = pickle.dumps(lista)           # Serialización\n",
    "unpickled_lista = pickle.loads(pickled_lista) # Deserialización\n",
    "print(\"Objeto serializado: \" + str(pickled_lista))\n",
    "print(\"Objeto deserializado: \" + str(unpickled_lista))"
   ]
  },
  {
   "cell_type": "code",
   "execution_count": 13,
   "id": "7c2c0877",
   "metadata": {},
   "outputs": [
    {
     "name": "stdout",
     "output_type": "stream",
     "text": [
      "Objeto original: [1, 2, 3, 4, 5, 6, 7, 8, 9, 10]\n",
      "Objeto deserializado: [1, 2, 3, 4, 5, 6, 7, 8, 9, 10]\n"
     ]
    }
   ],
   "source": [
    "lista = [1,2,3,4,5,6,7,8,9,10]\n",
    "with open('pickle_file.dat', 'wb') as fichero:\n",
    "    pickle.dump(lista, fichero)\n",
    "with open('pickle_file.dat', 'rb') as fichero:\n",
    "    unpickled_lista = pickle.load(fichero)\n",
    "print(\"Objeto original: \" + str(lista))\n",
    "print(\"Objeto deserializado: \" + str(unpickled_lista))"
   ]
  },
  {
   "cell_type": "markdown",
   "id": "51969131",
   "metadata": {},
   "source": [
    "También es posible almacenar varios objetos en un único fichero para deserializarlos posteriormente."
   ]
  },
  {
   "cell_type": "code",
   "execution_count": 14,
   "id": "06b21807",
   "metadata": {},
   "outputs": [
    {
     "name": "stdout",
     "output_type": "stream",
     "text": [
      "ALMACENAMIENTO DE LISTAS EN BLOQUE\n",
      "Datos recuperados tras la primera escritura:\n",
      "  [[('Aquiles', 'Bailo', 175), ('Ines', 'Tornudo', 172), ('Lola', 'Mento', 160), ('Matias', 'Queroso', 170)]]\n",
      "Datos recuperados tras la segunda escritura:\n",
      "  [[('Aquiles', 'Bailo', 175), ('Ines', 'Tornudo', 172), ('Lola', 'Mento', 160), ('Matias', 'Queroso', 170)], [('Aitor', 'Menta', 190), ('Carmelo', 'Coton', 177)]]\n",
      "ALMACENAMIENTO DE LISTAS ELEMENTO A ELEMENTO\n",
      "Datos recuperados tras la primera escritura:\n",
      "  [('Aquiles', 'Bailo', 175), ('Ines', 'Tornudo', 172), ('Lola', 'Mento', 160), ('Matias', 'Queroso', 170)]\n",
      "Datos recuperados tras la segunda escritura:\n",
      "  [('Aquiles', 'Bailo', 175), ('Ines', 'Tornudo', 172), ('Lola', 'Mento', 160), ('Matias', 'Queroso', 170), ('Aitor', 'Menta', 190), ('Carmelo', 'Coton', 177)]\n"
     ]
    }
   ],
   "source": [
    "def writeData_bulk(nombreFichero, listaDatos, modo): # modo='wb' o modo='ab'\n",
    "    with open(nombreFichero, modo) as fichero:\n",
    "        pickle.dump(listaDatos, fichero)\n",
    "def writeData(nombreFichero, listaDatos, modo):      # modo='wb' o modo='ab'\n",
    "    with open(nombreFichero, modo) as fichero:\n",
    "        for i in range(0,len(listaDatos),1):\n",
    "            pickle.dump(listaDatos[i], fichero)\n",
    "def readData(nombreFichero):\n",
    "    listaDatos = []\n",
    "    with open(nombreFichero, 'rb') as fichero:\n",
    "        while True:\n",
    "            try:\n",
    "                objeto = pickle.load(fichero)\n",
    "                listaDatos.append(objeto)\n",
    "            except EOFError:\n",
    "                break\n",
    "    return listaDatos\n",
    "\n",
    "def write_and_read(nombreFichero, funcion_write):\n",
    "    lista1 = [('Aquiles','Bailo',175),('Ines','Tornudo',172),('Lola','Mento',160),('Matias','Queroso',170)]\n",
    "    funcion_write(nombreArchivo, lista1, 'wb')\n",
    "    listaResultado1 = readData(nombreArchivo)\n",
    "    lista2 = [('Aitor','Menta',190),('Carmelo','Coton',177)]\n",
    "    funcion_write(nombreArchivo, lista2, 'ab')\n",
    "    listaResultado2 = readData(nombreArchivo)\n",
    "    return listaResultado1, listaResultado2\n",
    "nombreArchivo = 'datosPickle.dat'\n",
    "lista1, lista2 = write_and_read(nombreArchivo, writeData_bulk)\n",
    "print(\"ALMACENAMIENTO DE LISTAS EN BLOQUE\")\n",
    "print(\"Datos recuperados tras la primera escritura:\\n  \" + str(lista1))\n",
    "print(\"Datos recuperados tras la segunda escritura:\\n  \" + str(lista2))\n",
    "lista1, lista2 = write_and_read(nombreArchivo, writeData)\n",
    "print(\"ALMACENAMIENTO DE LISTAS ELEMENTO A ELEMENTO\")\n",
    "print(\"Datos recuperados tras la primera escritura:\\n  \" + str(lista1))\n",
    "print(\"Datos recuperados tras la segunda escritura:\\n  \" + str(lista2))"
   ]
  },
  {
   "cell_type": "markdown",
   "id": "245ac135",
   "metadata": {},
   "source": [
    "### Más manipulación de ficheros de texto. El módulo `csv`\n",
    "Los ficheros de texto son un medio habitual de intercambio de información. Uno de los formatos más extendidos es el formato __CSV__ (Comma Separated Values): los ficheros CSV son ficheros de texto plano que emplean una estructura tabular para organizar los datos (en caracteres ASCII o Unicode) legibles por el ser humano. Es un tipo de fichero empleado por aplicaciones que manejan grandes cantidades de información, como las hojas de cálculo, las bases de datos o los programas de minería de datos. En este contexto, cada línea de un fichero CSV representa un registro y cada registro puede contener uno o más campos separados por una coma. Estos ficheros pueden incluir una cabecera para identificar las columnas. A continuación, mostramos un ejemplo del contenido de un fichero CSV."
   ]
  },
  {
   "cell_type": "markdown",
   "id": "681c187d",
   "metadata": {},
   "source": [
    "`DNI,nombre,apellido,altura`<br>\n",
    "`26194201F,Helen,Chufe,160`<br>\n",
    "`26874858W,Carmelo,Coton,180`<br>\n",
    "`46092296C,Pepe,Pinillo,175`<br>\n",
    "`48427041N,Aquiles,Bailo,177`<br>\n",
    "`76342509N,Aitor,Menta,170`<br>"
   ]
  },
  {
   "cell_type": "markdown",
   "id": "39f2ad06",
   "metadata": {},
   "source": [
    "Para utilizar las funciones del módulo, es necesario importarlo mediante la instrucción import `csv`."
   ]
  },
  {
   "cell_type": "code",
   "execution_count": 15,
   "id": "346b0c47",
   "metadata": {},
   "outputs": [],
   "source": [
    "import csv"
   ]
  },
  {
   "cell_type": "markdown",
   "id": "b5304014",
   "metadata": {},
   "source": [
    "La lectura de un fichero CSV se realiza mediante la función `reader()`, cuyo prototipo es\n",
    "    `csv.reader(csvFile, dialect='excel', **fmtParams)`. Esta función recibe como parámetro de entrada un objeto de tipo `file` obtenido tras la llamada a la función `open()` en modo de lectura, y retorna un objeto que iterará sobre las líneas del fichero proporcionado (cada línea leída se devuelve de forma predeterminada como una cadena de caracteres). El parámetro `dialect` es opcional y se utiliza para definir un conjunto de parámetros específicos para un dialecto de CSV particular (por ejemplo, el valor `'excel'` define las propiedades habituales de un archivo CSV generado por Excel). El resto de los argumentos en `fmtParams` puede suministrarse para sustituir parámetros de formato individuales del dialecto actual (por ejemplo, el parámetro `delimiter` especifica el carácter que separa los campos en el fichero CSV y su valor por defecto es la coma `,`). "
   ]
  },
  {
   "cell_type": "code",
   "execution_count": 16,
   "id": "14586652",
   "metadata": {},
   "outputs": [
    {
     "name": "stdout",
     "output_type": "stream",
     "text": [
      "['26194201F', 'Helen', 'Chufe', 160]\n",
      "['26874858W', 'Carmelo', 'Coton', 180]\n",
      "['46092296C', 'Pepe', 'Pinillo', 175]\n",
      "['48427041N', 'Aquiles', 'Bailo', 177]\n",
      "['76342509N', 'Aitor', 'Menta', 170]\n"
     ]
    }
   ],
   "source": [
    "def censoLectura_lst(nombreFichero):\n",
    "    resultado=[]\n",
    "    with open(nombreFichero, 'r') as fichero_csv:\n",
    "        lector = csv.reader(fichero_csv)\n",
    "        numLinea = 0\n",
    "        for linea in lector:\n",
    "            if numLinea != 0:\n",
    "                registro = [linea[0],linea[1],linea[2],int(linea[3])]\n",
    "                resultado.append(registro)\n",
    "            numLinea = numLinea+1\n",
    "    return resultado\n",
    "listaPersonas = censoLectura_lst('censo1.txt')\n",
    "for registro in listaPersonas:\n",
    "    print(registro)"
   ]
  },
  {
   "cell_type": "markdown",
   "id": "af3b5b96",
   "metadata": {},
   "source": [
    "La escritura de un fichero CSV se realiza mediante la función `writer()`, cuyo prototipo es `csv.writer(csvFile, dialect='excel', **fmtParams)` Esta función recibe como parámetro de entrada un objeto de tipo `file` obtenido tras la llamada a la función `open()` en modo de escritura, y retorna un objeto que escribirá las líneas en el fichero mediante los métodos `writerow()` (escritura de una sola línea) y `writerows()` (escritura de una lista de líneas). El resto de parámetros son los especificados en la función `reader()`.<br>\n",
    "__Nota:__ El fichero CSV se abre en modo de escritura especificando el parámetro `newline = ''` porque el módulo `csv` ya añade su marca de fin de línea."
   ]
  },
  {
   "cell_type": "code",
   "execution_count": 17,
   "id": "98531afe",
   "metadata": {},
   "outputs": [],
   "source": [
    "def censoEscritura_lst(nombreOrigen, nombreDestino):\n",
    "    with open(nombreDestino, 'w', newline = '') as fichero_csv:\n",
    "        escritor = csv.writer(fichero_csv, delimiter = '|')\n",
    "        listaPersonas = censoLectura_lst(nombreOrigen)\n",
    "        escritor.writerows(listaPersonas)\n",
    "censoEscritura_lst('censo1.txt', 'censo_jaja.txt')"
   ]
  },
  {
   "cell_type": "markdown",
   "id": "f20cd80a",
   "metadata": {},
   "source": [
    "Por otra parte, el módulo `csv` suministra herramientas para leer y escribir diccionarios como ficheros CSV. \n",
    "\n",
    "La clase `DictReader` permite definir lectores que convierten la información leída en diccionarios. Un objeto de la clase `DictReader` se crea mediante el constructor `csv.DictReader(csvFile, fieldnames=None, restkey=None, restval=None, dialect='excel', *args, **kwds)`. Un objeto de esta clase lee el archivo que recibe como argumento, y si se omite el parámetro `fieldnames`, entonces interpreta la primera línea como las claves de los diccionarios. Por cada una de las líneas siguientes, el lector genera un diccionario con esas claves tomando como valores los datos que aparecen en la línea.\n",
    "* Si una línea tiene más datos que claves, entonces los datos sobrantes se colocan en una lista y se asocian a una clave cuyo identificador es el especificado por el parámetro opcional `restkey`.\n",
    "* Si una línea tiene menos datos que claves, entonces los valores que faltan son completados con el valor indicado por el parámetro opcional `restval`."
   ]
  },
  {
   "cell_type": "code",
   "execution_count": 18,
   "id": "19774bba",
   "metadata": {},
   "outputs": [
    {
     "name": "stdout",
     "output_type": "stream",
     "text": [
      "{'DNI': '26194201F', 'nombre': 'Helen', 'apellido': 'Chufe', 'altura': 160.0}\n",
      "{'DNI': '26874858W', 'nombre': 'Carmelo', 'apellido': 'Coton', 'altura': 180.0}\n",
      "{'DNI': '46092296C', 'nombre': 'Pepe', 'apellido': 'Pinillo', 'altura': 175.0}\n",
      "{'DNI': '48427041N', 'nombre': 'Aquiles', 'apellido': 'Bailo', 'altura': 177.0}\n",
      "{'DNI': '76342509N', 'nombre': 'Aitor', 'apellido': 'Menta', 'altura': 170.0}\n",
      "{'DNI': '65086580F', 'nombre': 'Lola', 'apellido': 'Mento', 'altura': 150}\n",
      "{'DNI': '08021312Q', 'nombre': 'Andres', 'apellido': 'Trozado', 'altura': 190.0, 'otros': [120.0]}\n"
     ]
    }
   ],
   "source": [
    "def censoLectura_dict(nombreFichero):\n",
    "    resultado = []\n",
    "    with open(nombreFichero, 'r') as fichero_csv:\n",
    "        lector = csv.DictReader(fichero_csv, restkey = 'otros', restval = 150, quoting = csv.QUOTE_NONNUMERIC)\n",
    "        for linea in lector:\n",
    "            resultado.append(linea) \n",
    "    return resultado\n",
    "listaPersonas = censoLectura_dict('censo2.txt')\n",
    "for registro in listaPersonas:\n",
    "    print(registro)"
   ]
  },
  {
   "cell_type": "markdown",
   "id": "afaff140",
   "metadata": {},
   "source": [
    "La clase `DictWriter` permite definir escritores que mapean diccionarios en líneas de un fichero de texto. Un objeto de la clase `DictWriter` se crea mediante el constructor `csv.DictWriter(csvFile, fieldnames, restval='', extrasaction='raise', dialect='excel', *args, **kwds)` y escribirá las líneas en el fichero mediante los métodos `writerow()` (escritura de una sola línea) y `writerows()` (escritura de una lista de líneas). \n",
    "* El parámetro `fieldnames` es una secuencia de claves que identifican el orden en que los valores del diccionario pasado al método `writerow()` son escritos en el archivo `csvFile`. \n",
    "* El parámetro opcional `restval` especifica el valor que será escrito si al diccionario le falta una clave en `fieldNames`. \n",
    "* Si el diccionario tiene una clave no encontrada en `fieldnames`, entonces el parámetro opcional `extrasaction` indica qué acción se ejecutará: si se mantiene el valor por defecto `'raise'`, entonces se lanzará una excepción de la clase `ValueError`; si está definido como `'ignore'`, entonces los valores extra serán ignorados.\n",
    "\n",
    "Por último, el uso del método `writeheader()` es opcional, ya que escribe una línea con los identificadores de las claves. "
   ]
  },
  {
   "cell_type": "code",
   "execution_count": 19,
   "id": "db7f1c27",
   "metadata": {},
   "outputs": [],
   "source": [
    "def censoEscritura_dict(nombreOrigen, nombreDestino, claves):\n",
    "    with open(nombreDestino, 'w', newline = '') as fichero_csv:\n",
    "        escritor = csv.DictWriter(fichero_csv, fieldnames = claves, extrasaction='ignore', lineterminator = '\\n', quoting = csv.QUOTE_NONNUMERIC)\n",
    "        escritor.writeheader()\n",
    "        listaPersonas = censoLectura_dict(nombreOrigen)\n",
    "        escritor.writerows(listaPersonas)\n",
    "claves = ['DNI','nombre','apellido','altura']\n",
    "censoEscritura_dict('censo2.txt', 'censo_fmt2.txt', claves)"
   ]
  },
  {
   "cell_type": "markdown",
   "id": "9fcc0b20",
   "metadata": {},
   "source": [
    "#### Dialectos\n",
    "Con el módulo `csv` podemos tratar varios formatos de ficheros a través de los parámetros de los métodos empleados, pero cuando nuestra aplicación manipula muchos archivos con diferentes formatos, esto puede complicar y ensuciar el código. Para facilitar la especificación del formato de los ficheros, los parámetros específicos de formateo pueden agruparse en __dialectos__, es decir, un dialecto define un patrón de formato concreto bajo un solo nombre que se pasará a los métodos de lectura y escritura. Los dialectos se definen con la función `register()`, cuyo prototipo es `csv.register_dialect(name[, dialect[, **fmtParams]])`. Esta función recibe como parámetro el nombre del nuevo dialecto (parámetro `name`), el cual puede ser definido como subclase de otro dialecto (parámetro `dialect`) y definir sus propias características (argumentos del parámetro `fmtParams`).\n",
    "\n",
    "Consideremos la línea siguiente de un fichero con un formato nuevo: `\"26194201F\" : \"Helen\" : \"Chufe\" : 160`"
   ]
  },
  {
   "cell_type": "code",
   "execution_count": 20,
   "id": "31f4dd64",
   "metadata": {},
   "outputs": [
    {
     "data": {
      "text/plain": [
       "['excel', 'excel-tab', 'unix', 'dialecto_propio']"
      ]
     },
     "execution_count": 20,
     "metadata": {},
     "output_type": "execute_result"
    }
   ],
   "source": [
    "csv.register_dialect('dialecto_propio', delimiter = ':', skipinitialspace = True, quoting = csv.QUOTE_NONNUMERIC) \n",
    "csv.list_dialects() # lista de dialectos del sistema"
   ]
  },
  {
   "cell_type": "code",
   "execution_count": 21,
   "id": "24c56f32",
   "metadata": {},
   "outputs": [
    {
     "name": "stdout",
     "output_type": "stream",
     "text": [
      "['DNI ', 'nombre ', 'apellido ', 'altura']\n",
      "['26194201F ', 'Helen ', 'Chufe ', 160.0]\n",
      "['26874858W ', 'Carmelo ', 'Coton ', 180.0]\n",
      "['46092296C ', 'Pepe ', 'Pinillo ', 175.0]\n",
      "['48427041N ', 'Aquiles ', 'Bailo ', 177.0]\n",
      "['76342509N ', 'Aitor ', 'Menta ', 170.0]\n",
      "['65086580F ', 'Lola ', 'Mento ', 165.0]\n",
      "['08021312Q ', 'Andres ', 'Trozado ', 190.0]\n"
     ]
    }
   ],
   "source": [
    "with open('censo3.txt', 'r') as fichero_csv:\n",
    "    lector = csv.reader(fichero_csv, dialect = 'dialecto_propio')\n",
    "    for linea in lector:\n",
    "        print(linea)"
   ]
  },
  {
   "cell_type": "markdown",
   "id": "a0780271",
   "metadata": {},
   "source": [
    "#### La clase `Sniffer` del módulo `csv`\n",
    "El paquete `csv` también incluye la clase `Sniffer` que permite deducir el formato de un fichero CSV. El método `sniff()` analiza una cadena de caracteres y devuelve una subclase de `Dialect` que refleja los parámetros encontrados. El método `has_header()` analiza una cadena de caracteres y devuelve `True`si parece ser una secuencia de nombres de columna. "
   ]
  },
  {
   "cell_type": "code",
   "execution_count": 22,
   "id": "bff3774e",
   "metadata": {},
   "outputs": [
    {
     "name": "stdout",
     "output_type": "stream",
     "text": [
      "Existencia de cabecera: True\n",
      "Dialecto: <class 'csv.Sniffer.sniff.<locals>.dialect'>\n",
      "['26194201F', ':', 'Helen', ':', 'Chufe', ':', '160']\n",
      "['26874858W', ':', 'Carmelo', ':', 'Coton', ':', '180']\n",
      "['46092296C', ':', 'Pepe', ':', 'Pinillo', ':', '175']\n",
      "['48427041N', ':', 'Aquiles', ':', 'Bailo', ':', '177']\n",
      "['76342509N', ':', 'Aitor', ':', 'Menta', ':', '170']\n",
      "['65086580F', ':', 'Lola', ':', 'Mento', ':', '165']\n",
      "['08021312Q', ':', 'Andres', ':', 'Trozado', ':', '190']\n"
     ]
    }
   ],
   "source": [
    "with open('censo3.txt', 'r') as fichero_csv:\n",
    "    linea = fichero_csv.readline()\n",
    "    encontradaCabecera = csv.Sniffer().has_header(linea)\n",
    "    print(\"Existencia de cabecera: \" + str(encontradaCabecera))\n",
    "    dialecto = csv.Sniffer().sniff(linea)\n",
    "    print(\"Dialecto: \" + str(dialecto))\n",
    "    lector = csv.reader(fichero_csv, dialecto)\n",
    "    for linea in lector:\n",
    "        print(linea)"
   ]
  }
 ],
 "metadata": {
  "kernelspec": {
   "display_name": "Python 3 (ipykernel)",
   "language": "python",
   "name": "python3"
  },
  "language_info": {
   "codemirror_mode": {
    "name": "ipython",
    "version": 3
   },
   "file_extension": ".py",
   "mimetype": "text/x-python",
   "name": "python",
   "nbconvert_exporter": "python",
   "pygments_lexer": "ipython3",
   "version": "3.9.13"
  }
 },
 "nbformat": 4,
 "nbformat_minor": 5
}
