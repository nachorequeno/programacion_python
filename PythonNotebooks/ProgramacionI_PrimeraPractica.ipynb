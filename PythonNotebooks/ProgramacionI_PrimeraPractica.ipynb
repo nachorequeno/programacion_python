{
 "cells": [
  {
   "cell_type": "markdown",
   "id": "3164fdb4",
   "metadata": {
    "nbgrader": {
     "grade": false,
     "grade_id": "title",
     "locked": true,
     "schema_version": 3,
     "solution": false,
     "task": false
    }
   },
   "source": [
    "# Programación I. Primera práctica obligatoria"
   ]
  },
  {
   "cell_type": "markdown",
   "id": "a23a1fc7",
   "metadata": {
    "nbgrader": {
     "grade": false,
     "grade_id": "comment",
     "locked": true,
     "schema_version": 3,
     "solution": false,
     "task": false
    }
   },
   "source": [
    "Ejecuta la celda siguiente para realizar el testeo de tus funciones."
   ]
  },
  {
   "cell_type": "code",
   "execution_count": 1,
   "id": "e8412519",
   "metadata": {
    "nbgrader": {
     "grade": false,
     "grade_id": "function_testMovement",
     "locked": true,
     "schema_version": 3,
     "solution": false,
     "task": false
    }
   },
   "outputs": [],
   "source": [
    "def test_movement(piece,test_list):\n",
    "    for (f_ori,c_ori,f_dest,c_dest,res) in tests:\n",
    "        print('origen: ({},{}) destino: ({},{}) resultado:{}'.format(f_ori, c_ori, f_dest, c_dest, res))\n",
    "        result=piece(f_ori, c_ori, f_dest, c_dest)\n",
    "        try:\n",
    "            assert res==result\n",
    "        except AssertionError:\n",
    "            print('  Resultado incorrecto: '+str(result))"
   ]
  },
  {
   "cell_type": "markdown",
   "id": "f0cd7575",
   "metadata": {
    "nbgrader": {
     "grade": false,
     "grade_id": "exercise1",
     "locked": true,
     "schema_version": 3,
     "solution": false,
     "task": false
    }
   },
   "source": [
    "### Ejercicio 1 **[Jaque mate]**\n",
    "Diseña y escribe una función que, dadas dos posiciones del tablero de ajedrez, decida si la figura del Rey puede moverse desde la primera posición hasta la segunda. Los datos de entrada de la función son la posición inicial de la figura `(r_ori,c_ori)` y su posición final `(r_dest,c_dest)`, donde las filas son enteros y las columnas son letras tales que `1≤r_ori,r_dest≤8` y `'a'≤c_ori,c_dest≤'h'`. El dato de salida será un valor booleano que indica si el movimiento es o no posible. El Rey puede moverse en cualquier dirección (vertical, horizontal y diagonales) avanzando o retrocediendo una sola casilla.  \n",
    "El nombre de la función y el orden de los parámetros de entrada son los siguientes: `king_movement(r_ori, c_ori, r_dest, c_dest)`  \n",
    "**Observación:** No es necesario comprobar la corrección de los datos de entrada."
   ]
  },
  {
   "cell_type": "code",
   "execution_count": 2,
   "id": "1a05b208",
   "metadata": {
    "nbgrader": {
     "grade": false,
     "grade_id": "function_king_movement",
     "locked": false,
     "schema_version": 3,
     "solution": true,
     "task": false
    }
   },
   "outputs": [],
   "source": [
    "def king_movement(r_ori,c_ori,r_dest,c_dest):\n",
    "    ### BEGIN SOLUTION\n",
    "    filaOrigen,columnaOrigen,filaDestino,columnaDestino=r_ori,c_ori,r_dest,c_dest\n",
    "    columnaOrigen_int=ord(columnaOrigen)-ord('a')+1\n",
    "    columnaDestino_int=ord(columnaDestino)-ord('a')+1\n",
    "    if (filaOrigen==filaDestino) and (abs(columnaOrigen_int-columnaDestino_int)==1):\n",
    "        return True\n",
    "    elif (abs(filaOrigen-filaDestino)==1) and (columnaOrigen_int==columnaDestino_int):\n",
    "        return True\n",
    "    elif (abs(filaOrigen-filaDestino)==1) and (abs(columnaOrigen_int-columnaDestino_int)==1):\n",
    "        return True\n",
    "    else:\n",
    "        return False\n",
    "    ### END SOLUTION"
   ]
  },
  {
   "cell_type": "code",
   "execution_count": 3,
   "id": "c547697e",
   "metadata": {
    "nbgrader": {
     "grade": true,
     "grade_id": "test_king_movement",
     "locked": true,
     "points": 1,
     "schema_version": 3,
     "solution": false,
     "task": false
    }
   },
   "outputs": [
    {
     "name": "stdout",
     "output_type": "stream",
     "text": [
      "origen: (3,f) destino: (4,e) resultado:True\n",
      "origen: (3,f) destino: (3,e) resultado:True\n",
      "origen: (3,f) destino: (2,e) resultado:True\n",
      "origen: (3,f) destino: (4,f) resultado:True\n",
      "origen: (3,f) destino: (2,f) resultado:True\n",
      "origen: (3,f) destino: (4,g) resultado:True\n",
      "origen: (3,f) destino: (3,g) resultado:True\n",
      "origen: (3,f) destino: (2,g) resultado:True\n",
      "origen: (8,a) destino: (8,c) resultado:False\n",
      "origen: (8,a) destino: (6,d) resultado:False\n",
      "origen: (8,a) destino: (4,a) resultado:False\n",
      "origen: (3,f) destino: (3,f) resultado:False\n"
     ]
    }
   ],
   "source": [
    "tests = [(3,'f',4,'e',True),(3,'f',3,'e',True),(3,'f',2,'e',True),\n",
    "         (3,'f',4,'f',True),(3,'f',2,'f',True),(3,'f',4,'g',True),\n",
    "         (3,'f',3,'g',True),(3,'f',2,'g',True),(8,'a',8,'c',False),\n",
    "         (8,'a',6,'d',False),(8,'a',4,'a',False),(3,'f',3,'f',False)]\n",
    "test_movement(king_movement, tests)"
   ]
  },
  {
   "cell_type": "markdown",
   "id": "8749b529",
   "metadata": {
    "nbgrader": {
     "grade": false,
     "grade_id": "exercise2",
     "locked": true,
     "schema_version": 3,
     "solution": false,
     "task": false
    }
   },
   "source": [
    "### Ejercicio 2 **[Otros trebejos]** \n",
    "Diseña y escribe funciones similares a `king_movement()` para estudiar los movimientos de la Reina (`queen_movement()`), la Torre (`rook_movement()`), el Alfil (`bishop_movement()`) y el Caballo (`knight_movement()`). Dadas dos posiciones del tablero de ajedrez, cada función debe decidir si la figura asociada puede moverse desde la primera posición hasta la segunda. Los datos de entrada de cada función son la posición inicial de la figura  `(r_ori,c_ori)` y su posición final `(r_dest,c_dest)`, donde las filas son enteros y las columnas son letras tales que `1≤r_ori,r_dest≤8` y `'a'≤c_ori,c_dest≤'h'`. El dato de salida será un valor booleano que indica si el movimiento es o no posible.  \n",
    "**Observación:** No es necesario comprobar la corrección de los datos de entrada."
   ]
  },
  {
   "cell_type": "code",
   "execution_count": 4,
   "id": "c4bc7948",
   "metadata": {
    "nbgrader": {
     "grade": false,
     "grade_id": "function_queen_movement",
     "locked": false,
     "schema_version": 3,
     "solution": true,
     "task": false
    }
   },
   "outputs": [],
   "source": [
    "def queen_movement(r_ori,c_ori,r_dest,c_dest):\n",
    "    ### BEGIN SOLUTION\n",
    "    filaOrigen,columnaOrigen,filaDestino,columnaDestino=r_ori,c_ori,r_dest,c_dest\n",
    "    columnaOrigen_int=ord(columnaOrigen)-ord('a')+1\n",
    "    columnaDestino_int=ord(columnaDestino)-ord('a')+1\n",
    "    if (filaOrigen==filaDestino) and (columnaOrigen_int==columnaDestino_int):\n",
    "        return False\n",
    "    elif (filaOrigen==filaDestino):\n",
    "        return True\n",
    "    elif (columnaOrigen_int==columnaDestino_int):\n",
    "        return True\n",
    "    elif (abs(filaOrigen-filaDestino)==abs(columnaOrigen_int-columnaDestino_int)):\n",
    "        return True\n",
    "    else:\n",
    "        return False\n",
    "    ### END SOLUTION"
   ]
  },
  {
   "cell_type": "code",
   "execution_count": 5,
   "id": "cb96143d",
   "metadata": {
    "nbgrader": {
     "grade": true,
     "grade_id": "test_queen_movement",
     "locked": true,
     "points": 1,
     "schema_version": 3,
     "solution": false,
     "task": false
    }
   },
   "outputs": [
    {
     "name": "stdout",
     "output_type": "stream",
     "text": [
      "origen: (1,a) destino: (7,a) resultado:True\n",
      "origen: (1,a) destino: (8,h) resultado:True\n",
      "origen: (1,a) destino: (1,b) resultado:True\n",
      "origen: (1,a) destino: (2,c) resultado:False\n",
      "origen: (4,h) destino: (1,e) resultado:True\n",
      "origen: (4,h) destino: (4,d) resultado:True\n",
      "origen: (4,h) destino: (8,d) resultado:True\n",
      "origen: (4,h) destino: (8,e) resultado:False\n",
      "origen: (8,d) destino: (5,a) resultado:True\n",
      "origen: (8,d) destino: (5,g) resultado:True\n",
      "origen: (8,d) destino: (7,d) resultado:True\n",
      "origen: (8,d) destino: (6,c) resultado:False\n",
      "origen: (3,c) destino: (5,a) resultado:True\n",
      "origen: (3,c) destino: (3,d) resultado:True\n",
      "origen: (3,c) destino: (5,e) resultado:True\n",
      "origen: (3,c) destino: (3,c) resultado:False\n"
     ]
    }
   ],
   "source": [
    "tests = [(1,'a',7,'a',True),(1,'a',8,'h',True),(1,'a',1,'b',True),(1,'a',2,'c',False),\n",
    "         (4,'h',1,'e',True),(4,'h',4,'d',True),(4,'h',8,'d',True),(4,'h',8,'e',False),\n",
    "         (8,'d',5,'a',True),(8,'d',5,'g',True),(8,'d',7,'d',True),(8,'d',6,'c',False),\n",
    "         (3,'c',5,'a',True),(3,'c',3,'d',True),(3,'c',5,'e',True),(3,'c',3,'c',False)]\n",
    "test_movement(queen_movement, tests)"
   ]
  },
  {
   "cell_type": "code",
   "execution_count": 6,
   "id": "06ff6e17",
   "metadata": {
    "nbgrader": {
     "grade": false,
     "grade_id": "function_rook_movement",
     "locked": false,
     "schema_version": 3,
     "solution": true,
     "task": false
    }
   },
   "outputs": [],
   "source": [
    "def rook_movement(r_ori,c_ori,r_dest,c_dest):\n",
    "    ### BEGIN SOLUTION\n",
    "    filaOrigen,columnaOrigen,filaDestino,columnaDestino=r_ori,c_ori,r_dest,c_dest\n",
    "    columnaOrigen_int=ord(columnaOrigen)-ord('a')+1\n",
    "    columnaDestino_int=ord(columnaDestino)-ord('a')+1\n",
    "    if (filaOrigen==filaDestino) and (columnaOrigen_int==columnaDestino_int):\n",
    "        return False\n",
    "    elif (filaOrigen==filaDestino):\n",
    "        return True\n",
    "    elif (columnaOrigen_int==columnaDestino_int):\n",
    "        return True\n",
    "    else:\n",
    "        return False \n",
    "    ### END SOLUTION"
   ]
  },
  {
   "cell_type": "code",
   "execution_count": 7,
   "id": "2cbacb2a",
   "metadata": {
    "nbgrader": {
     "grade": true,
     "grade_id": "test_rook_movement",
     "locked": true,
     "points": 1,
     "schema_version": 3,
     "solution": false,
     "task": false
    }
   },
   "outputs": [
    {
     "name": "stdout",
     "output_type": "stream",
     "text": [
      "origen: (5,d) destino: (2,d) resultado:True\n",
      "origen: (5,d) destino: (7,d) resultado:True\n",
      "origen: (5,d) destino: (5,e) resultado:True\n",
      "origen: (5,d) destino: (5,a) resultado:True\n",
      "origen: (7,g) destino: (8,f) resultado:False\n",
      "origen: (7,g) destino: (6,h) resultado:False\n",
      "origen: (7,g) destino: (5,e) resultado:False\n",
      "origen: (7,g) destino: (7,g) resultado:False\n"
     ]
    }
   ],
   "source": [
    "tests = [(5,'d',2,'d',True),(5,'d',7,'d',True),(5,'d',5,'e',True),(5,'d',5,'a',True),\n",
    "         (7,'g',8,'f',False),(7,'g',6,'h',False),(7,'g',5,'e',False),(7,'g',7,'g',False)]\n",
    "test_movement(rook_movement, tests)"
   ]
  },
  {
   "cell_type": "code",
   "execution_count": 8,
   "id": "4af860e4",
   "metadata": {
    "nbgrader": {
     "grade": false,
     "grade_id": "function_bishop_movement",
     "locked": false,
     "schema_version": 3,
     "solution": true,
     "task": false
    }
   },
   "outputs": [],
   "source": [
    "def bishop_movement(r_ori,c_ori,r_dest,c_dest):\n",
    "    ### BEGIN SOLUTION\n",
    "    filaOrigen,columnaOrigen,filaDestino,columnaDestino=r_ori,c_ori,r_dest,c_dest\n",
    "    columnaOrigen_int=ord(columnaOrigen)-ord('a')+1\n",
    "    columnaDestino_int=ord(columnaDestino)-ord('a')+1\n",
    "    if (filaOrigen==filaDestino) and (columnaOrigen_int==columnaDestino_int):\n",
    "        return False\n",
    "    elif (abs(filaOrigen-filaDestino)==abs(columnaOrigen_int-columnaDestino_int)):\n",
    "        return True\n",
    "    else:\n",
    "        return False\n",
    "    ### END SOLUTION"
   ]
  },
  {
   "cell_type": "code",
   "execution_count": 9,
   "id": "be4ab534",
   "metadata": {
    "nbgrader": {
     "grade": true,
     "grade_id": "test_bishop_movement",
     "locked": true,
     "points": 1,
     "schema_version": 3,
     "solution": false,
     "task": false
    }
   },
   "outputs": [
    {
     "name": "stdout",
     "output_type": "stream",
     "text": [
      "origen: (1,f) destino: (3,d) resultado:True\n",
      "origen: (1,f) destino: (2,g) resultado:True\n",
      "origen: (2,g) destino: (3,h) resultado:True\n",
      "origen: (2,g) destino: (8,a) resultado:True\n",
      "origen: (8,f) destino: (6,h) resultado:True\n",
      "origen: (8,f) destino: (3,a) resultado:True\n",
      "origen: (6,h) destino: (8,g) resultado:False\n",
      "origen: (6,h) destino: (7,h) resultado:False\n",
      "origen: (4,d) destino: (6,e) resultado:False\n",
      "origen: (4,d) destino: (1,d) resultado:False\n",
      "origen: (2,b) destino: (2,h) resultado:False\n",
      "origen: (2,b) destino: (2,b) resultado:False\n"
     ]
    }
   ],
   "source": [
    "tests = [(1,'f',3,'d',True),(1,'f',2,'g',True),(2,'g',3,'h',True),(2,'g',8,'a',True),\n",
    "         (8,'f',6,'h',True),(8,'f',3,'a',True),(6,'h',8,'g',False),(6,'h',7,'h',False),\n",
    "         (4,'d',6,'e',False),(4,'d',1,'d',False),(2,'b',2,'h',False),(2,'b',2,'b',False)]\n",
    "test_movement(bishop_movement, tests)"
   ]
  },
  {
   "cell_type": "code",
   "execution_count": 10,
   "id": "7ff6df24",
   "metadata": {
    "nbgrader": {
     "grade": false,
     "grade_id": "function_knight_movement",
     "locked": false,
     "schema_version": 3,
     "solution": true,
     "task": false
    }
   },
   "outputs": [],
   "source": [
    "def knight_movement(r_ori,c_ori,r_dest,c_dest):\n",
    "    ### BEGIN SOLUTION\n",
    "    filaOrigen,columnaOrigen,filaDestino,columnaDestino=r_ori,c_ori,r_dest,c_dest\n",
    "    columnaOrigen_int=ord(columnaOrigen)-ord('a')+1\n",
    "    columnaDestino_int=ord(columnaDestino)-ord('a')+1\n",
    "    if (columnaDestino_int-columnaOrigen_int==2) and (abs(filaOrigen-filaDestino)==1):\n",
    "        return True\n",
    "    elif (columnaDestino_int-columnaOrigen_int==-2) and (abs(filaOrigen-filaDestino)==1):\n",
    "        return True\n",
    "    elif (filaDestino-filaOrigen==2) and (abs(columnaOrigen_int-columnaDestino_int)==1):\n",
    "        return True\n",
    "    elif (filaDestino-filaOrigen==-2) and (abs(columnaOrigen_int-columnaDestino_int)==1):\n",
    "        return True\n",
    "    else:\n",
    "        return False\n",
    "    ### END SOLUTION"
   ]
  },
  {
   "cell_type": "code",
   "execution_count": 11,
   "id": "cebcec98",
   "metadata": {
    "nbgrader": {
     "grade": true,
     "grade_id": "test_knight_movement",
     "locked": true,
     "points": 1,
     "schema_version": 3,
     "solution": false,
     "task": false
    }
   },
   "outputs": [
    {
     "name": "stdout",
     "output_type": "stream",
     "text": [
      "origen: (4,e) destino: (6,d) resultado:True\n",
      "origen: (4,e) destino: (6,f) resultado:True\n",
      "origen: (4,e) destino: (5,c) resultado:True\n",
      "origen: (4,e) destino: (5,g) resultado:True\n",
      "origen: (4,e) destino: (3,c) resultado:True\n",
      "origen: (4,e) destino: (3,g) resultado:True\n",
      "origen: (4,e) destino: (2,d) resultado:True\n",
      "origen: (4,e) destino: (2,f) resultado:True\n",
      "origen: (8,b) destino: (8,c) resultado:False\n",
      "origen: (8,b) destino: (5,e) resultado:False\n",
      "origen: (8,b) destino: (6,b) resultado:False\n",
      "origen: (8,b) destino: (8,b) resultado:False\n"
     ]
    }
   ],
   "source": [
    "tests = [(4,'e',6,'d',True),(4,'e',6,'f',True),(4,'e',5,'c',True),(4,'e',5,'g',True),\n",
    "         (4,'e',3,'c',True),(4,'e',3,'g',True),(4,'e',2,'d',True),(4,'e',2,'f',True),\n",
    "         (8,'b',8,'c',False),(8,'b',5,'e',False),(8,'b',6,'b',False),(8,'b',8,'b',False)]\n",
    "test_movement(knight_movement, tests)"
   ]
  },
  {
   "cell_type": "markdown",
   "id": "4d2cbb4b",
   "metadata": {
    "nbgrader": {
     "grade": false,
     "grade_id": "exercise3",
     "locked": true,
     "schema_version": 3,
     "solution": false,
     "task": false
    }
   },
   "source": [
    "### Ejercicio 3 **[Ajedrez]**\n",
    "Diseña y escribe una función que, dadas una pieza de ajedrez y dos posiciones del tablero, decida si dicha pieza puede moverse desde la primera posición hasta la segunda. Los datos de entrada de la función son la pieza `p`, su posición inicial `(r_ori,c_ori)` y la posición final `(r_dest,c_dest)`. La pieza `p` es un carácter representando una figura ('K': Rey, 'Q': Reina, 'R': Torre, 'B': Alfil, 'N': Caballo), las filas son enteros y las columnas son letras tales que `1≤r_ori,r_dest≤8` y `'a'≤c_ori,c_dest≤'h'`. El dato de salida será un valor booleano que indica si el movimiento es o no posible.  \n",
    "El nombre de la función y el orden de los parámetros de entrada son los siguientes: `chess_movement(p, r_ori, c_ori, r_dest, c_dest)`  \n",
    "**Observación:** No es necesario comprobar la corrección de los datos de entrada."
   ]
  },
  {
   "cell_type": "code",
   "execution_count": 12,
   "id": "b67fbefa",
   "metadata": {
    "nbgrader": {
     "grade": false,
     "grade_id": "function_chess_movement",
     "locked": false,
     "schema_version": 3,
     "solution": true,
     "task": false
    }
   },
   "outputs": [],
   "source": [
    "def chess_movement(p,r_ori,c_ori,r_dest,c_dest):\n",
    "    ### BEGIN SOLUTION\n",
    "    pieza,filaOrigen,columnaOrigen,filaDestino,columnaDestino=p,r_ori,c_ori,r_dest,c_dest\n",
    "    if (pieza=='K'):\n",
    "        return king_movement(filaOrigen,columnaOrigen,filaDestino,columnaDestino)\n",
    "    elif (pieza=='Q'):\n",
    "        return queen_movement(filaOrigen,columnaOrigen,filaDestino,columnaDestino)\n",
    "    elif (pieza=='N'):\n",
    "        return knight_movement(filaOrigen,columnaOrigen,filaDestino,columnaDestino)\n",
    "    elif (pieza=='R'):\n",
    "        return rook_movement(filaOrigen,columnaOrigen,filaDestino,columnaDestino)\n",
    "    elif (pieza=='B'):\n",
    "        return bishop_movement(filaOrigen,columnaOrigen,filaDestino,columnaDestino)\n",
    "    else:\n",
    "        return False\n",
    "    ### END SOLUTION"
   ]
  },
  {
   "cell_type": "code",
   "execution_count": 13,
   "id": "2e66c2fc",
   "metadata": {
    "nbgrader": {
     "grade": true,
     "grade_id": "test_chess_movement",
     "locked": true,
     "points": 1,
     "schema_version": 3,
     "solution": false,
     "task": false
    }
   },
   "outputs": [
    {
     "name": "stdout",
     "output_type": "stream",
     "text": [
      "origen: (8,b) destino: (8,c) resultado:True\n",
      "origen: (1,f) destino: (3,d) resultado:True\n",
      "origen: (7,g) destino: (8,f) resultado:False\n",
      "origen: (3,f) destino: (2,f) resultado:True\n",
      "origen: (8,b) destino: (8,c) resultado:False\n",
      "origen: (4,e) destino: (6,d) resultado:True\n",
      "origen: (6,h) destino: (7,h) resultado:False\n",
      "origen: (1,a) destino: (7,a) resultado:True\n",
      "origen: (1,a) destino: (2,c) resultado:False\n",
      "origen: (5,d) destino: (2,d) resultado:True\n"
     ]
    }
   ],
   "source": [
    "tests = [('K',8,'b',8,'c',True),('B',1,'f',3,'d',True),('R',7,'g',8,'f',False),('K',3,'f',2,'f',True),('N',8,'b',8,'c',False),\n",
    "         ('N',4,'e',6,'d',True),('B',6,'h',7,'h',False),('Q',1,'a',7,'a',True),('Q',1,'a',2,'c',False),('R',5,'d',2,'d',True)]\n",
    "for (p,f_ori,c_ori,f_dest,c_dest,res) in tests:\n",
    "    print('origen: ({},{}) destino: ({},{}) resultado:{}'.format(f_ori, c_ori, f_dest, c_dest, res))\n",
    "    result=chess_movement(p, f_ori, c_ori, f_dest, c_dest)\n",
    "    try:\n",
    "        assert res==result\n",
    "    except AssertionError:\n",
    "        print('  Resultado incorrecto: '+str(result))"
   ]
  }
 ],
 "metadata": {
  "celltoolbar": "Create Assignment",
  "kernelspec": {
   "display_name": "Python 3 (ipykernel)",
   "language": "python",
   "name": "python3"
  },
  "language_info": {
   "codemirror_mode": {
    "name": "ipython",
    "version": 3
   },
   "file_extension": ".py",
   "mimetype": "text/x-python",
   "name": "python",
   "nbconvert_exporter": "python",
   "pygments_lexer": "ipython3",
   "version": "3.9.13"
  }
 },
 "nbformat": 4,
 "nbformat_minor": 5
}
