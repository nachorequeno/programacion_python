{
 "cells": [
  {
   "cell_type": "markdown",
   "metadata": {},
   "source": [
    "# Módulos matemáticos de Python (`math` y `cmath`)"
   ]
  },
  {
   "cell_type": "markdown",
   "metadata": {},
   "source": [
    "Algunos módulos matemáticos de Python son `math` y `cmath`. El primero define las funciones matemáticas habituales (incluyendo funciones logarítmicas, trigonométricas e hiperbólicas), que son aplicables únicamente a números reales y, por extensión, a números enteros. Sin embargo, el módulo `cmath` proporciona funciones para trabajar con números complejos."
   ]
  },
  {
   "cell_type": "markdown",
   "metadata": {},
   "source": [
    "### Constantes y valores especiales"
   ]
  },
  {
   "cell_type": "markdown",
   "metadata": {},
   "source": [
    "El módulo `math` incluye constantes para representar $\\pi$ (`math.pi`), el número `e` (`math.e`), $\\infty$ (`math.inf`) y `NaN` (`math.nan`). Recuerda que `NaN` (Not a Number) es un valor de tipo `float` que representa cualquier resultado indefinido o no computable. "
   ]
  },
  {
   "cell_type": "code",
   "execution_count": 1,
   "metadata": {},
   "outputs": [
    {
     "name": "stdout",
     "output_type": "stream",
     "text": [
      "  π: 3.141592653589793115997963468544\n",
      "  e: 2.718281828459045090795598298428\n",
      "  inf: inf\n",
      "  nan: nan\n"
     ]
    }
   ],
   "source": [
    "import math\n",
    "print('  π: {:.30f}'.format(math.pi))\n",
    "print('  e: {:.30f}'.format(math.e))\n",
    "print('  inf: {:.30f}'.format(math.inf))\n",
    "print('  nan: {:.30f}'.format(math.nan))"
   ]
  },
  {
   "cell_type": "markdown",
   "metadata": {},
   "source": [
    "El valor `inf` puede aparecer cuando un cálculo genera un desbordamiento, esto es, cuando se intenta calcular un valor que está fuera del rango representable por la máquina. Sin embargo, no todos los desbordamientos producen como resultado valores infinitos y en ciertos casos se lanzan excepciones de tipo `OverflowError`."
   ]
  },
  {
   "cell_type": "code",
   "execution_count": 2,
   "metadata": {},
   "outputs": [
    {
     "name": "stdout",
     "output_type": "stream",
     "text": [
      "x = 1e+200 x^2 = inf\n",
      "(34, 'Result too large')\n"
     ]
    }
   ],
   "source": [
    "x = 10.0 ** 200\n",
    "# Desbordamiento con valores infinitos\n",
    "print('x = '+str(x)+' x^2 = '+str(x * x))\n",
    "# Desbordamiento con tratamiento de excepciones\n",
    "try:\n",
    "    print(x ** 2)\n",
    "except OverflowError as err:\n",
    "    print(err)"
   ]
  },
  {
   "cell_type": "markdown",
   "metadata": {},
   "source": [
    "Por otra parte, el resultado de algunas operaciones no está definido para ciertos valores de sus operandos. En tales casos, o aparece el valor `nan` o se produce el lanzamiento de excepciones cuyo tipo depende del error cometido.  "
   ]
  },
  {
   "cell_type": "code",
   "execution_count": 3,
   "metadata": {},
   "outputs": [
    {
     "name": "stdout",
     "output_type": "stream",
     "text": [
      "∞/∞ = nan\n",
      "float division by zero\n",
      "math domain error\n"
     ]
    }
   ],
   "source": [
    "# Cálculo no definido con valores nan\n",
    "print('∞/∞ = '+str(math.inf / math.inf))\n",
    "# Cálculo no definido con tratamiento de excepciones\n",
    "try:\n",
    "    print('x = '+str(x)+' x / 0 = '+str(x / 0))\n",
    "except ZeroDivisionError as err:\n",
    "    print(err)\n",
    "try:\n",
    "    print(math.sqrt(-1))\n",
    "except ValueError as err:\n",
    "    print(err)"
   ]
  },
  {
   "cell_type": "markdown",
   "metadata": {},
   "source": [
    "Debemos tener en cuenta que el valor `nan` es diferente a cualquier valor, incluso a sí mismo. Por este motivo, el módulo `math` define la función `isnan()`, que devuelve `True` si el parámetro de entrada es el valor `nan` y `False` en caso contrario. Este módulo también define las funciones `isinf()` e `isfinite()`."
   ]
  },
  {
   "cell_type": "code",
   "execution_count": 4,
   "metadata": {},
   "outputs": [
    {
     "name": "stdout",
     "output_type": "stream",
     "text": [
      "math.nan == math.nan: False\n",
      "math.isnan(math.nan): True\n",
      "math.isinf(math.inf): True\n",
      "math.isfinite(math.nan): False\n",
      "x = 1e+200 math.isfinite(x): True\n"
     ]
    }
   ],
   "source": [
    "indefinido = math.nan\n",
    "print('math.nan == math.nan: ' +str(indefinido == math.nan))\n",
    "print('math.isnan(math.nan): '+str(math.isnan(indefinido)))\n",
    "infinito = math.inf\n",
    "print('math.isinf(math.inf): '+str(math.isinf(infinito)))\n",
    "print('math.isfinite(math.nan): '+str(math.isfinite(indefinido)))\n",
    "print('x = '+str(x)+' math.isfinite(x): '+str(math.isfinite(x)))"
   ]
  },
  {
   "cell_type": "markdown",
   "metadata": {},
   "source": [
    "### Comparando valores de tipo `float`"
   ]
  },
  {
   "cell_type": "markdown",
   "metadata": {},
   "source": [
    "En algunas ocasiones, la comparación de valores de tipo `float` puede darnos sorpresas desagradables."
   ]
  },
  {
   "cell_type": "code",
   "execution_count": 5,
   "metadata": {},
   "outputs": [
    {
     "name": "stdout",
     "output_type": "stream",
     "text": [
      "False\n",
      "True\n"
     ]
    }
   ],
   "source": [
    "print(0.1 + 0.1 + 0.1 == 0.3)\n",
    "print(0.8 - 0.1 > 0.7)"
   ]
  },
  {
   "cell_type": "markdown",
   "metadata": {},
   "source": [
    "La causa de estas anomalías aparece por el uso de la representación binaria de punto flotante. Por ejemplo, el valor 0.1 equivale a la fracción decimal 1/10 y a la fracción binaria 1/1010. Si realizamos la división binaria para calcular el valor equivalente de esta última, obtenemos el resultado 0.1000000000000000055511151231257827021181583404541015625, el cual tiene más decimales de los que la mayoría de las personas encuentran útiles, por lo que Python muestra un valor redondeado en su lugar. Una forma de ver el valor de punto flotante que se almacena para 0.1 es usar el método `as_integer_ratio()`, que devuelve un par de enteros cuya razón es igual al valor `float` original y con denominador positivo."
   ]
  },
  {
   "cell_type": "code",
   "execution_count": 6,
   "metadata": {},
   "outputs": [
    {
     "name": "stdout",
     "output_type": "stream",
     "text": [
      "3602879701896397 / 36028797018963968\n",
      "0.1000000000000000055511151231257827021181583404541015625\n"
     ]
    }
   ],
   "source": [
    "numerador,denominador = (0.1).as_integer_ratio()\n",
    "print(str(numerador)+' / '+str(denominador))\n",
    "numero = format(numerador / denominador, '.55f')\n",
    "print(numero)"
   ]
  },
  {
   "cell_type": "markdown",
   "metadata": {},
   "source": [
    "La función `isclose()` se utiliza para determinar si dos números `a` y `b` de tipo `float` tienen valores cercanos. La fórmula utilizada es `abs(a-b) <= max(rel_tol * max(abs(a), abs(b)), abs_tol)`. El parámetro `rel_tol` es la tolerancia relativa: es la diferencia máxima permitida entre `a` y `b`, en relación con el valor absoluto mayor de `a` o `b`. El parámetro `abs_tol` es la tolerancia absoluta mínima, útil para comparaciones cercanas a cero. El valor por defecto de la tolerancia relativa es 1e-09 y el valor por defecto de la tolerancia absoluta es 0.0. Por otra parte, `nan` no se considera cercano a ningún valor, incluido él mismo, y el valor `inf` solo es cercano a sí mismo."
   ]
  },
  {
   "cell_type": "code",
   "execution_count": 7,
   "metadata": {},
   "outputs": [
    {
     "name": "stdout",
     "output_type": "stream",
     "text": [
      "True\n",
      "False\n",
      "False\n",
      "True\n",
      "False\n"
     ]
    }
   ],
   "source": [
    "# 0.1 + 0.1 + 0.1 == 0.3\n",
    "print(math.isclose(0.1 + 0.1 + 0.1, 0.3))                     # True\n",
    "# 0.8 - 0.1 > 0.7\n",
    "print(not(math.isclose(0.8 - 0.1, 0.7) or (0.8 - 0.1 < 0.7))) # False\n",
    "print(math.isclose(math.nan, math.nan))                       # False\n",
    "print(math.isclose(math.inf, math.inf))                       # True\n",
    "print(math.isclose(math.nan, 0.3))                            # False"
   ]
  },
  {
   "cell_type": "markdown",
   "metadata": {},
   "source": [
    "### Convirtiendo valores de tipo `float`"
   ]
  },
  {
   "cell_type": "markdown",
   "metadata": {},
   "source": [
    "El módulo `math` define tres funciones para convertir valores de tipo `float` en valores de tipo `int`. La función `trunc()` devuelve la parte entera del valor de entrada, la función `ceil()` devuelve el entero más pequeño mayor o igual que el valor de entrada, y la función `floor()` devuelve el entero más grande menor o igual que el valor de entrada.  "
   ]
  },
  {
   "cell_type": "code",
   "execution_count": 8,
   "metadata": {},
   "outputs": [
    {
     "name": "stdout",
     "output_type": "stream",
     "text": [
      " 1.2 trunc(): 1 ceil(): 2 floor(): 1\n",
      " 0.5 trunc(): 0 ceil(): 1 floor(): 0\n",
      "-0.5 trunc(): 0 ceil(): 0 floor():-1\n",
      "-1.2 trunc():-1 ceil():-1 floor():-2\n"
     ]
    }
   ],
   "source": [
    "for dato in [1.2, 0.5, -0.5, -1.2]:\n",
    "    inicio = '' if dato < 0 else ' '\n",
    "    print(inicio+str(dato)+' trunc():{:2.0f} ceil():{:2.0f} floor():{:2.0f}'.format(math.trunc(dato), math.ceil(dato), math.floor(dato)))   "
   ]
  },
  {
   "cell_type": "markdown",
   "metadata": {},
   "source": [
    "### Algunos cálculos habituales"
   ]
  },
  {
   "cell_type": "markdown",
   "metadata": {},
   "source": [
    "Como ya hemos visto, la manipulación de valores de tipo `float` presenta ciertos desafíos. Algunos valores no se almacenan de forma exacta y es probable que sigan causando errores si se utilizan de forma repetida en los cálculos. El módulo `math` define la función `fsum()`, la cual permite calcular la suma de un conjunto de valores de tipo `float` minimizando los errores de precisión."
   ]
  },
  {
   "cell_type": "code",
   "execution_count": 9,
   "metadata": {},
   "outputs": [
    {
     "name": "stdout",
     "output_type": "stream",
     "text": [
      "sum()         : 0.9999999999999998889776975\n",
      "suma con bucle: 0.9999999999999998889776975\n",
      "fsum()        : 1.0000000000000000000000000\n"
     ]
    }
   ],
   "source": [
    "valores = [0.1] * 10\n",
    "suma = 0.0\n",
    "for dato in valores:\n",
    "    suma += dato\n",
    "print('sum()         : {:.25f}'.format(sum(valores)))\n",
    "print('suma con bucle: {:.25f}'.format(suma))\n",
    "print('fsum()        : {:.25f}'.format(math.fsum(valores)))"
   ]
  },
  {
   "cell_type": "markdown",
   "metadata": {},
   "source": [
    "La función `factorial()` calcula el factorial del valor de entrada. Esta función admite números enteros, pero también acepta valores de tipo `float` siempre que puedan convertirse en enteros sin perder valor."
   ]
  },
  {
   "cell_type": "markdown",
   "metadata": {},
   "source": [
    "La función `fabs()` calcula el valor absoluto de un número de tipo `float`."
   ]
  },
  {
   "cell_type": "code",
   "execution_count": 10,
   "metadata": {},
   "outputs": [
    {
     "name": "stdout",
     "output_type": "stream",
     "text": [
      "dato: 1 factorial:    1\n",
      "dato: 2 factorial:    2\n",
      "dato: 3 factorial:    6\n",
      "dato: 4 factorial:   24\n",
      "dato: 5 factorial:  120\n",
      "Error en el cálculo del factorial de 6.3: factorial() only accepts integral values\n",
      "dato: 7 factorial: 5040\n"
     ]
    }
   ],
   "source": [
    "for dato in [1, 2.0, 3, 4.0, 5, 6.3, 7.0]:\n",
    "    try:\n",
    "        print('dato:{:2.0f} factorial:{:5.0f}'.format(dato, math.factorial(dato)))\n",
    "    except ValueError as err:\n",
    "        print('Error en el cálculo del factorial de {}: {}'.format(dato, err))"
   ]
  },
  {
   "cell_type": "code",
   "execution_count": 11,
   "metadata": {},
   "outputs": [
    {
     "name": "stdout",
     "output_type": "stream",
     "text": [
      "0.8\n",
      "6.0\n"
     ]
    }
   ],
   "source": [
    "print(math.fabs(-0.8))\n",
    "print(math.fabs(-6))"
   ]
  },
  {
   "cell_type": "markdown",
   "metadata": {},
   "source": [
    "La función `fmod()` devuelve el módulo de dos números tal y como se define en la librería C. Esto supone que el módulo de `a` y `b` se define como el resultado de `a - n * b` para algún número entero `n` tal que el resultado tiene el mismo signo que `a` y una magnitud menor que el valor absoluto de `b`. Este criterio difiere del usado por el operador `%` de Python que, además de aplicar un método diferente para el cálculo, devuelve un resultado que tiene el signo de `b`. Generalmente la función `fmod()` se prefiere al manipular valores de tipo `float`, mientras que el operador `%` es preferible cuando trabajamos con números enteros."
   ]
  },
  {
   "cell_type": "code",
   "execution_count": 12,
   "metadata": {},
   "outputs": [
    {
     "name": "stdout",
     "output_type": "stream",
     "text": [
      "a: 7.0 b: 4.0 %: 3.00 fmod(): 3.00\n",
      "a: 7.0 b:-4.0 %:-1.00 fmod(): 3.00\n",
      "a:-7.0 b: 4.0 %: 1.00 fmod():-3.00\n"
     ]
    }
   ],
   "source": [
    "for a, b in [(7, 4), (7, -4), (-7, 4)]:\n",
    "    print('a:{:4.1f} b:{:4.1f} %:{:5.2f} fmod():{:5.2f}'.format(a, b, a % b, math.fmod(a, b)))"
   ]
  },
  {
   "cell_type": "markdown",
   "metadata": {},
   "source": [
    "La función `gcd()`permite calcular el máximo común divisor de un conjunto de valores de tipo `int`."
   ]
  },
  {
   "cell_type": "code",
   "execution_count": 13,
   "metadata": {},
   "outputs": [
    {
     "name": "stdout",
     "output_type": "stream",
     "text": [
      "a: 12 b: 20 gcd():  4\n",
      "a: 13 b: 44 gcd():  1\n",
      "a:  0 b: 15 gcd(): 15\n"
     ]
    }
   ],
   "source": [
    "print('a:{:3.0f} b:{:3.0f} gcd():{:3.0f}'.format(12, 20, math.gcd(12, 20)))\n",
    "print('a:{:3.0f} b:{:3.0f} gcd():{:3.0f}'.format(13, 44, math.gcd(13, 44)))\n",
    "print('a:{:3.0f} b:{:3.0f} gcd():{:3.0f}'.format(0, 15, math.gcd(0, 15)))"
   ]
  },
  {
   "cell_type": "markdown",
   "metadata": {},
   "source": [
    "### Potencias y logaritmos"
   ]
  },
  {
   "cell_type": "markdown",
   "metadata": {},
   "source": [
    "Python no solo tiene definido el operador de exponenciación `**`, sino también dispone de la función `pow()`, que es aplicable a números reales y, por extensión, a números enteros. "
   ]
  },
  {
   "cell_type": "code",
   "execution_count": 14,
   "metadata": {},
   "outputs": [
    {
     "name": "stdout",
     "output_type": "stream",
     "text": [
      "base:  4.10 exponente:  4.10 pow(): 325.40\n",
      "base:  1.00 exponente:  5.60 pow():   1.00\n",
      "base:  1.00 exponente:   nan pow():   1.00\n",
      "base:  0.00 exponente:  5.60 pow():   0.00\n",
      "base:  0.00 exponente:   nan pow():    nan\n",
      "base:   nan exponente:   nan pow():    nan\n",
      "base:  4.00 exponente:  0.50 pow():   2.00\n",
      "base:  4.00 exponente: -0.50 pow():   0.50\n",
      "base: 27.00 exponente:  0.33 pow():   3.00\n",
      "base: 27.00 exponente: -0.33 pow():   0.33\n"
     ]
    }
   ],
   "source": [
    "for base, exp in [(4.1, 4.1), (1, 5.6), (1, math.nan), (0, 5.6), (0, math.nan), (math.nan, math.nan), \n",
    "                  (4, 1/2), (4, -1/2), (27, 1/3), (27, -1/3)]:\n",
    "    print('base:{:6.2f} exponente:{:6.2f} pow():{:7.2f}'.format(base, exp, math.pow(base, exp)))"
   ]
  },
  {
   "cell_type": "markdown",
   "metadata": {},
   "source": [
    "La raíz cuadrada de un número también puede calcularse mediante la función `sqrt()`. "
   ]
  },
  {
   "cell_type": "code",
   "execution_count": 15,
   "metadata": {},
   "outputs": [
    {
     "name": "stdout",
     "output_type": "stream",
     "text": [
      "3.0\n",
      "2.0\n",
      "math domain error\n",
      "1j\n"
     ]
    }
   ],
   "source": [
    "print(math.sqrt(9.0))\n",
    "print(math.sqrt(4))\n",
    "try:\n",
    "    print(math.sqrt(-1))\n",
    "except ValueError as err:\n",
    "    print(err)\n",
    "import cmath\n",
    "print(cmath.sqrt(-1))"
   ]
  },
  {
   "cell_type": "markdown",
   "metadata": {},
   "source": [
    "La función `log()` permite calcular logaritmos. Si se utiliza con un valor de entrada `x`, `log(x)` devuelve el logaritmo de `x` en base `e`. Si se utiliza con dos valores de entrada `x` e `y`, `log(x, y)` devuelve el logaritmo de `x` en base `y`, calculado como `log(x)/log(y)`. En este último caso, la precisión es limitada, especialmente para algunas bases `y`. Por este motivo, el módulo `math` define las funciones `log10()` y `log2()`, las cuales calculan de forma más precisa los logaritmos de `x` en base 10 y base 2, respectivamente.  "
   ]
  },
  {
   "cell_type": "code",
   "execution_count": 16,
   "metadata": {},
   "outputs": [
    {
     "name": "stdout",
     "output_type": "stream",
     "text": [
      "x:       1000.0 log10(): 3.0 log(): 2.99999999999999955591\n",
      "x:    1000000.0 log10(): 6.0 log(): 5.99999999999999911182\n",
      "x: 1000000000.0 log10(): 9.0 log(): 8.99999999999999822364\n"
     ]
    }
   ],
   "source": [
    "for i in range(1,4):\n",
    "    x = math.pow(1000, i)    \n",
    "    valorReal = math.log10(x)\n",
    "    valorAproximado = math.log(x, 10)\n",
    "    print('x:{:13.1f} log10():{:4.1f} log():{:23.20f}'.format(x, valorReal, valorAproximado))"
   ]
  },
  {
   "cell_type": "markdown",
   "metadata": {},
   "source": [
    "La función `exp()` devuelve el valor de la función exponencial en el parámetro de entrada."
   ]
  },
  {
   "cell_type": "code",
   "execution_count": 17,
   "metadata": {},
   "outputs": [
    {
     "name": "stdout",
     "output_type": "stream",
     "text": [
      "1.0\n",
      "2.718281828459045\n",
      "7.38905609893065\n"
     ]
    }
   ],
   "source": [
    "print(math.exp(0))\n",
    "print(math.exp(1))\n",
    "print(math.exp(2.0))"
   ]
  },
  {
   "cell_type": "markdown",
   "metadata": {},
   "source": [
    "### Ángulos y trigonometría"
   ]
  },
  {
   "cell_type": "markdown",
   "metadata": {},
   "source": [
    " Es posible convertir un ángulo de grados a radianes con la función `radians()` y de radianes a grados con la función `degrees()`. "
   ]
  },
  {
   "cell_type": "code",
   "execution_count": 18,
   "metadata": {},
   "outputs": [
    {
     "name": "stdout",
     "output_type": "stream",
     "text": [
      "entrada: 90.0 radianes: 1.5707963267948966 grados: 90.0\n"
     ]
    }
   ],
   "source": [
    "anguloEntrada = 90.0\n",
    "anguloR = math.radians(anguloEntrada)\n",
    "anguloSalida = math.degrees(anguloR)\n",
    "print('entrada: '+str(anguloEntrada)+' radianes: '+str(anguloR)+' grados: '+str(anguloSalida))"
   ]
  },
  {
   "cell_type": "markdown",
   "metadata": {},
   "source": [
    "Las funciones trigonométricas relacionan los ángulos de un triángulo con sus lados. Dado un ángulo, el seno es la razón entre el cateto opuesto al ángulo y la hipotenusa, el coseno es la razón entre el cateto adyacente al ángulo y la hipotenusa, y la tangente es la razón entre el cateto opuesto al ángulo y el cateto adyacente. Este módulo permite calcular directamente `sin()`, `cos()`, y `tan()` de un ángulo. Sin embargo, no hay funciones disponibles para calcular la cosecante, la secante y la cotangente de un ángulo, aunque su valor es igual al inverso del valor devuelto por `sin()`, `cos()` y `tan()` respectivamente. También es posible utilizar las funciones inversas `asin()`, `acos()` y `atan()`. "
   ]
  },
  {
   "cell_type": "code",
   "execution_count": 19,
   "metadata": {},
   "outputs": [
    {
     "name": "stdout",
     "output_type": "stream",
     "text": [
      "grados:  0.00 radianes:  0.00 sin(): 0.00 cos(): 1.00 tan(): 0.0\n",
      "grados: 15.00 radianes:  0.26 sin(): 0.26 cos(): 0.97 tan(): 0.2679491924311227\n",
      "grados: 30.00 radianes:  0.52 sin(): 0.50 cos(): 0.87 tan(): 0.5773502691896257\n",
      "grados: 45.00 radianes:  0.79 sin(): 0.71 cos(): 0.71 tan(): 0.9999999999999999\n",
      "grados: 60.00 radianes:  1.05 sin(): 0.87 cos(): 0.50 tan(): 1.7320508075688767\n",
      "grados: 75.00 radianes:  1.31 sin(): 0.97 cos(): 0.26 tan(): 3.7320508075688776\n",
      "grados: 90.00 radianes:  1.57 sin(): 1.00 cos(): 0.00 tan(): 1.633123935319537e+16\n"
     ]
    }
   ],
   "source": [
    "for anguloG in [0, 15, 30, 45, 60, 75, 90]:\n",
    "    anguloR = math.radians(anguloG)\n",
    "    print('grados:{:6.2f} radianes:{:6.2f} sin():{:5.2f} cos():{:5.2f} tan(): {}'.format(anguloG, anguloR, math.sin(anguloR), math.cos(anguloR), math.tan(anguloR)))"
   ]
  },
  {
   "cell_type": "markdown",
   "metadata": {},
   "source": [
    "### Funciones hiperbólicas"
   ]
  },
  {
   "cell_type": "markdown",
   "metadata": {},
   "source": [
    "Las funciones hiperbólicas están basadas en una hipérbola<sup>1</sup> en lugar de un círculo. En trigonometría, los puntos `(cos x, sin x)` representan los puntos de la circunferencia unitaria. En el caso de las funciones hiperbólicas, los puntos `(cosh x, sinh x)` forman la mitad derecha de una hipérbola equilátera. Gracias al módulo `math`, se pueden calcular directamente los valores `sinh(x)`, `cosh(x)` y `tanh(x)`, y el resto se calculan usando las relaciones entre estos tres valores. También existen las funciones `asinh(x)`, `acosh(x)` y `atanh(x)`, las cuales devuelven la inversa de los valores hiperbólicos correspondientes."
   ]
  },
  {
   "cell_type": "code",
   "execution_count": 20,
   "metadata": {},
   "outputs": [
    {
     "name": "stdout",
     "output_type": "stream",
     "text": [
      "11.548739357257746\n",
      "11.591953275521519\n",
      "0.99627207622075\n",
      "3.141592653589793\n"
     ]
    }
   ],
   "source": [
    "print(math.sinh(math.pi))   \n",
    "print(math.cosh(math.pi))   \n",
    "print(math.tanh(math.pi))    \n",
    "print(math.asinh(11.548739357257746))  "
   ]
  },
  {
   "cell_type": "markdown",
   "metadata": {},
   "source": [
    "<sup>1</sup>Hipérbola: lugar geométrico de los puntos del plano cuya diferencia de distancias a los puntos fijos llamados focos es constante en valor absoluto. <br> No debe confundirse con el concepto de hipérbole. <br>\n",
    "Hipérbole: figura literaria que consiste en aumentar o disminuir de manera excesiva un aspecto, característica o propiedad de aquello de lo que se habla"
   ]
  }
 ],
 "metadata": {
  "kernelspec": {
   "display_name": "Python 3",
   "language": "python",
   "name": "python3"
  },
  "language_info": {
   "codemirror_mode": {
    "name": "ipython",
    "version": 3
   },
   "file_extension": ".py",
   "mimetype": "text/x-python",
   "name": "python",
   "nbconvert_exporter": "python",
   "pygments_lexer": "ipython3",
   "version": "3.8.5"
  }
 },
 "nbformat": 4,
 "nbformat_minor": 4
}
