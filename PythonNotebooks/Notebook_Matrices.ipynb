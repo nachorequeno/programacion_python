{
 "cells": [
  {
   "cell_type": "markdown",
   "metadata": {},
   "source": [
    "# Matrices con listas anidadas en Python "
   ]
  },
  {
   "cell_type": "markdown",
   "metadata": {},
   "source": [
    "Una **matriz** es una estructura de datos bidimensional donde los elementos se organizan en **filas** y **columnas**. Python no tiene un tipo de datos definido para manipular matrices, aunque podemos implementar una matriz como una lista de listas, donde la lista principal contiene todas las filas de la estructura. "
   ]
  },
  {
   "cell_type": "code",
   "execution_count": 1,
   "metadata": {},
   "outputs": [
    {
     "name": "stdout",
     "output_type": "stream",
     "text": [
      "[['Amarillo', 101, 90, 94], ['Negro', 102, 85, 100], ['Verde', 103, 90, 95]]\n"
     ]
    }
   ],
   "source": [
    "m = [['Amarillo',101,90,94],['Negro',102,85,100],['Verde',103,90,95]]\n",
    "print(m)"
   ]
  },
  {
   "cell_type": "markdown",
   "metadata": {},
   "source": [
    "La cantidad de filas de una matriz `m` es `len(m)` y la cantidad de columnas de `m` es el tamaño de cualquiera de sus filas, por ejemplo, `len(m[0])`. El acceso a los elementos de una matriz se realiza utilizando la notación de las listas, donde los dos índices que pueden aparecer (`m[fila][columna]`) se asocian a la fila y a la columna del dato accedido, respectivamente. Además, Python permite emplear índices negativos, asumiendo que el índice `-1` accede al último elemento de la lista correspondiente. "
   ]
  },
  {
   "cell_type": "code",
   "execution_count": 2,
   "metadata": {},
   "outputs": [
    {
     "name": "stdout",
     "output_type": "stream",
     "text": [
      "['Amarillo', 101, 90, 94]\n",
      "['Verde', 103, 90, 95]\n"
     ]
    }
   ],
   "source": [
    "print(m[0])        # Contenido de la primera fila\n",
    "print(m[len(m)-1]) # Contenido de la última fila"
   ]
  },
  {
   "cell_type": "code",
   "execution_count": 3,
   "metadata": {},
   "outputs": [
    {
     "name": "stdout",
     "output_type": "stream",
     "text": [
      "Amarillo\n",
      "94\n"
     ]
    }
   ],
   "source": [
    "print(m[0][0])  # Elemento de la posición (0,0)\n",
    "print(m[0][-1]) # Elemento de la posición (0,3) "
   ]
  },
  {
   "cell_type": "markdown",
   "metadata": {},
   "source": [
    "Como acabamos de comprobar, la implementación de las matrices como listas de listas permite emplear las funciones y los métodos definidos para estas, aunque debemos tener en cuenta que no se ejecutarán recursivamente. Por ejemplo, dada una matriz `m`, la llamada `m.reverse()` invierte el orden de las filas de `m`, pero no modifica el orden interno de estas. Análogamente, el método `m.count(dato)` realiza el conteo de las apariciones de `dato` en `m` comparando `dato`con cada fila (búsqueda superficial), pero sin examinar su contenido elemento a elemento (búsqueda profunda)."
   ]
  },
  {
   "cell_type": "code",
   "execution_count": 4,
   "metadata": {},
   "outputs": [
    {
     "name": "stdout",
     "output_type": "stream",
     "text": [
      "Inversión del orden de las filas:\n",
      " [['Verde', 103, 90, 95], ['Negro', 102, 85, 100], ['Amarillo', 101, 90, 94]]\n",
      "Inversión del contenido de las filas:\n",
      " [[95, 90, 103, 'Verde'], [100, 85, 102, 'Negro'], [94, 90, 101, 'Amarillo']]\n"
     ]
    }
   ],
   "source": [
    "m.reverse()        # Inversión del orden de las filas de m\n",
    "print(\"Inversión del orden de las filas:\\n \" + str(m))\n",
    "for fila in m:     # Inversión del contenido de las filas de m\n",
    "    fila.reverse()\n",
    "print(\"Inversión del contenido de las filas:\\n \" + str(m))"
   ]
  },
  {
   "cell_type": "code",
   "execution_count": 5,
   "metadata": {},
   "outputs": [
    {
     "name": "stdout",
     "output_type": "stream",
     "text": [
      "Cantidad (búsqueda superficial): 0\n",
      "Cantidad (búsqueda profunda): 2\n"
     ]
    }
   ],
   "source": [
    "dato = 90\n",
    "cantidad1 = m.count(dato)                       # Búsqueda superficial\n",
    "cantidad2 = sum(fila.count(dato) for fila in m) # Búsqueda profunda\n",
    "print(\"Cantidad (búsqueda superficial): \" + str(cantidad1))\n",
    "print(\"Cantidad (búsqueda profunda): \" + str(cantidad2))"
   ]
  },
  {
   "cell_type": "markdown",
   "metadata": {},
   "source": [
    "Las funciones `crearMatrizNula()` que mostramos a continuación generan una matriz nula con las dimensiones dadas como parámetros de entrada."
   ]
  },
  {
   "cell_type": "code",
   "execution_count": 6,
   "metadata": {},
   "outputs": [
    {
     "name": "stdout",
     "output_type": "stream",
     "text": [
      "Método 1\n",
      "[[0, 0, 0, 0], [0, 0, 0, 0], [0, 0, 0, 0], [0, 0, 0, 0], [0, 0, 0, 0]]\n",
      "[[1, 0, 0, 0], [0, 0, 0, 0], [0, 0, 0, 0], [0, 0, 0, 0], [0, 0, 0, 0]]\n",
      "Método 2\n",
      "[[0, 0, 0, 0], [0, 0, 0, 0], [0, 0, 0, 0], [0, 0, 0, 0], [0, 0, 0, 0]]\n",
      "[[1, 0, 0, 0], [0, 0, 0, 0], [0, 0, 0, 0], [0, 0, 0, 0], [0, 0, 0, 0]]\n"
     ]
    }
   ],
   "source": [
    "def crearMatrizNula(numFilas, numColumnas): # Método 1\n",
    "    matriz = []\n",
    "    for i in range(0,numFilas,1):\n",
    "        fila = []\n",
    "        for j in range(0,numColumnas,1):\n",
    "            fila.append(0)\n",
    "        matriz.append(fila)\n",
    "    return matriz\n",
    "print(\"Método 1\")\n",
    "matrizNula = crearMatrizNula(5, 4)\n",
    "print(matrizNula)\n",
    "matrizNula[0][0] = 1 # Modificación de la posición (0,0)\n",
    "print(matrizNula)\n",
    "\n",
    "def crearMatrizNula(numFilas, numColumnas): # Método 2\n",
    "    return [[0 for i in range(numColumnas)] for j in range(numFilas)] # Comprensión de listas\n",
    "print(\"Método 2\")\n",
    "matrizNula = crearMatrizNula(5, 4)\n",
    "print(matrizNula)\n",
    "matrizNula[0][0] = 1 # Modificación de la posición (0,0)\n",
    "print(matrizNula)"
   ]
  },
  {
   "cell_type": "markdown",
   "metadata": {},
   "source": [
    "Dada la naturaleza mutable de las listas, debemos ser cuidadosos con los mecanismos empleados en la generación de matrices. Un error habitual es emplear una sola lista como fila única de la matriz: en los casos que siguen, se crea una lista con tantos elementos como columnas debe tener la matriz generada y tras eso, todas las filas de la misma apuntan a dicha lista."
   ]
  },
  {
   "cell_type": "code",
   "execution_count": 7,
   "metadata": {},
   "outputs": [
    {
     "name": "stdout",
     "output_type": "stream",
     "text": [
      "Método 1\n",
      "[[0, 0, 0, 0], [0, 0, 0, 0], [0, 0, 0, 0], [0, 0, 0, 0], [0, 0, 0, 0]]\n",
      "[[1, 0, 0, 0], [1, 0, 0, 0], [1, 0, 0, 0], [1, 0, 0, 0], [1, 0, 0, 0]]\n",
      "Método 2\n",
      "[[0, 0, 0, 0], [0, 0, 0, 0], [0, 0, 0, 0], [0, 0, 0, 0], [0, 0, 0, 0]]\n",
      "[[1, 0, 0, 0], [1, 0, 0, 0], [1, 0, 0, 0], [1, 0, 0, 0], [1, 0, 0, 0]]\n"
     ]
    }
   ],
   "source": [
    "def crearMatrizNula_mal(numFilas, numColumnas): # Método 1\n",
    "    matriz = []\n",
    "    fila = []\n",
    "    for j in range(0,numColumnas,1):\n",
    "        fila.append(0)\n",
    "    for i in range(0,numFilas,1):\n",
    "        matriz.append(fila)\n",
    "    return matriz\n",
    "print(\"Método 1\")\n",
    "matrizNula_mal = crearMatrizNula_mal(5, 4)\n",
    "print(matrizNula_mal)\n",
    "matrizNula_mal[0][0] = 1 # Modificación de la posición (0,0)\n",
    "print(matrizNula_mal)\n",
    "\n",
    "def crearMatrizNula_mal(numFilas, numColumnas): # Método 2\n",
    "    return [[0]*numColumnas]*numFilas\n",
    "print(\"Método 2\")\n",
    "matrizNula_mal = crearMatrizNula_mal(5, 4)\n",
    "print(matrizNula_mal)\n",
    "matrizNula_mal[0][0] = 1 # Modificación de la posición (0,0)\n",
    "print(matrizNula_mal)"
   ]
  },
  {
   "cell_type": "markdown",
   "metadata": {},
   "source": [
    "Dada una matriz, es sencillo obtener cualquiera de sus filas, mientras que la obtención de una columna requiere algo más de implementación. De modo similar, es fácil insertar una fila nueva, mientras que la inserción de otra columna supone algo más de trabajo."
   ]
  },
  {
   "cell_type": "code",
   "execution_count": 8,
   "metadata": {},
   "outputs": [
    {
     "name": "stdout",
     "output_type": "stream",
     "text": [
      "Fila: [1, 2, 3, 4]\n",
      "Columna: [1, 5, 9]\n"
     ]
    }
   ],
   "source": [
    "def getFila(matriz, numFila):\n",
    "    return matriz[numFila]\n",
    "def getColumna(matriz, numColumna):\n",
    "    numFilas,numColumnas = len(matriz),len(matriz[0])\n",
    "    columna = []\n",
    "    for i in range(0,numFilas,1):\n",
    "        columna.append(matriz[i][numColumna])\n",
    "    return columna\n",
    "m = [[1,2,3,4],[5,6,7,8],[9,10,11,12]]\n",
    "print(\"Fila: \"+str(getFila(m,0)))       # Contenido de la primera fila\n",
    "print(\"Columna: \"+str(getColumna(m,0))) # Contenido de la primera columna"
   ]
  },
  {
   "cell_type": "code",
   "execution_count": 9,
   "metadata": {},
   "outputs": [
    {
     "name": "stdout",
     "output_type": "stream",
     "text": [
      "Matriz inicial:\t [[1, 2, 3, 4], [5, 6, 7, 8], [9, 10, 11, 12]]\n",
      "Nueva fila:\t [[1, 2, 3, 4], [5, 6, 7, 8], [9, 10, 11, 12], [13, 14, 15, 16]]\n",
      "Nueva columna:\t [[1, 2, 3, 4, 0], [5, 6, 7, 8, 0], [9, 10, 11, 12, 0], [13, 14, 15, 16, 0]]\n"
     ]
    }
   ],
   "source": [
    "def addFila(matriz, fila):\n",
    "    matriz.append(fila)\n",
    "def addColumna(matriz, columna):\n",
    "    numFilas,numColumnas = len(matriz),len(matriz[0])\n",
    "    for i in range(0,numFilas,1):\n",
    "        matriz[i].append(columna[i])\n",
    "m = [[1,2,3,4],[5,6,7,8],[9,10,11,12]]\n",
    "print(\"Matriz inicial:\\t \" + str(m))\n",
    "addFila(m, [13,14,15,16])\n",
    "print(\"Nueva fila:\\t \" + str(m))\n",
    "addColumna(m, [0,0,0,0])\n",
    "print(\"Nueva columna:\\t \" + str(m))"
   ]
  },
  {
   "cell_type": "markdown",
   "metadata": {},
   "source": [
    "Siguiendo con la distribución de los datos en filas y columnas, el recorrido de una matriz puede realizarse por filas o por columnas."
   ]
  },
  {
   "cell_type": "code",
   "execution_count": 10,
   "metadata": {},
   "outputs": [
    {
     "name": "stdout",
     "output_type": "stream",
     "text": [
      "[1, 2, 3, 4, 0, 5, 6, 7, 8, 0, 9, 10, 11, 12, 0, 13, 14, 15, 16, 0]\n",
      "[1, 5, 9, 13, 2, 6, 10, 14, 3, 7, 11, 15, 4, 8, 12, 16, 0, 0, 0, 0]\n"
     ]
    }
   ],
   "source": [
    "def recorrido_filas(matriz):\n",
    "    listaResultado = []\n",
    "    numFilas,numColumnas = len(matriz),len(matriz[0])\n",
    "    for i in range(0,numFilas,1):                                                             \n",
    "        for j in range(0,numColumnas,1):\n",
    "            listaResultado.append(matriz[i][j])\n",
    "    return listaResultado\n",
    "print(recorrido_filas(m))\n",
    "\n",
    "def recorrido_columnas(matriz):\n",
    "    listaResultado = []\n",
    "    numFilas,numColumnas = len(matriz),len(matriz[0])\n",
    "    for j in range(0,numColumnas,1):\n",
    "        for i in range(0,numFilas,1):\n",
    "            listaResultado.append(matriz[i][j])\n",
    "    return listaResultado\n",
    "print(recorrido_columnas(m))"
   ]
  },
  {
   "cell_type": "markdown",
   "metadata": {},
   "source": [
    "Por último, el recorrido por filas de una matriz nos permite mostrarlas de la forma tradicional."
   ]
  },
  {
   "cell_type": "code",
   "execution_count": 11,
   "metadata": {},
   "outputs": [
    {
     "name": "stdout",
     "output_type": "stream",
     "text": [
      "[ 1   2   3   4   0  ]\n",
      "[ 5   6   7   8   0  ]\n",
      "[ 9   10  11  12  0  ]\n",
      "[ 13  14  15  16  0  ]\n"
     ]
    }
   ],
   "source": [
    "def mostrarMatriz(matriz):\n",
    "    numFilas,numColumnas = len(matriz),len(matriz[0])\n",
    "    resultado = \"\"\n",
    "    for i in range(0,numFilas,1):\n",
    "        fila = matriz[i]\n",
    "        resultado += '['\n",
    "        for j in range(0,numColumnas,1):\n",
    "            elemento = fila[j]\n",
    "            resultado += format(elemento).center(4)\n",
    "        resultado += ']'   \n",
    "        if (i != numFilas-1):\n",
    "            resultado += '\\n'   \n",
    "    print(resultado)\n",
    "mostrarMatriz(m)"
   ]
  }
 ],
 "metadata": {
  "kernelspec": {
   "display_name": "Python 3 (ipykernel)",
   "language": "python",
   "name": "python3"
  },
  "language_info": {
   "codemirror_mode": {
    "name": "ipython",
    "version": 3
   },
   "file_extension": ".py",
   "mimetype": "text/x-python",
   "name": "python",
   "nbconvert_exporter": "python",
   "pygments_lexer": "ipython3",
   "version": "3.9.13"
  }
 },
 "nbformat": 4,
 "nbformat_minor": 2
}
