{
 "cells": [
  {
   "cell_type": "markdown",
   "metadata": {},
   "source": [
    "# La librería `numpy` de Python"
   ]
  },
  {
   "cell_type": "markdown",
   "metadata": {},
   "source": [
    "**Numpy** (**Num**eric **Py**thon) es una librería que dispone de varias herramientas para manejar arrays multidimensionales de forma eficiente. Esta eficiencia se debe en parte a que los arrays de `numpy`son colecciones de elementos homogéneos y de tamaño fijo, es decir, todos los elementos de un array dado tienen el mismo tipo y la colección una vez creada no se puede redimensionar. \n",
    "\n",
    "Para utilizar la librería **Numpy** es necesario importarla, usando típicamente el alias `np`."
   ]
  },
  {
   "cell_type": "code",
   "execution_count": 43,
   "metadata": {},
   "outputs": [],
   "source": [
    "import numpy as np"
   ]
  },
  {
   "cell_type": "markdown",
   "metadata": {},
   "source": [
    "## Creación de arrays de `numpy`"
   ]
  },
  {
   "cell_type": "markdown",
   "metadata": {},
   "source": [
    "Los arrays de `numpy`son objetos de la clase `np.ndarray`. Los mecanismos más habituales para crear un ejemplar de dicha clase son:\n",
    "* Emplear la función `np.array()` dando como parámetro de entrada una secuencia de Python. \n",
    "* Emplear una de las funciones específicas que permiten crear arrays con valores predeterminados. Por ejemplo, `np.zeros()` crea un array nulo con las dimensiones especificadas como parámetros de entrada.\n",
    "* Leer los datos de un fichero."
   ]
  },
  {
   "cell_type": "markdown",
   "metadata": {},
   "source": [
    "### Creación de arrays con la función `np.array()`"
   ]
  },
  {
   "cell_type": "markdown",
   "metadata": {},
   "source": [
    "La función `np.array()` permite crear arrays a partir de una secuencia de Python generada previamente. La cantidad de dimensiones del array creado depende de la cantidad de dimensiones de la secuencia de entrada y sus elementos deben ser del mismo tipo (si hay mezcla de tipos, estos se *promocionan* al de *mayor rango*, siempre que esto sea posible). Los tipos de datos básicos para la creación de arrays son `int` (números enteros), `float` (números en coma flotante) y `complex` (números complejos), aunque también se puede emplear el tipo `string` (cadenas de caracteres). Algunos de estos tipos tienen variantes dependiendo del tamaño. "
   ]
  },
  {
   "cell_type": "code",
   "execution_count": 44,
   "metadata": {},
   "outputs": [
    {
     "name": "stdout",
     "output_type": "stream",
     "text": [
      "Array unidimensional:\n",
      " [1 2 3 4]\n",
      "Array bidimensional:\n",
      " [[ 1  2  3  4]\n",
      " [ 5  6  7  8]\n",
      " [ 9 10 11 12]]\n",
      "Array unidimensional (tipos promocionados):\n",
      " [ 7.2  9.6  8.  14. ]\n",
      "Array unidimensional (tipos promocionados):\n",
      " ['7.2' '9.6' '8' '14' 'Amarillo']\n"
     ]
    }
   ],
   "source": [
    "array1 = np.array([1,2,3,4])                          # array1 = np.array((1,2,3,4))\n",
    "array2 = np.array([[1,2,3,4],[5,6,7,8],[9,10,11,12]]) # array2 = np.array([range(1,5),range(5,9),range(9,13)])\n",
    "array3 = np.array((7.2,9.6,8,14))\n",
    "array4 = np.array([7.2,9.6,8,14,'Amarillo'])\n",
    "print(\"Array unidimensional:\\n \"+ str(array1))\n",
    "print(\"Array bidimensional:\\n \"+ str(array2))\n",
    "print(\"Array unidimensional (tipos promocionados):\\n \"+ str(array3))\n",
    "print(\"Array unidimensional (tipos promocionados):\\n \"+ str(array4))"
   ]
  },
  {
   "cell_type": "markdown",
   "metadata": {},
   "source": [
    "Los arrays de `numpy` tienen varios atributos que describen sus características. La lista completa de las propiedades de los objetos de la clase `np.ndarray`se obtiene ejecutando el comando `np.ndarray?`.\n",
    "* `shape`: tupla que contiene las dimensiones del array.\n",
    "* `ndim`: cantidad de dimensiones del array.\n",
    "* `"
   ]
  },
  {
   "cell_type": "code",
   "execution_count": 57,
   "metadata": {},
   "outputs": [
    {
     "data": {
      "text/plain": [
       "2"
      ]
     },
     "execution_count": 57,
     "metadata": {},
     "output_type": "execute_result"
    }
   ],
   "source": [
    "array2.shape\n",
    "array2.ndim"
   ]
  },
  {
   "cell_type": "markdown",
   "metadata": {},
   "source": [
    "Podemos imponer el tipo de datos del array en un argumento opcional mediante la palabra reservada `dtype`. Un uso descuidado de este parámetro puede producir efectos inesperados y errores. "
   ]
  },
  {
   "cell_type": "code",
   "execution_count": 47,
   "metadata": {},
   "outputs": [
    {
     "name": "stdout",
     "output_type": "stream",
     "text": [
      "Array: [ 7  9  8 14] Tipo: int32\n",
      "Array: [ 127 -128 -127] Tipo: int8\n"
     ]
    }
   ],
   "source": [
    "a_int = np.array((7.2,9.6,8,14), dtype=int)\n",
    "b_int = np.array([127,128,129], dtype=np.int8) # int8: integer byte (-128 to 127)\n",
    "print(\"Array: \" + str(a_int)+\" Tipo: \" + str(a_int.dtype))\n",
    "print(\"Array: \" + str(b_int)+\" Tipo: \" + str(b_int.dtype))"
   ]
  },
  {
   "cell_type": "markdown",
   "metadata": {},
   "source": [
    "El tipo de datos de un array no se puede cambiar una vez que se ha creado. Como alternativa, podemos generar un nuevo array como copia de otro usando la función `n.array()` e indicando en el argumento `dtype` el nuevo tipo de datos. También disponemos del método `astype()` que crea un array a partir de otro modificando su tipo. "
   ]
  },
  {
   "cell_type": "code",
   "execution_count": 54,
   "metadata": {},
   "outputs": [
    {
     "name": "stdout",
     "output_type": "stream",
     "text": [
      "Array: [3 5 7] Tipo: int32\n",
      "Array: [3. 5. 7.] Tipo: float64\n",
      "Array: [3.+0.j 5.+0.j 7.+0.j] Tipo: complex128\n"
     ]
    }
   ],
   "source": [
    "c_int = np.array([3,5,7])\n",
    "c_float = np.array(c_int, dtype=float)\n",
    "c_complex = c_int.astype(complex) \n",
    "\n",
    "print(\"Array: \" + str(c_int)+\" Tipo: \" + str(c_int.dtype))\n",
    "print(\"Array: \" + str(c_float)+\" Tipo: \" + str(c_float.dtype))\n",
    "print(\"Array: \" + str(c_complex)+\" Tipo: \" + str(c_complex.dtype))"
   ]
  },
  {
   "cell_type": "markdown",
   "metadata": {},
   "source": [
    "### Creación de arrays con funciones específicas"
   ]
  },
  {
   "cell_type": "code",
   "execution_count": 17,
   "metadata": {},
   "outputs": [
    {
     "name": "stdout",
     "output_type": "stream",
     "text": [
      "[[0. 0.]\n",
      " [0. 0.]]\n"
     ]
    }
   ],
   "source": [
    "array_nulo = np.zeros((2,2))\n",
    "print(array_nulo)"
   ]
  },
  {
   "cell_type": "markdown",
   "metadata": {},
   "source": [
    "## Propiedades de los arrays de `numpy`"
   ]
  },
  {
   "cell_type": "markdown",
   "metadata": {},
   "source": [
    "https://www2.eii.uva.es/fund_inf/python/notebooks/Bibliotecas/03_Numpy/Numpy.html\n",
    "https://aprendeconalf.es/docencia/python/manual/numpy/\n",
    "https://numpy.org/doc/stable/user/basics.html"
   ]
  }
 ],
 "metadata": {
  "kernelspec": {
   "display_name": "Python 3",
   "language": "python",
   "name": "python3"
  },
  "language_info": {
   "codemirror_mode": {
    "name": "ipython",
    "version": 3
   },
   "file_extension": ".py",
   "mimetype": "text/x-python",
   "name": "python",
   "nbconvert_exporter": "python",
   "pygments_lexer": "ipython3",
   "version": "3.7.1"
  }
 },
 "nbformat": 4,
 "nbformat_minor": 2
}
