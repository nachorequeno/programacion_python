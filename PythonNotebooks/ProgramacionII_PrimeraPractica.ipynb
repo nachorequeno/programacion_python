{
 "cells": [
  {
   "cell_type": "markdown",
   "id": "d0c2139f",
   "metadata": {
    "nbgrader": {
     "grade": false,
     "grade_id": "cell-ccbc1d42839a38de",
     "locked": true,
     "schema_version": 3,
     "solution": false,
     "task": false
    }
   },
   "source": [
    "# Programación II. Primera práctica obligatoria\n",
    "Podemos representar un polinomio de grado $n$, $p(x)\\!=\\!a_nx^n\\!+\\!a_{n-1}x^{n-1}\\!+\\!...\\!+\\!a_1x\\!+\\!a_0$, mediante la lista de sus coeficientes $[a_n,a_{n-1},...,a_1,a_0]$. Por ejemplo, $p_1(x)\\!=\\!x^3\\!+\\!2x^2\\!+\\!x\\!+\\!1$ puede representarse mediante la lista $[1,2,1,1]$, y podemos representar el polinomio $p_2(x)\\!=\\!x^3\\!+\\!2x^2\\!+\\!x$ mediante la lista $[1,2,1,0]$. Observa que la representación de $p_3(x)\\!=\\!3x^2\\!+\\!2x\\!+\\!1$ es la lista $[3,2,1]$, y que la lista correspondiente al polinomio $p_4(x)\\!=\\!-x^3$ es $[-1,0,0,0]$."
   ]
  },
  {
   "cell_type": "markdown",
   "id": "bdd70171",
   "metadata": {
    "nbgrader": {
     "grade": false,
     "grade_id": "cell-81f7d148a9f54984",
     "locked": true,
     "schema_version": 3,
     "solution": false,
     "task": false
    }
   },
   "source": [
    "### Ejercicio 1\n",
    "Diseña una función llamada `polynomial_isSolution(p,n)` que, dados un polinomio `p` y un número entero `n`, decida si `n` es o no un cero de `p` (los ceros de un polinomio $p(x)$ son los valores de $x$ para los que $p(x)\\!=\\!0$). Por ejemplo, el resultado de la llamada `polynomial_isSolution([1,0,-1],1)` debe ser `True`, ya que el polinomio $p(x)\\!=\\!x^{2}\\!-\\!1$ se anula en $x\\!=\\!1$ (y en $x\\!=\\!-1$)."
   ]
  },
  {
   "cell_type": "code",
   "execution_count": 1,
   "id": "f2de804b",
   "metadata": {
    "nbgrader": {
     "grade": false,
     "grade_id": "isSolution_function",
     "locked": false,
     "schema_version": 3,
     "solution": true,
     "task": false
    }
   },
   "outputs": [],
   "source": [
    "### BEGIN SOLUTION\n",
    "def polynomial_isSolution(p,n):\n",
    "    valor=0\n",
    "    for i in range(-1,-len(p)-1,-1):\n",
    "        valor=valor+p[i]*(n**(-i-1))\n",
    "    return valor==0\n",
    "### END SOLUTION"
   ]
  },
  {
   "cell_type": "code",
   "execution_count": 2,
   "id": "3dc894ef",
   "metadata": {
    "nbgrader": {
     "grade": true,
     "grade_id": "isSolution_test",
     "locked": true,
     "points": 1,
     "schema_version": 3,
     "solution": false,
     "task": false
    }
   },
   "outputs": [
    {
     "name": "stdout",
     "output_type": "stream",
     "text": [
      "INICIO de las pruebas (polynomial_isSolution())\n",
      "   polinomio: [] valor: 7 resultado: True\n",
      "   polinomio: [-3] valor: 0 resultado: False\n",
      "   polinomio: [-3] valor: 3 resultado: False\n",
      "   polinomio: [1, 0, -1] valor: -1 resultado: True\n",
      "   polinomio: [1, 0, -1] valor: 0 resultado: False\n",
      "   polinomio: [1, 0, -1] valor: 1 resultado: True\n",
      "   polinomio: [1, 2, -8, -18, -9] valor: -3 resultado: True\n",
      "   polinomio: [1, 2, -8, -18, -9] valor: -1 resultado: True\n",
      "   polinomio: [1, 2, -8, -18, -9] valor: 0 resultado: False\n",
      "   polinomio: [1, 2, -8, -18, -9] valor: 3 resultado: True\n",
      "FIN de las pruebas (polynomial_isSolution())\n"
     ]
    }
   ],
   "source": [
    "### BEGIN TESTS\n",
    "print('INICIO de las pruebas (polynomial_isSolution())')\n",
    "tests = [([],7,True),([-3],0,False),([-3],3,False),\n",
    "         ([1,0,-1],-1,True),([1,0,-1],0,False),([1,0,-1],1,True),\n",
    "         ([1,2,-8,-18,-9],-3,True),([1,2,-8,-18,-9],-1,True),\n",
    "         ([1,2,-8,-18,-9],0,False),([1,2,-8,-18,-9],3,True)]\n",
    "for (p, n, resultado) in tests:\n",
    "    print('   polinomio: {} valor: {} resultado: {}'.format(p, n, resultado))\n",
    "    p_copia=p.copy()\n",
    "    result=polynomial_isSolution(p_copia, n)\n",
    "    try:\n",
    "        assert resultado==result and p==p_copia\n",
    "    except:\n",
    "        print('      RESULTADO INCORRECTO / MODIFICACIÓN DE PARÁMETROS - polinomio: {} resultado: {}'.format(p_copia, result))\n",
    "print('FIN de las pruebas (polynomial_isSolution())')\n",
    "### END TESTS"
   ]
  },
  {
   "cell_type": "markdown",
   "id": "1b857718",
   "metadata": {
    "nbgrader": {
     "grade": false,
     "grade_id": "cell-a856860a7a57c27a",
     "locked": true,
     "schema_version": 3,
     "solution": false,
     "task": false
    }
   },
   "source": [
    "### Ejercicio 2\n",
    "Diseña una función llamada `polynomial_sum(p1,p2)` que, dados dos polinomios `p1` y `p2`, calcule la suma `p1+p2`. Por ejemplo, el resultado de la llamada `polynomial_sum([1,2,1,1],[3,2,1])` debe ser la lista de coeficientes correspondiente al polinomio $q(x)\\!=\\!x^3\\!+\\!5x^2\\!+\\!3x\\!+\\!2$."
   ]
  },
  {
   "cell_type": "code",
   "execution_count": 3,
   "id": "b963e59b",
   "metadata": {
    "nbgrader": {
     "grade": false,
     "grade_id": "sum_function",
     "locked": false,
     "schema_version": 3,
     "solution": true,
     "task": false
    }
   },
   "outputs": [],
   "source": [
    "### BEGIN SOLUTION\n",
    "def polynomial_normalization(polinomio):\n",
    "    posicion=0\n",
    "    while (posicion<len(polinomio) and polinomio[posicion]==0):\n",
    "        polinomio.pop(0)\n",
    "def coeficiente(polinomio,pos): # pos<0\n",
    "    if (len(polinomio)+pos>=0):\n",
    "        return polinomio[pos]\n",
    "    else:\n",
    "        return 0\n",
    "def polynomial_sum(p1,p2):\n",
    "    suma=[0]*max(len(p1),len(p2))\n",
    "    for i in range(-1,-len(suma)-1,-1):\n",
    "        suma[i]=coeficiente(p1,i)+coeficiente(p2,i)\n",
    "    polynomial_normalization(suma)\n",
    "    return suma\n",
    "### END SOLUTION"
   ]
  },
  {
   "cell_type": "code",
   "execution_count": 4,
   "id": "6add27ee",
   "metadata": {
    "nbgrader": {
     "grade": true,
     "grade_id": "sum_test",
     "locked": true,
     "points": 3,
     "schema_version": 3,
     "solution": false,
     "task": false
    }
   },
   "outputs": [
    {
     "name": "stdout",
     "output_type": "stream",
     "text": [
      "INICIO de las pruebas (polynomial_sum())\n",
      "   polinomio1: [] polinomio2: [3] resultado: [3]\n",
      "   polinomio1: [-8] polinomio2: [-5, 6, -2, 3, 8] resultado: [-5, 6, -2, 3, 0]\n",
      "   polinomio1: [1, 1] polinomio2: [] resultado: [1, 1]\n",
      "   polinomio1: [1, 0, -1] polinomio2: [-1, 0, 1] resultado: []\n",
      "   polinomio1: [1, 5, 0, 2] polinomio2: [-3, 0] resultado: [1, 5, -3, 2]\n",
      "   polinomio1: [1, 2, 1, 1] polinomio2: [3, 2, 1] resultado: [1, 5, 3, 2]\n",
      "   polinomio1: [-5, 6, -2, 3, 8] polinomio2: [2, -3, 2, 0, -4] resultado: [-3, 3, 0, 3, 4]\n",
      "   polinomio1: [-5, 6, -2, 3, 8] polinomio2: [5, -3, 2, 0, -4] resultado: [3, 0, 3, 4]\n",
      "   polinomio1: [-5, 6, -2, 3, 8] polinomio2: [5, -6, 2, 0, -4] resultado: [3, 4]\n",
      "FIN de las pruebas (polynomial_sum())\n"
     ]
    }
   ],
   "source": [
    "### BEGIN TESTS\n",
    "print('INICIO de las pruebas (polynomial_sum())')\n",
    "tests = [([],[3],[3]),([-8],[-5,6,-2,3,8],[-5,6,-2,3,0]),\n",
    "         ([1,1],[],[1,1]),([1,0,-1],[-1,0,1],[]),\n",
    "         ([1,5,0,2],[-3,0],[1,5,-3,2]),\n",
    "         ([1,2,1,1],[3,2,1],[1,5,3,2]),\n",
    "         ([-5,6,-2,3,8],[2,-3,2,0,-4],[-3,3,0,3,4]),\n",
    "         ([-5,6,-2,3,8],[5,-3,2,0,-4],[3,0,3,4]),\n",
    "         ([-5,6,-2,3,8],[5,-6,2,0,-4],[3,4])]\n",
    "for (p1, p2, resultado) in tests:\n",
    "    print('   polinomio1: {} polinomio2: {} resultado: {}'.format(p1, p2, resultado))\n",
    "    p1_copia=p1.copy()\n",
    "    p2_copia=p2.copy()\n",
    "    result=polynomial_sum(p1_copia, p2_copia)\n",
    "    try:\n",
    "        assert resultado==result and p1==p1_copia and p2==p2_copia\n",
    "    except:\n",
    "        print('      RESULTADO INCORRECTO / MODIFICACIÓN DE PARÁMETROS - polinomio1: {} polinomio2: {} resultado: {}'.format(p1_copia, p2_copia, result))\n",
    "print('FIN de las pruebas (polynomial_sum())')\n",
    "### END TESTS"
   ]
  },
  {
   "cell_type": "markdown",
   "id": "3b0a3b0e",
   "metadata": {
    "nbgrader": {
     "grade": false,
     "grade_id": "cell-a0be5c18d5cce21a",
     "locked": true,
     "schema_version": 3,
     "solution": false,
     "task": false
    }
   },
   "source": [
    "### Ejercicio 3\n",
    "Diseña una función llamada `polynomial_product(p1,p2)` que, dados dos polinomios `p1` y `p2`, calcule el producto `p1*p2`. Por ejemplo, el resultado de la llamada `polynomial_product([1,2,1,1],[3,2,1])` debe ser la lista de coeficientes correspondiente al polinomio $q(x)\\!=\\!3x^5\\!+\\!8x^4\\!+\\!8x^3\\!+\\!7x^2\\!+\\!3x\\!+\\!1$."
   ]
  },
  {
   "cell_type": "code",
   "execution_count": 9,
   "id": "018372bc",
   "metadata": {
    "nbgrader": {
     "grade": false,
     "grade_id": "product_function",
     "locked": false,
     "schema_version": 3,
     "solution": true,
     "task": false
    }
   },
   "outputs": [],
   "source": [
    "### BEGIN SOLUTION\n",
    "def polynomial_product(p1,p2):\n",
    "    gradoResultado=(len(p1)-1)+(len(p2)-1)\n",
    "    producto=[0]*(gradoResultado+1)\n",
    "    for i in range(len(p1)):\n",
    "        for j in range(len(p2)):\n",
    "            producto[i+j]=producto[i+j]+p1[i]*p2[j]\n",
    "    polynomial_normalization(producto)\n",
    "    return producto\n",
    "### END SOLUTION"
   ]
  },
  {
   "cell_type": "code",
   "execution_count": 10,
   "id": "905ebc27",
   "metadata": {
    "nbgrader": {
     "grade": true,
     "grade_id": "product_test",
     "locked": true,
     "points": 3,
     "schema_version": 3,
     "solution": false,
     "task": false
    }
   },
   "outputs": [
    {
     "name": "stdout",
     "output_type": "stream",
     "text": [
      "INICIO de las pruebas (polynomial_product())\n",
      "   polinomio1: [] polinomio2: [3, -1] resultado: []\n",
      "   polinomio1: [2, -1] polinomio2: [2, -1] resultado: [4, -4, 1]\n",
      "   polinomio1: [1, 1, 1] polinomio2: [] resultado: []\n",
      "   polinomio1: [1, 1, -2] polinomio2: [3, 7] resultado: [3, 10, 1, -14]\n",
      "   polinomio1: [-1, 0, 2] polinomio2: [3, 1] resultado: [-3, -1, 6, 2]\n",
      "   polinomio1: [1, 0, -1] polinomio2: [1, 0, 1] resultado: [1, 0, 0, 0, -1]\n",
      "   polinomio1: [3, -7, -1] polinomio2: [2] resultado: [6, -14, -2]\n",
      "   polinomio1: [3, -7, -1] polinomio2: [-4, 0, 0, 0, 0, 0] resultado: [-12, 28, 4, 0, 0, 0, 0, 0]\n",
      "   polinomio1: [-4, 0, 0, 0, 0, 0] polinomio2: [3, -7, -1] resultado: [-12, 28, 4, 0, 0, 0, 0, 0]\n",
      "FIN de las pruebas (polynomial_product())\n"
     ]
    }
   ],
   "source": [
    "### BEGIN TESTS\n",
    "print('INICIO de las pruebas (polynomial_product())')\n",
    "tests = [([],[3,-1],[]),([2,-1],[2,-1],[4,-4,1]),\n",
    "         ([1,1,1],[],[]),\n",
    "         ([1,1,-2],[3,7],[3,10,1,-14]),\n",
    "         ([-1,0,2],[3,1],[-3,-1,6,2]),\n",
    "         ([1,0,-1],[1,0,1],[1,0,0,0,-1]),\n",
    "         ([3,-7,-1],[2],[6,-14,-2]),\n",
    "         ([3,-7,-1],[-4,0,0,0,0,0],[-12,28,4,0,0,0,0,0]),\n",
    "         ([-4,0,0,0,0,0],[3,-7,-1],[-12,28,4,0,0,0,0,0])]\n",
    "for (p1, p2, resultado) in tests:\n",
    "    print('   polinomio1: {} polinomio2: {} resultado: {}'.format(p1, p2, resultado))\n",
    "    p1_copia=p1.copy()\n",
    "    p2_copia=p2.copy()\n",
    "    result=polynomial_product(p1_copia, p2_copia)\n",
    "    try:\n",
    "        assert resultado==result and p1==p1_copia and p2==p2_copia\n",
    "    except:\n",
    "        print('      RESULTADO INCORRECTO / MODIFICACIÓN DE PARÁMETROS - polinomio1: {} polinomio2: {} resultado: {}'.format(p1_copia, p2_copia, result))\n",
    "print('FIN de las pruebas (polynomial_product())')\n",
    "### END TESTS"
   ]
  },
  {
   "cell_type": "markdown",
   "id": "70d53ff5",
   "metadata": {
    "nbgrader": {
     "grade": false,
     "grade_id": "cell-ce0b7c16b74baad9",
     "locked": true,
     "schema_version": 3,
     "solution": false,
     "task": false
    }
   },
   "source": [
    "### Ejercicio 4\n",
    "Diseña una función llamada `polynomial_ruffiniRule(p,n)` que, dados un polinomio `p` y un número entero `n`, devuelva el cociente y el resto de la división de `p` entre el polinomio `x-n` aplicando la regla de Ruffini. Por ejemplo, el resultado de la llamada `polynomial_ruffiniRule([6,-3,0,2,-1],-1)` debe ser la tupla compuesta por la lista de coeficientes correspondiente al polinomio $q(x)\\!=\\!6x^3\\!-\\!9x^2\\!+\\!9x\\!-\\!7$ y el resto $6$, ya que $6x^4\\!-\\!3x^3\\!+\\!2x-1\\!=\\!(6x^3\\!-\\!9x^2\\!+\\!9x\\!-\\!7)(x\\!+\\!1)\\!+\\!6$.  \n",
    "**Observación:** Debe comprobarse que el parámetro `n` es un divisor del término independiente de `p`."
   ]
  },
  {
   "cell_type": "code",
   "execution_count": 11,
   "id": "9bca089e",
   "metadata": {
    "nbgrader": {
     "grade": false,
     "grade_id": "ruffiniRule_function",
     "locked": false,
     "schema_version": 3,
     "solution": true,
     "task": false
    }
   },
   "outputs": [],
   "source": [
    "### BEGIN SOLUTION\n",
    "def polynomial_ruffiniRule(dividendo,divisor):\n",
    "    if (len(dividendo)==0) or (dividendo[-1]%divisor!=0):\n",
    "        raise ValueError(\"Parametro incorrecto\")\n",
    "    cociente=[dividendo[0]]\n",
    "    for paso in range(1,len(dividendo)):\n",
    "        cociente.append(cociente[-1]*divisor+dividendo[paso])\n",
    "    resto=cociente.pop(-1)\n",
    "    return cociente,resto\n",
    "### END SOLUTION"
   ]
  },
  {
   "cell_type": "code",
   "execution_count": 12,
   "id": "f59218f7",
   "metadata": {
    "nbgrader": {
     "grade": true,
     "grade_id": "ruffiniRule_test",
     "locked": true,
     "points": 2,
     "schema_version": 3,
     "solution": false,
     "task": false
    }
   },
   "outputs": [
    {
     "name": "stdout",
     "output_type": "stream",
     "text": [
      "INICIO de las pruebas (polynomial_ruffiniRule())\n",
      "   polinomio: [-17] valor: 1 resultado: ([], -17)\n",
      "   polinomio: [1, 1] valor: -1 resultado: ([1], 0)\n",
      "   polinomio: [1, 3, 2] valor: -2 resultado: ([1, 1], 0)\n",
      "   polinomio: [1, 2, -1, -2] valor: 1 resultado: ([1, 3, 2], 0)\n",
      "   polinomio: [1, 2, -1, -2] valor: -2 resultado: ([1, 0, -1], 0)\n",
      "   polinomio: [6, 0, 0, 0] valor: 1 resultado: ([6, 6, 6], 6)\n",
      "   polinomio: [1, 1, -6, -4, 8] valor: 1 resultado: ([1, 2, -4, -8], 0)\n",
      "   polinomio: [3, 0, 0, 0, 2, 4] valor: -2 resultado: ([3, -6, 12, -24, 50], -96)\n",
      "   polinomio: [6, -3, 0, 0, 2, 0] valor: -1 resultado: ([6, -9, 9, -9, 11], -11)\n",
      "   polinomio: [3, -4, 0, -6, -7, 0] valor: -2 resultado: ([3, -10, 20, -46, 85], -170)\n",
      "FIN de las pruebas (polynomial_ruffiniRule())\n"
     ]
    }
   ],
   "source": [
    "### BEGIN TESTS\n",
    "print('INICIO de las pruebas (polynomial_ruffiniRule())')\n",
    "tests = [([-17],1,([],-17)),([1,1],-1,([1],0)),([1,3,2],-2,([1,1],0)),\n",
    "         ([1,2,-1,-2],1,([1,3,2],0)),\n",
    "         ([1,2,-1,-2],-2,([1,0,-1],0)),\n",
    "         ([6,0,0,0],1,([6,6,6],6)),\n",
    "         ([1,1,-6,-4,8],1,([1,2,-4,-8],0)),\n",
    "         ([3,0,0,0,2,4],-2,([3,-6,12,-24,50],-96)),\n",
    "         ([6,-3,0,0,2,0],-1,([6,-9,9,-9,11],-11)),\n",
    "         ([3,-4,0,-6,-7,0],-2,([3,-10,20,-46,85],-170))]\n",
    "for (p, n, resultado) in tests:\n",
    "    print('   polinomio: {} valor: {} resultado: {}'.format(p, n, resultado))\n",
    "    p_copia=p.copy()\n",
    "    result=polynomial_ruffiniRule(p_copia, n)\n",
    "    try:\n",
    "        assert resultado==result and p==p_copia\n",
    "    except:\n",
    "        print('      RESULTADO INCORRECTO / MODIFICACIÓN DE PARÁMETROS - polinomio: {} resultado: {}'.format(p_copia, result))\n",
    "print('FIN de las pruebas (polynomial_ruffiniRule())')\n",
    "### END TESTS"
   ]
  },
  {
   "cell_type": "markdown",
   "id": "911f2e6f",
   "metadata": {
    "nbgrader": {
     "grade": false,
     "grade_id": "cell-6707b37e77380cfd",
     "locked": true,
     "schema_version": 3,
     "solution": false,
     "task": false
    }
   },
   "source": [
    "### Ejercicio 5\n",
    "Diseña una función llamada `polynomial_bulkSum(lst)` que, dada una lista de polinomios (no necesariamente del mismo grado), calcule la suma de los mismos. Por ejemplo, el resultado de la llamada `polynomial_bulkSum([[1,2,1,1],[3,2,1],[-1,0,0,0]])` debe ser la lista de coeficientes correspondiente al polinomio $q(x)\\!=\\!5x^2\\!+\\!3x\\!+\\!2$."
   ]
  },
  {
   "cell_type": "code",
   "execution_count": 13,
   "id": "448c6245",
   "metadata": {
    "nbgrader": {
     "grade": false,
     "grade_id": "bulkSum_function",
     "locked": false,
     "schema_version": 3,
     "solution": true,
     "task": false
    }
   },
   "outputs": [],
   "source": [
    "### BEGIN SOLUTION\n",
    "def polynomial_bulkSum(lst):\n",
    "    suma=[]\n",
    "    for polinomio in lst:\n",
    "        suma=polynomial_sum(suma,polinomio)\n",
    "    return suma\n",
    "### END SOLUTION"
   ]
  },
  {
   "cell_type": "code",
   "execution_count": 14,
   "id": "0a5b929a",
   "metadata": {
    "nbgrader": {
     "grade": true,
     "grade_id": "bulkSum_test",
     "locked": true,
     "points": 1,
     "schema_version": 3,
     "solution": false,
     "task": false
    }
   },
   "outputs": [
    {
     "name": "stdout",
     "output_type": "stream",
     "text": [
      "INICIO de las pruebas (polynomial_bulkSum())\n",
      "   polinomios: [] resultado: []\n",
      "   polinomios: [[]] resultado: []\n",
      "   polinomios: [[1, -9]] resultado: [1, -9]\n",
      "   polinomios: [[2, 5, -6], [3, -5, 3], [3], []] resultado: [5, 0, 0]\n",
      "   polinomios: [[2, 5, -6], [3, -5, 3], [3], [], [-5, 0, 0]] resultado: []\n",
      "   polinomios: [[3, -7, -1], [-4, 0, 0, 0, 0, 0]] resultado: [-4, 0, 0, 3, -7, -1]\n",
      "   polinomios: [[3, 1, -2, 1, -14], [6, -8, 2, -3, 0], [2, 14]] resultado: [9, -7, 0, 0, 0]\n",
      "   polinomios: [[6, -3, 8, 4, 5], [-9, 5, 6, -2, 7], [-4, 6, -9, 6, -3]] resultado: [-7, 8, 5, 8, 9]\n",
      "   polinomios: [[-1, 4, -2, -7, 6, 1, -2], [3, 2, 0, -1, 2, -2, 5], [-2, -6, 2, 8, -8, 1, -3]] resultado: []\n",
      "   polinomios: [[-1, 4, -2, -7, 6, 1, -2], [3, 2, 0, -1, 2, -2, 5], [-2, -6, 2, 8, -8, 1, -3], [5, 5, 5]] resultado: [5, 5, 5]\n",
      "FIN de las pruebas (polynomial_bulkSum())\n"
     ]
    }
   ],
   "source": [
    "### BEGIN TESTS\n",
    "print('INICIO de las pruebas (polynomial_bulkSum())')\n",
    "tests = [([],[]),([[]],[]),([[1,-9]],[1,-9]),\n",
    "         ([[2,5,-6],[3,-5,3],[3],[]],[5,0,0]),\n",
    "         ([[2,5,-6],[3,-5,3],[3],[],[-5,0,0]],[]),\n",
    "         ([[3,-7,-1],[-4,0,0,0,0,0]],[-4,0,0,3,-7,-1]),\n",
    "         ([[3,1,-2,1,-14],[6,-8,2,-3,0],[2,14]],[9,-7,0,0,0]),\n",
    "         ([[6,-3,8,4,5],[-9,5,6,-2,7],[-4,6,-9,6,-3]],[-7,8,5,8,9]),\n",
    "         ([[-1,4,-2,-7,6,1,-2],[3,2,0,-1,2,-2,5],[-2,-6,2,8,-8,1,-3]],[]),\n",
    "         ([[-1,4,-2,-7,6,1,-2],[3,2,0,-1,2,-2,5],[-2,-6,2,8,-8,1,-3],[5,5,5]],[5,5,5])]\n",
    "for (lst, resultado) in tests:\n",
    "    print('   polinomios: {} resultado: {}'.format(lst, resultado))\n",
    "    lst_copia=[] # copia profunda\n",
    "    for polinomio in lst:\n",
    "        lst_copia.append(polinomio.copy())\n",
    "    result=polynomial_bulkSum(lst_copia)\n",
    "    try:\n",
    "        assert resultado==result and lst==lst_copia\n",
    "    except:\n",
    "        print('      RESULTADO INCORRECTO / MODIFICACIÓN DE PARÁMETROS - polinomios: {} resultado: {}'.format(lst_copia, result))\n",
    "print('FIN de las pruebas (polynomial_bulkSum())')\n",
    "### END TESTS"
   ]
  }
 ],
 "metadata": {
  "celltoolbar": "Create Assignment",
  "kernelspec": {
   "display_name": "Python 3 (ipykernel)",
   "language": "python",
   "name": "python3"
  },
  "language_info": {
   "codemirror_mode": {
    "name": "ipython",
    "version": 3
   },
   "file_extension": ".py",
   "mimetype": "text/x-python",
   "name": "python",
   "nbconvert_exporter": "python",
   "pygments_lexer": "ipython3",
   "version": "3.9.13"
  }
 },
 "nbformat": 4,
 "nbformat_minor": 5
}
