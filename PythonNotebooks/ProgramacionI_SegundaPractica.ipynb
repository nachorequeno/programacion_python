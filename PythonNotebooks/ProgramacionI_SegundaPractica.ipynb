{
 "cells": [
  {
   "cell_type": "markdown",
   "id": "c794b1d0",
   "metadata": {
    "nbgrader": {
     "grade": false,
     "grade_id": "cell-b976a3ab6ed917a7",
     "locked": true,
     "schema_version": 3,
     "solution": false,
     "task": false
    }
   },
   "source": [
    "# Programación I. Segunda práctica obligatoria\n",
    "En el **Nim**, los jugadores colocan una cantidad arbitraria de fichas sobre la superficie del juego, separadas en grupos. Tanto la cantidad de grupos como la cantidad de fichas en cada grupo son también arbitrarias. En cada turno, el jugador correspondiente quita cualquier cantidad de fichas de un solo grupo (entre uno y la cantidad de fichas del grupo), y los jugadores se alternan retirando fichas. La partida finaliza cuando un jugador quita la última ficha de la superficie del juego, declarándose entonces ganador. El propósito de la práctica es codificar algunas funciones del juego. Para ello, asumimos que la cantidad de grupos es diez y la cantidad máxima de fichas en cada grupo es 20."
   ]
  },
  {
   "cell_type": "markdown",
   "id": "edf72e5c",
   "metadata": {
    "nbgrader": {
     "grade": false,
     "grade_id": "cell-d71a7daeb6e1efb7",
     "locked": true,
     "schema_version": 3,
     "solution": false,
     "task": false
    }
   },
   "source": [
    "### Ejercicio 1\n",
    "Diseña una función llamada `initGame()` que prepare una partida, insertando los valores introducidos por el teclado en una lista de enteros de tamaño adecuado. La función debe comprobar que los datos insertados en la lista son válidos."
   ]
  },
  {
   "cell_type": "code",
   "execution_count": 52,
   "id": "0a3d4a23",
   "metadata": {
    "nbgrader": {
     "grade": false,
     "grade_id": "initGame_function",
     "locked": false,
     "schema_version": 3,
     "solution": true,
     "task": false
    }
   },
   "outputs": [],
   "source": [
    "### BEGIN SOLUTION\n",
    "import math\n",
    "CANTIDAD_MONTONES = 10\n",
    "CANTIDAD_PIEZAS = 20\n",
    "def getPieces():\n",
    "    dato = 0\n",
    "    while (dato<=0 or dato>=CANTIDAD_PIEZAS+1):\n",
    "        try:\n",
    "            dato = int(input(\" Introduce una cantidad valida de piezas (0<=cantidad<=20): \"))\n",
    "        except ValueError:\n",
    "            print(\" Debes introducir un valor de tipo entero\")\n",
    "            dato = 0\n",
    "    return dato\n",
    "def initGame():\n",
    "    listaJuego=[]\n",
    "    for posicion in range(0, CANTIDAD_MONTONES, 1):\n",
    "        # print(\"Cantidad de piezas del grupo \"+str(posicion), end = \" \")\n",
    "        listaJuego.append(getPieces())\n",
    "    return listaJuego\n",
    "### END SOLUTION"
   ]
  },
  {
   "cell_type": "code",
   "execution_count": 53,
   "id": "5c1c7e70",
   "metadata": {
    "nbgrader": {
     "grade": true,
     "grade_id": "initGame_test",
     "locked": true,
     "points": 1,
     "schema_version": 3,
     "solution": false,
     "task": false
    }
   },
   "outputs": [
    {
     "name": "stdout",
     "output_type": "stream",
     "text": [
      "INICIO de las pruebas (initGame())\n",
      "Entrada: ['-1', '0', '23', '9', '1', '0', '18', '21', '0', '7', '13', '9', '11', '-3', '4', '2', '20']\n",
      "Respuesta: [9, 1, 18, 7, 13, 9, 11, 4, 2, 20]\n",
      "FIN de las pruebas (initGame())\n"
     ]
    }
   ],
   "source": [
    "### BEGIN TESTS\n",
    "import unittest\n",
    "from unittest.mock import patch\n",
    "class InitTestClass(unittest.TestCase):\n",
    "    test_init = (['-1','0','23','9','1','0','18','21','0','7','13','9','11','-3','4','2','20'],[9,1,18,7,13,9,11,4,2,20])\n",
    "    @patch('builtins.input', side_effect = test_init[0])\n",
    "    def test_initGame(self, input):\n",
    "        self.assertEqual(initGame(), InitTestClass.test_init[1]) \n",
    "print('INICIO de las pruebas (initGame())')\n",
    "a = InitTestClass()\n",
    "print(\"Entrada: \"+str(InitTestClass.test_init[0]))\n",
    "print(\"Respuesta: \"+str(InitTestClass.test_init[1]))\n",
    "try:\n",
    "    a.test_initGame()\n",
    "except AssertionError:\n",
    "    print(\"  Prueba incorrecta\")\n",
    "print('FIN de las pruebas (initGame())')\n",
    "### END TESTS"
   ]
  },
  {
   "cell_type": "markdown",
   "id": "a5ea4514",
   "metadata": {
    "nbgrader": {
     "grade": false,
     "grade_id": "cell-bba19586d3bf1481",
     "locked": true,
     "schema_version": 3,
     "solution": false,
     "task": false
    }
   },
   "source": [
    "### Ejercicio 2\n",
    "Diseña una función llamada `deletePiecesPos()` que, dadas la lista `lst` de una partida, una posición `p` y una cantidad de fichas `c`, elimine la cantidad de fichas `c` de la posición `p` de la lista `lst`. La función debe comprobar que tanto la posición `p` como la cantidad de fichas `c` son válidas."
   ]
  },
  {
   "cell_type": "code",
   "execution_count": 54,
   "id": "d84ecb18",
   "metadata": {
    "nbgrader": {
     "grade": false,
     "grade_id": "deletePiecesPos_function",
     "locked": false,
     "schema_version": 3,
     "solution": true,
     "task": false
    }
   },
   "outputs": [],
   "source": [
    "### BEGIN SOLUTION\n",
    "def deletePiecesPos(lst,p,c):\n",
    "    if (p<0 or p>len(lst)-1) or (c<=0 or c>=lst[p]+1):\n",
    "        raise ValueError(\"Parametros incorrectos\")\n",
    "    lst[p]=lst[p]-c\n",
    "### END SOLUTION"
   ]
  },
  {
   "cell_type": "code",
   "execution_count": 55,
   "id": "ffcbd4fa",
   "metadata": {
    "nbgrader": {
     "grade": true,
     "grade_id": "deletePiecesPos_test",
     "locked": true,
     "points": 1,
     "schema_version": 3,
     "solution": false,
     "task": false
    }
   },
   "outputs": [
    {
     "name": "stdout",
     "output_type": "stream",
     "text": [
      "INICIO de las pruebas (deletePiecesPos())\n",
      "   lista: [20, 12, 3, 4, 8, 0, 11, 5, 1, 13] posicion: 0 cantidad: 5 resultado: [15, 12, 3, 4, 8, 0, 11, 5, 1, 13]\n",
      "   lista: [20, 12, 3, 4, 8, 0, 11, 5, 1, 3] posicion: 2 cantidad: 1 resultado: [20, 12, 2, 4, 8, 0, 11, 5, 1, 3]\n",
      "   lista: [20, 12, 2, 4, 8, 0, 11, 5, 1, 3] posicion: 2 cantidad: 2 resultado: [20, 12, 0, 4, 8, 0, 11, 5, 1, 3]\n",
      "   lista: [20, 12, 2, 4, 8, 0, 11, 5, 1, 3] posicion: 9 cantidad: 3 resultado: [20, 12, 2, 4, 8, 0, 11, 5, 1, 0]\n",
      "FIN de las pruebas (deletePiecesPos())\n"
     ]
    }
   ],
   "source": [
    "### BEGIN TESTS\n",
    "print('INICIO de las pruebas (deletePiecesPos())')\n",
    "tests = [([20,12,3,4,8,0,11,5,1,13],0,5,[15,12,3,4,8,0,11,5,1,13]),\n",
    "         ([20,12,3,4,8,0,11,5,1,3],2,1,[20,12,2,4,8,0,11,5,1,3]),\n",
    "         ([20,12,2,4,8,0,11,5,1,3],2,2,[20,12,0,4,8,0,11,5,1,3]),\n",
    "         ([20,12,2,4,8,0,11,5,1,3],9,3,[20,12,2,4,8,0,11,5,1,0])]\n",
    "for (lst, p, c, resultado) in tests:\n",
    "    print('   lista: {} posicion: {} cantidad: {} resultado: {}'.format(lst, p, c, resultado))\n",
    "    deletePiecesPos(lst, p, c)\n",
    "    try:\n",
    "        assert resultado==lst\n",
    "    except:\n",
    "        print('      Resultado incorrecto: '+str(lst))\n",
    "print('FIN de las pruebas (deletePiecesPos())')\n",
    "### END TESTS"
   ]
  },
  {
   "cell_type": "markdown",
   "id": "6134fa4e",
   "metadata": {
    "nbgrader": {
     "grade": false,
     "grade_id": "cell-c2fb712de0943131",
     "locked": true,
     "schema_version": 3,
     "solution": false,
     "task": false
    }
   },
   "source": [
    "### Ejercicio 3\n",
    "Diseña una función llamada `endGame()` que decida si una partida dada ha terminado, es decir, si su lista `lst` asociada contiene únicamente valores nulos."
   ]
  },
  {
   "cell_type": "code",
   "execution_count": 56,
   "id": "957eaa26",
   "metadata": {
    "nbgrader": {
     "grade": false,
     "grade_id": "endGame_function",
     "locked": false,
     "schema_version": 3,
     "solution": true,
     "task": false
    }
   },
   "outputs": [],
   "source": [
    "### BEGIN SOLUTION\n",
    "def endGame(lst):\n",
    "    posicion = 0\n",
    "    while (posicion<len(lst)) and (lst[posicion]==0):\n",
    "        posicion = posicion+1\n",
    "    return posicion==len(lst)\n",
    "### END SOLUTION"
   ]
  },
  {
   "cell_type": "code",
   "execution_count": 57,
   "id": "6de477f3",
   "metadata": {
    "nbgrader": {
     "grade": true,
     "grade_id": "endGame_test",
     "locked": true,
     "points": 1,
     "schema_version": 3,
     "solution": false,
     "task": false
    }
   },
   "outputs": [
    {
     "name": "stdout",
     "output_type": "stream",
     "text": [
      "INICIO de las pruebas (endGame())\n",
      "   lista: [0, 0, 0, 0, 0, 0, 0, 0, 0, 0] resultado: True\n",
      "   lista: [0, 0, 0, 0, 5, 0, 0, 0, 0, 0] resultado: False\n",
      "   lista: [0, 0, 0, 0, 0, 0, 0, 0, 0, 17] resultado: False\n",
      "   lista: [0, 0, 19, 13, 0, 0, 0, 11, 0, 0] resultado: False\n",
      "FIN de las pruebas (endGame())\n"
     ]
    }
   ],
   "source": [
    "print('INICIO de las pruebas (endGame())')\n",
    "tests = [([0,0,0,0,0,0,0,0,0,0],True),\n",
    "         ([0,0,0,0,5,0,0,0,0,0],False),\n",
    "         ([0,0,0,0,0,0,0,0,0,17],False),\n",
    "         ([0,0,19,13,0,0,0,11,0,0],False)]\n",
    "for (lst, resultado) in tests:\n",
    "    print('   lista: {} resultado: {}'.format(lst, resultado))\n",
    "    result = endGame(lst)\n",
    "    try:\n",
    "        assert resultado==result\n",
    "    except:\n",
    "        print('      Resultado incorrecto: '+str(result))\n",
    "print('FIN de las pruebas (endGame())')"
   ]
  },
  {
   "cell_type": "markdown",
   "id": "b8698c5d",
   "metadata": {
    "nbgrader": {
     "grade": false,
     "grade_id": "cell-9c368f03f387dff5",
     "locked": true,
     "schema_version": 3,
     "solution": false,
     "task": false
    }
   },
   "source": [
    "### Ejercicio 4a\n",
    "Diseña una función llamada isDenierForm() que determine si todos los grupos de una partida dada tienen una única ficha excepto uno, que tendrá varias piezas. En caso afirmativo, la función devolverá el grupo que tiene tal cantidad de fichas y en caso contrario, la función devolverá −1."
   ]
  },
  {
   "cell_type": "code",
   "execution_count": 58,
   "id": "36e204e5",
   "metadata": {
    "nbgrader": {
     "grade": false,
     "grade_id": "isDenierForm_function",
     "locked": false,
     "schema_version": 3,
     "solution": true,
     "task": false
    }
   },
   "outputs": [],
   "source": [
    "### BEGIN SOLUTION\n",
    "def isDenierForm(lst):\n",
    "    contadorNoUnos = 0\n",
    "    posicion = 0\n",
    "    parar = False\n",
    "    while (posicion<len(lst)) and (not parar) and (contadorNoUnos<=1):\n",
    "        if (lst[posicion]==0):\n",
    "            parar = True\n",
    "        elif (lst[posicion]!=1):\n",
    "            contadorNoUnos = contadorNoUnos+1\n",
    "            posicionNoUno = posicion\n",
    "        posicion = posicion+1\n",
    "    resultado = -1\n",
    "    if ((contadorNoUnos==1) and (lst[posicionNoUno]>1)):\n",
    "        resultado = posicionNoUno\n",
    "    return resultado\n",
    "### END SOLUTION"
   ]
  },
  {
   "cell_type": "code",
   "execution_count": 59,
   "id": "a47a12c2",
   "metadata": {
    "nbgrader": {
     "grade": true,
     "grade_id": "isDenierForm_test",
     "locked": true,
     "points": 2,
     "schema_version": 3,
     "solution": false,
     "task": false
    }
   },
   "outputs": [
    {
     "name": "stdout",
     "output_type": "stream",
     "text": [
      "INICIO de las pruebas (isDenierForm())\n",
      "   lista: [1, 1, 1, 12, 1, 1, 1, 1, 1, 1] resultado: 3\n",
      "   lista: [1, 1, 1, 0, 1, 1, 1, 1, 1, 1] resultado: -1\n",
      "   lista: [12, 1, 1, 1, 1, 1, 1, 1, 1, 1] resultado: 0\n",
      "   lista: [1, 1, 1, 12, 1, 1, 1, 1, 1, 11] resultado: -1\n",
      "   lista: [1, 1, 1, 13, 19, 1, 1, 1, 1, 1] resultado: -1\n",
      "   lista: [1, 1, 1, 1, 1, 1, 1, 1, 1, 12] resultado: 9\n",
      "   lista: [1, 1, 0, 12, 1, 1, 1, 1, 1, 11] resultado: -1\n",
      "   lista: [1, 1, 1, 1, 1, 1, 1, 1, 1, 1] resultado: -1\n",
      "FIN de las pruebas (isDenierForm())\n"
     ]
    }
   ],
   "source": [
    "print('INICIO de las pruebas (isDenierForm())')\n",
    "tests = [([1,1,1,12,1,1,1,1,1,1],3),\n",
    "         ([1,1,1,0,1,1,1,1,1,1],-1),\n",
    "         ([12,1,1,1,1,1,1,1,1,1],0),\n",
    "         ([1,1,1,12,1,1,1,1,1,11],-1),\n",
    "         ([1,1,1,13,19,1,1,1,1,1],-1),\n",
    "         ([1,1,1,1,1,1,1,1,1,12],9),\n",
    "         ([1,1,0,12,1,1,1,1,1,11],-1),\n",
    "         ([1,1,1,1,1,1,1,1,1,1],-1)]\n",
    "for (lst, resultado) in tests:\n",
    "    print('   lista: {} resultado: {}'.format(lst, resultado))\n",
    "    result = isDenierForm(lst)\n",
    "    try:\n",
    "        assert resultado==result\n",
    "    except:\n",
    "        print('      Resultado incorrecto: '+str(result))\n",
    "print('FIN de las pruebas (isDenierForm())')"
   ]
  },
  {
   "cell_type": "markdown",
   "id": "fa82a2bc",
   "metadata": {
    "nbgrader": {
     "grade": false,
     "grade_id": "cell-bf9002533f52abfa",
     "locked": true,
     "schema_version": 3,
     "solution": false,
     "task": false
    }
   },
   "source": [
    "### Ejercicio 4b\n",
    "Diseña una función llamada `maxPiecesGroup()` que determine el grupo de una partida dada que tiene la mayor cantidad de fichas. Si la partida tiene varios grupos con tal cantidad, entonces la función devolverá el primero de ellos. \n",
    "Diseña una función llamada `saturateGame()` que, dados la lista `lst` de una partida y un entero `e`, sature la lista con el entero, es decir, asigne a cada posición `p` de la lista `lst` el valor `max(e,lst[p])`."
   ]
  },
  {
   "cell_type": "code",
   "execution_count": 60,
   "id": "69de4831",
   "metadata": {
    "nbgrader": {
     "grade": false,
     "grade_id": "maxPiecesGroup_function",
     "locked": false,
     "schema_version": 3,
     "solution": true,
     "task": false
    }
   },
   "outputs": [],
   "source": [
    "### BEGIN SOLUTION\n",
    "def maxPiecesGroup(lst):\n",
    "    maximo = -math.inf\n",
    "    for posicion in range(0,len(lst),1):\n",
    "        if (lst[posicion]==CANTIDAD_PIEZAS):\n",
    "            posicionMaximo = posicion\n",
    "            break\n",
    "        if (maximo<lst[posicion]):\n",
    "            maximo = lst[posicion]\n",
    "            posicionMaximo = posicion\n",
    "    return posicionMaximo\n",
    "def saturateGame(lst,e):\n",
    "    for posicion in range(0,len(lst),1):\n",
    "        lst[posicion] = max(lst[posicion],e)\n",
    "### END SOLUTION"
   ]
  },
  {
   "cell_type": "code",
   "execution_count": 61,
   "id": "83e093ad",
   "metadata": {
    "nbgrader": {
     "grade": true,
     "grade_id": "maxPiecesGroup_test",
     "locked": true,
     "points": 2,
     "schema_version": 3,
     "solution": false,
     "task": false
    }
   },
   "outputs": [
    {
     "name": "stdout",
     "output_type": "stream",
     "text": [
      "INICIO de las pruebas (maxPiecesGroup())\n",
      "   lista: [20, 12, 3, 4, 8, 0, 11, 5, 1, 13] resultado: 0\n",
      "   lista: [11, 12, 3, 4, 8, 0, 11, 5, 1, 20] resultado: 9\n",
      "   lista: [1, 1, 1, 12, 1, 1, 1, 12, 1, 1] resultado: 3\n",
      "   lista: [1, 7, 1, 12, 9, 1, 5, 7, 1, 4] resultado: 3\n",
      "FIN de las pruebas (maxPiecesGroup())\n",
      "INICIO de las pruebas (saturateGame())\n",
      "   lista: [20, 12, 3, 4, 8, 2, 11, 5, 1, 13] e: 1 resultado: [20, 12, 3, 4, 8, 2, 11, 5, 1, 13]\n",
      "   lista: [11, 12, 3, 4, 8, 0, 11, 5, 1, 20] e: 13 resultado: [13, 13, 13, 13, 13, 13, 13, 13, 13, 20]\n",
      "   lista: [1, 1, 1, 12, 1, 1, 1, 12, 1, 1] e: 3 resultado: [3, 3, 3, 12, 3, 3, 3, 12, 3, 3]\n",
      "   lista: [1, 7, 1, 12, 9, 1, 5, 7, 1, 4] e: 3 resultado: [3, 7, 3, 12, 9, 3, 5, 7, 3, 4]\n",
      "FIN de las pruebas (saturateGame())\n"
     ]
    }
   ],
   "source": [
    "print('INICIO de las pruebas (maxPiecesGroup())')\n",
    "tests = [([20,12,3,4,8,0,11,5,1,13],0),\n",
    "         ([11,12,3,4,8,0,11,5,1,20],9),\n",
    "         ([1,1,1,12,1,1,1,12,1,1],3),\n",
    "         ([1,7,1,12,9,1,5,7,1,4],3)]\n",
    "for (lst, resultado) in tests:\n",
    "    print('   lista: {} resultado: {}'.format(lst, resultado))\n",
    "    result = maxPiecesGroup(lst)\n",
    "    try:\n",
    "        assert resultado==result\n",
    "    except:\n",
    "        print('      Resultado incorrecto: '+str(result))\n",
    "print('FIN de las pruebas (maxPiecesGroup())')\n",
    "print('INICIO de las pruebas (saturateGame())')\n",
    "tests = [([20,12,3,4,8,2,11,5,1,13],1,[20,12,3,4,8,2,11,5,1,13]),\n",
    "         ([11,12,3,4,8,0,11,5,1,20],13,[13,13,13,13,13,13,13,13,13,20]),\n",
    "         ([1,1,1,12,1,1,1,12,1,1],3,[3,3,3,12,3,3,3,12,3,3]),\n",
    "         ([1,7,1,12,9,1,5,7,1,4],3,[3,7,3,12,9,3,5,7,3,4])]\n",
    "for (lst, e, resultado) in tests:\n",
    "    print('   lista: {} e: {} resultado: {}'.format(lst, e, resultado))\n",
    "    saturateGame(lst, e)\n",
    "    try:\n",
    "        assert resultado==lst\n",
    "    except:\n",
    "        print('      Resultado incorrecto: '+str(lst))\n",
    "print('FIN de las pruebas (saturateGame())')"
   ]
  },
  {
   "cell_type": "markdown",
   "id": "f5313d0f",
   "metadata": {
    "nbgrader": {
     "grade": false,
     "grade_id": "cell-8ade96ad7eb09f91",
     "locked": true,
     "schema_version": 3,
     "solution": false,
     "task": false
    }
   },
   "source": [
    "### Ejercicio 4c\n",
    "Diseña una función llamada `deletePiecesDenier()` que aplique la estrategia siguiente: \n",
    "* Si la partida es Denier y la cantidad de fichas del grupo con varias piezas es impar, entonces la función eliminará la mitad más uno de la fichas de ese grupo. Si la partida es Denier y la cantidad de fichas del montón con varias piezas es par, entonces la función eliminará la mitad de la fichas de ese montón. \n",
    "* Si la partida no es Denier, entonces la función eliminará una ficha del grupo con la mayor cantidad de fichas."
   ]
  },
  {
   "cell_type": "code",
   "execution_count": 62,
   "id": "72d5ef03",
   "metadata": {
    "nbgrader": {
     "grade": false,
     "grade_id": "deletePiecesDenier_function",
     "locked": false,
     "schema_version": 3,
     "solution": true,
     "task": false
    }
   },
   "outputs": [],
   "source": [
    "### BEGIN SOLUTION\n",
    "def deletePiecesDenier(lst):\n",
    "    grupoNoUnos = isDenierForm(lst)\n",
    "    if (grupoNoUnos!=-1):\n",
    "        if (lst[grupoNoUnos]%2==0):\n",
    "            deletePiecesPos(lst, grupoNoUnos, lst[grupoNoUnos]//2)\n",
    "        else:    \n",
    "            deletePiecesPos(lst, grupoNoUnos, lst[grupoNoUnos]//2+1)\n",
    "    else:\n",
    "        grupoMaximo = maxPiecesGroup(lst)\n",
    "        deletePiecesPos(lst, grupoMaximo, 1)\n",
    "### END SOLUTION"
   ]
  },
  {
   "cell_type": "code",
   "execution_count": 63,
   "id": "d1d328b0",
   "metadata": {
    "nbgrader": {
     "grade": true,
     "grade_id": "deletePiecesDenier_test",
     "locked": true,
     "points": 2,
     "schema_version": 3,
     "solution": false,
     "task": false
    }
   },
   "outputs": [
    {
     "name": "stdout",
     "output_type": "stream",
     "text": [
      "INICIO de las pruebas (deletePiecesDenier())\n",
      "   lista: [1, 1, 1, 12, 1, 1, 1, 1, 1, 1] resultado: [1, 1, 1, 6, 1, 1, 1, 1, 1, 1]\n",
      "   lista: [20, 12, 3, 4, 8, 0, 11, 5, 1, 13] resultado: [19, 12, 3, 4, 8, 0, 11, 5, 1, 13]\n",
      "   lista: [1, 1, 1, 1, 1, 1, 1, 1, 1, 13] resultado: [1, 1, 1, 1, 1, 1, 1, 1, 1, 6]\n",
      "   lista: [1, 1, 1, 12, 1, 1, 1, 12, 1, 1] resultado: [1, 1, 1, 11, 1, 1, 1, 12, 1, 1]\n",
      "FIN de las pruebas (deletePiecesDenier())\n"
     ]
    }
   ],
   "source": [
    "print('INICIO de las pruebas (deletePiecesDenier())')\n",
    "tests = [([1,1,1,12,1,1,1,1,1,1],[1,1,1,6,1,1,1,1,1,1]),\n",
    "         ([20,12,3,4,8,0,11,5,1,13],[19,12,3,4,8,0,11,5,1,13]), \n",
    "         ([1,1,1,1,1,1,1,1,1,13],[1,1,1,1,1,1,1,1,1,6]),\n",
    "         ([1,1,1,12,1,1,1,12,1,1],[1,1,1,11,1,1,1,12,1,1])]\n",
    "for (lst, resultado) in tests:\n",
    "    print('   lista: {} resultado: {}'.format(lst, resultado))\n",
    "    deletePiecesDenier(lst)\n",
    "    try:\n",
    "        assert resultado==lst\n",
    "    except:\n",
    "        print('      Resultado incorrecto: '+str(lst))\n",
    "print('FIN de las pruebas (deletePiecesDenier())')"
   ]
  },
  {
   "cell_type": "markdown",
   "id": "42bd630b",
   "metadata": {
    "nbgrader": {
     "grade": false,
     "grade_id": "cell-800bb4018873cfd5",
     "locked": true,
     "schema_version": 3,
     "solution": false,
     "task": false
    }
   },
   "source": [
    "### Ejercicio 5\n",
    "Diseña una función llamada `playGame()` que prepare una partida y efectúe una cantidad de jugadas dada empleando la estrategia Denier. La partida debe finalizar tan pronto como se hayan eliminado todas las fichas de todos los grupos o se haya alcanzado la cantidad de jugadas dada."
   ]
  },
  {
   "cell_type": "code",
   "execution_count": 64,
   "id": "649d0ff4",
   "metadata": {
    "nbgrader": {
     "grade": false,
     "grade_id": "playGame_function",
     "locked": false,
     "schema_version": 3,
     "solution": true,
     "task": false
    }
   },
   "outputs": [],
   "source": [
    "### BEGIN SOLUTION\n",
    "def playGame(contador):\n",
    "    lst = initGame() \n",
    "    cantidadTiradas = 0       \n",
    "    # print(\"Reparto inicial de las fichas: \"+str(lst))\n",
    "    while ((not endGame(lst)) and (cantidadTiradas<abs(contador))):\n",
    "        deletePiecesDenier(lst)\n",
    "        # print(\"Estado del juego (jugada \" + str(cantidadTiradas+1) + \"): \" +str(lst))\n",
    "        cantidadTiradas = cantidadTiradas+1\n",
    "    return lst\n",
    "### END SOLUTION"
   ]
  },
  {
   "cell_type": "code",
   "execution_count": 65,
   "id": "7205dfd9",
   "metadata": {
    "nbgrader": {
     "grade": true,
     "grade_id": "playGame_test",
     "locked": true,
     "points": 1,
     "schema_version": 3,
     "solution": false,
     "task": false
    }
   },
   "outputs": [
    {
     "name": "stdout",
     "output_type": "stream",
     "text": [
      "INICIO de las pruebas (playGame())\n",
      "Entrada: ['1', '1', '1', '12', '1', '1', '1', '1', '1', '1']\n",
      "Cantidad de jugadas: 10\n",
      "Respuesta: [0, 0, 0, 0, 0, 0, 0, 1, 1, 1]\n",
      "FIN de las pruebas (playGame())\n"
     ]
    }
   ],
   "source": [
    "import unittest\n",
    "from unittest.mock import patch\n",
    "class PlayTestClass(unittest.TestCase):\n",
    "    test_init = (['1','1','1','12','1','1','1','1','1','1'],10,[0,0,0,0,0,0,0,1,1,1])\n",
    "    @patch('builtins.input', side_effect = test_init[0])\n",
    "    def test_playGame(self, input):\n",
    "        self.assertEqual(playGame(PlayTestClass.test_init[1]), PlayTestClass.test_init[2]) \n",
    "print('INICIO de las pruebas (playGame())')\n",
    "a = PlayTestClass()\n",
    "print(\"Entrada: \"+str(PlayTestClass.test_init[0]))\n",
    "print(\"Cantidad de jugadas: \"+str(PlayTestClass.test_init[1]))\n",
    "print(\"Respuesta: \"+str(PlayTestClass.test_init[2]))\n",
    "try:\n",
    "    a.test_playGame()\n",
    "except AssertionError:\n",
    "    print(\"  Prueba incorrecta\")\n",
    "print('FIN de las pruebas (playGame())')"
   ]
  }
 ],
 "metadata": {
  "celltoolbar": "Create Assignment",
  "kernelspec": {
   "display_name": "Python 3 (ipykernel)",
   "language": "python",
   "name": "python3"
  },
  "language_info": {
   "codemirror_mode": {
    "name": "ipython",
    "version": 3
   },
   "file_extension": ".py",
   "mimetype": "text/x-python",
   "name": "python",
   "nbconvert_exporter": "python",
   "pygments_lexer": "ipython3",
   "version": "3.9.13"
  }
 },
 "nbformat": 4,
 "nbformat_minor": 5
}
