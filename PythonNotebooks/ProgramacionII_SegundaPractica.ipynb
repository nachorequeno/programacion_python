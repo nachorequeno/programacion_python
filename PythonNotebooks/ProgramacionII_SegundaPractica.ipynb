{
 "cells": [
  {
   "cell_type": "markdown",
   "id": "29bc6773",
   "metadata": {
    "deletable": false,
    "editable": false,
    "nbgrader": {
     "cell_type": "markdown",
     "checksum": "0c89d331c411a68a72807b7c497c019a",
     "grade": false,
     "grade_id": "cell-3bbf95b9d7642520",
     "locked": true,
     "schema_version": 3,
     "solution": false,
     "task": false
    }
   },
   "source": [
    "# Programación II. Segunda práctica obligatoria\n",
    "Los __polimorfismos de nucleótido único__ (SNPs) son el tipo de variación genética más habitual entre las personas. Un polimorfismo consiste en el cambio de un nucleótido (adenina, guanina, citosina, timina) en una posición concreta del ADN con respecto a un genoma de referencia, y que se encuentra al menos en el 1 por ciento de la población. La mayoría de estos polimorfismos no tienen efectos en el desarrollo y la salud, pero unos pocos sí pueden tener consecuencias en el fenotipo. El fenotipo es la expresión del genotipo que puede observarse (aunque está parcialmente determinado por el entorno). Estos polimorfismos afectarían a nuestra susceptibilidad a padecer determinadas enfermedades o a metabolizar ciertas sustancias de forma diferente. El objetivo de la práctica es la implementación de una aplicación que facilite el tratamiento de ciertos datos relacionados con algunos polimorfismos de nucleótido único."
   ]
  },
  {
   "cell_type": "code",
   "execution_count": null,
   "id": "93cb8bd7",
   "metadata": {
    "deletable": false,
    "editable": false,
    "nbgrader": {
     "cell_type": "code",
     "checksum": "e34bcce062a92834890fdcae645696e4",
     "grade": false,
     "grade_id": "cell-77d9917433617fd4",
     "locked": true,
     "schema_version": 3,
     "solution": false,
     "task": false
    }
   },
   "outputs": [],
   "source": [
    "# Funciones auxiliares empleadas en las pruebas\n",
    "def equalitySNP(dict_snp1, dict_snp2):\n",
    "    equal=set(dict_snp1.keys())==set(dict_snp2.keys())\n",
    "    if equal: \n",
    "        for codeN in dict_snp1.keys():\n",
    "            if (set([disease.upper() for disease in dict_snp1[codeN]])!=set([disease.upper() for disease in dict_snp2[codeN]])):\n",
    "                return False\n",
    "    return equal\n",
    "def equalitySNPs(dictSNP1, dictSNP2, list_codeRSr):\n",
    "    keys_dictSNP1=set(dictSNP1.keys())\n",
    "    keys_dictSNP2=set(dictSNP2.keys())\n",
    "    for code in list_codeRSr:\n",
    "        if (code in dictSNP1):\n",
    "            keys_dictSNP1.discard(code)\n",
    "        if (code in dictSNP2):\n",
    "            keys_dictSNP2.discard(code)\n",
    "    equal=keys_dictSNP1==keys_dictSNP2\n",
    "    if equal: \n",
    "        for codeRS in dictSNP1.keys():\n",
    "            if (codeRS not in list_codeRSr):\n",
    "                if not equalitySNP(dictSNP1[codeRS], dictSNP2[codeRS]):\n",
    "                    return False\n",
    "    return equal   "
   ]
  },
  {
   "cell_type": "markdown",
   "id": "ef24db64",
   "metadata": {
    "deletable": false,
    "editable": false,
    "nbgrader": {
     "cell_type": "markdown",
     "checksum": "d40320ba52aa26fec4203963007ca341",
     "grade": false,
     "grade_id": "cell-e30c6e5ea505dfa0",
     "locked": true,
     "schema_version": 3,
     "solution": false,
     "task": false
    }
   },
   "source": [
    "### Ejercicio 1\n",
    "Diseña una función llamada `readSNPfile(name)` que, dado el nombre de un fichero con la estructura adecuada, lea su información y devuelva un diccionario que la contenga con el formato especificado en el enunciado."
   ]
  },
  {
   "cell_type": "code",
   "execution_count": null,
   "id": "a0f2754b",
   "metadata": {
    "deletable": false,
    "nbgrader": {
     "cell_type": "code",
     "checksum": "7e1eb325651e4d472c22eddf44d1460b",
     "grade": false,
     "grade_id": "readSNPfile_function",
     "locked": false,
     "schema_version": 3,
     "solution": true,
     "task": false
    }
   },
   "outputs": [],
   "source": [
    "# YOUR CODE HERE\n",
    "raise NotImplementedError()"
   ]
  },
  {
   "cell_type": "code",
   "execution_count": null,
   "id": "743f686e",
   "metadata": {
    "deletable": false,
    "editable": false,
    "nbgrader": {
     "cell_type": "code",
     "checksum": "71f1a543278ea34ac870bce08a847193",
     "grade": true,
     "grade_id": "readSNPfile_test",
     "locked": true,
     "points": 0,
     "schema_version": 3,
     "solution": false,
     "task": false
    }
   },
   "outputs": [],
   "source": [
    "### BEGIN TESTS\n",
    "import copy\n",
    "print('INICIO de las pruebas (readSNPfile())')\n",
    "tests=[('rs7495174',{}),('rs713598',{}),('rs2241880',{'C/C':['ENFERMEDAD DE CROHN']}),\n",
    "       ('rs1051730',{'T/T':['ALCOHOLISMO','CARCINOMA BRONCOPULMONAR']}),\n",
    "       ('rs16944',{'G/G':['DEPRESION','ESQUIZOFRENIA','TRASTORNO BIPOLAR'],'A/A':['OSTEOARTRITIS']}),\n",
    "       ('rs6897932',{'C/C': ['ESCLEROSIS MULTIPLE']}),\n",
    "       ('rs6313',{'C/T':['ARTRITIS REUMATOIDE'],'C/C':['ARTRITIS REUMATOIDE'],'T/T':['DEPRESION','TRASTORNO DE PANICO']})]\n",
    "my_dictSNP=readSNPfile('dataSNP.txt') \n",
    "for (codeRS, solution) in tests:\n",
    "    my_dictSNP_copy=copy.deepcopy(my_dictSNP)\n",
    "    print('  codigoRS: {}\\t resultado: {}'.format(codeRS, solution))\n",
    "    resultado=my_dictSNP.get(codeRS, {})\n",
    "    try:     \n",
    "        assert equalitySNP(resultado, solution) and equalitySNPs(my_dictSNP, my_dictSNP_copy, [])\n",
    "    except:\n",
    "        print('    RESULTADO INCORRECTO codigoRS: {} resultado: {}'.format(codeRS, resultado))\n",
    "print('FIN de las pruebas (readSNPfile())')\n",
    "### END TESTS"
   ]
  },
  {
   "cell_type": "markdown",
   "id": "d253edb3",
   "metadata": {
    "deletable": false,
    "editable": false,
    "nbgrader": {
     "cell_type": "markdown",
     "checksum": "34d13a02a3e522876f00f46a4c1a1c11",
     "grade": false,
     "grade_id": "cell-02d03fd10571dfbd",
     "locked": true,
     "schema_version": 3,
     "solution": false,
     "task": false
    }
   },
   "source": [
    "### Ejercicio 2\n",
    "Implementa una función llamada `addSNPinfo(dictSNP,tupleSNP)` que, dados un diccionario `dictSNP` de polimorfismos y la tupla `tupleSNP` de un SNP, incluya la información del SNP en el diccionario. La función no solo debe incorporar nuevos polimorfismos sino también actualizar los SNPs existentes."
   ]
  },
  {
   "cell_type": "code",
   "execution_count": null,
   "id": "d5a45584",
   "metadata": {
    "deletable": false,
    "nbgrader": {
     "cell_type": "code",
     "checksum": "6f1a7c6e1d774e91a7319915c4f3183b",
     "grade": false,
     "grade_id": "addSNPinfo_function",
     "locked": false,
     "schema_version": 3,
     "solution": true,
     "task": false
    }
   },
   "outputs": [],
   "source": [
    "# YOUR CODE HERE\n",
    "raise NotImplementedError()"
   ]
  },
  {
   "cell_type": "code",
   "execution_count": null,
   "id": "1ae05ebc",
   "metadata": {
    "deletable": false,
    "editable": false,
    "nbgrader": {
     "cell_type": "code",
     "checksum": "7da43dc74d8e81bf996aa460d13d0cca",
     "grade": true,
     "grade_id": "addSNPinfo_test",
     "locked": true,
     "points": 0,
     "schema_version": 3,
     "solution": false,
     "task": false
    }
   },
   "outputs": [],
   "source": [
    "### BEGIN TESTS\n",
    "import copy\n",
    "print('INICIO de las pruebas (addSNPinfo())')\n",
    "tests=[(('rs7495174','C/C',['ENFERMEDAD DE CROHN']),{'C/C':['ENFERMEDAD DE CROHN']}),\n",
    "       (('rs7495174','C/C',['TABAQUISMO']),{'C/C':['ENFERMEDAD DE CROHN','TABAQUISMO']}),\n",
    "       (('rs7495174','T/C',['CANCER TESTICULAR','MELANOMA']),{'C/C':['ENFERMEDAD DE CROHN','TABAQUISMO'],'T/C':['CANCER TESTICULAR','MELANOMA']}),\n",
    "       (('rs7495174','C/C',['TABAQUISMO']),{'C/C':['ENFERMEDAD DE CROHN','TABAQUISMO'],'T/C':['CANCER TESTICULAR','MELANOMA']}),\n",
    "       (('rs713598','C/C',['ADICCION A LA COCAINA']),{'C/C':['ADICCION A LA COCAINA']}),\n",
    "       (('rs713598','C/C',['ADICCION A LA COCAINA','ESQUIZOFRENIA']),{'C/C':['ADICCION A LA COCAINA','ESQUIZOFRENIA']}),\n",
    "       (('rs713598','C/C',[]),{'C/C':['ADICCION A LA COCAINA','ESQUIZOFRENIA']})]\n",
    "my_dictSNP=readSNPfile('dataSNP.txt') \n",
    "list_remove=[]\n",
    "for (tupleSNP, solution) in tests:\n",
    "    my_dictSNP_copy=copy.deepcopy(my_dictSNP)\n",
    "    print('  codigoRS: {}\\t resultado: {}'.format(tupleSNP[0], solution))\n",
    "    list_remove.append(tupleSNP[0])\n",
    "    addSNPinfo(my_dictSNP, tupleSNP)\n",
    "    resultado=my_dictSNP.get(tupleSNP[0], {})\n",
    "    try:     \n",
    "        assert equalitySNP(resultado, solution) and equalitySNPs(my_dictSNP, my_dictSNP_copy, list_remove)\n",
    "    except:\n",
    "        print('    RESULTADO INCORRECTO codigoRS: {} resultado: {}'.format(tupleSNP[0], resultado))\n",
    "print('FIN de las pruebas (addSNPinfo())')\n",
    "### END TESTS"
   ]
  },
  {
   "cell_type": "markdown",
   "id": "b702f5c4",
   "metadata": {
    "deletable": false,
    "editable": false,
    "nbgrader": {
     "cell_type": "markdown",
     "checksum": "f83f515f1923d0505124b870357558e5",
     "grade": false,
     "grade_id": "cell-2d3d3ede97975dcd",
     "locked": true,
     "schema_version": 3,
     "solution": false,
     "task": false
    }
   },
   "source": [
    "### Ejercicio 3\n",
    "Diseña una función llamada `removeSNPinfo(dictSNP,tupleSNP)` que, dados un diccionario `dictSNP` de polimorfismos y la tupla `tupleSNP` de un SNP, elimine los datos del SNP del diccionario."
   ]
  },
  {
   "cell_type": "code",
   "execution_count": null,
   "id": "dd3f44d5",
   "metadata": {
    "deletable": false,
    "nbgrader": {
     "cell_type": "code",
     "checksum": "cd1b6463e7215b8890663095e30bb9fe",
     "grade": false,
     "grade_id": "removeSNPinfo_function",
     "locked": false,
     "schema_version": 3,
     "solution": true,
     "task": false
    }
   },
   "outputs": [],
   "source": [
    "# YOUR CODE HERE\n",
    "raise NotImplementedError()"
   ]
  },
  {
   "cell_type": "code",
   "execution_count": null,
   "id": "72b90e7f",
   "metadata": {
    "deletable": false,
    "editable": false,
    "nbgrader": {
     "cell_type": "code",
     "checksum": "70a263ab859aa52a03f467f8eb3f05d3",
     "grade": true,
     "grade_id": "removeSNPinfo_test",
     "locked": true,
     "points": 0,
     "schema_version": 3,
     "solution": false,
     "task": false
    }
   },
   "outputs": [],
   "source": [
    "### BEGIN TESTS\n",
    "import copy\n",
    "print('INICIO de las pruebas (removeSNPinfo())')\n",
    "tests=[(('rs16944','G/G',['DEPRESION','ESQUIZOFRENIA']),{'A/A':['OSTEOARTRITIS'],'G/G':['TRASTORNO BIPOLAR']}),\n",
    "       (('rs16944','G/G',['DEPRESION','TABAQUISMO']),{'A/A':['OSTEOARTRITIS'],'G/G':['TRASTORNO BIPOLAR']}),\n",
    "       (('rs16944','A/A',['OSTEOARTRITIS']),{'G/G': ['TRASTORNO BIPOLAR']}),\n",
    "       (('rs16944','G/G',['TRASTORNO BIPOLAR']),{}),\n",
    "       (('rs4880','A/T',['MESOTELIOMA']),{'T/T':['HEMOCROMATOSIS'],'C/C':['MESOTELIOMA']}),\n",
    "       (('rs1234','T/T',['TABAQUISMO']),{}),(('rs1051730','T/T',[]),{})]\n",
    "my_dictSNP=readSNPfile('dataSNP.txt') \n",
    "list_remove=[]\n",
    "for (tupleSNP, solution) in tests:\n",
    "    my_dictSNP_copy=copy.deepcopy(my_dictSNP)\n",
    "    print('  codigoRS: {}\\t resultado: {}'.format(tupleSNP[0], solution))\n",
    "    list_remove.append(tupleSNP[0])\n",
    "    removeSNPinfo(my_dictSNP, tupleSNP)\n",
    "    resultado=my_dictSNP.get(tupleSNP[0], {})\n",
    "    try:     \n",
    "        assert equalitySNP(resultado, solution) and equalitySNPs(my_dictSNP, my_dictSNP_copy, list_remove)\n",
    "    except:\n",
    "        print('    RESULTADO INCORRECTO codigoRS: {} resultado: {}'.format(tupleSNP[0], resultado))\n",
    "print('FIN de las pruebas (removeSNPinfo())')\n",
    "### END TESTS"
   ]
  },
  {
   "cell_type": "markdown",
   "id": "6e258f14",
   "metadata": {
    "deletable": false,
    "editable": false,
    "nbgrader": {
     "cell_type": "markdown",
     "checksum": "013167f118ce5919bc1e29bcfaf05a45",
     "grade": false,
     "grade_id": "cell-d1b6bc58fc4f6b96",
     "locked": true,
     "schema_version": 3,
     "solution": false,
     "task": false
    }
   },
   "source": [
    "### Ejercicio 4\n",
    "Implementa una función llamada `getSNPinfo(dictSNP,lstPat)` que, dados un diccionario `dictSNP` de polimorfismos y una lista `lstPat` de patologías, devuelva una lista de pares de la forma `(codeRS,codeN)` de modo que todas las patologías de `lstPat` estén relacionadas con todos los SNP de la lista resultado."
   ]
  },
  {
   "cell_type": "code",
   "execution_count": null,
   "id": "17d00527",
   "metadata": {
    "deletable": false,
    "nbgrader": {
     "cell_type": "code",
     "checksum": "346c1e0f0a8c6190d21d9fd99d326c3a",
     "grade": false,
     "grade_id": "getSNPinfo_function",
     "locked": false,
     "schema_version": 3,
     "solution": true,
     "task": false
    }
   },
   "outputs": [],
   "source": [
    "# YOUR CODE HERE\n",
    "raise NotImplementedError()"
   ]
  },
  {
   "cell_type": "code",
   "execution_count": null,
   "id": "a9ed3907",
   "metadata": {
    "deletable": false,
    "editable": false,
    "nbgrader": {
     "cell_type": "code",
     "checksum": "827379ee1931d6637766174631fb15c6",
     "grade": true,
     "grade_id": "cell-b60e2856bb26a4ed",
     "locked": true,
     "points": 0,
     "schema_version": 3,
     "solution": false,
     "task": false
    }
   },
   "outputs": [],
   "source": [
    "### BEGIN TESTS\n",
    "import copy\n",
    "print('INICIO de las pruebas (getSNPinfo())')\n",
    "tests=[(['ALCOHOLISMO'],[('rs1076560','A/C'),('rs1051730','T/T'),('rs1800497','C/T')]),\n",
    "       (['FIBROSIS'],[('rs738409','C/C'),('rs2736100','T/T')]),\n",
    "       (['FIBROSIS PULMONAR'],[('rs35705950','G/T'),('rs35705950','T/T')]),\n",
    "       (['MELANOMA'],[('rs1805007','T/T'),('rs13181','G/G')]),\n",
    "       (['MELANOMA','CANCER OVARICO'],[('rs13181','G/G')]),\n",
    "       (['FIBROSIS','CARCINOMA BRONCOPULMONAR','CANCER TESTICULAR'],[('rs2736100','T/T')]),\n",
    "       (['ALCOHOLISMO','CARCINOMA'],[])\n",
    "      ]\n",
    "my_dictSNP=readSNPfile('dataSNP.txt') \n",
    "for (lstPat, solution) in tests:\n",
    "    my_dictSNP_copy=copy.deepcopy(my_dictSNP)\n",
    "    print('  patologias: {} resultado: {}'.format(lstPat, solution))\n",
    "    resultado=getSNPinfo(my_dictSNP, lstPat)\n",
    "    try:     \n",
    "        assert set(resultado)==set(solution) and equalitySNPs(my_dictSNP, my_dictSNP_copy, [])\n",
    "    except:\n",
    "        print('    RESULTADO INCORRECTO codigoRS: {} resultado: {}'.format(lstPat, resultado))\n",
    "print('FIN de las pruebas (getSNPinfo())')\n",
    "### END TESTS"
   ]
  },
  {
   "cell_type": "markdown",
   "id": "1711820e",
   "metadata": {
    "deletable": false,
    "editable": false,
    "nbgrader": {
     "cell_type": "markdown",
     "checksum": "56a4ec01cf3931ea22680e181fc2ddcf",
     "grade": false,
     "grade_id": "cell-9e918edc2e942bd6",
     "locked": true,
     "schema_version": 3,
     "solution": false,
     "task": false
    }
   },
   "source": [
    "### Ejercicio 5\n",
    "Implementa una función llamada `writeSNPfile(dictSNP,name)` que, dados un diccionario `dictSNP` de polimorfismos y el nombre de un fichero nuevo, almacene en este último el contenido de `dictSNP` respetando el formato especificado en el primer apartado."
   ]
  },
  {
   "cell_type": "code",
   "execution_count": null,
   "id": "3a67b05b",
   "metadata": {
    "deletable": false,
    "nbgrader": {
     "cell_type": "code",
     "checksum": "3fce7a82c668840aed0d866d16f225bc",
     "grade": false,
     "grade_id": "writeSNPfile_function",
     "locked": false,
     "schema_version": 3,
     "solution": true,
     "task": false
    }
   },
   "outputs": [],
   "source": [
    "# YOUR CODE HERE\n",
    "raise NotImplementedError()"
   ]
  },
  {
   "cell_type": "code",
   "execution_count": null,
   "id": "7952668c",
   "metadata": {
    "deletable": false,
    "editable": false,
    "nbgrader": {
     "cell_type": "code",
     "checksum": "accd18c70eb77474740d7b7ad28b9ae7",
     "grade": true,
     "grade_id": "writeSNPfile_test",
     "locked": true,
     "points": 0,
     "schema_version": 3,
     "solution": false,
     "task": false
    }
   },
   "outputs": [],
   "source": [
    "### BEGIN TESTS\n",
    "print('INICIO de las pruebas (writeSNPfile())')\n",
    "tests=[('rs7495174',{}),('rs713598',{}),('rs2241880',{'C/C':['ENFERMEDAD DE CROHN']}),\n",
    "       ('rs1051730',{'T/T':['ALCOHOLISMO','CARCINOMA BRONCOPULMONAR']}),\n",
    "       ('rs16944',{'G/G':['DEPRESION','ESQUIZOFRENIA','TRASTORNO BIPOLAR'],'A/A':['OSTEOARTRITIS']}),\n",
    "       ('rs6897932',{'C/C': ['ESCLEROSIS MULTIPLE']}),\n",
    "       ('rs6313',{'C/T':['ARTRITIS REUMATOIDE'],'C/C':['ARTRITIS REUMATOIDE'],'T/T':['DEPRESION','TRASTORNO DE PANICO']})]\n",
    "my_dictSNP=readSNPfile('dataSNP.txt') \n",
    "writeSNPfile(my_dictSNP,'dataSNPfinal.txt')\n",
    "my_dictSNP_copy=readSNPfile('dataSNPfinal.txt') \n",
    "for (codeRS, solution) in tests:\n",
    "    my_dictSNP_nuevo=readSNPfile('dataSNP.txt') \n",
    "    print('  codigoRS: {}\\t resultado: {}'.format(codeRS, solution))\n",
    "    resultado=my_dictSNP_copy.get(codeRS, {})\n",
    "    try:     \n",
    "        assert equalitySNP(resultado, solution) and equalitySNPs(my_dictSNP_nuevo, my_dictSNP_copy, [])\n",
    "    except:\n",
    "        print('    RESULTADO INCORRECTO codigoRS: {} resultado: {}'.format(codeRS, resultado))\n",
    "print('FIN de las pruebas (writeSNPfile())')\n",
    "### END TESTS"
   ]
  }
 ],
 "metadata": {
  "kernelspec": {
   "display_name": "Python 3 (ipykernel)",
   "language": "python",
   "name": "python3"
  },
  "language_info": {
   "codemirror_mode": {
    "name": "ipython",
    "version": 3
   },
   "file_extension": ".py",
   "mimetype": "text/x-python",
   "name": "python",
   "nbconvert_exporter": "python",
   "pygments_lexer": "ipython3",
   "version": "3.9.13"
  }
 },
 "nbformat": 4,
 "nbformat_minor": 5
}
