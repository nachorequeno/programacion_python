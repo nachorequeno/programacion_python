{
 "cells": [
  {
   "cell_type": "markdown",
   "metadata": {
    "pycharm": {
     "name": "#%% md\n"
    }
   },
   "source": [
    "# Ejercicio 1.- Pendiente de una recta\n",
    "Escribir un programa que solicite al usuario las coordenadas (x, y) de dos puntos, P_1(x_1,y_1) y P_2(x_2,y_2), y calcule la pendiente de la recta que pasa por ambos puntos. La pendiente de una recta se calcula como:\n",
    "\n",
    "$$\n",
    "  m = \\frac{y_2 - y_1}{x_2 - x_1}\n",
    "$$"
   ],
   "outputs": []
  }
 ],
 "metadata": {
  "kernelspec": {
   "display_name": "Python 3",
   "language": "python",
   "name": "python3"
  },
  "language_info": {
   "codemirror_mode": {
    "name": "ipython",
    "version": 3
   },
   "file_extension": ".py",
   "mimetype": "text/x-python",
   "name": "python",
   "nbconvert_exporter": "python",
   "pygments_lexer": "ipython3",
   "version": "3.8.0"
  },
  "widgets": {
   "application/vnd.jupyter.widget-state+json": {
    "state": {},
    "version_major": 2,
    "version_minor": 0
   }
  }
 },
 "nbformat": 4,
 "nbformat_minor": 4
}