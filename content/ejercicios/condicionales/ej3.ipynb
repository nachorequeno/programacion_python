{
 "cells": [
  {
   "cell_type": "markdown",
   "source": [
    "# Ejercicio 3.- Nota de Programación\n",
    "Escribe un programa que te muestre la nota que sacarás en Programación I si has decidido seguir la evaluación continua. Deberá de escribir en pantalla la nota (el valor numérico) y una de las siguientes palabras según corresponda (suspenso, aprobado, notable, sobresaliente, MH). La nota se calculará según lo que aparece en la ficha de la asignatura:\n",
    "- Ejercicios de clase evaluados (60%), la nota de los ejercicios se ponderará, el primer examen un 40 % y el segundo un 60%.\n",
    "- Realización y defensa de prácticas de laboratorio, consistentes en programas informáticos propuestos por el profesor (30%)\n",
    "- Participación del estudiante en el aula, en las actividades formativas propuestas por el profesor y en las tutorías (10%)"
   ],
   "metadata": {
    "collapsed": false,
    "pycharm": {
     "name": "#%% md\n"
    }
   }
  }
 ],
 "metadata": {
  "kernelspec": {
   "display_name": "Python 3",
   "language": "python",
   "name": "python3"
  },
  "language_info": {
   "codemirror_mode": {
    "name": "ipython",
    "version": 3
   },
   "file_extension": ".py",
   "mimetype": "text/x-python",
   "name": "python",
   "nbconvert_exporter": "python",
   "pygments_lexer": "ipython3",
   "version": "3.8.0"
  },
  "widgets": {
   "application/vnd.jupyter.widget-state+json": {
    "state": {},
    "version_major": 2,
    "version_minor": 0
   }
  }
 },
 "nbformat": 4,
 "nbformat_minor": 4
}