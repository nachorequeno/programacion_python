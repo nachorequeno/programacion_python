{
 "cells": [
  {
   "cell_type": "markdown",
   "source": [
    "# Ejercicio 6.- Cálculo de la masa corporal de una persona\n",
    "Escribir un programa que calcule el índice de masa corporal de una persona (IMC = peso [kg]/altura2 [m]), dado su peso y su altura, e indique el estado en el que se encuentra esa persona en función del valor de IMC:\n",
    "\n",
    "| Valor de IMC | Diagnóstico                                 |\n",
    "|--------------|---------------------------------------------|\n",
    "| <16          | Criterio de ingreso en hospital             |\n",
    "| de 16 a 17   | infrapeso                                   |\n",
    "| de 17 a 18   | bajo peso                                   |\n",
    "| de 18 a 25   | peso normal (saludable)                     |\n",
    "| de 25 a 30   | sobrepeso (obesidad de grado I)             |\n",
    "| de 30 a 35   | sobrepreso crónico (obesidad de grado II)   |\n",
    "| de 35 a 40   | obesidad premórbida (obesidad de grado III) |\n",
    "| >40          | obesidad mórbida (obesidad de grado IV)     |"
   ],
   "metadata": {
    "collapsed": false,
    "pycharm": {
     "name": "#%% md\n"
    }
   }
  }
 ],
 "metadata": {
  "kernelspec": {
   "display_name": "Python 3",
   "language": "python",
   "name": "python3"
  },
  "language_info": {
   "codemirror_mode": {
    "name": "ipython",
    "version": 3
   },
   "file_extension": ".py",
   "mimetype": "text/x-python",
   "name": "python",
   "nbconvert_exporter": "python",
   "pygments_lexer": "ipython3",
   "version": "3.8.0"
  },
  "widgets": {
   "application/vnd.jupyter.widget-state+json": {
    "state": {},
    "version_major": 2,
    "version_minor": 0
   }
  }
 },
 "nbformat": 4,
 "nbformat_minor": 4
}