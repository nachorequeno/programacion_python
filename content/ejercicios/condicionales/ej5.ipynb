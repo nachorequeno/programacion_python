{
 "cells": [
  {
   "cell_type": "markdown",
   "source": [
    "# Ejercicio 5.- ¿Es triángulo?\n",
    "Escribir un programa que solicite tres cantidades reales positivas, compruebe si esas cantidades pueden corresponder a las longitudes de los lados de un triángulo, si pueden formar un triángulo que nos diga el tipo: equilátero, isósceles o escaleno y si no pueden formar un triángulo que escriba un mensaje en pantalla.\n",
    "Tres cantidades pueden representar las longitudes de los lados de un triángulo si se verifica siempre que la suma de dos de ellas es mayor que la otra."
   ],
   "metadata": {
    "collapsed": false,
    "pycharm": {
     "name": "#%% md\n"
    }
   }
  }
 ],
 "metadata": {
  "kernelspec": {
   "display_name": "Python 3",
   "language": "python",
   "name": "python3"
  },
  "language_info": {
   "codemirror_mode": {
    "name": "ipython",
    "version": 3
   },
   "file_extension": ".py",
   "mimetype": "text/x-python",
   "name": "python",
   "nbconvert_exporter": "python",
   "pygments_lexer": "ipython3",
   "version": "3.8.0"
  },
  "widgets": {
   "application/vnd.jupyter.widget-state+json": {
    "state": {},
    "version_major": 2,
    "version_minor": 0
   }
  }
 },
 "nbformat": 4,
 "nbformat_minor": 4
}