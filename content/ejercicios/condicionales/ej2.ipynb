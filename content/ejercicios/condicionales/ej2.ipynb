{
 "cells": [
  {
   "cell_type": "markdown",
   "source": [
    "# Ejercicio 2.- Super ofertas 3x2\n",
    "En el Supermercado ``AhorraMucho'' se ofrece la promoción de llevarse tres productos por el precio de los dos más caros. Escribir un programa que, dados los tres precios de los productos, determine la cantidad a pagar."
   ],
   "metadata": {
    "collapsed": false,
    "pycharm": {
     "name": "#%% md\n"
    }
   }
  }
 ],
 "metadata": {
  "kernelspec": {
   "display_name": "Python 3",
   "language": "python",
   "name": "python3"
  },
  "language_info": {
   "codemirror_mode": {
    "name": "ipython",
    "version": 3
   },
   "file_extension": ".py",
   "mimetype": "text/x-python",
   "name": "python",
   "nbconvert_exporter": "python",
   "pygments_lexer": "ipython3",
   "version": "3.8.0"
  },
  "widgets": {
   "application/vnd.jupyter.widget-state+json": {
    "state": {},
    "version_major": 2,
    "version_minor": 0
   }
  }
 },
 "nbformat": 4,
 "nbformat_minor": 4
}