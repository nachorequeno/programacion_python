{
 "cells": [
  {
   "cell_type": "markdown",
   "id": "653f2dbd",
   "metadata": {},
   "source": [
    "# Ejercicio 1.- Conversiones\n",
    "\n",
    "Es frecuente tener que convertir de unas unidades de medida a otras. Escribe expresiones para:\n",
    "* pasar de kilogramos a gramos, dada una cantidad m que representa un peso en kilogramos,  dar su equivalente en gramos;\n",
    "* pasar de kilogramos a libras (1kg = 2,20462 libras);\n",
    "* pasar de grados Celsius a grados Fahrenheit (para  calcular cuántos grados Fahrenheit son X grados Celsius, tenemos que multiplicar los X grados Celsius por 1,8 y sumarle 32)\n",
    "\n",
    "Escribe tambien expresiones que sirvan para dar las transformaciones inversas a las anteriores."
   ]
  },
  {
   "cell_type": "code",
   "execution_count": null,
   "id": "c8cd81a2",
   "metadata": {},
   "outputs": [],
   "source": []
  }
 ],
 "metadata": {
  "kernelspec": {
   "display_name": "Python 3 (ipykernel)",
   "language": "python",
   "name": "python3"
  },
  "language_info": {
   "codemirror_mode": {
    "name": "ipython",
    "version": 3
   },
   "file_extension": ".py",
   "mimetype": "text/x-python",
   "name": "python",
   "nbconvert_exporter": "python",
   "pygments_lexer": "ipython3",
   "version": "3.9.7"
  }
 },
 "nbformat": 4,
 "nbformat_minor": 5
}
