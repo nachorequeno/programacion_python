{
 "cells": [
  {
   "cell_type": "markdown",
   "id": "653f2dbd",
   "metadata": {},
   "source": [
    "# Ejercicio 3. - Cuadrados perfectos\n",
    "\n",
    "Los cuadrados perfectos son los números $1, 4, 9, 16, \\dots$ , esto es, los cuadrados de los números\n",
    "naturales: $1^2, 2^2, 3^2, 4^2, \\dots$\n",
    "\n",
    "* Encuentra una expresión, o una secuencia sencilla de instrucciones, adecuada para averiguar si un número natural m es un cuadrado perfecto, o sea, si es de la forma $m = n^2$ para algún natural $n$.\n",
    "* Encuentra una expresión que, para un número $m$ entero, averigüe el número $n$ mayor posible pero que no supere a $m$, (o sea, $n \\le m$) y sea cuadrado perfecto."
   ]
  }
 ],
 "metadata": {
  "kernelspec": {
   "display_name": "Python 3 (ipykernel)",
   "language": "python",
   "name": "python3"
  },
  "language_info": {
   "codemirror_mode": {
    "name": "ipython",
    "version": 3
   },
   "file_extension": ".py",
   "mimetype": "text/x-python",
   "name": "python",
   "nbconvert_exporter": "python",
   "pygments_lexer": "ipython3",
   "version": "3.9.7"
  }
 },
 "nbformat": 4,
 "nbformat_minor": 5
}
