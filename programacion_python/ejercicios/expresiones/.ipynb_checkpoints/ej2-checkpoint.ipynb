{
 "cells": [
  {
   "cell_type": "markdown",
   "id": "653f2dbd",
   "metadata": {},
   "source": [
    "# Ejercicio 2. - Ser o no ser... Triángulo\n",
    "\n",
    "Dadas tres cantidades reales positivas $a, b$ y $c$, se quieren dilucidar las siguientes situaciones:\n",
    "\n",
    "* ¿Forman un triángulo?  Estas cantidades pueden representar las longitudes de los lados de un triángulo si se cumple que la suma de dos de los lados es mayor que el otro lado.\n",
    "* ¿Es escaleno? Las longitudes de los lados de un triángulo escaleno son distintas entre sí.\n",
    "* ¿Es isósceles? Al menos dos lados son iguales.\n",
    "* ¿Es equilátero? Si los tres lados son iguales."
   ]
  },
  {
   "cell_type": "code",
   "execution_count": null,
   "id": "c8cd81a2",
   "metadata": {},
   "outputs": [],
   "source": [
    "##Solucion\n",
    "\n",
    "def esTriangulo (a, b, c):\n",
    "    return (a + b > c) and (a + c > b) and (c + b > a)\n",
    "\n",
    "def esEscaleno(a, b, c):\n",
    "    return esTriangulo and (a != b) and (b != c) and (a != c)\n",
    "\n",
    "def esIsosceles(a, b, c):\n",
    "    return esTriangulo and (((a == b) and (a != c)) or ((b == c) and (b != a)) or ((a == c) and (a != b)))\n",
    "\n",
    "def esEquilatero(a, b, c):\n",
    "    return esTriangulo and (a == b) and (b == c)"
   ]
  }
 ],
 "metadata": {
  "kernelspec": {
   "display_name": "Python 3 (ipykernel)",
   "language": "python",
   "name": "python3"
  },
  "language_info": {
   "codemirror_mode": {
    "name": "ipython",
    "version": 3
   },
   "file_extension": ".py",
   "mimetype": "text/x-python",
   "name": "python",
   "nbconvert_exporter": "python",
   "pygments_lexer": "ipython3",
   "version": "3.9.7"
  }
 },
 "nbformat": 4,
 "nbformat_minor": 5
}
