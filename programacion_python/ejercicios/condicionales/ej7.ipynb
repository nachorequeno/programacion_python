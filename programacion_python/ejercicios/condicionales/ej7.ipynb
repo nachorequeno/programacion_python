{
 "cells": [
  {
   "cell_type": "markdown",
   "source": [
    "# Ejercicio 7.- Calcular la letra del NIF\n",
    "Para calcular la letra del N.I.F. se toma el número del D.N.I. y se divide por 23, se quitan los decimales y se multiplica el resultado por 23, se resta la cifra así obtenida del número del D.N.I., la letra del N.I.F. es la que corresponda según el cuadro siguiente:\n",
    "\n",
    "| A=3  | J=13 | S=15 |\n",
    "|------|------|------|\n",
    "| B=11 | K=21 | T=0  |\n",
    "| C=20 | L=19 | V=17 |\n",
    "| D=9  | M=5  | W=2  |\n",
    "| E=22 | N=12 | X=10 |\n",
    "| F=7  | P=8  | Y=6  |\n",
    "| G=4  | Q=16 | Z=14 |\n",
    "| H=18 | R=1  |      |\n",
    "\n",
    "Este proceso equivale a calcular el resto entero de la división entera del D.N.I. por 23.\n",
    "Escribir un programa que solicite al usuario el número del DNI y calcule la letra del NIF."
   ],
   "metadata": {
    "collapsed": false
   }
  }
 ],
 "metadata": {
  "kernelspec": {
   "display_name": "Python 3",
   "language": "python",
   "name": "python3"
  },
  "language_info": {
   "codemirror_mode": {
    "name": "ipython",
    "version": 3
   },
   "file_extension": ".py",
   "mimetype": "text/x-python",
   "name": "python",
   "nbconvert_exporter": "python",
   "pygments_lexer": "ipython3",
   "version": "3.8.0"
  },
  "widgets": {
   "application/vnd.jupyter.widget-state+json": {
    "state": {},
    "version_major": 2,
    "version_minor": 0
   }
  }
 },
 "nbformat": 4,
 "nbformat_minor": 4
}