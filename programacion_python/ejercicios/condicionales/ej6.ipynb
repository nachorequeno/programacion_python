{
 "cells": [
  {
   "cell_type": "markdown",
   "source": [
    "# Ejercicio 6.- Cálculo de la masa corporal de una persona\n",
    "Escribir un programa que calcule el índice de masa corporal de una persona (IMC = peso [kg]/altura2 [m]), dado su peso y su altura, e indique el estado en el que se encuentra esa persona en función del valor de IMC:"
   ],
   "metadata": {
    "collapsed": false,
    "pycharm": {
     "name": "#%% md\n"
    }
   }
  }
 ],
 "metadata": {
  "kernelspec": {
   "display_name": "Python 3",
   "language": "python",
   "name": "python3"
  },
  "language_info": {
   "codemirror_mode": {
    "name": "ipython",
    "version": 3
   },
   "file_extension": ".py",
   "mimetype": "text/x-python",
   "name": "python",
   "nbconvert_exporter": "python",
   "pygments_lexer": "ipython3",
   "version": "3.8.0"
  },
  "widgets": {
   "application/vnd.jupyter.widget-state+json": {
    "state": {},
    "version_major": 2,
    "version_minor": 0
   }
  }
 },
 "nbformat": 4,
 "nbformat_minor": 4
}