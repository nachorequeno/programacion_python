{
 "cells": [
  {
   "cell_type": "markdown",
   "id": "cee9af9a-dc87-4bb3-8dfb-a0636d715fd4",
   "metadata": {},
   "source": [
    "# Fecha absoluta\n",
    "\n",
    "Con todo esto, representar una fecha como se hace habitualmente\n",
    "`(dia,mes,anyo)` no parece muy conveniente. La forma habitual \n",
    "de hacerlo en una computadora es contar los milisegundos desde\n",
    "una fecha previamente establecida. Nosotros lo vamos a\n",
    "simplificar un poco, en primer lugar como sólo queremos\n",
    "establecer la fecha (no la hora), vamos a contar los días\n",
    "transcurridos desde una fecha prefijada. \n",
    "\n",
    "En segundo lugar, \n",
    "para facilitar los\n",
    "cómputos estableceremos la fecha inicial el 1 de enero de\n",
    "1601, este será nuestro día 0. Este día marca el comienzo de un bloque de 400 años que\n",
    "culmina en el año bisiesto 2000. De esta forma, \n",
    "\n",
    "* El 23 de abril de 1616 es el día 5591.\n",
    "* El 10 de octubre de 1968 es el día  134326.\n",
    "* El 1 de enero de 2001 (el primer día de este siglo) es el\n",
    "día 146097.\n",
    "* El 27 de noviembre de 2006 es el día 148253.\n",
    "\n",
    "Por último como sabemos que el 1 de enero de 1601 \n",
    "fue lunes,\n",
    "podemos saber qué día de la semana es cualquier fecha en el\n",
    "calendario gregoriano. Así sabemos que a Cervantes lo enterraron un \n",
    "sábado [ https://es.wikipedia.org/wiki/Miguel_de_Cervantes#Muerte_y_tumba_de_Cervantes ]. \n",
    "\n",
    "Recordemos que un año es bisiesto si es múltiplo de 4,\n",
    "salvo si es múltiplo de 100 en cuyo caso debe ser también\n",
    "múltiplo de 400.\n",
    "\n",
    "\n"
   ]
  },
  {
   "cell_type": "markdown",
   "id": "cecc2d30-b78b-4a63-b3d8-c7ebfd3f1ffe",
   "metadata": {},
   "source": [
    "## Anyo bisiesto\n",
    "Haz una función `is_leap_year` que indique si un año mayor que 1582 es bisiesto o no "
   ]
  },
  {
   "cell_type": "code",
   "execution_count": 2,
   "id": "f847247f-2513-4bca-ad73-4309e37c01df",
   "metadata": {
    "nbgrader": {
     "grade": false,
     "grade_id": "cell-dbabb54c91356c64",
     "locked": false,
     "schema_version": 3,
     "solution": true,
     "task": false
    },
    "tags": []
   },
   "outputs": [],
   "source": [
    "def is_leap_year(year: int) -> bool:\n",
    "    ### BEGIN SOLUTION\n",
    "    return year % 4 == 0 and (year % 100 !=0 or year % 400 == 0)\n",
    "    ### END SOLUTION"
   ]
  },
  {
   "cell_type": "code",
   "execution_count": null,
   "id": "eb1db7e0-8d14-44e6-ac05-b508bde9119a",
   "metadata": {},
   "outputs": [],
   "source": [
    "# Escribe aquí tus pruebas"
   ]
  },
  {
   "cell_type": "code",
   "execution_count": 3,
   "id": "707e8409-2d12-4030-93d8-a7efe7eaa43f",
   "metadata": {
    "nbgrader": {
     "grade": true,
     "grade_id": "cell-fef1f63091bfef57",
     "locked": true,
     "points": 0,
     "schema_version": 3,
     "solution": false,
     "task": false
    },
    "tags": []
   },
   "outputs": [
    {
     "name": "stdout",
     "output_type": "stream",
     "text": [
      "OK\n"
     ]
    }
   ],
   "source": [
    "def test_is_leap_year():\n",
    "    tests = [ (1583, False), (1600, True), (1601, False), (1700, False), (2000, True), (2001, False), (2004, True), (2100, False) ]\n",
    "    for year, is_leap in tests:\n",
    "        res = is_leap_year(year)\n",
    "        assert res == is_leap, f'Error {year}, {is_leap}, result: {res}'\n",
    "    print('OK')\n",
    "    \n",
    "test_is_leap_year()"
   ]
  },
  {
   "cell_type": "markdown",
   "id": "e8c9129f-7ca6-4cba-bcd5-3eb112be3597",
   "metadata": {},
   "source": [
    "## Días mes\n",
    "\n",
    "Haz una función `n_days_month` que devuelve el número de días que tiene un mes. Como el número de días de febrero depende de si el año es bisiesto o no, la función debe tener como parámetro un `bool` que indique si el anyo es bisiesto o no"
   ]
  },
  {
   "cell_type": "markdown",
   "id": "2e2fac05-dd98-4127-b11e-32a45dd53b89",
   "metadata": {},
   "source": [
    "## Fecha correcta\n",
    "\n",
    "Realiza una función `is_correct_date` que indique si una terna `(dia, mes, anyo)` representa una fecha correcta. Es decir, que compruebe que los elementos son correctos:\n",
    "* El año debe ser mayor estricto que 1600.\n",
    "* El mes debe ser un entero entre 1 y 12.\n",
    "* El día debe ser un entero entre 1 y el número de días que tenga el mes correspondiente. Ten en cuenta que, en los años bisistos, febrero tiene 29 días."
   ]
  },
  {
   "cell_type": "code",
   "execution_count": null,
   "id": "39280f02-2d2a-419d-a7a3-1a336ebe38bb",
   "metadata": {},
   "outputs": [],
   "source": []
  }
 ],
 "metadata": {
  "kernelspec": {
   "display_name": "Python 3 (ipykernel)",
   "language": "python",
   "name": "python3"
  },
  "language_info": {
   "codemirror_mode": {
    "name": "ipython",
    "version": 3
   },
   "file_extension": ".py",
   "mimetype": "text/x-python",
   "name": "python",
   "nbconvert_exporter": "python",
   "pygments_lexer": "ipython3",
   "version": "3.10.4"
  }
 },
 "nbformat": 4,
 "nbformat_minor": 5
}
