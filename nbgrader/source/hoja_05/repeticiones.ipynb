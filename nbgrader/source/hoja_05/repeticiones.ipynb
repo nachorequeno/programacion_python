{
 "cells": [
  {
   "cell_type": "markdown",
   "id": "d9811cfc-6eb7-47d6-ad5d-b0ea3eaabd44",
   "metadata": {},
   "source": [
    "# Máximo de repeticiones\n",
    "\n",
    "Vamos a hacer una función que nos indique la letra que más se repita en una cadena de caracteres. La función se debe llamar `max_rep`, su único argunemto debe ser una cadena de caracteres. Debe devolver la letra que más se repita. \n",
    "* Si hay una más de una letra que cumple esa condición, debe devolver la primera que aparezca\n",
    "* Se debe comprobar que la cadena en la que se busca no sea vacía y que la letra sea una cadena de carateres de longitud 1.\n",
    "Ejemplos:\n",
    "        max_rep('a') --> a'        \n",
    "        max_rep('abc') ---> 'a'\n",
    "        max_rep('abaca') ---> 'a'\n",
    "\n",
    "   \n",
    "\n",
    "\n",
    "**PISTA**: Realiza previamente una función que devuelva el número de veces que aparece una letra cualquiera. Función `count_occurrences`."
   ]
  },
  {
   "cell_type": "code",
   "execution_count": 2,
   "id": "24ece5ec-15f9-4763-a624-85a94ab8270b",
   "metadata": {
    "nbgrader": {
     "grade": false,
     "grade_id": "cell-c27b07df60824ee1",
     "locked": false,
     "schema_version": 3,
     "solution": true,
     "task": false
    },
    "tags": []
   },
   "outputs": [],
   "source": [
    "### BEGIN SOLUTION\n",
    "def count_occurrences(s: str, ltr:str) -> int:\n",
    "    assert len(ltr)==1\n",
    "    i = 0\n",
    "    count = 0\n",
    "    while i<len(s):\n",
    "        if s[i] == ltr:\n",
    "            count = count + 1\n",
    "        i = i + 1\n",
    "    return count\n",
    "\n",
    "def max_rep(s: str) -> str:\n",
    "    assert len(s)>0\n",
    "    num_rep = 0\n",
    "    ltr = ''\n",
    "    i = 0\n",
    "    while i<len(s):\n",
    "        current = count_occurrences(s, s[i]) \n",
    "        if current > num_rep:\n",
    "            num_rep = current\n",
    "            ltr = s[i]\n",
    "        i = i + 1\n",
    "    return ltr\n",
    "### END SOLUTION"
   ]
  },
  {
   "cell_type": "code",
   "execution_count": null,
   "id": "b1497aa4-c041-4a46-8712-7e300da04508",
   "metadata": {
    "nbgrader": {
     "grade": true,
     "grade_id": "cell-a06aa11172878166",
     "locked": true,
     "points": 1,
     "schema_version": 3,
     "solution": false,
     "task": false
    },
    "tags": []
   },
   "outputs": [],
   "source": []
  },
  {
   "cell_type": "code",
   "execution_count": 3,
   "id": "6d4cbac0-bfb8-4b42-b3fd-ffb07cdb631a",
   "metadata": {},
   "outputs": [
    {
     "name": "stdout",
     "output_type": "stream",
     "text": [
      "\"('a',)\", \"a\"....OK.\n",
      "\"('abc',)\", \"a\"....OK.\n",
      "\"('abaca',)\", \"a\"....OK.\n"
     ]
    }
   ],
   "source": [
    "def runtests(tests, fun):\n",
    "    for test, ex_res in tests:\n",
    "        print(f'\"{test}\", \"{ex_res}\"....', end='')\n",
    "        res = fun(*test)\n",
    "        assert res == ex_res, f'Error, the result is \"{res}\"'\n",
    "        print('OK.')\n",
    "\n",
    "        \n",
    "def test_max_rep():\n",
    "    def wrapper(s: str):\n",
    "        return max_rep(s)\n",
    "    \n",
    "    tests = [\n",
    "        (('a', ), 'a'),        \n",
    "        (('abc', ), 'a'),\n",
    "        (('abaca', ), 'a'),\n",
    "    ]\n",
    "    runtests(tests, wrapper)\n",
    "    \n",
    "    try:\n",
    "        s = max_rep('')\n",
    "    except AssertionError:\n",
    "        pass\n",
    "    else:\n",
    "        assert False, 'Empty string not detected'\n",
    "    \n",
    "\n",
    "test_max_rep()"
   ]
  }
 ],
 "metadata": {
  "kernelspec": {
   "display_name": "Python 3 (ipykernel)",
   "language": "python",
   "name": "python3"
  },
  "language_info": {
   "codemirror_mode": {
    "name": "ipython",
    "version": 3
   },
   "file_extension": ".py",
   "mimetype": "text/x-python",
   "name": "python",
   "nbconvert_exporter": "python",
   "pygments_lexer": "ipython3",
   "version": "3.9.14"
  }
 },
 "nbformat": 4,
 "nbformat_minor": 5
}
