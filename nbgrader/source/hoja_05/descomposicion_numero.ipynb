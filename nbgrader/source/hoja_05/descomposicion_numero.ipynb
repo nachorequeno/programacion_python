{
 "cells": [
  {
   "cell_type": "markdown",
   "id": "937ff0b7-f0fe-4f77-bd06-1c0aef28802c",
   "metadata": {},
   "source": [
    "# Descomposición de números\n",
    "\n",
    "En este ejercicio proponemos la definición de funciones sencillas \n",
    "que permitan descomponer un número de múltiples formas.      "
   ]
  },
  {
   "cell_type": "markdown",
   "id": "1d3735e4-1f46-431c-bf94-290f5712c15d",
   "metadata": {},
   "source": [
    "Escribe una función que devuelva\n",
    "la parte más significativa desde el $n$-ésimo dígito de un número.\n",
    "\n",
    "<img style='height:8em' src='digitos1.png'>\n",
    "\n",
    "La función debe llamarse `most_significant`. El primer argumento debe ser un `int` conteniendo el número y el segundo otro `int` conteniendo la posición.\n",
    "No se deben usar ni potencias ni la función `str`."
   ]
  },
  {
   "cell_type": "code",
   "execution_count": 23,
   "id": "61288b5c-24e6-42ab-95ce-be1cabd0b44b",
   "metadata": {
    "nbgrader": {
     "grade": false,
     "grade_id": "cell-e563669693c0f657",
     "locked": false,
     "schema_version": 3,
     "solution": true,
     "task": false
    },
    "tags": []
   },
   "outputs": [],
   "source": [
    "### BEGIN SOLUTION\n",
    "def most_significant(number:int, position:int, base:int=10) ->int:\n",
    "    \"\"\"\n",
    "    This function returns the most significant part\n",
    "    of a number in the given base from position\n",
    "    Example\n",
    "    number = 351372\n",
    "    pos = 4\n",
    "    base = 10\n",
    "    retruns 35\n",
    "    \n",
    "\n",
    "    \"\"\"\n",
    "    i = 0\n",
    "    while i<position:\n",
    "        number = number//base\n",
    "        i += 1\n",
    "    return number\n",
    "### END SOLUTION"
   ]
  },
  {
   "cell_type": "code",
   "execution_count": null,
   "id": "61e74bdd-5786-48fa-a6ed-7787a175af22",
   "metadata": {},
   "outputs": [],
   "source": []
  },
  {
   "cell_type": "code",
   "execution_count": 24,
   "id": "73cde452-2f81-4930-af89-76f1c9155f66",
   "metadata": {
    "nbgrader": {
     "grade": true,
     "grade_id": "cell-30629d172f535e36",
     "locked": true,
     "points": 1,
     "schema_version": 3,
     "solution": false,
     "task": false
    },
    "tags": []
   },
   "outputs": [
    {
     "name": "stdout",
     "output_type": "stream",
     "text": [
      "\"(351372, 0)\", \"351372\"....OK.\n",
      "\"(351372, 1)\", \"35137\"....OK.\n",
      "\"(351372, 2)\", \"3513\"....OK.\n",
      "\"(351372, 3)\", \"351\"....OK.\n",
      "\"(351372, 4)\", \"35\"....OK.\n",
      "\"(351372, 6)\", \"0\"....OK.\n",
      "\"(351372, 7)\", \"0\"....OK.\n"
     ]
    }
   ],
   "source": [
    "def runtests(tests, fun):\n",
    "    for test, ex_res in tests:\n",
    "        print(f'\"{test}\", \"{ex_res}\"....', end='')\n",
    "        res = fun(*test)\n",
    "        assert res == ex_res, f'Error, the result is \"{res}\"'\n",
    "        print('OK.')\n",
    "\n",
    "        \n",
    "def test_most_significant():\n",
    "    wrapper =  most_significant   \n",
    "    tests = [\n",
    "        ((351372, 0), 351372),        \n",
    "        ((351372, 1), 35137),        \n",
    "        ((351372, 2), 3513),        \n",
    "        ((351372, 3), 351),        \n",
    "        ((351372, 4), 35),        \n",
    "        ((351372, 6), 0),        \n",
    "        ((351372, 7), 0),        \n",
    "    ]\n",
    "    runtests(tests, wrapper)\n",
    "    \n",
    "test_most_significant()"
   ]
  },
  {
   "cell_type": "markdown",
   "id": "340c5078-ded7-493a-bd2a-6ce0af33867a",
   "metadata": {},
   "source": [
    "Escribe una función que devuelva la parte menos significativa hasta el $n$-ésimo dígito de un número.\n",
    "\n",
    "<img style='height:8em' src='digitos2.png'>\n",
    "\n",
    "La función debe llamarse `less_significant`. El primer argumento debe ser un `int` conteniendo el número y el segundo otro `int` conteniendo la posición.\n",
    "No se deben usar ni potencias ni la función `str`."
   ]
  },
  {
   "cell_type": "code",
   "execution_count": 25,
   "id": "73885573-26c3-4b82-aca8-873c0864b954",
   "metadata": {
    "nbgrader": {
     "grade": false,
     "grade_id": "cell-a36042eb6e9a89c2",
     "locked": false,
     "schema_version": 3,
     "solution": true,
     "task": false
    },
    "tags": []
   },
   "outputs": [],
   "source": [
    "### BEGIN SOLUTION\n",
    "def less_significant(number: int, position:int, base:int=10) -> int:\n",
    "    \"\"\"\n",
    "    This function returns the least significant part\n",
    "    of a number in the given base from position. \n",
    "    \n",
    "    Example\n",
    "    number = 351372\n",
    "    pos = 4\n",
    "    base = 10\n",
    "    retruns 372\n",
    "    \"\"\"\n",
    "    i = 0\n",
    "    part = 0\n",
    "    pot = 1\n",
    "    while i<position-1:\n",
    "        digit = number%base\n",
    "        part = digit*pot + part\n",
    "        number = number//base\n",
    "        pot *= base\n",
    "        i += 1\n",
    "    return part\n",
    "### END SOLUTION\n"
   ]
  },
  {
   "cell_type": "code",
   "execution_count": null,
   "id": "8f0da612-dc7a-44fb-ad53-02f08a4206ed",
   "metadata": {},
   "outputs": [],
   "source": []
  },
  {
   "cell_type": "code",
   "execution_count": 26,
   "id": "0eac9290-379d-4bb1-b65b-e64b566056a4",
   "metadata": {
    "nbgrader": {
     "grade": true,
     "grade_id": "cell-08d7f5c27d77010c",
     "locked": true,
     "points": 1,
     "schema_version": 3,
     "solution": false,
     "task": false
    },
    "tags": []
   },
   "outputs": [
    {
     "name": "stdout",
     "output_type": "stream",
     "text": [
      "\"(351372, 0)\", \"0\"....OK.\n",
      "\"(351372, 1)\", \"0\"....OK.\n",
      "\"(351372, 2)\", \"2\"....OK.\n",
      "\"(351372, 3)\", \"72\"....OK.\n",
      "\"(351372, 4)\", \"372\"....OK.\n",
      "\"(351372, 5)\", \"1372\"....OK.\n",
      "\"(351372, 6)\", \"51372\"....OK.\n",
      "\"(351372, 8)\", \"351372\"....OK.\n"
     ]
    }
   ],
   "source": [
    "def test_less_significant():\n",
    "    wrapper =  less_significant\n",
    "    tests = [\n",
    "        ((351372, 0), 0),        \n",
    "        ((351372, 1), 0),        \n",
    "        ((351372, 2), 2),        \n",
    "        ((351372, 3), 72),        \n",
    "        ((351372, 4), 372),        \n",
    "        ((351372, 5), 1372),        \n",
    "        ((351372, 6), 51372),        \n",
    "        ((351372, 8), 351372),        \n",
    "    ]\n",
    "    runtests(tests, wrapper)\n",
    "    \n",
    "test_less_significant()"
   ]
  },
  {
   "cell_type": "markdown",
   "id": "eb524a73-cb5c-45ae-b65f-199b26814936",
   "metadata": {},
   "source": [
    "Escribe una función que nos devuelva el dígito $n$-ésimo de un número.\n",
    "\n",
    "<img style='height:10em' src='digitos3.png'>\n",
    "\n",
    "La función debe llamarse `less_significant`. El primer argumento debe ser un `int` conteniendo el número y el segundo otro `int` conteniendo la posición.\n",
    "No se deben usar ni potencias ni la función `str`. La función debe controla que la posición sea positiva (la primera posición es la 1)."
   ]
  },
  {
   "cell_type": "code",
   "execution_count": 27,
   "id": "413ee82e-e9e9-4602-82d2-5aa867d48ec2",
   "metadata": {
    "nbgrader": {
     "grade": false,
     "grade_id": "cell-670b4f7a02d78182",
     "locked": false,
     "schema_version": 3,
     "solution": true,
     "task": false
    },
    "tags": []
   },
   "outputs": [],
   "source": [
    "### BEGIN SOLUTION\n",
    "\n",
    "def digit_in_pos(number: int, position:int, base:int=10) -> int:\n",
    "    \"\"\"\n",
    "    This function returns the digit \n",
    "    of a number in the given base in the given position. \n",
    "    \n",
    "    Example\n",
    "    number = 351372\n",
    "    pos = 4\n",
    "    base = 10\n",
    "    retruns 1\n",
    "    \"\"\"\n",
    "    assert position>0, 'The position must be a positive integer'\n",
    "    i = 0\n",
    "    while i<position:\n",
    "        digit = number%base\n",
    "        number = number//base\n",
    "        i += 1\n",
    "    return digit\n",
    "### END SOLUTION\n"
   ]
  },
  {
   "cell_type": "code",
   "execution_count": null,
   "id": "285b9179-52c3-464e-b2c9-f5232482745e",
   "metadata": {},
   "outputs": [],
   "source": []
  },
  {
   "cell_type": "code",
   "execution_count": 28,
   "id": "b857dd48-aed7-41e5-9427-b4152eb060d9",
   "metadata": {
    "nbgrader": {
     "grade": true,
     "grade_id": "cell-859672734b482eee",
     "locked": true,
     "points": 1,
     "schema_version": 3,
     "solution": false,
     "task": false
    },
    "tags": []
   },
   "outputs": [
    {
     "name": "stdout",
     "output_type": "stream",
     "text": [
      "\"(351372, 1)\", \"2\"....OK.\n",
      "\"(351372, 2)\", \"7\"....OK.\n",
      "\"(351372, 3)\", \"3\"....OK.\n",
      "\"(351372, 4)\", \"1\"....OK.\n",
      "\"(351372, 5)\", \"5\"....OK.\n",
      "\"(351372, 6)\", \"3\"....OK.\n"
     ]
    }
   ],
   "source": [
    "def test_digit_in_pos():\n",
    "    wrapper =  digit_in_pos\n",
    "    tests = [\n",
    "        ((351372, 1), 2),        \n",
    "        ((351372, 2), 7),        \n",
    "        ((351372, 3), 3),        \n",
    "        ((351372, 4), 1),        \n",
    "        ((351372, 5), 5),        \n",
    "        ((351372, 6), 3),        \n",
    "    ]\n",
    "    runtests(tests, wrapper)\n",
    "    \n",
    "test_digit_in_pos()"
   ]
  }
 ],
 "metadata": {
  "kernelspec": {
   "display_name": "Python 3 (ipykernel)",
   "language": "python",
   "name": "python3"
  },
  "language_info": {
   "codemirror_mode": {
    "name": "ipython",
    "version": 3
   },
   "file_extension": ".py",
   "mimetype": "text/x-python",
   "name": "python",
   "nbconvert_exporter": "python",
   "pygments_lexer": "ipython3",
   "version": "3.9.14"
  }
 },
 "nbformat": 4,
 "nbformat_minor": 5
}
