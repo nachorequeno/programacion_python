{
 "cells": [
  {
   "cell_type": "markdown",
   "id": "60984f69-6940-49d5-992f-1da594dc5a47",
   "metadata": {},
   "source": [
    "# Palíndromos\n",
    "\n",
    "Una palabra es un palíndromo se se lee igual del derecho que del revés. Por ejemplo `anilina`. Haz una función llamada `is_palindrome` que indique si la palabra pasada como argumento es un palíndromo."
   ]
  },
  {
   "cell_type": "code",
   "execution_count": 10,
   "id": "a98dde3a-da55-4168-b466-c84fd59eea64",
   "metadata": {
    "nbgrader": {
     "grade": false,
     "grade_id": "cell-82e9a011e7f1a11e",
     "locked": false,
     "schema_version": 3,
     "solution": true,
     "task": false
    },
    "tags": []
   },
   "outputs": [],
   "source": [
    "### BEGIN SOLUTION\n",
    "def is_palindrome(s: str) -> bool:\n",
    "    i = 0\n",
    "    while i<len(s)//2 and s[i]==s[-i-1]:\n",
    "        i = i + 1\n",
    "    return i>=len(s)//2\n",
    "### END SOLUTION"
   ]
  },
  {
   "cell_type": "code",
   "execution_count": 11,
   "id": "c0cfed03-c0d3-4cc5-b2d2-6be62d3e620b",
   "metadata": {},
   "outputs": [
    {
     "data": {
      "text/plain": [
       "True"
      ]
     },
     "execution_count": 11,
     "metadata": {},
     "output_type": "execute_result"
    }
   ],
   "source": []
  },
  {
   "cell_type": "code",
   "execution_count": 12,
   "id": "0520e8b5-d32a-49c7-afad-f50fa1022628",
   "metadata": {
    "nbgrader": {
     "grade": true,
     "grade_id": "cell-19e8c742e23bbc99",
     "locked": true,
     "points": 1,
     "schema_version": 3,
     "solution": false,
     "task": false
    },
    "tags": []
   },
   "outputs": [
    {
     "name": "stdout",
     "output_type": "stream",
     "text": [
      "\"('',)\", \"True\"....OK.\n",
      "\"('a',)\", \"True\"....OK.\n",
      "\"('abc',)\", \"False\"....OK.\n",
      "\"('abcba',)\", \"True\"....OK.\n",
      "\"('abcca',)\", \"False\"....OK.\n",
      "\"('abba',)\", \"True\"....OK.\n",
      "\"('abca',)\", \"False\"....OK.\n"
     ]
    }
   ],
   "source": [
    "def runtests(tests, fun):\n",
    "    for test, ex_res in tests:\n",
    "        print(f'\"{test}\", \"{ex_res}\"....', end='')\n",
    "        res = fun(*test)\n",
    "        assert res == ex_res, f'Error, the result is \"{res}\"'\n",
    "        print('OK.')\n",
    "\n",
    "        \n",
    "def test_is_palindrome():\n",
    "    def wrapper(s: str):\n",
    "        return is_palindrome(s)\n",
    "    \n",
    "    tests = [\n",
    "        (('', ), True),\n",
    "        (('a', ), True),        \n",
    "        (('abc', ), False),\n",
    "        (('abcba', ), True),\n",
    "        (('abcca', ), False),\n",
    "        (('abba', ), True),\n",
    "        (('abca', ), False),\n",
    "    ]\n",
    "    runtests(tests, wrapper)\n",
    "\n",
    "\n",
    "    \n",
    "test_is_palindrome()    "
   ]
  },
  {
   "cell_type": "markdown",
   "id": "02c75e13-68f2-4b4d-9345-fd022219b7f5",
   "metadata": {},
   "source": [
    "Realiza una función que indique si la representación en una base dada es capicúa. La función se debe llamar `is_palindrome_number`. Debe admitir dos parámetros, uno es el número en sí, y otro es la base. El número debe ser no negativo y la base debe ser un entero entre 2 y 10 (ambos incluidos).\n",
    "\n",
    "Ejemplo\n",
    "  252 en base 10 es capicúa.\n",
    "  252 en base  2 es 11111100 no es capicúa\n",
    "  5 en base 2: 101 es capicúa.\n",
    "  \n",
    "**PISTA:** Debes usar una función que dado un entero, devuelva su representación en la base deseada como cadena de caracteres (vista en clase)."
   ]
  },
  {
   "cell_type": "code",
   "execution_count": 13,
   "id": "2c8f9437-ca55-46ce-ab5f-81b44a3ca3b0",
   "metadata": {
    "nbgrader": {
     "grade": false,
     "grade_id": "cell-75f0bd443bda3a99",
     "locked": false,
     "schema_version": 3,
     "solution": true,
     "task": false
    },
    "tags": []
   },
   "outputs": [],
   "source": [
    "### BEGIN SOLUTION\n",
    "def repr_int(num: int, base:int):\n",
    "    rpr = ''\n",
    "    while num>0:\n",
    "        digit = num % base\n",
    "        rpr = chr(digit + ord('0')) + rpr\n",
    "        num = num // base\n",
    "    if rpr == '':\n",
    "        rpr = '0'\n",
    "    return rpr\n",
    "\n",
    "\n",
    "def is_palindrome_number(num: int, base:int) -> bool:\n",
    "    assert base>1 \n",
    "    assert base<11\n",
    "    assert num>=0\n",
    "    \n",
    "    return is_palindrome(repr_int(num, base))\n",
    "### END SOLUTION"
   ]
  },
  {
   "cell_type": "code",
   "execution_count": null,
   "id": "ef766c09-8da6-4751-81c6-607a3e77ff0b",
   "metadata": {},
   "outputs": [],
   "source": []
  },
  {
   "cell_type": "code",
   "execution_count": 14,
   "id": "3aa23b3b-7c32-4cab-bb94-91856db1a98b",
   "metadata": {
    "nbgrader": {
     "grade": true,
     "grade_id": "cell-b9171c9833368745",
     "locked": true,
     "points": 1,
     "schema_version": 3,
     "solution": false,
     "task": false
    },
    "tags": []
   },
   "outputs": [
    {
     "name": "stdout",
     "output_type": "stream",
     "text": [
      "\"(0, 2)\", \"True\"....OK.\n",
      "\"(2, 10)\", \"True\"....OK.\n",
      "\"(5, 2)\", \"True\"....OK.\n",
      "\"(13, 10)\", \"False\"....OK.\n",
      "\"(252, 10)\", \"True\"....OK.\n",
      "\"(252, 2)\", \"False\"....OK.\n"
     ]
    }
   ],
   "source": [
    "def test_is_palindrome_number():\n",
    "    def wrapper(num: int, base:int):\n",
    "        return is_palindrome_number(num, base)\n",
    "    \n",
    "    tests = [\n",
    "        ((0, 2), True),\n",
    "        ((2, 10), True),        \n",
    "        ((5, 2), True),\n",
    "        ((13, 10), False),\n",
    "        ((252, 10), True),\n",
    "        ((252, 2), False)\n",
    "    ]\n",
    "    runtests(tests, wrapper)\n",
    "    \n",
    "    try:\n",
    "        s = is_palindrome_number(10,0)\n",
    "    except AssertionError:\n",
    "        pass\n",
    "    else:\n",
    "        assert False, 'Base 0 not detected'\n",
    "\n",
    "    try:\n",
    "        s = is_palindrome_number(10,1)\n",
    "    except AssertionError:\n",
    "        pass\n",
    "    else:\n",
    "        assert False, 'Base 1 not detected'\n",
    "        \n",
    "    try:\n",
    "        s = is_palindrome_number(10,-1)\n",
    "    except AssertionError:\n",
    "        pass\n",
    "    else:\n",
    "        assert False, 'Negative base not detected'\n",
    "\n",
    "    try:\n",
    "        s = is_palindrome_number(-1,2)\n",
    "    except AssertionError:\n",
    "        pass\n",
    "    else:\n",
    "        assert False, 'Negative number not detected'\n",
    "\n",
    "\n",
    "    \n",
    "test_is_palindrome_number()    "
   ]
  },
  {
   "cell_type": "markdown",
   "id": "d36c5979-c36c-4699-8d6a-c4f66742ac66",
   "metadata": {},
   "source": [
    "## Conjetura de la formación de palíndromos.\n",
    "\n",
    "Dado un número, lo sumamos a su reverso.\n",
    "Si esta suma es un palíndromo, entonces paramos;\n",
    "y si no, repetimos el proceso con el número obtenido de dicha suma,\n",
    "hasta dar con un palíndromo.\n",
    "            $$\n",
    "            \\begin{array}{ccccccccc}\n",
    "              59 &\\rightarrow& \n",
    "              \\begin{array}{cr}\n",
    "                &59\\\\\n",
    "                +&95\\\\ \n",
    "                \\hline & 154\n",
    "              \\end{array}&\\rightarrow&\n",
    "              \\begin{array}{cr}\n",
    "                &154\\\\\n",
    "                +&451\\\\ \n",
    "                \\hline & 605\n",
    "              \\end{array}&\\rightarrow&\n",
    "              \\begin{array}{cr}\n",
    "                &605\\\\\n",
    "                +&506\\\\ \n",
    "                \\hline & 1111\n",
    "              \\end{array}\n",
    "              &\\rightarrow& 1111 \\\\\n",
    "            \\end{array}\n",
    "            $$\n",
    "otro ejemplo\n",
    "$$\n",
    "            \\begin{array}{ccccccccc}\n",
    "                317 &\\rightarrow& \n",
    "                \\begin{array}{cc}\n",
    "                  &317\\\\\n",
    "                  +&713\\\\ \n",
    "                  \\hline & 1030\n",
    "                \\end{array}&\\rightarrow&\n",
    "                \\begin{array}{cc}\n",
    "                  &1030\\\\\n",
    "                  +&0301\\\\ \n",
    "                  \\hline & 1331\n",
    "                \\end{array}\n",
    "                &\\rightarrow&1331\\\\\n",
    "              \\end{array}\n",
    "                $$\n",
    "\n",
    "Realiza una función que dado un número, nos indique el palíndromo al que se llega según ese procedimiento. La función se debe llamara `conj_palindrome` y debe tomar como parámetro un entero no negativo y devolver otro entero.\n",
    "**PISTA**: Debes hacer una función que dado su número, calcule el inverso. Además debes usar la función `is_palindrome_number` definida anteriormente."
   ]
  },
  {
   "cell_type": "code",
   "execution_count": 33,
   "id": "ae3f17bd-9137-4e0e-9585-03d2a3434794",
   "metadata": {
    "nbgrader": {
     "grade": false,
     "grade_id": "cell-9374370921996a4d",
     "locked": false,
     "schema_version": 3,
     "solution": true,
     "task": false
    },
    "tags": []
   },
   "outputs": [],
   "source": [
    "### BEGIN SOLUTION\n",
    "def reverse(num:int, base=10) -> int:\n",
    "    rev = 0\n",
    "    while num>0:\n",
    "        digit = num%base\n",
    "        rev = rev * base + digit \n",
    "        num = num//base\n",
    "    return rev\n",
    "\n",
    "def conj_palindrome(num: int) -> int:\n",
    "    assert num>=0\n",
    "    while not is_palindrome_number(num, 10):\n",
    "        num = num + reverse(num)\n",
    "    return num\n",
    "### END SOLUTION"
   ]
  },
  {
   "cell_type": "code",
   "execution_count": null,
   "id": "801ebc99-8014-4bfe-bc7e-0ab9318567c8",
   "metadata": {},
   "outputs": [],
   "source": []
  },
  {
   "cell_type": "code",
   "execution_count": 34,
   "id": "eb0105b4-6fda-4cf4-aae1-059cc4cf3aa1",
   "metadata": {
    "nbgrader": {
     "grade": true,
     "grade_id": "cell-e29f294965a4443d",
     "locked": true,
     "points": 0,
     "schema_version": 3,
     "solution": false,
     "task": false
    },
    "tags": []
   },
   "outputs": [
    {
     "name": "stdout",
     "output_type": "stream",
     "text": [
      "\"(0,)\", \"0\"....OK.\n",
      "\"(1,)\", \"1\"....OK.\n",
      "\"(59,)\", \"1111\"....OK.\n",
      "\"(317,)\", \"1331\"....OK.\n",
      "\"(3452565,)\", \"89222298\"....OK.\n",
      "\"(131,)\", \"131\"....OK.\n"
     ]
    }
   ],
   "source": [
    "def test_conj_palindrome():\n",
    "    def wrapper(num: int):\n",
    "        return conj_palindrome(num)\n",
    "    \n",
    "    tests = [\n",
    "        ((0, ), 0),\n",
    "        ((1, ), 1),\n",
    "        ((59, ), 1111),        \n",
    "        ((317, ), 1331),\n",
    "        ((3452565, ), 89222298),\n",
    "        ((131, ), 131)\n",
    "    ]\n",
    "    runtests(tests, wrapper)\n",
    "        \n",
    "    try:\n",
    "        s = conj_palindrome(-1)\n",
    "    except AssertionError:\n",
    "        pass\n",
    "    else:\n",
    "        assert False, 'Positive number not checked'\n",
    "        \n",
    "test_conj_palindrome()"
   ]
  }
 ],
 "metadata": {
  "kernelspec": {
   "display_name": "Python 3 (ipykernel)",
   "language": "python",
   "name": "python3"
  },
  "language_info": {
   "codemirror_mode": {
    "name": "ipython",
    "version": 3
   },
   "file_extension": ".py",
   "mimetype": "text/x-python",
   "name": "python",
   "nbconvert_exporter": "python",
   "pygments_lexer": "ipython3",
   "version": "3.9.14"
  }
 },
 "nbformat": 4,
 "nbformat_minor": 5
}
