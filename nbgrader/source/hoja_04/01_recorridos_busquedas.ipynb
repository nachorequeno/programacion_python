{
 "cells": [
  {
   "cell_type": "markdown",
   "id": "8ce18166-3b9b-4a99-939a-2aa4f524991d",
   "metadata": {},
   "source": [
    "# Recorridos y búsquedas en cadenas de caracteres\n",
    "\n",
    "En estas funciones sólo se pueden realizar accesos a las componentes de la cadena de caracteres `s[pos]`, función `len`, y concatenación de cadenas de caracteres (operador `+`)."
   ]
  },
  {
   "cell_type": "markdown",
   "id": "983ec7f3-c1d7-4588-940a-56c3b7ec49ff",
   "metadata": {},
   "source": [
    "Realiza una función que nos indique cuántas apariciones de una letra hay en una cadena de caracteres."
   ]
  },
  {
   "cell_type": "code",
   "execution_count": 3,
   "id": "f098f147-434a-48ee-984b-06a3098a5074",
   "metadata": {
    "nbgrader": {
     "grade": false,
     "grade_id": "cell-cf5326ab86db4507",
     "locked": false,
     "schema_version": 3,
     "solution": true,
     "task": false
    },
    "tags": []
   },
   "outputs": [],
   "source": [
    "def count_occurrences(s: str, ltr:str) -> int:\n",
    "    ### BEGIN SOLUTION\n",
    "    assert len(ltr) == 1\n",
    "    i = 0\n",
    "    count = 0\n",
    "    while i<len(s):\n",
    "        if s[i] == ltr:\n",
    "            count = count + 1\n",
    "        i = i + 1\n",
    "    return count\n",
    "    ### END SOLUTION"
   ]
  },
  {
   "cell_type": "code",
   "execution_count": null,
   "id": "47dbaa24-1395-4cad-b5cd-6347ccc35402",
   "metadata": {},
   "outputs": [],
   "source": []
  },
  {
   "cell_type": "code",
   "execution_count": 4,
   "id": "5b6b09aa-ceff-4386-831d-63397e14177e",
   "metadata": {
    "nbgrader": {
     "grade": true,
     "grade_id": "cell-5097dda96cae9762",
     "locked": true,
     "points": 1,
     "schema_version": 3,
     "solution": false,
     "task": false
    },
    "tags": []
   },
   "outputs": [
    {
     "name": "stdout",
     "output_type": "stream",
     "text": [
      "\"('', 'g')\", \"0\"....OK.\n",
      "\"('abc', 'g')\", \"0\"....OK.\n",
      "\"('abaca', 'a')\", \"3\"....OK.\n",
      "\"('abaca', 'b')\", \"1\"....OK.\n"
     ]
    }
   ],
   "source": [
    "from functools import total_ordering\n",
    "\n",
    "@total_ordering\n",
    "\n",
    "class WrapperStr(str):\n",
    "    def __init__(self, s: str):\n",
    "        self.str = s\n",
    "    def __eq__(self, other):\n",
    "            if len(self.str)!=1 or len(other)!=1:\n",
    "                raise Exception(f'It is illegal to compare strings of lengh greater than 1: \"{self.str}\", \"{other.str}\"')\n",
    "            return self.str==other\n",
    "    def __le__(self, other):\n",
    "            if len(self.str)!=1 or len(other)!=1:\n",
    "                raise Exception(f'It is illegal to compare strings of lengh greater than 1: \"{self.str}\", \"{other.str}\"')\n",
    "            return self.str<other\n",
    "    \n",
    "    def __contains__(self, item):\n",
    "            raise Exception(f'Illegal call to \"in\"')\n",
    "    def __getitem__(self, key):\n",
    "        if not isinstance(key, int):\n",
    "            raise Exception(f'Illegal call [{key}]')\n",
    "        return self.str[key]\n",
    "    \n",
    "def runtests(tests, fun):\n",
    "    for test, ex_res in tests:\n",
    "        print(f'\"{test}\", \"{ex_res}\"....', end='')\n",
    "        res = fun(*test)\n",
    "        assert res == ex_res, f'Error, the result is \"{res}\"'\n",
    "        print('OK.')\n",
    "\n",
    "        \n",
    "def test_count_occurrences():\n",
    "    def wrapper(s: str, ltr: str):\n",
    "        return count_occurrences(WrapperStr(s), WrapperStr(ltr))\n",
    "    \n",
    "    tests = [\n",
    "        (('', 'g'),0),        \n",
    "        (('abc', 'g'),0),\n",
    "        (('abaca', 'a'),3),\n",
    "        (('abaca', 'b'),1),\n",
    "    ]\n",
    "    runtests(tests, wrapper)\n",
    "    \n",
    "    try:\n",
    "        s = count_occurrences('a', 'bc')\n",
    "    except AssertionError:\n",
    "        pass\n",
    "    else:\n",
    "        assert False, f'The function must check that lentgh of the second argument is 1'\n",
    "    \n",
    "test_count_occurrences()"
   ]
  },
  {
   "cell_type": "markdown",
   "id": "f085cc62-3e5d-460b-af37-36bc0df96856",
   "metadata": {},
   "source": [
    "Realiza una función que indique si una letra aparece en una secuencia de caracteres"
   ]
  },
  {
   "cell_type": "code",
   "execution_count": 5,
   "id": "b06eaa81-b7b1-4a4e-8239-72ce08fc10c3",
   "metadata": {},
   "outputs": [],
   "source": [
    "### Función no válida\n",
    "def is_in(s: str, ltr: str) -> bool:\n",
    "    return ltr in s"
   ]
  },
  {
   "cell_type": "code",
   "execution_count": 6,
   "id": "ff7ed2b7-0745-4aea-97b2-6deec5cec20b",
   "metadata": {
    "nbgrader": {
     "grade": false,
     "grade_id": "cell-f5592fa560c7e7c5",
     "locked": false,
     "schema_version": 3,
     "solution": true,
     "task": false
    },
    "tags": []
   },
   "outputs": [],
   "source": [
    "def is_in(s: str, ltr:str) -> bool:\n",
    "    ### BEGIN SOLUTION\n",
    "    i = 0\n",
    "    while i<len(s) and s[i]!=ltr:\n",
    "        i = i + 1\n",
    "    return i<len(s)\n",
    "    ### END SOLUTION"
   ]
  },
  {
   "cell_type": "code",
   "execution_count": null,
   "id": "f03afe3b-0486-4d4c-b321-90c5a77cd4e6",
   "metadata": {},
   "outputs": [],
   "source": []
  },
  {
   "cell_type": "code",
   "execution_count": 7,
   "id": "0b273c89-35d3-4157-8ea5-dec707721df2",
   "metadata": {
    "nbgrader": {
     "grade": true,
     "grade_id": "cell-fcaadffb75eea7d2",
     "locked": true,
     "points": 1,
     "schema_version": 3,
     "solution": false,
     "task": false
    },
    "tags": []
   },
   "outputs": [
    {
     "name": "stdout",
     "output_type": "stream",
     "text": [
      "\"('', 'g')\", \"False\"....OK.\n",
      "\"('abc', 'g')\", \"False\"....OK.\n",
      "\"('abaca', 'a')\", \"True\"....OK.\n",
      "\"('abaca', 'b')\", \"True\"....OK.\n",
      "\"('abac', 'c')\", \"True\"....OK.\n"
     ]
    }
   ],
   "source": [
    "def test_is_in():\n",
    "    def wrapper(s1: str, s2:str):\n",
    "        return is_in(WrapperStr(s1), WrapperStr(s2))\n",
    "\n",
    "    tests = [\n",
    "        (('', 'g'),False),        \n",
    "        (('abc', 'g'),False),\n",
    "        (('abaca', 'a'),True),\n",
    "        (('abaca', 'b'),True),\n",
    "        (('abac', 'c'),True),\n",
    "    ]\n",
    "    runtests(tests, wrapper)\n",
    "    \n",
    "test_is_in()"
   ]
  },
  {
   "cell_type": "markdown",
   "id": "205eb0d3-030c-4374-9864-53cd73c2f105",
   "metadata": {},
   "source": [
    "Realiza una función que compruebe si dos cadenas de caracteres son iguales. Obviamente no vale hacer `return s1==s2`. Solo se debe comprobar la igualdad entre posiciones de las cadenas de caracteres del tipo `s2[1]==s1[1]`. La función se debe llamar `are_equal`"
   ]
  },
  {
   "cell_type": "code",
   "execution_count": 8,
   "id": "bbc8a80b-fcce-46d6-9ea8-958e608264b0",
   "metadata": {},
   "outputs": [],
   "source": [
    "### Esta función no vale\n",
    "def are_equal(s1: str, s2:str) -> bool:\n",
    "    return s1 == s2"
   ]
  },
  {
   "cell_type": "code",
   "execution_count": 9,
   "id": "577c83f6-7eb9-44ff-9359-a0bf7c8d5839",
   "metadata": {
    "nbgrader": {
     "grade": false,
     "grade_id": "cell-b3341994899df8fc",
     "locked": false,
     "schema_version": 3,
     "solution": true,
     "task": false
    },
    "tags": []
   },
   "outputs": [],
   "source": [
    "### BEGIN SOLUTION\n",
    "def are_equal(s1: str, s2:str) -> bool:\n",
    "    res = False\n",
    "    if len(s1)==len(s2):\n",
    "        i = 0\n",
    "        while i<len(s1) and s1[i]==s2[i]:\n",
    "            i = i + 1\n",
    "        res = i==len(s1)\n",
    "    return res\n",
    "### END SOLUTION"
   ]
  },
  {
   "cell_type": "code",
   "execution_count": null,
   "id": "d34033c6-4a9f-40b8-aa17-fbccb2c799bb",
   "metadata": {},
   "outputs": [],
   "source": []
  },
  {
   "cell_type": "code",
   "execution_count": 10,
   "id": "e5cccb65-9af1-40b3-bd5c-e0452334df35",
   "metadata": {
    "nbgrader": {
     "grade": true,
     "grade_id": "cell-6a5207d422a667c4",
     "locked": true,
     "points": 1,
     "schema_version": 3,
     "solution": false,
     "task": false
    },
    "tags": []
   },
   "outputs": [
    {
     "name": "stdout",
     "output_type": "stream",
     "text": [
      "\"('', 'g')\", \"False\"....OK.\n",
      "\"('abc', 'g')\", \"False\"....OK.\n",
      "\"('g', '')\", \"False\"....OK.\n",
      "\"('aba', 'ab')\", \"False\"....OK.\n",
      "\"('ab', 'aba')\", \"False\"....OK.\n",
      "\"('', '')\", \"True\"....OK.\n",
      "\"('abc', 'abc')\", \"True\"....OK.\n"
     ]
    }
   ],
   "source": [
    "\n",
    "def test_are_equal():\n",
    "    def wrapper(s1: str, s2:str):\n",
    "        return are_equal(WrapperStr(s1), WrapperStr(s2))\n",
    "                                \n",
    "    tests = [\n",
    "        (('', 'g'),False),        \n",
    "        (('abc', 'g'),False),\n",
    "        (('g', ''),False),\n",
    "        (('aba', 'ab'),False),\n",
    "        (('ab', 'aba'),False),\n",
    "        (('', ''),True),        \n",
    "        (('abc', 'abc'),True),        \n",
    "    ]\n",
    "    runtests(tests, wrapper)\n",
    "\n",
    "test_are_equal()"
   ]
  },
  {
   "cell_type": "markdown",
   "id": "10d3e0c4-c354-40d2-b463-83a2047f2e5a",
   "metadata": {},
   "source": [
    "Realiza una función que admita 2 cadenas de caractes e indique si la primera es anterior a la segunda según el orden lexicográfico. Al igual que en el ejercicio anterior solo se pueden hacer comparaciones de una sola letra. La función se debe llamar `less_than`"
   ]
  },
  {
   "cell_type": "code",
   "execution_count": 11,
   "id": "eb7a86ca-70ec-4343-a780-e9eaa33ac0e1",
   "metadata": {},
   "outputs": [],
   "source": [
    "### Esta función no vale\n",
    "def less_than(s1: str, s2:str) -> bool:\n",
    "    return s1 == s2"
   ]
  },
  {
   "cell_type": "code",
   "execution_count": 12,
   "id": "fb44bf08-fa71-42a6-bea2-9c817f008413",
   "metadata": {
    "nbgrader": {
     "grade": false,
     "grade_id": "cell-f9239a91e0565956",
     "locked": false,
     "schema_version": 3,
     "solution": true,
     "task": false
    },
    "tags": []
   },
   "outputs": [],
   "source": [
    "### BEGIN SOLUTION\n",
    "def less_than(s1: str, s2:str) -> bool:\n",
    "    i = 0\n",
    "    while i<len(s1) and i<len(s2) and s1[i]==s2[i]:\n",
    "        i = i + 1\n",
    "        \n",
    "    if i < len(s2) and i==len(s1):\n",
    "        res = True\n",
    "    elif i<=len(s1) and i==len(s2):\n",
    "        res = False\n",
    "    else:\n",
    "        res = s1[i]<s2[i]\n",
    "    return res\n",
    "### END SOLUTION"
   ]
  },
  {
   "cell_type": "code",
   "execution_count": 14,
   "id": "753699b6-4265-4cd9-b4ee-e86baeaec23b",
   "metadata": {
    "nbgrader": {
     "grade": true,
     "grade_id": "cell-caa0ae6167cd54af",
     "locked": true,
     "points": 1,
     "schema_version": 3,
     "solution": false,
     "task": false
    },
    "tags": []
   },
   "outputs": [
    {
     "name": "stdout",
     "output_type": "stream",
     "text": [
      "\"('', 'g')\", \"True\"....OK.\n",
      "\"('abc', 'g')\", \"True\"....OK.\n",
      "\"('g', '')\", \"False\"....OK.\n",
      "\"('aba', 'ab')\", \"False\"....OK.\n",
      "\"('ab', 'aba')\", \"True\"....OK.\n",
      "\"('', '')\", \"False\"....OK.\n",
      "\"('abc', 'abc')\", \"False\"....OK.\n",
      "\"('abc', 'abd')\", \"True\"....OK.\n"
     ]
    }
   ],
   "source": [
    "                                \n",
    "def test_less_than():\n",
    "    def wrapper(s1: str, s2:str):\n",
    "        return less_than(WrapperStr(s1), WrapperStr(s2))\n",
    "\n",
    "    tests = [\n",
    "        (('', 'g'),True),        \n",
    "        (('abc', 'g'),True),\n",
    "        (('g', ''),False),\n",
    "        (('aba', 'ab'),False),\n",
    "        (('ab', 'aba'),True),\n",
    "        (('', ''),False),        \n",
    "        (('abc', 'abc'),False),        \n",
    "        (('abc', 'abd'),True),        \n",
    "    ]\n",
    "    runtests(tests, wrapper)\n",
    "\n",
    "\n",
    "test_less_than()"
   ]
  },
  {
   "cell_type": "markdown",
   "id": "c128a673-fe85-468e-b4ec-40c01fbbb0b2",
   "metadata": {},
   "source": [
    "Implementar una función que se llame `slice` que admita como parámteros una cadena de caracteres, una posición inicial y una posición final. La función debe devolver los caracteres entre la posición inicial (incluida) y la posición final (sin incluir). Se debe comprobar que ambos índices toman valores no negativos y que estén en las posiciones adecuadas."
   ]
  },
  {
   "cell_type": "code",
   "execution_count": null,
   "id": "3de4ad43-4a1c-426d-9416-4604e2b9db0c",
   "metadata": {},
   "outputs": [],
   "source": [
    "### Función no válida\n",
    "def slice(s: str, ini:int, end: int) -> str:\n",
    "    return s[ini:end]"
   ]
  },
  {
   "cell_type": "code",
   "execution_count": null,
   "id": "a719394a-72e6-4fb4-b0f1-f377c4b8b25f",
   "metadata": {
    "nbgrader": {
     "grade": false,
     "grade_id": "cell-ca0a43fa04621ec7",
     "locked": false,
     "schema_version": 3,
     "solution": true,
     "task": false
    },
    "tags": []
   },
   "outputs": [],
   "source": [
    "### BEGIN SOLUTION\n",
    "def slice(s: str, ini:int, end: int) -> str:\n",
    "    assert 0<=ini<len(s), f'The initial position must be a legal position'\n",
    "    assert 0<=end<=len(s), f'The final position must be a legal position'\n",
    "    i = ini\n",
    "    cad = ''\n",
    "    while i<end:\n",
    "        cad = cad + s[i]\n",
    "        i = i+1\n",
    "    return cad\n",
    "### END SOLUTION\n",
    "    "
   ]
  },
  {
   "cell_type": "code",
   "execution_count": null,
   "id": "6be35664-c946-4e96-a1aa-350d0dcd85e2",
   "metadata": {},
   "outputs": [],
   "source": []
  },
  {
   "cell_type": "code",
   "execution_count": null,
   "id": "3232e7c3-46e7-4c04-899b-b04585f60fe5",
   "metadata": {
    "nbgrader": {
     "grade": true,
     "grade_id": "cell-ab1fd055e866469d",
     "locked": true,
     "points": 0,
     "schema_version": 3,
     "solution": false,
     "task": false
    }
   },
   "outputs": [],
   "source": [
    "                                \n",
    "def test_less_than():\n",
    "    def wrapper(s1: str, ini:int, end: int) -> str:\n",
    "        return slice(WrapperStr(s1), ini, end)\n",
    "\n",
    "    tests = [\n",
    "        (('abc', 0, 0), ''),\n",
    "        (('abc', 0, 1), 'a'),\n",
    "        (('abc', 0, 3), 'abc'),\n",
    "        (('abc', 1, 3), 'bc'),\n",
    "        (('abc', 2, 3), 'c'),\n",
    "        (('abc', 2, 1), ''),\n",
    "    ]\n",
    "    runtests(tests, wrapper)\n",
    "    \n",
    "    try:\n",
    "        s = slice('a', -1, 1)\n",
    "    except AssertionError:\n",
    "        pass\n",
    "    else:\n",
    "        assert False, 'The function does not check that the initial position must be non-negative'\n",
    "        \n",
    "    try:\n",
    "        s = slice('a', 1, -1)\n",
    "    except AssertionError:\n",
    "        pass\n",
    "    else:\n",
    "        assert False, 'The function does not check that the final position must be non-negative'\n",
    "\n",
    "    try:    \n",
    "        s = slice('a', 2, 2)\n",
    "    except AssertionError:\n",
    "        pass\n",
    "    else:\n",
    "        assert False, 'The function does not check that the inital position is a legal position'\n",
    "\n",
    "    try:    \n",
    "        s = slice('a', 0, 2)\n",
    "    except AssertionError:\n",
    "        pass\n",
    "    else:\n",
    "        assert False, 'The function does not check that the final position is a legal position'\n",
    "\n",
    "\n",
    "\n",
    "test_less_than()"
   ]
  },
  {
   "cell_type": "markdown",
   "id": "8986ac75-ddaf-48f7-a83c-c507a2cc1276",
   "metadata": {},
   "source": [
    "Ahora vamos a hacer una función que nos devuelva la siguiente aparición de una letra en la cadena de caracteres. La fución se deberá llamar `next_occurrence`, y debe admitir como parámetros (en este orden) una cadena de caractares donde vamos a buscar, un carácter y la posición inicial donde queremos buscar. La función debe\n",
    "* Devolver la siguente posición en la que aparece la letra que buscamos, que en particular puede ser la posición que en la que nos encontramos. \n",
    "* Si la letra no aparece se devuelve la longitud de la cadena de caracteres.\n",
    "* La función debe comprobar que la posición inicial es una posición 'legal' de la cadena de caracteres. "
   ]
  },
  {
   "cell_type": "code",
   "execution_count": null,
   "id": "13ab9f29-492f-4ede-b06b-cdbd74a5fb92",
   "metadata": {
    "nbgrader": {
     "grade": false,
     "grade_id": "cell-a14fa2f334a84703",
     "locked": false,
     "schema_version": 3,
     "solution": true,
     "task": false
    },
    "tags": []
   },
   "outputs": [],
   "source": [
    "### BEGIN SOLUTION\n",
    "def next_occurrence(s: str, ltr:str, pos:int) -> int:\n",
    "    assert len(ltr) == 1\n",
    "    assert pos>=0, 'The initial position must be non negative'\n",
    "    assert pos<len(s), f'The initial position must be less than len({s}): {pos}'\n",
    "    i = pos\n",
    "    while i<len(s) and s[i]!=ltr:\n",
    "        i = i + 1\n",
    "    return i\n",
    "### END SOLUTION\n",
    "                    "
   ]
  },
  {
   "cell_type": "code",
   "execution_count": null,
   "id": "c38c0456-3543-4211-b07b-4453a5983db0",
   "metadata": {},
   "outputs": [],
   "source": []
  },
  {
   "cell_type": "code",
   "execution_count": null,
   "id": "fb150db9-2c8b-4e41-978d-611ab6f22db2",
   "metadata": {
    "nbgrader": {
     "grade": true,
     "grade_id": "cell-cefb77318c631a38",
     "locked": true,
     "points": 1,
     "schema_version": 3,
     "solution": false,
     "task": false
    },
    "tags": []
   },
   "outputs": [],
   "source": [
    "                                \n",
    "def test_next_ocurrence():\n",
    "    def wrapper(s: str, ltr:str, pos: int) -> int:\n",
    "        return next_occurrence(WrapperStr(s), ltr, pos)\n",
    "                                \n",
    "    tests = [\n",
    "        (('abc', 'a', 0), 0),\n",
    "        (('abc', 'c', 1), 2),\n",
    "        (('abc', 'b', 2), 3),\n",
    "    ]\n",
    "    runtests(tests, wrapper)\n",
    "    \n",
    "    try:\n",
    "        s = next_occurrence('a', 'bc', 0)\n",
    "    except AssertionError:\n",
    "        pass\n",
    "    else:\n",
    "        assert False, f'The function must check that lentgh of the second argument is 1'\n",
    "    \n",
    "    try:\n",
    "        s = next_occurrence('a', 'a', -1)\n",
    "    except AssertionError:\n",
    "        pass\n",
    "    else:\n",
    "        assert False, 'The function does not check that the inicial position must be non-negative'\n",
    "\n",
    "    try:    \n",
    "        s = next_occurrence('a', 'a', 2)\n",
    "    except AssertionError:\n",
    "        pass\n",
    "    else:\n",
    "        assert False, 'The function does not check that the inital position is a legal position'    \n",
    "    \n",
    "test_next_ocurrence()"
   ]
  },
  {
   "cell_type": "markdown",
   "id": "aef5d824-5ad0-4636-ae01-49077ac10328",
   "metadata": {},
   "source": [
    "Realiza una función que indique si una subcadena está contendida en otra. La función se debe llamar `contains`. El primer argumento es la cadena donde buscamos y el segundo argumento es la cadena buscada. Ejemplos:\n",
    "\n",
    "        contains('abc', 'a') ---> True\n",
    "        contains('abc', 'c') --->  True\n",
    "        contains('abc', 'bc') ---> True\n",
    "        contains('abc', '') ---> True\n",
    "        contains('abc', 'd') ---> False\n",
    "        \n",
    "**PISTA:** Usa las funciones `slice` y `are_equal` definidas anteriormente."
   ]
  },
  {
   "cell_type": "code",
   "execution_count": null,
   "id": "1ec7c572-4693-4456-9e03-8d334cc14d9d",
   "metadata": {
    "nbgrader": {
     "grade": false,
     "grade_id": "cell-4348be59b2d313a9",
     "locked": false,
     "schema_version": 3,
     "solution": true,
     "task": false
    }
   },
   "outputs": [],
   "source": [
    "### BEGIN SOLUTION\n",
    "def contains(big: str, small: str) -> bool:\n",
    "    i = 0\n",
    "    while i < len(big)-len(small)+1 and not are_equal(slice(big, i, i+len(small)), small):\n",
    "        i = i +1\n",
    "    return i < len(big)-len(small)+1\n",
    "\n",
    "### END SOLUTION"
   ]
  },
  {
   "cell_type": "code",
   "execution_count": null,
   "id": "e769aae0-8207-4039-ab3d-710ae4eb1ce1",
   "metadata": {},
   "outputs": [],
   "source": []
  },
  {
   "cell_type": "code",
   "execution_count": null,
   "id": "e25ed0fe-fc08-47e1-a9b8-bd04b82da728",
   "metadata": {
    "nbgrader": {
     "grade": true,
     "grade_id": "cell-87a4f685e66db221",
     "locked": true,
     "points": 1,
     "schema_version": 3,
     "solution": false,
     "task": false
    },
    "tags": []
   },
   "outputs": [],
   "source": [
    "def test_contains():\n",
    "    def wrapper(s1: str, s2:str) -> bool:\n",
    "        return contains(WrapperStr(s1), WrapperStr(s2))\n",
    "\n",
    "    tests = [\n",
    "        (('abc', 'a'), True),\n",
    "        (('abc', 'c'), True),\n",
    "        (('abc', 'bc'), True),\n",
    "        (('abc', ''), True),\n",
    "        (('abc', 'd'), False),\n",
    "        (('abc', 'dada'), False),\n",
    "    ]\n",
    "    runtests(tests, wrapper)\n",
    "\n",
    "test_contains()"
   ]
  },
  {
   "cell_type": "markdown",
   "id": "c81a1364-317e-4638-b482-556051711302",
   "metadata": {},
   "source": [
    "Ahora vamos a hacer una función parecida a la que teníamos de next_ocurrence, pero ahora vamos quitar la restricción que que el segundo sea un parámetro y sea una cadena de caracteres arbitraria. \n",
    "Si la cadena no está devolvemos la longitud de la primera cadena. La función se debe llamar `next_occurrence`\n",
    "\n",
    "Ejemplos\n",
    "\n",
    "        next_occurence('ababc', 'ab', 1) ---> 2\n",
    "        next_occurence('ababc', 'cd', 1) ---> 5\n",
    "        "
   ]
  },
  {
   "cell_type": "code",
   "execution_count": null,
   "id": "168933a8-83c0-41f2-87e4-a45af4645e14",
   "metadata": {
    "nbgrader": {
     "grade": false,
     "grade_id": "cell-7524f77203423f14",
     "locked": false,
     "schema_version": 3,
     "solution": true,
     "task": false
    },
    "tags": []
   },
   "outputs": [],
   "source": [
    "### Este código es para evitar errores por la función anterior\n",
    "try:\n",
    "    del next_occurrence\n",
    "except:\n",
    "    pass\n",
    "##############################################################    \n",
    "    \n",
    "### BEGIN SOLUTION\n",
    "def next_occurrence(big: str, small: str, pos: int) -> int:\n",
    "    assert pos>=0\n",
    "    assert pos<len(big)\n",
    "    i = pos\n",
    "    while i < len(big)-len(small)+1 and not are_equal(slice(big, i, i+len(small)), small):\n",
    "        i = i +1\n",
    "    if i < len(big)-len(small)+1:\n",
    "        res = i\n",
    "    else:\n",
    "        res = len(big)\n",
    "    return res\n",
    "        \n",
    "### END SOLUTION"
   ]
  },
  {
   "cell_type": "code",
   "execution_count": null,
   "id": "f455b3a6-e564-4072-a8fd-161057e5d20a",
   "metadata": {},
   "outputs": [],
   "source": []
  },
  {
   "cell_type": "code",
   "execution_count": null,
   "id": "219b20b4-5bb3-497a-bd5c-a869b1038a1e",
   "metadata": {
    "nbgrader": {
     "grade": true,
     "grade_id": "cell-9ec39779a2acbd54",
     "locked": true,
     "points": 1,
     "schema_version": 3,
     "solution": false,
     "task": false
    },
    "tags": []
   },
   "outputs": [],
   "source": [
    "def test_next_ocurrence():\n",
    "    def wrapper(s1: str, s2:str, pos: int) -> int:\n",
    "        return next_occurrence(WrapperStr(s1), WrapperStr(s2), pos)\n",
    "                                \n",
    "    tests = [\n",
    "        (('ababcaba', 'ab', 0), 0),\n",
    "        (('ababcaba', 'ab', 1), 2),\n",
    "        (('ababcaba', 'ab', 2), 2),\n",
    "        (('ababcaba', 'ab', 3), 5),\n",
    "        (('ababcaba', 'ab', 6), 8),\n",
    "    ]\n",
    "    runtests(tests, wrapper)\n",
    "        \n",
    "    try:\n",
    "        s = next_occurrence('a', 'a', -1)\n",
    "    except AssertionError:\n",
    "        pass\n",
    "    else:\n",
    "        assert False, 'The function does not check that the inicial position must be non-negative'\n",
    "\n",
    "    try:    \n",
    "        s = next_occurrence('a', 'a', 2)\n",
    "    except AssertionError:\n",
    "        pass\n",
    "    else:\n",
    "        assert False, 'The function does not check that the inital position is a legal position'    \n",
    "    \n",
    "test_next_ocurrence()"
   ]
  }
 ],
 "metadata": {
  "kernelspec": {
   "display_name": "Python 3 (ipykernel)",
   "language": "python",
   "name": "python3"
  },
  "language_info": {
   "codemirror_mode": {
    "name": "ipython",
    "version": 3
   },
   "file_extension": ".py",
   "mimetype": "text/x-python",
   "name": "python",
   "nbconvert_exporter": "python",
   "pygments_lexer": "ipython3",
   "version": "3.9.14"
  }
 },
 "nbformat": 4,
 "nbformat_minor": 5
}
