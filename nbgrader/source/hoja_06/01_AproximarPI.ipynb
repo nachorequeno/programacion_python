{
 "cells": [
  {
   "cell_type": "markdown",
   "id": "35017469",
   "metadata": {},
   "source": [
    "Aproximar PI con dardos"
   ]
  },
  {
   "cell_type": "code",
   "execution_count": 4,
   "id": "651527db",
   "metadata": {
    "nbgrader": {
     "grade": true,
     "grade_id": "cell-d48eca2aa1bcb480",
     "locked": false,
     "points": 1,
     "schema_version": 3,
     "solution": true,
     "task": false
    }
   },
   "outputs": [],
   "source": [
    "import random\n",
    "def aproximar_pi(dardos):\n",
    "### BEGIN SOLUTION\n",
    "    dentro = 0\n",
    "    i = 0\n",
    "    while i < dardos:\n",
    "        x = random.uniform(-1, 1)\n",
    "        y = random.uniform(-1, 1)\n",
    "        if x*x + y*y <=1:\n",
    "            dentro += 1\n",
    "        i += 1\n",
    "    return 4*(float(dentro)/dardos)\n",
    "### END SOLUTION"
   ]
  },
  {
   "cell_type": "code",
   "execution_count": 73,
   "id": "30c06895",
   "metadata": {
    "nbgrader": {
     "grade": true,
     "grade_id": "cell-fbb625b87071de7d",
     "locked": true,
     "points": 1,
     "schema_version": 3,
     "solution": false,
     "task": false
    }
   },
   "outputs": [],
   "source": [
    "pi = aproximar_pi(10000)\n",
    "assert pi>3 and pi<3.2, \"Falla, pero al ser un algorimo probabilista, no estoy seguro\"\n",
    "print('Parece que funciona')"
   ]
  }
 ],
 "metadata": {
  "celltoolbar": "Create Assignment",
  "kernelspec": {
   "display_name": "Python 3",
   "language": "python",
   "name": "python3"
  },
  "language_info": {
   "codemirror_mode": {
    "name": "ipython",
    "version": 3
   },
   "file_extension": ".py",
   "mimetype": "text/x-python",
   "name": "python",
   "nbconvert_exporter": "python",
   "pygments_lexer": "ipython3",
   "version": "3.8.10"
  }
 },
 "nbformat": 4,
 "nbformat_minor": 5
}
