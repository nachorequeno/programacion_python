{
 "cells": [
  {
   "cell_type": "markdown",
   "id": "b8e39615-bdf2-4755-b42c-9e1da79fe4a1",
   "metadata": {},
   "source": [
    "# Código sustitución monoalfabético\n",
    "\n",
    "Un código monoalfabético de sustitución es aquél en el que las\n",
    "letras del alfabeto en que se escribe el mensaje original \n",
    "son sustituidas por otras letras del mismo alfabeto. Es decir,\n",
    "dado un alfabeto, calculamos una permutación suya (que llamaremos criptgrama)\n",
    "y, para cifrar un mensaje, simplemente\n",
    "cambiamos las letras según nos indique esa permutación.\n",
    "\n",
    "|A|B|C|D|E|F|G|H|I|J|K|L|M|N|O|P|Q|R|S|T|U|V|W|X|Y|Z|\n",
    "|---|---|---|---|---|---|---|---|---|---|---|---|---|---|---|---|---|---|---|---|---|---|---|---|---|---|\n",
    "|J|W|K|U|L|Z|B|P|N|H|E|C|G|Y|V|R|M|Q|S|T|D|A|X|I|F|O|\n",
    "\n",
    "\n",
    "\n",
    "Con este código, para cifrar la palabra \"DARDO\", tenemos que consultar\n",
    "en la primera fila cada una de las letras de la palabra y escribir la\n",
    "letra que se encuentra en la fila de abajo: para la \"D\"\n",
    "escribimos \"U\", para la \"A\" escribimos \"J\", y así sucesivamente hasta\n",
    "obtener \"UJSUQ\". Observa que las dos apariciones de la misma \n",
    "letra \"D\" en la palabra \"DARDO\" son codificadas por la misma letra \"U\".\n",
    "\n",
    "Supondremos que los textos a codificar/decodificar están formados por letras mayúsculas entre la \"A\" y ls \"Z\", no hay ni tildes ni \"Ñ\" y las palabras están separadas por blancos (que no se codifican). Según el criptograma anterior, la frase 'HOY ES LUNES' se codifica como 'PVFLSCDNLS'.\n",
    "\n",
    "\n",
    "\n",
    "**Pista:** observa que para representar una permutacin cualquiera en python basta con considerar una cadena de caracteres de longigud 26. De esa forma\n",
    "la últiva permutación se puede representar por la cadena de caracteres `JWKULZBPNHECGYVRMQSTDAXIFO`"
   ]
  },
  {
   "cell_type": "code",
   "execution_count": 1,
   "id": "9a6361f8-ea33-4bb3-b834-590b0e39a0c4",
   "metadata": {},
   "outputs": [
    {
     "data": {
      "text/plain": [
       "26"
      ]
     },
     "execution_count": 1,
     "metadata": {},
     "output_type": "execute_result"
    }
   ],
   "source": [
    "len('CRIPTOGAMBDEFHJKLNQSUVWXYZ')"
   ]
  },
  {
   "cell_type": "markdown",
   "id": "b4c8fd0e-1bb6-426d-8da4-428e723ff80d",
   "metadata": {},
   "source": [
    "## Cifrado\n",
    "Haz una función que cifre un texto dado. La función se debe llamar `crypt`. Debe tomar 2 parámetros, el primero es el texto a codificar y el segundo es el criptograma.\n"
   ]
  },
  {
   "cell_type": "code",
   "execution_count": 31,
   "id": "725cfc9f-a38f-45e1-b8b7-018409d73f41",
   "metadata": {
    "nbgrader": {
     "grade": false,
     "grade_id": "cell-dd0f1119ff16b62f",
     "locked": false,
     "schema_version": 3,
     "solution": true,
     "task": false
    },
    "tags": []
   },
   "outputs": [],
   "source": [
    "### BEGIN SOLUTION\n",
    "def crypt(txt: str, criptogram:str) -> str:\n",
    "    \"\"\"\n",
    "    Encode the line s according to the given criptogram\n",
    "    \"\"\"    \n",
    "    enc=\"\"\n",
    "    for c in txt:\n",
    "        if c!=\" \":\n",
    "            enc+=criptogram[ord(c)-ord(\"A\")]\n",
    "    return enc\n",
    "### END SOLUTION"
   ]
  },
  {
   "cell_type": "code",
   "execution_count": 3,
   "id": "97986f3f-01d0-4237-9cb3-b5a95d904533",
   "metadata": {},
   "outputs": [
    {
     "data": {
      "text/plain": [
       "'TQSCCQMGHCSUNCHJECCKNUTRCHMPMJQ'"
      ]
     },
     "execution_count": 3,
     "metadata": {},
     "output_type": "execute_result"
    }
   ],
   "source": [
    "cpgm = 'CRIPTOGAMBDEFHJKLNQSUVWXYZ'\n",
    "txt = 'ESTA ASIGNATURA NO LA APRUEBA NI DIOS'\n",
    "crypt(txt, cpgm)"
   ]
  },
  {
   "cell_type": "code",
   "execution_count": 29,
   "id": "cd9492f8-1741-44f6-b563-4f07f9c55d0b",
   "metadata": {
    "nbgrader": {
     "grade": true,
     "grade_id": "cell-13ac7d73878612ca",
     "locked": true,
     "points": 1,
     "schema_version": 3,
     "solution": false,
     "task": false
    },
    "tags": []
   },
   "outputs": [
    {
     "name": "stdout",
     "output_type": "stream",
     "text": [
      "\"('HOY ES LUNES', 'JWKULZBPNHECGYVRMQSTDAXIFO')\", \"PVFLSCDYLS\"....OK.\n",
      "\"('ESTA ASIGNATURA NO LA APRUEBA NI DIOS', 'CRIPTOGAMBDEFHJKLNQSUVWXYZ')\", \"TQSCCQMGHCSUNCHJECCKNUTRCHMPMJQ\"....OK.\n"
     ]
    }
   ],
   "source": [
    "def runtests(tests, fun):\n",
    "    for test, ex_res in tests:\n",
    "        print(f'\"{test}\", \"{ex_res}\"....', end='')\n",
    "        res = fun(*test)\n",
    "        assert res == ex_res, f'Error, the result is \"{res}\"'\n",
    "        print('OK.')\n",
    "        \n",
    "def test_crypt():\n",
    "    tests = [\n",
    "        (('HOY ES LUNES', 'JWKULZBPNHECGYVRMQSTDAXIFO'),  'PVFLSCDYLS'),\n",
    "        (('ESTA ASIGNATURA NO LA APRUEBA NI DIOS', 'CRIPTOGAMBDEFHJKLNQSUVWXYZ'), 'TQSCCQMGHCSUNCHJECCKNUTRCHMPMJQ')\n",
    "    ]\n",
    "    runtests(tests, crypt)\n",
    "    \n",
    "test_crypt()"
   ]
  },
  {
   "cell_type": "markdown",
   "id": "b1192d05-fc35-482c-a830-eb8c2c575b1b",
   "metadata": {},
   "source": [
    "## Decifrado\n",
    "Ahora realiza la función inversa, se debe llamar 'decrypt', debe tomar un texto (cifrado) y un criptograma como se indica y debe devolver el texto descifrado.\n"
   ]
  },
  {
   "cell_type": "code",
   "execution_count": 33,
   "id": "b91df68d-6621-4485-9878-4883681ad632",
   "metadata": {
    "nbgrader": {
     "grade": false,
     "grade_id": "cell-97f6920eedbe49cf",
     "locked": false,
     "schema_version": 3,
     "solution": true,
     "task": false
    },
    "tags": []
   },
   "outputs": [],
   "source": [
    "### BEGIN SOLUTION\n",
    "def inv_cripto(cpgm: str) -> str:\n",
    "    c = 'A'\n",
    "    inv = ''\n",
    "    while c <= 'Z':\n",
    "        i = 0\n",
    "        while i<len(cpgm) and cpgm[i]!=c:\n",
    "            i = i+1\n",
    "        inv = inv + chr(i+ord('A'))\n",
    "        c = chr(ord(c)+1)\n",
    "    return inv\n",
    "                \n",
    "\n",
    "def decrypt(txt, cpgm):\n",
    "    return crypt(txt, inv_cripto(cpgm))\n",
    "### END SOLUTION                       "
   ]
  },
  {
   "cell_type": "code",
   "execution_count": null,
   "id": "6c24e7e2-9b2b-4f31-b0b0-f372470ba35f",
   "metadata": {
    "nbgrader": {
     "grade": true,
     "grade_id": "cell-c719747580c83fb3",
     "locked": true,
     "points": 1,
     "schema_version": 3,
     "solution": false,
     "task": false
    },
    "tags": []
   },
   "outputs": [],
   "source": []
  },
  {
   "cell_type": "code",
   "execution_count": 34,
   "id": "ee3ef12f-6e31-4546-9975-e08fe21930b6",
   "metadata": {},
   "outputs": [
    {
     "name": "stdout",
     "output_type": "stream",
     "text": [
      "\"('PVFLSCDYLS', 'JWKULZBPNHECGYVRMQSTDAXIFO')\", \"HOYESLUNES\"....OK.\n",
      "\"('TQSCCQMGHCSUNCHJECCKNUTRCHMPMJQ', 'CRIPTOGAMBDEFHJKLNQSUVWXYZ')\", \"ESTAASIGNATURANOLAAPRUEBANIDIOS\"....OK.\n"
     ]
    }
   ],
   "source": [
    "def test_decrypt():\n",
    "    tests = [\n",
    "        (('PVFLSCDYLS', 'JWKULZBPNHECGYVRMQSTDAXIFO'),  'HOYESLUNES'),\n",
    "        (('TQSCCQMGHCSUNCHJECCKNUTRCHMPMJQ', 'CRIPTOGAMBDEFHJKLNQSUVWXYZ'), 'ESTAASIGNATURANOLAAPRUEBANIDIOS')\n",
    "    ]\n",
    "    runtests(tests, decrypt)\n",
    "    \n",
    "test_decrypt()"
   ]
  },
  {
   "cell_type": "markdown",
   "id": "d4a0e8ca-6fe3-47e7-90ba-868f90ae1c9a",
   "metadata": {},
   "source": [
    "## La clave\n",
    "La clave necesaria en este tipo de cifrados es una permutación del \n",
    "alfabeto que vayamos a utilizar. Esta clave es difícil de retener de \n",
    "memoria y por tanto se necesita su almacenamiento y gestión. Para \n",
    "reducir estos inconvenientes, se puede recurrir a códigos \n",
    "pseudoaleatorios. Por ejemplo, a partir de una palabra que se utiliza \n",
    "como clave. Supongamos que queremos realizar un código monoalfabético \n",
    "cuya clave podamos recordar, elijamos como clave la palabra \n",
    "\"OCULTA\". Una forma posible de definir el código es:\n",
    "\n",
    "A|B|C|D|E|F|G|H|I|J|K|L|M|N|O|P|Q|R|S|T|U|V|W|X|Y|Z\n",
    "|---|---|---|---|---|---|---|---|---|---|---|---|---|---|---|---|---|---|---|---|---|---|---|---|---|---|\n",
    "O|C|U|L|T|A|B|D|E|F|G|H|I|J|K|M|N|P|Q|R|S|V|W|X|Y|Z\n",
    "\n",
    "Hemos utilizado la palabra clave para definir el\n",
    "comienzo de la permutación y luego hemos seguido el orden alfabético.\n",
    "Si la palabra clave tiene letras repetidas, entonces basta con no \n",
    "escribirlas de nuevo. Por ejemplo si consideramos \"CRIPTOGRAMA\" como \n",
    "palabra clave, entonces el cifrado quedaría\n",
    "A|B|C|D|E|F|G|H|I|J|K|L|M|N|O|P|Q|R|S|T|U|V|W|X|Y|Z\n",
    "|---|---|---|---|---|---|---|---|---|---|---|---|---|---|---|---|---|---|---|---|---|---|---|---|---|---|\n",
    "C|R|I|P|T|O|G|A|M|B|D|E|F|H|J|K|L|N|Q|S|U|V|W|X|Y|Z\n",
    "\n"
   ]
  },
  {
   "cell_type": "markdown",
   "id": "bf40b7a9-6636-408c-b755-d164b895ed81",
   "metadata": {},
   "source": [
    "Escribe una función llamada `no_rep` que tenga como parámetro una \"palabra\" y que\n",
    "construya otra \"palbr\" (aunque no exista en el diccionario) que\n",
    "sea idéntica a la primera pero que elimine las repeticiones de letras.\n"
   ]
  },
  {
   "cell_type": "code",
   "execution_count": 35,
   "id": "51416727-950c-4a69-8df6-f48d299cb767",
   "metadata": {
    "nbgrader": {
     "grade": false,
     "grade_id": "cell-6e8e19c7fe048cb5",
     "locked": false,
     "schema_version": 3,
     "solution": true,
     "task": false
    },
    "tags": []
   },
   "outputs": [],
   "source": [
    "### BEGIN SOLUTION\n",
    "def no_rep(word: str) -> str:\n",
    "    new = ''\n",
    "    for c in word:\n",
    "        if not c in new:\n",
    "            new = new+c\n",
    "    return new\n",
    "### END SOLUTION"
   ]
  },
  {
   "cell_type": "code",
   "execution_count": null,
   "id": "245b6d9b-1002-4cb7-a928-f0ba214bc701",
   "metadata": {},
   "outputs": [],
   "source": []
  },
  {
   "cell_type": "code",
   "execution_count": 36,
   "id": "6005ff53-fd52-4bd0-8807-d5936edab1c9",
   "metadata": {
    "nbgrader": {
     "grade": true,
     "grade_id": "cell-975c34ebb62ee63f",
     "locked": true,
     "points": 1,
     "schema_version": 3,
     "solution": false,
     "task": false
    },
    "tags": []
   },
   "outputs": [
    {
     "name": "stdout",
     "output_type": "stream",
     "text": [
      "\"('CRIPTOGRAMA',)\", \"CRIPTOGAM\"....OK.\n",
      "\"('PALABRA',)\", \"PALBR\"....OK.\n"
     ]
    }
   ],
   "source": [
    "def test_no_rep():\n",
    "    tests = [\n",
    "        (('CRIPTOGRAMA',), 'CRIPTOGAM'),\n",
    "        (('PALABRA',), 'PALBR')\n",
    "    ]\n",
    "    runtests(tests, no_rep)\n",
    "    \n",
    "test_no_rep()"
   ]
  },
  {
   "cell_type": "markdown",
   "id": "dcd0639c-1966-4797-b5de-468f785aab30",
   "metadata": {},
   "source": [
    "Escribe una función llamada `gen_crytopgram` que construya una permutación de  un\n",
    "alfabeto basada en una palabra clave. Es decir, una permutación que\n",
    "comience con las letras no repetidas de la palabra y continue con las\n",
    "letras restantes en el orden alfabético."
   ]
  },
  {
   "cell_type": "code",
   "execution_count": 37,
   "id": "8ff0c153-988e-489a-a12c-c8e52fe1d618",
   "metadata": {
    "nbgrader": {
     "grade": false,
     "grade_id": "cell-68f16a4442ac3886",
     "locked": false,
     "schema_version": 3,
     "solution": true,
     "task": false
    },
    "tags": []
   },
   "outputs": [],
   "source": [
    "###BEGIN SOLUTION\n",
    "def gen_crytopgram(code: str) -> str:\n",
    "    cpgm = no_rep(code)\n",
    "    c = 'A'\n",
    "    while c<='Z':\n",
    "        if c not in cpgm:\n",
    "            cpgm = cpgm + c\n",
    "        c = chr(ord(c)+1)\n",
    "    return cpgm\n",
    "###END SOLUTION"
   ]
  },
  {
   "cell_type": "code",
   "execution_count": null,
   "id": "ebc7e136-d0b6-468a-a060-5b7bfaf6fd51",
   "metadata": {},
   "outputs": [],
   "source": []
  },
  {
   "cell_type": "code",
   "execution_count": 38,
   "id": "4df75ac2-81f4-4a9e-8714-b81c2a3ad95b",
   "metadata": {
    "nbgrader": {
     "grade": true,
     "grade_id": "cell-86b07e8c71c4dfed",
     "locked": true,
     "points": 1,
     "schema_version": 3,
     "solution": false,
     "task": false
    },
    "tags": []
   },
   "outputs": [
    {
     "name": "stdout",
     "output_type": "stream",
     "text": [
      "\"('OCULTA',)\", \"OCULTABDEFGHIJKMNPQRSVWXYZ\"....OK.\n",
      "\"('CRIPTOGRAMA',)\", \"CRIPTOGAMBDEFHJKLNQSUVWXYZ\"....OK.\n"
     ]
    }
   ],
   "source": [
    "def test_gen_crytopgram():\n",
    "    tests = [\n",
    "        (('OCULTA',),'OCULTABDEFGHIJKMNPQRSVWXYZ'),\n",
    "        (('CRIPTOGRAMA',),'CRIPTOGAMBDEFHJKLNQSUVWXYZ')\n",
    "    ]\n",
    "    runtests(tests, gen_crytopgram)\n",
    "    \n",
    "test_gen_crytopgram()"
   ]
  },
  {
   "cell_type": "markdown",
   "id": "f884fd13-fe81-48be-a61f-c543738e3961",
   "metadata": {},
   "source": [
    "### Cifrado con clave\n",
    "\n",
    "Haz una función de cifrado `cyrpt_key` que use una clave. A partir de la clave se genera el criptograma y se cofifica el texto con él. El primer parámetro de la función es el texto a cifrar y el segundo la clave. \n"
   ]
  },
  {
   "cell_type": "code",
   "execution_count": 41,
   "id": "a312123f-ae0b-4070-943e-a029ff185d9f",
   "metadata": {
    "nbgrader": {
     "grade": false,
     "grade_id": "cell-1ebee0405cfde98d",
     "locked": false,
     "schema_version": 3,
     "solution": true,
     "task": false
    },
    "tags": []
   },
   "outputs": [],
   "source": [
    "### BEGIN SOLUTION\n",
    "def crypt_key(text:str, key:str) -> str:\n",
    "    cpgm = gen_crytopgram(key)\n",
    "    return crypt(text, cpgm)\n",
    "### END SOLUTION"
   ]
  },
  {
   "cell_type": "code",
   "execution_count": null,
   "id": "de05ab88-f4b6-4108-b33f-664025ed5174",
   "metadata": {},
   "outputs": [],
   "source": []
  },
  {
   "cell_type": "code",
   "execution_count": 42,
   "id": "2773fc73-9878-4d03-a70b-8a9a7ebcb398",
   "metadata": {
    "nbgrader": {
     "grade": true,
     "grade_id": "cell-373dc4c7371c5471",
     "locked": true,
     "points": 1,
     "schema_version": 3,
     "solution": false,
     "task": false
    },
    "tags": []
   },
   "outputs": [
    {
     "name": "stdout",
     "output_type": "stream",
     "text": [
      "\"('EN UN LUGAR DE LA MANCHA DE CUYO NOMBRE NO QUIERO ACORDARME', 'PERNAMBUCO')\", \"AHTHFTBPLNAFPGPHRUPNARTYIHIGELAHIKTCALIPRILNPLGA\"....OK.\n",
      "\"('EN UN LUGAR DE LA MANCHA DE CUYO NOMBRE NO QUIERO ACORDARME', 'AVION')\", \"NKTKHTCAQONHAJAKIDAONITYLKLJVQNKLPTENQLAILQOAQJN\"....OK.\n",
      "\"('EN UN LUGAR DE LA MANCHA DE CUYO NOMBRE NO QUIERO ACORDARME', 'PI')\", \"CMUMKUEPRBCKPLPMAFPBCAUYNMNLIRCMNQUGCRNPANRBPRLC\"....OK.\n"
     ]
    }
   ],
   "source": [
    "def test_crypt_key():\n",
    "    tests = [\n",
    "        (('EN UN LUGAR DE LA MANCHA DE CUYO NOMBRE NO QUIERO ACORDARME','PERNAMBUCO'), 'AHTHFTBPLNAFPGPHRUPNARTYIHIGELAHIKTCALIPRILNPLGA'),\n",
    "        (('EN UN LUGAR DE LA MANCHA DE CUYO NOMBRE NO QUIERO ACORDARME','AVION'), 'NKTKHTCAQONHAJAKIDAONITYLKLJVQNKLPTENQLAILQOAQJN'),\n",
    "        (('EN UN LUGAR DE LA MANCHA DE CUYO NOMBRE NO QUIERO ACORDARME','PI'), 'CMUMKUEPRBCKPLPMAFPBCAUYNMNLIRCMNQUGCRNPANRBPRLC'),\n",
    "    ]\n",
    "    runtests(tests, crypt_key)\n",
    "test_crypt_key()"
   ]
  },
  {
   "cell_type": "markdown",
   "id": "04e7fd9f-3140-442e-884e-fb57404666d8",
   "metadata": {},
   "source": [
    "Escribe una función `decrypt_key` que decifre un texto dada una clave. El primer argumento es el texto cifrado y el segundo es la clave."
   ]
  },
  {
   "cell_type": "code",
   "execution_count": 43,
   "id": "794b0b6b-e8ae-4dd2-86d5-e09c6409060e",
   "metadata": {
    "nbgrader": {
     "grade": false,
     "grade_id": "cell-f57ed53bf1275909",
     "locked": false,
     "schema_version": 3,
     "solution": true,
     "task": false
    },
    "tags": []
   },
   "outputs": [],
   "source": [
    "### BEGIN SOLUTION\n",
    "def decrypt_key(text:str, key:str) -> str:\n",
    "    cpgm = gen_crytopgram(key)\n",
    "    return decrypt(text, cpgm)\n",
    "### END SOLUTION"
   ]
  },
  {
   "cell_type": "code",
   "execution_count": null,
   "id": "8598b836-a7c5-4b1c-8888-ce1726d7999f",
   "metadata": {},
   "outputs": [],
   "source": []
  },
  {
   "cell_type": "code",
   "execution_count": 44,
   "id": "8e115efb-b8c5-4dd5-8252-c871d4fc15bd",
   "metadata": {
    "nbgrader": {
     "grade": true,
     "grade_id": "cell-d395b2f8ddb8ad1e",
     "locked": true,
     "points": 1,
     "schema_version": 3,
     "solution": false,
     "task": false
    },
    "tags": []
   },
   "outputs": [
    {
     "name": "stdout",
     "output_type": "stream",
     "text": [
      "\"('AHTHFTBPLNAFPGPHRUPNARTYIHIGELAHIKTCALIPRILNPLGA', 'PERNAMBUCO')\", \"ENUNLUGARDELAMANCHADECUYONOMBRENOQUIEROACORDARME\"....OK.\n",
      "\"('NKTKHTCAQONHAJAKIDAONITYLKLJVQNKLPTENQLAILQOAQJN', 'AVION')\", \"ENUNLUGARDELAMANCHADECUYONOMBRENOQUIEROACORDARME\"....OK.\n",
      "\"('CMUMKUEPRBCKPLPMAFPBCAUYNMNLIRCMNQUGCRNPANRBPRLC', 'PI')\", \"ENUNLUGARDELAMANCHADECUYONOMBRENOQUIEROACORDARME\"....OK.\n"
     ]
    }
   ],
   "source": [
    "def test_decrypt_key():\n",
    "    tests = [\n",
    "        (('AHTHFTBPLNAFPGPHRUPNARTYIHIGELAHIKTCALIPRILNPLGA','PERNAMBUCO'), 'ENUNLUGARDELAMANCHADECUYONOMBRENOQUIEROACORDARME'),\n",
    "        (('NKTKHTCAQONHAJAKIDAONITYLKLJVQNKLPTENQLAILQOAQJN','AVION'), 'ENUNLUGARDELAMANCHADECUYONOMBRENOQUIEROACORDARME'),\n",
    "        (('CMUMKUEPRBCKPLPMAFPBCAUYNMNLIRCMNQUGCRNPANRBPRLC','PI'), 'ENUNLUGARDELAMANCHADECUYONOMBRENOQUIEROACORDARME'),\n",
    "    ]\n",
    "    runtests(tests, decrypt_key)\n",
    "test_decrypt_key()"
   ]
  }
 ],
 "metadata": {
  "kernelspec": {
   "display_name": "Python 3 (ipykernel)",
   "language": "python",
   "name": "python3"
  },
  "language_info": {
   "codemirror_mode": {
    "name": "ipython",
    "version": 3
   },
   "file_extension": ".py",
   "mimetype": "text/x-python",
   "name": "python",
   "nbconvert_exporter": "python",
   "pygments_lexer": "ipython3",
   "version": "3.9.14"
  }
 },
 "nbformat": 4,
 "nbformat_minor": 5
}
