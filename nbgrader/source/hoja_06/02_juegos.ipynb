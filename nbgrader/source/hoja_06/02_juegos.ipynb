{
 "cells": [
  {
   "cell_type": "markdown",
   "id": "2dc9c643-ef2d-44db-8767-2c17ba76d955",
   "metadata": {},
   "source": [
    "# Juegos perdedores ganan\n",
    "\n",
    " Queremos realizar un programa que permita simular juegos de azar \n",
    " y así observar su evolución a largo plazo. Para ello nos\n",
    " vamos a ir a nuestro casino particular en el que se encuentran\n",
    " los siguientes juegos"
   ]
  },
  {
   "cell_type": "markdown",
   "id": "c7a4a358-8eee-44e2-977e-4e3663395e7b",
   "metadata": {},
   "source": [
    "## Casi iguales pero no tanto\n",
    "El juego de \n",
    "*casi iguales pero no tanto* tiene las siguientes reglas: \n",
    "se lanza una moneda en la que sale cara con una probabilidad del 49.5%\n",
    "y cruz con una del 50.5%; \n",
    "el jugador gana un punto si sale cara y pierde un punto si sale cruz.\n",
    "\n",
    "Escribe un programa que simule el juego a largo plazo."
   ]
  },
  {
   "cell_type": "code",
   "execution_count": 107,
   "id": "8e029d19-51c9-461b-b7df-8fe1f96ce0c9",
   "metadata": {
    "nbgrader": {
     "grade": true,
     "grade_id": "cell-a6103d7df6e9de62",
     "locked": false,
     "points": 0,
     "schema_version": 3,
     "solution": true,
     "task": false
    },
    "tags": []
   },
   "outputs": [],
   "source": [
    "import random\n",
    "### BEGIN SOLUTION\n",
    "def is_head(percentage:float)->bool:\n",
    "    \"\"\"\n",
    "    This functions simulates the game consisting in throwing up \n",
    "    a coin whose percentage of head is indicated in the parameter. \n",
    "    It resturns true if the \"head is up\"\n",
    "    \"\"\"\n",
    "    return random.random()<percentage\n",
    "  \n",
    "  \n",
    "def almost_equal()->int:\n",
    "    \"\"\"\n",
    "    This function simulates a bid in the almost equal game.\n",
    "    It returns +1 if the player wins and -1 if he does not\n",
    "    \"\"\"\n",
    "    if is_head(0.495):\n",
    "        return 1\n",
    "    else:\n",
    "        return -1\n",
    "        \n",
    "                \n",
    "def almost_equal_game(capital:int , nbids: int):\n",
    "    \"\"\"\n",
    "    This function simulates the \"almost equal\" game nbids times or until there is no capital\n",
    "    \"\"\"\n",
    "    i=0\n",
    "    while i<nbids:\n",
    "        capital += almost_equal()\n",
    "        i+=1        \n",
    "    return capital\n",
    "\n",
    "### END SOLUTION"
   ]
  },
  {
   "cell_type": "code",
   "execution_count": 219,
   "id": "931ae3f1-49f3-46c0-952c-fe43a9dd9dab",
   "metadata": {},
   "outputs": [
    {
     "data": {
      "text/plain": [
       "-662"
      ]
     },
     "execution_count": 219,
     "metadata": {},
     "output_type": "execute_result"
    }
   ],
   "source": [
    "almost_equal_game(0, 100000)"
   ]
  },
  {
   "cell_type": "markdown",
   "id": "eefb6193-1897-44f3-9406-1a365c55f651",
   "metadata": {},
   "source": [
    "## Por tres es al revés\n",
    "El juego de *por tres es al revés* se juega con dos monedas\n",
    "$M_1$ y $M_2$.\n",
    "Al lanzar la primera de ellas, $M_1$, \n",
    "sale cara con un 9.5\\% de probabilidad y cruz con un 90.5\\%;\n",
    "al lanzar la segunda, $M_2$, \n",
    "sale cara con una probabilidad del 75.5\\% y cruz con el 24.5\\%.\n",
    "El jugador gana un punto si sale cara y pierde un punto si sale cruz.\n",
    "Si el capital con el que cuenta el jugador es múltiplo de tres,\n",
    "se lanza la moneda $M_1$, y si no se lanza la moneda $M_2$.\n",
    "El jugador puede comenzar con un capital arbitrario, en puntos.\n",
    "\n",
    "Escribe un programa que simule el juego a largo plazo y que muestre \n",
    "los datos para \n",
    "que se aprecie la evolución de las ganancias o pérdidas del jugador.\n"
   ]
  },
  {
   "cell_type": "code",
   "execution_count": 221,
   "id": "a4f90172-0f1f-4c10-980f-b0e26e4dc969",
   "metadata": {
    "nbgrader": {
     "grade": true,
     "grade_id": "cell-811a26883d240726",
     "locked": false,
     "points": 0,
     "schema_version": 3,
     "solution": true,
     "task": false
    },
    "tags": []
   },
   "outputs": [],
   "source": [
    "### BEGIN SOLUTION\n",
    "def times_three(capital):\n",
    "    \"\"\"\n",
    "    This functions simulates a bid in \"times three is upside down\"\n",
    "    It returns +1 if the player wins and -1 if he does not\n",
    "\n",
    "    \"\"\"\n",
    "    if capital % 3 == 0:\n",
    "        if is_head(0.095):\n",
    "            return 1\n",
    "        else:\n",
    "            return -1\n",
    "    else:\n",
    "        if is_head(0.755):\n",
    "            return 1\n",
    "        else:\n",
    "            return -1\n",
    "\n",
    "def times_three_game(capital: int, nbids: int) -> int:\n",
    "    \"\"\"\n",
    "    This function simulates the \"times three is upside down\" game nbids times or until there is no capital\n",
    "    \"\"\"\n",
    "    i=0\n",
    "    while i<nbids:\n",
    "        capital += times_three(capital)\n",
    "        i+=1\n",
    "        \n",
    "    return capital\n",
    "\n",
    "### END SOLUTION"
   ]
  },
  {
   "cell_type": "code",
   "execution_count": 241,
   "id": "637771e3-fe80-4dc3-8d55-99f0d6c33d8c",
   "metadata": {},
   "outputs": [
    {
     "data": {
      "text/plain": [
       "70"
      ]
     },
     "execution_count": 241,
     "metadata": {},
     "output_type": "execute_result"
    }
   ],
   "source": [
    "times_three_game(0, 100000)"
   ]
  },
  {
   "cell_type": "markdown",
   "id": "aa5279e0-4da5-4a02-b12d-8d3be0b6986f",
   "metadata": {},
   "source": [
    "## Mezclando juegos\n",
    "Si has realizado los ejercicios anteriores, te habrás dado cuenta \n",
    "de que nuestro casino es un negocio rentable. \n",
    "En los juegos que hemos propuesto el jugador lleva la peor\n",
    "parte y, a largo plazo, siempre acaba perdiendo.\n",
    "\n",
    "Supongamos que abreviamos por $C$ al juego *casi iguales \n",
    "pero no tanto* y por $T$ al juego *tres es al revés*.\n",
    "Se abre una nueva mesa de juego en nuestro casino que \n",
    "consiste en alternar \n",
    "jugadas a los dos juegos anteriores \n",
    "de la siguiente forma $CCTTCCTTCCTT\\ldots$, es decir\n",
    "dos jugadas al juego $C$, dos jugadas al juego $T$\n",
    "¿Apostarías tus puntos a este nuevo juego?\n",
    "\n",
    "Escribe un programa que simule el juego a largo plazo y que muestre\n",
    "los datos para que se aprecie \n",
    "la evolución de las ganancias o pérdidas del jugador. \n",
    "El jugador puede comenzar con un capital arbitrario, en puntos.\n",
    "¿Te sorprende el resultado?\n"
   ]
  },
  {
   "cell_type": "code",
   "execution_count": 248,
   "id": "aab8b1c1-ad45-4b59-acc9-07b75a9d70f4",
   "metadata": {
    "nbgrader": {
     "grade": true,
     "grade_id": "cell-b0a9609a272e6377",
     "locked": false,
     "points": 0,
     "schema_version": 3,
     "solution": true,
     "task": false
    },
    "tags": []
   },
   "outputs": [],
   "source": [
    "### BEGIN SOLUTION\n",
    "def mixed_game(capital: int, nbids:int) -> int:\n",
    "    \"\"\"\n",
    "    This function simulates the \"mixed\" game nbids times or until there is no capital\n",
    "    The mixed game consist in playing two consecutive times to the \"almost equal\" game \n",
    "    and two consecutive times to the \"times three is upside down\" game, and so on.\n",
    "    \"\"\"\n",
    "    i=0\n",
    "    while i<nbids:\n",
    "        if i%4==0 or i%4==1:\n",
    "            capital += almost_equal()\n",
    "        else:\n",
    "            capital += times_three(capital)\n",
    "        i+=1\n",
    "        \n",
    "    return capital\n",
    "\n",
    "### END SOLUTION"
   ]
  },
  {
   "cell_type": "code",
   "execution_count": 274,
   "id": "3c3312ae-f5a2-4acd-a1bb-994feb9cca69",
   "metadata": {},
   "outputs": [
    {
     "data": {
      "text/plain": [
       "1816"
      ]
     },
     "execution_count": 274,
     "metadata": {},
     "output_type": "execute_result"
    }
   ],
   "source": [
    "mixed_game(0, 100000)"
   ]
  }
 ],
 "metadata": {
  "kernelspec": {
   "display_name": "Python 3 (ipykernel)",
   "language": "python",
   "name": "python3"
  },
  "language_info": {
   "codemirror_mode": {
    "name": "ipython",
    "version": 3
   },
   "file_extension": ".py",
   "mimetype": "text/x-python",
   "name": "python",
   "nbconvert_exporter": "python",
   "pygments_lexer": "ipython3",
   "version": "3.9.14"
  }
 },
 "nbformat": 4,
 "nbformat_minor": 5
}
