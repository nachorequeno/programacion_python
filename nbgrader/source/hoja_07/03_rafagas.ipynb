{
 "cells": [
  {
   "cell_type": "markdown",
   "id": "77639678-c286-48dd-8d44-223abf5dc94b",
   "metadata": {},
   "source": [
    "# Ráfagas\n",
    "Una *rafaga* en una secuencia es la aparición consecutiva de un\n",
    "mismo elemento en una lista. Un elemento $e$ *tiene ráfagas* en una lista si hay alguna\n",
    "ráfaga formada por $e$.\n",
    "\n",
    "## Eliminación de ráfagas\n",
    "Realiza una función llamada `remove_burst` que tome como entrada una lista de enteros y devuelva otra lista elminando las ráfagas. Esta función debe hacer un solo recorrido a la lista.\n",
    "\n",
    "**Ejemplo**: `[1, 2, 2, 2, 4, 5, 7, 5, 4, 2, 1, 1]` ---> `[1, 4, 5, 7, 5, 4, 2]`\n",
    "\n",
    "**Pista**: Necesitamos una variable que nos diga cuanto vale el elemento anterior y cual es la longitud de la ráfaga del elemento anterior. Esto solo funciona para listas no vacías, pero para lista vacía la solución es la lista vacía. Después del bucle es necesario comprobar la longitud de la última ráfaga, ant es el último elemento de la lista."
   ]
  },
  {
   "cell_type": "code",
   "execution_count": 1,
   "id": "d8d7908a-2994-4be8-ace6-8a16655fbbea",
   "metadata": {
    "nbgrader": {
     "grade": false,
     "grade_id": "cell-c0f88b5ef2edc43a",
     "locked": false,
     "schema_version": 3,
     "solution": true,
     "task": false
    },
    "tags": []
   },
   "outputs": [],
   "source": [
    "### BEGIN SOLUTION\n",
    "def remove_burst(lst: list[int]) -> list[int]:\n",
    "    newlst = []\n",
    "    if len(lst) > 0:\n",
    "        i = 1\n",
    "        ant = lst[0]\n",
    "        lcb = 1\n",
    "        while i < len(lst):\n",
    "            '''\n",
    "            the length of ant is lcb\n",
    "            '''\n",
    "            if lst[i] == ant:  # the burst continues\n",
    "                lcb += 1  # and increment the lenth of the current burst\n",
    "            else:  # the busrst does not continue\n",
    "                if lcb <= 1:\n",
    "                    newlst.append(ant)\n",
    "                ant = lst[i]  # we initate a new burst\n",
    "                lcb = 1\n",
    "            i += 1\n",
    "        if lcb <= 1:  # We check the length of the burst of the las element\n",
    "            newlst.append(ant)\n",
    "    return newlst\n",
    "### END SOLUTION"
   ]
  },
  {
   "cell_type": "code",
   "execution_count": null,
   "id": "491f56af-0756-4135-8529-2a726b4cc1dc",
   "metadata": {},
   "outputs": [],
   "source": []
  },
  {
   "cell_type": "code",
   "execution_count": 3,
   "id": "68568cb7-84d8-451a-a536-36f39a1a3e11",
   "metadata": {
    "nbgrader": {
     "grade": true,
     "grade_id": "cell-f5ada78d1a111101",
     "locked": true,
     "points": 1,
     "schema_version": 3,
     "solution": false,
     "task": false
    },
    "tags": []
   },
   "outputs": [
    {
     "name": "stdout",
     "output_type": "stream",
     "text": [
      "\"([],)\", \"[]\"....OK.\n",
      "\"([1, 1, 2, 3],)\", \"[2, 3]\"....OK.\n",
      "\"([1, 2, 2, 3],)\", \"[1, 3]\"....OK.\n",
      "\"([1, 2, 3, 3],)\", \"[1, 2]\"....OK.\n",
      "\"([1, 1, 2, 2, 3],)\", \"[3]\"....OK.\n",
      "\"([1, 1, 2, 2, 3, 3],)\", \"[]\"....OK.\n",
      "\"([1, 2, 2, 2, 4, 5, 1, 1, 3, 4, 2],)\", \"[1, 4, 5, 3, 4, 2]\"....OK.\n",
      "\"([1, 2, 3, 4],)\", \"[1, 2, 3, 4]\"....OK.\n"
     ]
    }
   ],
   "source": [
    "from testing import runtests \n",
    "def test_remove_burst():\n",
    "    tests = [\n",
    "        (([], ), []),\n",
    "        (([1, 1, 2, 3], ), [2, 3]),\n",
    "        (([1, 2, 2, 3], ), [1, 3]),\n",
    "        (([1, 2, 3, 3], ), [1, 2]),\n",
    "        (([1, 1, 2, 2, 3], ), [3]),\n",
    "        (([1, 1, 2, 2, 3, 3], ), []),\n",
    "        (([1, 2, 2, 2, 4, 5, 1, 1, 3, 4, 2],), [1, 4, 5, 3, 4, 2]),\n",
    "        (([1, 2, 3, 4], ), [1, 2, 3, 4])\n",
    "    ]\n",
    "    runtests(tests, remove_burst)\n",
    "test_remove_burst()"
   ]
  },
  {
   "cell_type": "markdown",
   "id": "cab28d7b-18a6-4fc5-b884-aa255eeb3929",
   "metadata": {},
   "source": [
    "## Longitud de la ráfaga máxima de un elemento.\n",
    "\n",
    "Ahora hay que hacer una función llamanda `len_max_burst` que tiene como parámetros una lista de enteros y un entero. La función devuelve la longitud de la mayor ráfaga que tiene el entero dado. Si el elemento no está en la lista, devuelve 0.\n",
    "\n",
    "**Pista:** En este caso se necesita la longitud de la ráfaga actual, que solo se actualiza si el elemento es el que nos dan como parámetro, y la longitud de la ráfaga máxima del elemento dado."
   ]
  },
  {
   "cell_type": "code",
   "execution_count": 5,
   "id": "b0a5f867-3d67-49b6-a1f4-64a5a5953b19",
   "metadata": {
    "nbgrader": {
     "grade": false,
     "grade_id": "cell-bb4dc24b43aaf459",
     "locked": false,
     "schema_version": 3,
     "solution": true,
     "task": false
    },
    "tags": []
   },
   "outputs": [],
   "source": [
    "### BEGIN SOLUTION\n",
    "def len_max_burst(lst: list[int], elem:int) -> int:\n",
    "    lmb = 0\n",
    "    i = 0\n",
    "    lcb = 0\n",
    "    while i<len(lst)+1:\n",
    "        if i<len(lst) and lst[i] == elem:\n",
    "            lcb += 1\n",
    "        else:\n",
    "            if lcb > lmb:\n",
    "                lmb = lcb\n",
    "            lcb = 0\n",
    "        i += 1\n",
    "    return lmb\n",
    "### END SOLUTION\n"
   ]
  },
  {
   "cell_type": "code",
   "execution_count": null,
   "id": "fa0d8e95-eb5a-44e5-b4a9-9c03d1cdb7ac",
   "metadata": {},
   "outputs": [],
   "source": []
  },
  {
   "cell_type": "code",
   "execution_count": 6,
   "id": "94011c9a-cc60-4598-8253-015a38475691",
   "metadata": {
    "nbgrader": {
     "grade": true,
     "grade_id": "cell-5a0961a91e2d66c8",
     "locked": true,
     "points": 1,
     "schema_version": 3,
     "solution": false,
     "task": false
    },
    "tags": []
   },
   "outputs": [
    {
     "name": "stdout",
     "output_type": "stream",
     "text": [
      "\"([1, 2, 3], 1)\", \"1\"....OK.\n",
      "\"([1, 2, 3], 2)\", \"1\"....OK.\n",
      "\"([1, 2, 3], 3)\", \"1\"....OK.\n",
      "\"([1, 2, 3], 4)\", \"0\"....OK.\n",
      "\"([1, 2, 2, 3], 2)\", \"2\"....OK.\n",
      "\"([1, 2, 3, 3], 3)\", \"2\"....OK.\n",
      "\"([1, 1, 2, 3], 1)\", \"2\"....OK.\n",
      "\"([1, 2, 2, 2, 3], 2)\", \"3\"....OK.\n",
      "\"([1, 2, 3, 3, 3], 3)\", \"3\"....OK.\n",
      "\"([1, 1, 1, 2, 3], 1)\", \"3\"....OK.\n"
     ]
    }
   ],
   "source": [
    "def test_len_max_burst():\n",
    "    tests = [\n",
    "        (([1,2,3], 1), 1),\n",
    "        (([1,2,3], 2), 1),\n",
    "        (([1,2,3], 3), 1),\n",
    "        (([1,2,3], 4), 0),\n",
    "        (([1,2,2,3], 2), 2),\n",
    "        (([1,2,3,3], 3), 2),\n",
    "        (([1,1,2,3], 1), 2),\n",
    "        (([1,2,2,2,3], 2), 3),\n",
    "        (([1,2,3,3,3], 3), 3),\n",
    "        (([1,1,1,2,3], 1), 3),\n",
    "    ]\n",
    "    runtests(tests, len_max_burst)\n",
    "test_len_max_burst()"
   ]
  },
  {
   "cell_type": "markdown",
   "id": "76692813-e6cf-4d1b-a23f-68a5f7fa1fcf",
   "metadata": {},
   "source": [
    "## Eliminar todas las ráfagas grandes\n",
    "\n",
    "Usando la función anterior es fácil hacer una función que elimine todos los elementos que tengan ráfagas cuya longitud supere un umbral.\n",
    "La función se llamará `remove_burst_all` y tiene 2 parámentros\n",
    "* La lista\n",
    "* El umbral\n",
    "\n",
    "**Ejemplo**: Si el umbral es 2,  `[1, 2, 2, 2, 4, 2, 1, 5, 7, 5, 4, 2, 1, 1]` ---> `[1, 4, 1, 5, 7, 5, 4, 1, 1]`\n"
   ]
  },
  {
   "cell_type": "code",
   "execution_count": 7,
   "id": "a99f2774-a9fd-428b-ade7-03b677a824f3",
   "metadata": {
    "nbgrader": {
     "grade": false,
     "grade_id": "cell-f28c5edbb3b6d1cc",
     "locked": false,
     "schema_version": 3,
     "solution": true,
     "task": false
    },
    "tags": []
   },
   "outputs": [],
   "source": [
    "### BEGIN SOLUTION\n",
    "def remove_burst_all(lst: list[int], lb:int) -> list[int]:\n",
    "    newlst = []\n",
    "    i = 0\n",
    "    while i < len(lst):\n",
    "        if len_max_burst(lst, lst[i]) <= lb:\n",
    "            newlst.append(lst[i])\n",
    "        i += 1\n",
    "    return newlst\n",
    "### END SOLUTION"
   ]
  },
  {
   "cell_type": "code",
   "execution_count": null,
   "id": "d80bbd93-5d5c-4f63-a609-e8621a714923",
   "metadata": {},
   "outputs": [],
   "source": []
  },
  {
   "cell_type": "code",
   "execution_count": 9,
   "id": "6ce1ac52-b4e8-411e-86c5-f8159fb8cb53",
   "metadata": {
    "nbgrader": {
     "grade": true,
     "grade_id": "cell-1d29676ff35fe0fa",
     "locked": true,
     "points": 1,
     "schema_version": 3,
     "solution": false,
     "task": false
    },
    "tags": []
   },
   "outputs": [
    {
     "name": "stdout",
     "output_type": "stream",
     "text": [
      "\"([], 1)\", \"[]\"....OK.\n",
      "\"([1, 2, 2, 2, 4, 5, 1, 1, 3, 4, 2], 1)\", \"[4, 5, 3, 4]\"....OK.\n",
      "\"([1, 2, 2, 2, 4, 5, 1, 1, 3, 4, 2], 2)\", \"[1, 4, 5, 1, 1, 3, 4]\"....OK.\n",
      "\"([1, 2, 3, 4], 1)\", \"[1, 2, 3, 4]\"....OK.\n"
     ]
    }
   ],
   "source": [
    "def test_remove_burst_all():\n",
    "    tests = [\n",
    "        (([],1), []),\n",
    "        (([1,2,2,2,4,5,1,1,3,4,2],1), [4,5,3,4]),\n",
    "        (([1,2,2,2,4,5,1,1,3,4,2],2), [1, 4, 5, 1, 1, 3, 4]),\n",
    "        (([1,2,3,4],1), [1,2,3,4])\n",
    "    ]\n",
    "    runtests(tests, remove_burst_all)\n",
    "test_remove_burst_all()"
   ]
  }
 ],
 "metadata": {
  "kernelspec": {
   "display_name": "Python 3 (ipykernel)",
   "language": "python",
   "name": "python3"
  },
  "language_info": {
   "codemirror_mode": {
    "name": "ipython",
    "version": 3
   },
   "file_extension": ".py",
   "mimetype": "text/x-python",
   "name": "python",
   "nbconvert_exporter": "python",
   "pygments_lexer": "ipython3",
   "version": "3.9.14"
  }
 },
 "nbformat": 4,
 "nbformat_minor": 5
}
