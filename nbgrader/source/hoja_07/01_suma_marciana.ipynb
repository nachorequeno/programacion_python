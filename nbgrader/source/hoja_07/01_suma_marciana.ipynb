{
 "cells": [
  {
   "cell_type": "code",
   "execution_count": null,
   "id": "9a1615a8-407c-4141-b9cf-bbf2a55c06fb",
   "metadata": {},
   "outputs": [],
   "source": []
  },
  {
   "cell_type": "markdown",
   "id": "3cca7fea-1910-4486-a23f-1d023347073d",
   "metadata": {},
   "source": [
    "# Suma Marciana\n",
    "\n",
    "Se acabqa de publicar un hallazgo del rover perseverance en Marte. Se trata de una roca con la inscripcción:\n",
    "      $$\\begin{array}{ccc}\n",
    "          \\clubsuit   &   \\diamondsuit       &    \\spadesuit     \\\\\n",
    "                      &  \\clubsuit   &    \\heartsuit \\\\\n",
    "          \\hline\n",
    "          \\diamondsuit        &  \\spadesuit      &    \\clubsuit\n",
    "       \\end{array}$$\n",
    "Los científicos creen que se trata de una suma. Realiza un programa que calcule una lista de tuplas con todas las posibles soluciones a este enigma.\n",
    "Puesto que la base numérica en la que está escrita también es desconocida, la función tener este dato como parámetro. La función debe llamarse `martian_sum`. Cada tupla debe ser \n",
    "de de la forma $(a_0, a_1, a_2, a_3)$ donde cada $0\\leq a_k\\leq b$, siendo $b$ la base y $a_0$ es el dígito de $\\clubsuit$, $a_1$ es el valor de $\\diamondsuit$, $a_2$ el valor de $\\spadesuit$ y $a_3$ el valor de $\\heartsuit$.\n",
    "Por ejemplo si la base es 2, las soluciones son `[(0, 0, 0, 0), (0, 0, 1, 1)]`\n"
   ]
  },
  {
   "cell_type": "code",
   "execution_count": null,
   "id": "a50c5cb5-3d6a-4098-8e5c-4b0bbdf69047",
   "metadata": {
    "nbgrader": {
     "grade": false,
     "grade_id": "cell-a86ed308b1e232ed",
     "locked": false,
     "schema_version": 3,
     "solution": true,
     "task": false
    },
    "tags": []
   },
   "outputs": [],
   "source": [
    "### BEGIN SOLUTION\n",
    "def martian_sum(base: int) -> list[int]:\n",
    "    solutions = []\n",
    "    club = 0\n",
    "    while club < base:\n",
    "        diamond = 0\n",
    "        while diamond < base:\n",
    "            spade = 0\n",
    "            while spade < base:\n",
    "                heart = 0\n",
    "                while heart < base:\n",
    "                    sum1 = base**2*club + base*diamond + spade\n",
    "                    sum2 = base*club + heart\n",
    "                    result = base**2 * diamond + base * spade + club\n",
    "                    if sum1+sum2 == result:\n",
    "                        solutions.append((club, diamond, spade, heart))\n",
    "                    heart += 1\n",
    "                spade += 1\n",
    "            diamond += 1\n",
    "        club += 1\n",
    "    return solutions\n",
    "### END SOLUTION"
   ]
  },
  {
   "cell_type": "code",
   "execution_count": null,
   "id": "b6bfab5e-42b4-4143-ad26-a29f7a1a7887",
   "metadata": {},
   "outputs": [],
   "source": [
    "martian_sum(4)"
   ]
  },
  {
   "cell_type": "code",
   "execution_count": null,
   "id": "fee1143c-a9e1-4640-bbe1-6203bd69a59a",
   "metadata": {
    "nbgrader": {
     "grade": true,
     "grade_id": "cell-1c5b94aec65d7c82",
     "locked": true,
     "points": 1,
     "schema_version": 3,
     "solution": false,
     "task": false
    },
    "tags": []
   },
   "outputs": [],
   "source": [
    "from testing import runtests\n",
    "\n",
    "def test_martian_sum():\n",
    "    def wrapper(base):\n",
    "        lst = martian_sum(base)\n",
    "        lst.sort()\n",
    "        return lst\n",
    "    \n",
    "    tests = [\n",
    "        ((2,), [(0, 0, 0, 0), (0, 0, 1, 1)]), \n",
    "        ((4,), [(0, 0, 0, 0), (0, 0, 1, 3), (1, 1, 3, 2), (2, 3, 1, 1)]),\n",
    "        ((10,), [(0, 0, 0, 0),\n",
    "                 (0, 0, 1, 9),\n",
    "                 (1, 1, 3, 8),\n",
    "                 (2, 2, 5, 7),\n",
    "                 (3, 3, 7, 6),\n",
    "                 (4, 4, 9, 5),\n",
    "                 (5, 6, 1, 4),\n",
    "                 (6, 7, 3, 3),\n",
    "                 (7, 8, 5, 2),\n",
    "                 (8, 9, 7, 1)])\n",
    "    ]\n",
    "    \n",
    "    runtests(tests, wrapper)\n",
    "test_martian_sum()"
   ]
  },
  {
   "cell_type": "markdown",
   "id": "24f1484d-ad8f-4988-9e1c-4452d7604882",
   "metadata": {},
   "source": [
    "Las soluciones para la base 4, son las siguientes: `[(0, 0, 0, 0), (0, 0, 1, 3), (1, 1, 3, 2), (2, 3, 1, 1)]`\n",
    "Si asumimos la hipótesis que todos los valores deben ser distintos, ninguna de las soluciones anteriores es válida. \n",
    "Para ver si existe una solución es válida, primero vamos a realizar una función que dada una lista, nos inique si todos los elementos son distintos. La función se debe llamar `are_all_different`"
   ]
  },
  {
   "cell_type": "code",
   "execution_count": null,
   "id": "5b21d055-3fde-4d6e-8847-2766eb32297f",
   "metadata": {
    "nbgrader": {
     "grade": false,
     "grade_id": "cell-255cf5fee91e2f70",
     "locked": false,
     "schema_version": 3,
     "solution": true,
     "task": false
    },
    "tags": []
   },
   "outputs": [],
   "source": [
    "### BEGIN SOLUTION\n",
    "def all_different(lst: list[int]) -> bool:\n",
    "    i = 1\n",
    "    enc = False\n",
    "    while i<len(lst) and not enc:\n",
    "        j = 0\n",
    "        while j<i and lst[i]!=lst[j]:\n",
    "            j = j + 1\n",
    "        enc = j<i\n",
    "        i = i + 1\n",
    "    return not enc\n",
    "### END SOLUTION"
   ]
  },
  {
   "cell_type": "code",
   "execution_count": null,
   "id": "966ba570-152e-48c1-be35-3d60c10a3ffc",
   "metadata": {},
   "outputs": [],
   "source": []
  },
  {
   "cell_type": "code",
   "execution_count": null,
   "id": "44d2300a-1843-482f-8e3a-87df98e99384",
   "metadata": {
    "nbgrader": {
     "grade": true,
     "grade_id": "cell-8754a6ef72533f5e",
     "locked": true,
     "points": 1,
     "schema_version": 3,
     "solution": false,
     "task": false
    },
    "tags": []
   },
   "outputs": [],
   "source": [
    "def test_all_different():\n",
    "    tests = [\n",
    "        (([],), True),\n",
    "        (([1],), True),\n",
    "        (([1,2],), True),\n",
    "        (([1,2,4,5,6,7,8,9],), True),\n",
    "        (([1,1,2,4,5,6,7,8,9],), False),\n",
    "        (([1,2,4,1,5,6,7,8,9],), False),\n",
    "        (([1,2,4,5,6,7,8,9,1],), False),\n",
    "    ]\n",
    "    runtests(tests, all_different)\n",
    "test_all_different()"
   ]
  },
  {
   "cell_type": "code",
   "execution_count": null,
   "id": "435287a4-63e2-434c-8e13-4841c03cd129",
   "metadata": {},
   "outputs": [],
   "source": []
  },
  {
   "cell_type": "markdown",
   "id": "4d16b4d5-346a-4d90-8a0d-2e9dfa2f0ddc",
   "metadata": {},
   "source": [
    "Ahora podemos intentar hacer un programa que nos indique la menor base para la que existe una solución.\n",
    "La función se debe llamar `lower_base_martian` . Debe devolver la base y la tupla con una solución"
   ]
  },
  {
   "cell_type": "code",
   "execution_count": null,
   "id": "24b32bf4-bdf1-4531-b094-f9d1d6f83fc7",
   "metadata": {
    "nbgrader": {
     "grade": false,
     "grade_id": "cell-3526dba2a41a1188",
     "locked": false,
     "schema_version": 3,
     "solution": true,
     "task": false
    },
    "tags": []
   },
   "outputs": [],
   "source": [
    "### BEGIN SOLUTION\n",
    "def lower_base_martian() -> int:\n",
    "    base = 2\n",
    "    enc = False\n",
    "    while not enc:\n",
    "        sols = martian_sum(base)\n",
    "        pos = 0\n",
    "        while pos<len(sols) and not all_different(sols[pos]):\n",
    "            pos = pos+1\n",
    "        if pos<len(sols):\n",
    "            enc = True\n",
    "        else:\n",
    "            base = base+1\n",
    "    return base, sols[pos]\n",
    "### END SOLUTION        "
   ]
  },
  {
   "cell_type": "code",
   "execution_count": null,
   "id": "57fb3f35-9938-40e4-bea5-ed466a1da410",
   "metadata": {},
   "outputs": [],
   "source": []
  },
  {
   "cell_type": "code",
   "execution_count": null,
   "id": "83365a18-7e8e-4e60-8652-535749af901d",
   "metadata": {
    "nbgrader": {
     "grade": true,
     "grade_id": "cell-d7b1c993db4107b7",
     "locked": true,
     "points": 1,
     "schema_version": 3,
     "solution": false,
     "task": false
    },
    "tags": []
   },
   "outputs": [],
   "source": [
    "def test_lower_base_martian():\n",
    "    base, sol = lower_base_martian()\n",
    "    assert base == 5 and sol == (3, 4, 2, 1), 'Error'\n",
    "    print('OK')\n",
    "test_lower_base_martian()"
   ]
  }
 ],
 "metadata": {
  "kernelspec": {
   "display_name": "Python 3 (ipykernel)",
   "language": "python",
   "name": "python3"
  },
  "language_info": {
   "codemirror_mode": {
    "name": "ipython",
    "version": 3
   },
   "file_extension": ".py",
   "mimetype": "text/x-python",
   "name": "python",
   "nbconvert_exporter": "python",
   "pygments_lexer": "ipython3",
   "version": "3.9.14"
  }
 },
 "nbformat": 4,
 "nbformat_minor": 5
}
