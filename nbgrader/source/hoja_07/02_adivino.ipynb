{
 "cells": [
  {
   "cell_type": "markdown",
   "id": "a4b88cbe-bdfe-41e6-8018-61f861ed5965",
   "metadata": {},
   "source": [
    "El siguiente programa va a pensar un número entre 0 y un número dado. No es necesario que lo entiendas."
   ]
  },
  {
   "cell_type": "code",
   "execution_count": 1,
   "id": "e239cf50-de5d-4124-bf53-8b07bbac76cb",
   "metadata": {
    "nbgrader": {
     "grade": false,
     "grade_id": "cell-13227cde81a273a2",
     "locked": true,
     "schema_version": 3,
     "solution": false,
     "task": false
    },
    "tags": []
   },
   "outputs": [],
   "source": [
    "import random\n",
    "\n",
    "class Secret(object):\n",
    "    def __init__(self, n):\n",
    "        self.max = n\n",
    "        self.secret = random.randint(0,n+1)\n",
    "        \n",
    "    def get_max(self):\n",
    "        return self.max\n",
    "    \n",
    "    def query(self, guess):\n",
    "        if self.secret<guess:\n",
    "            ans = -1\n",
    "        elif self.secret>guess:\n",
    "            ans = 1\n",
    "        else:\n",
    "            ans = 0\n",
    "        return ans"
   ]
  },
  {
   "cell_type": "markdown",
   "id": "c8c7037f-6123-4f1c-b16b-6af09a08d053",
   "metadata": {},
   "source": [
    "Para decir que piense un número hay que decir lo siguiente"
   ]
  },
  {
   "cell_type": "code",
   "execution_count": 2,
   "id": "87f01295-a132-4ecf-ae15-95f2b5273bb6",
   "metadata": {
    "tags": []
   },
   "outputs": [],
   "source": [
    "secret = Secret(5)"
   ]
  },
  {
   "cell_type": "markdown",
   "id": "3601e071-d095-499c-9109-af21cf8c7dfc",
   "metadata": {},
   "source": [
    "Ahora podemos preguntar a `secret` sobre el número que creemos que es mediante el método `query` que devuelve -1 si el que ha adividado es más pequeño que el que pasamos, 1 si es mayor y 0 si lo hemos adivinado. "
   ]
  },
  {
   "cell_type": "code",
   "execution_count": 3,
   "id": "f1ec42cf-e9b2-4200-b322-968a8174b1dc",
   "metadata": {
    "tags": []
   },
   "outputs": [
    {
     "data": {
      "text/plain": [
       "-1"
      ]
     },
     "execution_count": 3,
     "metadata": {},
     "output_type": "execute_result"
    }
   ],
   "source": [
    "secret.query(5)"
   ]
  },
  {
   "cell_type": "code",
   "execution_count": 4,
   "id": "62f62c07-a259-4985-863c-a07808117ca9",
   "metadata": {},
   "outputs": [
    {
     "data": {
      "text/plain": [
       "-1"
      ]
     },
     "execution_count": 4,
     "metadata": {},
     "output_type": "execute_result"
    }
   ],
   "source": [
    "secret.query(3)"
   ]
  },
  {
   "cell_type": "code",
   "execution_count": 5,
   "id": "bb95bd46-0000-451b-a9a9-e7109d8deae6",
   "metadata": {},
   "outputs": [
    {
     "data": {
      "text/plain": [
       "0"
      ]
     },
     "execution_count": 5,
     "metadata": {},
     "output_type": "execute_result"
    }
   ],
   "source": [
    "secret.query(2)"
   ]
  },
  {
   "cell_type": "code",
   "execution_count": null,
   "id": "62e72261-cf7f-41ab-b6c7-39c8cb638975",
   "metadata": {},
   "outputs": [],
   "source": [
    "Ahora puedes intentarlo otra vez"
   ]
  },
  {
   "cell_type": "code",
   "execution_count": 6,
   "id": "de544ddf-940e-4fb5-b579-daf8684ab498",
   "metadata": {},
   "outputs": [],
   "source": [
    "secret = Secret(10)"
   ]
  },
  {
   "cell_type": "code",
   "execution_count": 7,
   "id": "e73d9b5f-e7bb-499c-ad22-4fb34bb07403",
   "metadata": {},
   "outputs": [
    {
     "data": {
      "text/plain": [
       "1"
      ]
     },
     "execution_count": 7,
     "metadata": {},
     "output_type": "execute_result"
    }
   ],
   "source": [
    "secret.query(0)"
   ]
  },
  {
   "cell_type": "markdown",
   "id": "b8bb860a-4c32-4643-89b2-e722e88acd32",
   "metadata": {},
   "source": [
    "Realiza un programa que encuentre el número secreto de forma secuencial. Es decir, empezando en 0, luego 1, y así sucesivamente hasta que lo encuentre. El programa se debe llamar `find_secret_seq` y como parámetro objeto de la clase `Secret`. El programa debe devolver el número secreto."
   ]
  },
  {
   "cell_type": "code",
   "execution_count": 8,
   "id": "7643ff41-bef0-47c6-be19-bd28dec72086",
   "metadata": {
    "nbgrader": {
     "grade": false,
     "grade_id": "cell-b5b0d9e6018db888",
     "locked": false,
     "schema_version": 3,
     "solution": true,
     "task": false
    },
    "tags": []
   },
   "outputs": [],
   "source": [
    "### BEGIN SOLUTION\n",
    "def find_secret_seq(secret: Secret) -> int:\n",
    "    i = 0\n",
    "    while secret.query(i)>0:\n",
    "        i = i+1\n",
    "    return i\n",
    "### END SOLUTION"
   ]
  },
  {
   "cell_type": "code",
   "execution_count": null,
   "id": "b33ecb11-7cd7-4416-960a-d801cc0606ea",
   "metadata": {},
   "outputs": [],
   "source": []
  },
  {
   "cell_type": "code",
   "execution_count": 9,
   "id": "9867b009-8619-4535-9937-3a307e5e025c",
   "metadata": {
    "nbgrader": {
     "grade": true,
     "grade_id": "cell-b2a2c9678715d093",
     "locked": true,
     "points": 1,
     "schema_version": 3,
     "solution": false,
     "task": false
    },
    "tags": []
   },
   "outputs": [
    {
     "name": "stdout",
     "output_type": "stream",
     "text": [
      "OK\n"
     ]
    }
   ],
   "source": [
    "def test_find_secret_seq():\n",
    "    secret = Secret(100)\n",
    "    n = find_secret_seq(secret)\n",
    "    assert n == secret.secret, 'Error'\n",
    "    print('OK')\n",
    "test_find_secret_seq()"
   ]
  },
  {
   "cell_type": "markdown",
   "id": "c7cd06ca-ad15-4909-949a-ea7683e27c67",
   "metadata": {},
   "source": [
    "Prueba ese programa con un número grande, déjalo funcionar, vete a tomar algo y a lo mejor ha acabado"
   ]
  },
  {
   "cell_type": "code",
   "execution_count": null,
   "id": "45f65bfc-5432-417f-a13f-8c51afc01549",
   "metadata": {},
   "outputs": [],
   "source": [
    "s = Secret(10**10)\n",
    "print(find_secret_seq(s))"
   ]
  },
  {
   "cell_type": "code",
   "execution_count": null,
   "id": "99ea3be5-9105-4672-8101-5e97505a050c",
   "metadata": {},
   "outputs": [],
   "source": []
  },
  {
   "cell_type": "markdown",
   "id": "13cdb94b-c824-4699-a374-39a5e0a26cc6",
   "metadata": {},
   "source": [
    "Intenta adivinar el siguiente, "
   ]
  },
  {
   "cell_type": "code",
   "execution_count": 11,
   "id": "c1b8b08a-27eb-495f-afae-bf35f968720c",
   "metadata": {},
   "outputs": [],
   "source": [
    "s = Secret(1000)"
   ]
  },
  {
   "cell_type": "code",
   "execution_count": null,
   "id": "19a0228a-64a5-436d-87ad-6a123e1d9f91",
   "metadata": {},
   "outputs": [],
   "source": [
    "s.query(...)"
   ]
  },
  {
   "cell_type": "markdown",
   "id": "a8d4bde0-ff91-4f4d-bab5-efa6498978af",
   "metadata": {},
   "source": [
    "Piensa en la estrategia e intenta programarla. Haz una función llamada `find_secret` que implemenete esa estrategia para adivinar el número. La función admite tiene como parámetro un objeto de clase `Secret`. Puedes usar el método `get_max` para saber el límite superior en el que se encuentra el número."
   ]
  },
  {
   "cell_type": "code",
   "execution_count": 12,
   "id": "b881b07c-4fd9-4d86-8588-6bb9165d061d",
   "metadata": {},
   "outputs": [
    {
     "data": {
      "text/plain": [
       "1000"
      ]
     },
     "execution_count": 12,
     "metadata": {},
     "output_type": "execute_result"
    }
   ],
   "source": [
    "s.get_max()"
   ]
  },
  {
   "cell_type": "code",
   "execution_count": 14,
   "id": "9f262af2-8bb9-4416-aaaf-ef0cb7ed3715",
   "metadata": {
    "nbgrader": {
     "grade": false,
     "grade_id": "cell-7ad8e673b39cfd05",
     "locked": false,
     "schema_version": 3,
     "solution": true,
     "task": false
    },
    "tags": []
   },
   "outputs": [],
   "source": [
    "### BEGIN SOLUTION\n",
    "def find_secret(s: Secret) -> int:\n",
    "    li = 0\n",
    "    ls = s.get_max()\n",
    "    enc = False\n",
    "    while not enc:\n",
    "        med = (li+ls)//2\n",
    "        if s.query(med)>0:\n",
    "            li = med\n",
    "        elif s.query(med)<0:\n",
    "            ls = med\n",
    "        else:\n",
    "            enc = True\n",
    "            ans = med\n",
    "    return ans\n",
    "### END SOLUTION"
   ]
  },
  {
   "cell_type": "code",
   "execution_count": 16,
   "id": "e22c8f45-5b0d-47a1-b60b-0a39063c44f6",
   "metadata": {
    "nbgrader": {
     "grade": true,
     "grade_id": "cell-d04e58ec395fb323",
     "locked": true,
     "points": 1,
     "schema_version": 3,
     "solution": false,
     "task": false
    },
    "tags": []
   },
   "outputs": [
    {
     "name": "stdout",
     "output_type": "stream",
     "text": [
      "OK\n"
     ]
    }
   ],
   "source": [
    "def test_find_secret():\n",
    "    secret = Secret(10**10)\n",
    "    n = find_secret(secret)\n",
    "    assert n == secret.secret, 'Error'\n",
    "    print('OK')\n",
    "test_find_secret()"
   ]
  },
  {
   "cell_type": "markdown",
   "id": "bc463c50-29fb-48f5-b6ef-29ec58e25345",
   "metadata": {},
   "source": [
    "Podemos probar ahora qué pasa cuando le pasamos un número grande."
   ]
  },
  {
   "cell_type": "code",
   "execution_count": null,
   "id": "43edbd38-ba21-46e5-a7a1-8ac377d382b0",
   "metadata": {},
   "outputs": [],
   "source": [
    "s = Secret(10**10)\n",
    "print(find_secret(s))"
   ]
  },
  {
   "cell_type": "markdown",
   "id": "0e9f37e5-54b4-40e9-a137-296160b49c5f",
   "metadata": {},
   "source": [
    "O incluso números mayores"
   ]
  },
  {
   "cell_type": "code",
   "execution_count": null,
   "id": "4cfcbb6f-85c6-4112-8f8c-5d15d3080db5",
   "metadata": {},
   "outputs": [],
   "source": [
    "s = Secret(10**100)\n",
    "print(find_secret(s))"
   ]
  }
 ],
 "metadata": {
  "kernelspec": {
   "display_name": "Python 3 (ipykernel)",
   "language": "python",
   "name": "python3"
  },
  "language_info": {
   "codemirror_mode": {
    "name": "ipython",
    "version": 3
   },
   "file_extension": ".py",
   "mimetype": "text/x-python",
   "name": "python",
   "nbconvert_exporter": "python",
   "pygments_lexer": "ipython3",
   "version": "3.9.14"
  }
 },
 "nbformat": 4,
 "nbformat_minor": 5
}
