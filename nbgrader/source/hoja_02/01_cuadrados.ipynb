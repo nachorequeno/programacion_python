{
 "cells": [
  {
   "cell_type": "markdown",
   "id": "f6674c0c-5603-4b06-92c8-2d9c6c2b73c0",
   "metadata": {},
   "source": [
    "# Cuadrados perfectos\n",
    "\n",
    "Los cuadrados perfectos son los números $1$, $4$, $9$, \n",
    "$16$, ..., esto es, los cuadrados de los números naturales:\n",
    "$1^2$, $2^2$, $3^2$, $4^2$,....."
   ]
  },
  {
   "cell_type": "markdown",
   "id": "a85a8629-c38a-4951-9afa-071d14345ff9",
   "metadata": {},
   "source": [
    "Escribe una función que nos indique si un número natural $m$ es un cuadrado perfecto, o sea, si es de la forma $m = n^2$ para algún natural $n$."
   ]
  },
  {
   "cell_type": "code",
   "execution_count": 1,
   "id": "71c60dd9-0d53-4c90-8374-3b470ac54d7e",
   "metadata": {
    "nbgrader": {
     "grade": false,
     "grade_id": "cell-6ea5308918f6bf42",
     "locked": false,
     "schema_version": 3,
     "solution": true,
     "task": false
    },
    "tags": []
   },
   "outputs": [],
   "source": [
    "import math\n",
    "\n",
    "def perfect_square(n: int) -> bool:\n",
    "    ### BEGIN SOLUTION\n",
    "    return n>=0 and math.floor(math.sqrt(n))**2 == n\n",
    "    ### END SOLUTION\n"
   ]
  },
  {
   "cell_type": "code",
   "execution_count": 18,
   "id": "47bae38f-e48a-4687-91f5-ba5240262c7a",
   "metadata": {},
   "outputs": [],
   "source": [
    "#Escribe aquí tus pruebas\n"
   ]
  },
  {
   "cell_type": "code",
   "execution_count": 17,
   "id": "2fa20e74-60a4-45d1-ba1d-de1810b395c0",
   "metadata": {
    "nbgrader": {
     "grade": true,
     "grade_id": "cell-edd0d845210286c4",
     "locked": true,
     "points": 1,
     "schema_version": 3,
     "solution": false,
     "task": false
    },
    "tags": []
   },
   "outputs": [
    {
     "name": "stdout",
     "output_type": "stream",
     "text": [
      "-4, False.....OK\n",
      "-1, False.....OK\n",
      "0, True.....OK\n",
      "1, True.....OK\n",
      "2, False.....OK\n",
      "5, False.....OK\n",
      "OK\n"
     ]
    }
   ],
   "source": [
    "def test_perfect_square():\n",
    "    tests = [\n",
    "        (-4, False),\n",
    "        (-1, False),\n",
    "        (0, True),\n",
    "        (1, True),\n",
    "        (2, False),\n",
    "        (5, False),\n",
    "    ]\n",
    "    for num, res in tests:\n",
    "        r = perfect_square(num)\n",
    "        print(f'{num}, {r}.....', end='')\n",
    "        assert res == r, f'Error, debería ser {res}'\n",
    "        print('OK')\n",
    "        \n",
    "    for i in range(0, 100, 7):\n",
    "        assert perfect_square(i*i), f'Error {i*i} es un cuadrado perfecto'\n",
    "    print('OK')\n",
    "        \n",
    "\n",
    "test_perfect_square()"
   ]
  },
  {
   "cell_type": "markdown",
   "id": "532b9b2a-55ab-4a36-b805-250a9ce63cff",
   "metadata": {},
   "source": [
    "Escribe una función que nos devuelva el número $n$ mayor posible pero que no supere a $m$,\n",
    "(o sea, $n\\leq m$) y sea cuadrado perfecto."
   ]
  },
  {
   "cell_type": "code",
   "execution_count": 19,
   "id": "948bb686-92a4-4032-ac9f-cfa15620d777",
   "metadata": {
    "nbgrader": {
     "grade": false,
     "grade_id": "cell-a94a064a5589ebaf",
     "locked": false,
     "schema_version": 3,
     "solution": true,
     "task": false
    },
    "tags": []
   },
   "outputs": [],
   "source": [
    "def previous_square(n: int) -> float:\n",
    "    ### BEGIN SOLUTION\n",
    "    assert n>=0, f'Error no se puede calcular la raíz de un número negativo:{n} '\n",
    "    return math.floor(math.sqrt(n))**2\n",
    "    ### END SOLUTION\n"
   ]
  },
  {
   "cell_type": "code",
   "execution_count": null,
   "id": "ff7c204d-511c-4385-bd4d-2313ebffd48d",
   "metadata": {
    "nbgrader": {
     "grade": true,
     "grade_id": "cell-9853f8979e61aaed",
     "locked": true,
     "points": 1,
     "schema_version": 3,
     "solution": false,
     "task": false
    },
    "tags": []
   },
   "outputs": [],
   "source": [
    "### Escribe aquí tus pruebas\n"
   ]
  },
  {
   "cell_type": "code",
   "execution_count": 20,
   "id": "fb0b55ab-5123-4dd5-bc7d-129c01aaee55",
   "metadata": {},
   "outputs": [
    {
     "name": "stdout",
     "output_type": "stream",
     "text": [
      "OK\n"
     ]
    }
   ],
   "source": [
    "def test_previous_square():\n",
    "    for i in range(100):\n",
    "        for j in range(i**2, i**2 + 1):\n",
    "            assert previous_square(j)==i**2, \\\n",
    "                f'El cuadrado anterior a {j} es {i**2}'\n",
    "\n",
    "    for i in range(-1, -100, -1):\n",
    "        try:\n",
    "            n = previous_square(-5)\n",
    "        except AssertionError:\n",
    "            pass\n",
    "        except:\n",
    "            assert False, f'La función debe devolver una excepción para valores negativos'\n",
    "    print('OK')\n",
    "\n",
    "test_previous_square()\n"
   ]
  }
 ],
 "metadata": {
  "kernelspec": {
   "display_name": "Python 3 (ipykernel)",
   "language": "python",
   "name": "python3"
  },
  "language_info": {
   "codemirror_mode": {
    "name": "ipython",
    "version": 3
   },
   "file_extension": ".py",
   "mimetype": "text/x-python",
   "name": "python",
   "nbconvert_exporter": "python",
   "pygments_lexer": "ipython3",
   "version": "3.9.14"
  }
 },
 "nbformat": 4,
 "nbformat_minor": 5
}
