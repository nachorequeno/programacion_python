{
 "cells": [
  {
   "cell_type": "markdown",
   "id": "187ba76e-5f5f-4477-8e4d-832af1ce928e",
   "metadata": {},
   "source": [
    "# El beso exacto\n",
    "\n",
    "Como puedes ver en el dibujo, \n",
    "dados tres círculos, $C_1$, $C_2$ y $C_3$, tangentes entre sí dos a dos, \n",
    "existen exactamente dos círculos que son tangentes a los tres anteriores:\n",
    "\n",
    "<img src=\"soddy.svg\" alt=\"Círculos tangentes, y los tangentes comunes\">\n",
    "\n",
    "\n",
    "Hay una fórmula que permite calcular el radio de estos círculos \n",
    "tangentes:    \n",
    "si tenemos cuatro círculos $C_1$, $C_2$, $C_3$ y $C_4$, \n",
    "tangentes entre sí, con radios $r_1$, $r_2$, $r_3$ y $r_4$,\n",
    "respectivamente, entonces se verifica la fórmula\n",
    "\n",
    "$2(s_1^2 + s_2^2 + s_3^2 + s_4^2) = (s_1 + s_2 + s_3 + s_4)^2$\n",
    "\n",
    "donde $s_i = 1/r_i$.\n",
    "No hay magia alguna; de esta fórmula resultan dos soluciones\n",
    "porque es una ecuación de segundo grado.\n",
    "La solución de menor valor absoluto siempre es positiva, da el radio del círculo menor. La otra  es negativa si el círculo al que corresponde encierra a los otros tres. Si aparece como solución $s_4=0$ (o sea, $r_4=\\infty$), tendremos que el círculo tangente correspondiente se ha *convertido en una recta.*\n",
    "\n",
    "<em>\n",
    "Four circles to the kissing come.<br>     \n",
    "The smaller are the benter.          <br> \n",
    "The bend is just the inverse of       <br>\n",
    "The distance form the center.         <br>\n",
    "Though their intrigue left Euclid dumb<br>\n",
    "There's now no need for rule of thumb.<br>\n",
    "Since zero bend's a dead straight line<br>\n",
    "And concave bends have minus sign,    <br>\n",
    "The sum of the squares of all four bends<br>\n",
    "Is half the square of their sum.<br>\n",
    "</em>\n",
    "\n",
    "> Frederick Soddy (1877-1956)"
   ]
  },
  {
   "cell_type": "markdown",
   "id": "b409c967-9127-4e45-8c3d-de8fa5d3d6e5",
   "metadata": {},
   "source": [
    "Realiza una función llamada `soddy` que devuelca el radio de las circunferencias menor y mayor tangentes a 2 cirunferencias dadas. Si alguna de los radios no es positivo se debe lanzar una excepción."
   ]
  },
  {
   "cell_type": "code",
   "execution_count": 42,
   "id": "6b7305d3-a29b-4877-b592-1b80ad3bd2c8",
   "metadata": {
    "nbgrader": {
     "grade": false,
     "grade_id": "cell-090ba3a6bcb4b4e0",
     "locked": false,
     "schema_version": 3,
     "solution": true,
     "task": false
    },
    "tags": []
   },
   "outputs": [],
   "source": [
    "import math\n",
    "\n",
    "def soddy(r1:float, r2:float, r3:float) -> float:\n",
    "    ### BEGIN SOLUTION\n",
    "    assert r1>0 and r2>0 and r3>0\n",
    "\n",
    "    s1 = 1.0/r1\n",
    "    s2 = 1.0/r2\n",
    "    s3 = 1.0/r3\n",
    "\n",
    "\n",
    "    a = s1*s1 + s2*s2 + s3*s3\n",
    "    b = s1 + s2 + s3\n",
    "\n",
    "    sol1 = b + math.sqrt(2*(b*b - a))\n",
    "    sol2 = abs(b - math.sqrt(2*(b*b - a)))\n",
    "    \n",
    "    small_r = 1.0 / sol1\n",
    "    big_r = 1.0 / sol2 \n",
    "\n",
    "    ### END SOLUTION\n",
    "    return small_r, big_r"
   ]
  },
  {
   "cell_type": "code",
   "execution_count": 40,
   "id": "0ec611e7-385c-4904-8d52-aa33b2776b8e",
   "metadata": {},
   "outputs": [],
   "source": [
    "### Aquí tus pruebas\n"
   ]
  },
  {
   "cell_type": "code",
   "execution_count": 43,
   "id": "6a5960e2-4f68-4c0e-a7f0-64464d7d2c04",
   "metadata": {
    "nbgrader": {
     "grade": true,
     "grade_id": "cell-7b3eea2f4b777c09",
     "locked": true,
     "points": 4,
     "schema_version": 3,
     "solution": false,
     "task": false
    },
    "tags": []
   },
   "outputs": [
    {
     "name": "stdout",
     "output_type": "stream",
     "text": [
      "(1, 2, 3), (0.2608695652173913, 6.000000000000005)....OK\n",
      "(1, 1, 1), (0.15470053837925155, 2.1547005383792524)....OK\n",
      "(2, 2, 2), (0.3094010767585031, 4.309401076758505)....OK\n",
      "(0, 2, 3)....OK\n",
      "(1, 0, 1)....OK\n",
      "(2, 2, 0)....OK\n",
      "(-1, 2, 3)....OK\n",
      "(1, -1, 1)....OK\n",
      "(2, 2, -1)....OK\n"
     ]
    }
   ],
   "source": [
    "def test_soddy():\n",
    "    import math\n",
    "    tests = [\n",
    "        ((1,2,3), (0.2608695652173913, 6)),\n",
    "        ((1,1,1), (0.15470053837925155, 2.1547005383792524)),\n",
    "        ((2,2,2), (0.3094010767585031, 4.309401076758505))\n",
    "    ]\n",
    "\n",
    "    for test, result in tests:\n",
    "        r = soddy(*test)\n",
    "        print(f'{test}, {r}....', end='')\n",
    "        assert math.isclose(r[0], result[0]) and math.isclose(r[1], result[1]), f'El resultado debería ser {result}'\n",
    "        print('OK')\n",
    "\n",
    "    tests = [\n",
    "        (0,2,3),\n",
    "        (1,0,1),\n",
    "        (2,2,0)\n",
    "    ]\n",
    "    for test in tests:\n",
    "        print(f'{test}....', end='')\n",
    "        try:\n",
    "            r = soddy(*test)\n",
    "        except ZeroDivisionError:\n",
    "            assert False, f'Error no encontrado {test}'\n",
    "        except AssertionError:\n",
    "            pass\n",
    "        print('OK')\n",
    "\n",
    "\n",
    "    tests = [\n",
    "        (-1,2,3),\n",
    "        (1,-1,1),\n",
    "        (2,2,-1)\n",
    "    ]\n",
    "\n",
    "    for test in tests:\n",
    "        print(f'{test}....', end='')\n",
    "        try:\n",
    "            r = soddy(*test)\n",
    "        except ValueError:\n",
    "            assert False, f'Error no encontrado ́{test}'\n",
    "        except AssertionError:\n",
    "            pass\n",
    "\n",
    "        print('OK')\n",
    "            \n",
    "    \n",
    "test_soddy()"
   ]
  }
 ],
 "metadata": {
  "kernelspec": {
   "display_name": "Python 3 (ipykernel)",
   "language": "python",
   "name": "python3"
  },
  "language_info": {
   "codemirror_mode": {
    "name": "ipython",
    "version": 3
   },
   "file_extension": ".py",
   "mimetype": "text/x-python",
   "name": "python",
   "nbconvert_exporter": "python",
   "pygments_lexer": "ipython3",
   "version": "3.9.14"
  }
 },
 "nbformat": 4,
 "nbformat_minor": 5
}
