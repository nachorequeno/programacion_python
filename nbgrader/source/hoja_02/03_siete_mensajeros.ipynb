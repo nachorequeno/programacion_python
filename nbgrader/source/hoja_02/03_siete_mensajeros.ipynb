{
 "cells": [
  {
   "cell_type": "markdown",
   "id": "597c7813-045e-43b6-b7f8-3ddafc6b4de2",
   "metadata": {},
   "source": [
    "# Los siete mensajeros\n",
    "\n",
    "El relato de Los Siete Mensajeros de Dino Buzzati (1906--1972) \n",
    "contiene el siguiente fragmento:\n",
    "\n",
    "Partí a explorar el reino de mi padre, pero día a día me alejo\n",
    "más de la ciudad y las noticias que me llegan se hacen cada\n",
    "vez más escasas. [...]\n",
    "\n",
    "Aunque despreocupado ---¡mucho más de lo que lo soy ahora!---, pensé\n",
    "en el modo de comunicarme con mis allegados y, de entre los \n",
    "caballeros de mi escolta, elegí a los siete mejores para que me \n",
    "hicieran de mensajeros. [...]\n",
    "\n",
    "Poco habituado a estar lejos de casa mandé al primero, Alejandro,\n",
    "la noche del segundo día de viaje, cuando habíamos recorrido ya\n",
    "unas ochenta leguas. Para asegurarme la continuidad de las \n",
    "comunicaciones, la noche siguiente envié al segundo, luego al\n",
    "tercero, luego al cuarto, y así de forma consecutiva hasta la\n",
    "octava noche del viaje, en que partió Gregorio. El primero aún\n",
    "no había vuelto.\n",
    "\n",
    "Éste nos alcanzó la décima noche, mientras nos hallábamos plantando\n",
    "el campamento para pernoctar en un valle deshabitado. Supe por\n",
    "Alejandro que su rapidez había sido inferior a la prevista; yo había\n",
    "pensado que, yendo solo y montando un magnífico corcel, podría recorrer\n",
    "en el mismo tiempo el doble de distancia que nosotros; sin embargo,\n",
    "sólo había podido recorrer la equivalente a una vez y media; [...]\n",
    "lo mismo ocurrió con los demás. Bartolomé, que partió hacia\n",
    "la ciudad la tercera noche de viaje, volvió a la decimoquinta. Cayo, \n",
    "que partió la cuarta, no regresó hasta la vigésima.\n"
   ]
  },
  {
   "cell_type": "markdown",
   "id": "031c9bf5-1950-43aa-96bf-4848e10b6717",
   "metadata": {},
   "source": [
    "Escribe una función que permita calcular cuándo regresará un \n",
    "mensajero conociendo el día del viaje en el que se encuentra \n",
    "en el momento de su partida. Es decir, conocido el día de partida de \n",
    "un mensajero,\n",
    "la función deberá anunciar el día de su llegada.\n",
    "\n",
    "Si no te sale la solución puedes leer el relato completo para encontrarla.\n"
   ]
  },
  {
   "cell_type": "code",
   "execution_count": 1,
   "id": "1de60434-a7b1-4bd2-8a3b-ee232ef84053",
   "metadata": {
    "nbgrader": {
     "grade": false,
     "grade_id": "cell-f9d40436ad82ab68",
     "locked": false,
     "schema_version": 3,
     "solution": true,
     "task": false
    },
    "tags": []
   },
   "outputs": [],
   "source": [
    "def mensajeros(day: int) -> int:\n",
    "    ### BEGIN SOLUTION\n",
    "    return 5*day\n",
    "    ### END SOLUTION"
   ]
  },
  {
   "cell_type": "code",
   "execution_count": null,
   "id": "81350da3-c321-4342-9209-4ff7d3f90536",
   "metadata": {},
   "outputs": [],
   "source": [
    "### Escribe aquí tus pruebas"
   ]
  },
  {
   "cell_type": "code",
   "execution_count": 5,
   "id": "00b5b2de-7991-49ff-86ee-adc7f78746a0",
   "metadata": {
    "nbgrader": {
     "grade": true,
     "grade_id": "cell-e387d26675191cb9",
     "locked": true,
     "points": 1,
     "schema_version": 3,
     "solution": false,
     "task": false
    },
    "tags": []
   },
   "outputs": [
    {
     "name": "stdout",
     "output_type": "stream",
     "text": [
      "1, 5.....OK\n",
      "2, 10.....OK\n",
      "5, 25.....OK\n"
     ]
    }
   ],
   "source": [
    "def test_mensajeros():\n",
    "    tests = [\n",
    "        (1, 5),\n",
    "        (2, 10),\n",
    "        (5, 25)\n",
    "    ]\n",
    "    for num, res in tests:\n",
    "        r = mensajeros(num)\n",
    "        print(f'{num}, {r}.....', end='')\n",
    "        assert res == r, f'Error, debería ser {res}'\n",
    "        print('OK')\n",
    "        \n",
    "test_mensajeros()"
   ]
  }
 ],
 "metadata": {
  "kernelspec": {
   "display_name": "Python 3 (ipykernel)",
   "language": "python",
   "name": "python3"
  },
  "language_info": {
   "codemirror_mode": {
    "name": "ipython",
    "version": 3
   },
   "file_extension": ".py",
   "mimetype": "text/x-python",
   "name": "python",
   "nbconvert_exporter": "python",
   "pygments_lexer": "ipython3",
   "version": "3.9.14"
  }
 },
 "nbformat": 4,
 "nbformat_minor": 5
}
