{
 "cells": [
  {
   "cell_type": "markdown",
   "id": "6a54403b-2d3a-4d4c-a033-cc057175cd5b",
   "metadata": {},
   "source": [
    "# Rectangulos\n",
    "\n",
    "Teniendo en cuenta que un rectángulo se puede representar en un plano a  partir de cuatro puntos y un punto se puede representar con 2 coordenadas, considera las siguientes cuestiones:\n"
   ]
  },
  {
   "cell_type": "markdown",
   "id": "9d0c62e7-ab97-4dfe-a0aa-6d86e1ba28e8",
   "metadata": {},
   "source": [
    "Escribe una función que nos indique si cuatro puntos pueden ser un rectángulo.\n",
    "\n",
    "<img src='rectangulo.svg' alt='rectangulo'>\n",
    "\n",
    "Para ver si 4 puntos forman un rectángulo en plano es necesario ver que que los lados opuestos son iguales y las 2 diagonales miden lo mismo.\n",
    "Recuerda de la distancia entre los puntos $(a_x, a_y)$ y $(b_x,b_y)$ es $\\sqrt{(b_x-a_x)^2 + (b_y-a_y)^2}$"
   ]
  },
  {
   "cell_type": "code",
   "execution_count": 1,
   "id": "f67b709c-9364-444b-a66e-fef50756f399",
   "metadata": {
    "nbgrader": {
     "grade": false,
     "grade_id": "cell-41368ca9833b2e53",
     "locked": false,
     "schema_version": 3,
     "solution": true,
     "task": false
    },
    "tags": []
   },
   "outputs": [],
   "source": [
    "import math \n",
    "def is_rectangle(ax: float, ay: float, bx: float, by: float, \n",
    "                 cx: float, cy: float, dx: float, dy: float) -> bool:\n",
    "    ### BEGIN SOLUTION\n",
    "    dab = math.sqrt((ax - bx)**2 + (ay - by)**2)\n",
    "    dac = math.sqrt((ax - cx)**2 + (ay - cy)**2)\n",
    "    dad = math.sqrt((ax - dx)**2 + (ay - dy)**2)\n",
    "    dbc = math.sqrt((bx - cx)**2 + (by - cy)**2)\n",
    "    dbd = math.sqrt((bx - dx)**2 + (by - dy)**2)\n",
    "    dcd = math.sqrt((cx - dx)**2 + (cy - dy)**2)\n",
    "\n",
    "    return math.isclose(dab, dcd) and \\\n",
    "        math.isclose(dac, dbd) and \\\n",
    "        math.isclose(dad, dbc)\n",
    "    ### END SOLUTION\n"
   ]
  },
  {
   "cell_type": "code",
   "execution_count": 27,
   "id": "9fd9359d-8414-47bc-9ede-97ee92d079ca",
   "metadata": {},
   "outputs": [],
   "source": [
    "### Escribe aquí tus pruebas"
   ]
  },
  {
   "cell_type": "code",
   "execution_count": 3,
   "id": "573a27e7-d63c-4248-9ccc-fde6cfe788e2",
   "metadata": {
    "nbgrader": {
     "grade": true,
     "grade_id": "cell-6afeec483d67fd48",
     "locked": true,
     "points": 1,
     "schema_version": 3,
     "solution": false,
     "task": false
    },
    "tags": []
   },
   "outputs": [
    {
     "name": "stdout",
     "output_type": "stream",
     "text": [
      "OK\n"
     ]
    }
   ],
   "source": [
    "def test_is_rectangle():\n",
    "    import random\n",
    "    for _ in range(10):\n",
    "        ax, ay = random.random()*10, random.random()*10\n",
    "        vx, vy = random.random()*10, random.random()*10\n",
    "        fac = random.random()*10\n",
    "        ux, uy = -fac*vy, fac*vx\n",
    "        bx, by = ax + vx, ay + vy\n",
    "        cx, cy = ax + ux, ay + uy\n",
    "        dx, dy = bx + ux, by + uy\n",
    "        assert is_rectangle(ax, ay, bx, by, cx, cy, dx, dy),\\\n",
    "            f'Error los puntos (́{ax:6.4f}, {ay:6.4f}) (́{bx:6.4f}, {by:6.4f}) (́{cx:6.4f}, {cy:6.4f}) y  (́{dx:6.4f}, {dy:6.4f}) forman un rectángulo'\n",
    "        ax += 10\n",
    "        assert not is_rectangle(ax, ay, bx, by, cx, cy, dx, dy),\\\n",
    "            f'Error los puntos (́{ax:6.4f}, {ay:6.4f}) (́{bx:6.4f}, {by:6.4f}) (́{cx:6.4f}, {cy:6.4f}) y  (́{dx:6.4f}, {dy:6.4f}) NO forman un rectángulo'\n",
    "        ax -= 10\n",
    "\n",
    "        ay -= 10\n",
    "        assert not is_rectangle(ax, ay, bx, by, cx, cy, dx, dy),\\\n",
    "            f'Error los puntos (́{ax:6.4f}, {ay:6.4f}) (́{bx:6.4f}, {by:6.4f}) (́{cx:6.4f}, {cy:6.4f}) y  (́{dx:6.4f}, {dy:6.4f}) NO forman un rectángulo'\n",
    "        ay += 10\n",
    "    print('OK')\n",
    "\n",
    "test_is_rectangle()"
   ]
  },
  {
   "cell_type": "markdown",
   "id": "a2f12fa5-a40d-492b-ab2b-3dd875ca3a47",
   "metadata": {},
   "source": [
    "Escribe una función que calucle el centro de un rectángulo"
   ]
  },
  {
   "cell_type": "code",
   "execution_count": 24,
   "id": "d2b00f55-f1da-4282-ae42-7362f26cc9f8",
   "metadata": {
    "nbgrader": {
     "grade": false,
     "grade_id": "cell-ea4872ee5ec3b63f",
     "locked": false,
     "schema_version": 3,
     "solution": true,
     "task": false
    },
    "tags": []
   },
   "outputs": [],
   "source": [
    "def center(ax: float, ay: float, bx: float, by: float, \n",
    "           cx: float, cy: float, dx: float, dy: float) -> float:\n",
    "    ### BEGIN SOLUTION\n",
    "    assert is_rectangle(ax,ay, bx,by, cx,cy, dx,dy), f'Error, los puntos (́{ax:6.4f}, {ay:6.4f}) (́{bx:6.4f}, {by:6.4f}) (́{cx:6.4f}, {cy:6.4f}) y  (́{dx:6.4f}, {dy:6.4f}) no forman rectángulo'\n",
    "    centerx = (ax+cx)/2\n",
    "    centery = (ay+cy)/2   \n",
    "    ### END SOLUTION\n",
    "    return centerx, centery\n"
   ]
  },
  {
   "cell_type": "code",
   "execution_count": 28,
   "id": "e064ae54-0e0f-4172-84dd-e097a65b3b65",
   "metadata": {},
   "outputs": [],
   "source": [
    "### Escribe aquí tus pruebas"
   ]
  },
  {
   "cell_type": "code",
   "execution_count": 26,
   "id": "e6358cdd-b6d8-46c4-8c80-51a854491f5f",
   "metadata": {
    "nbgrader": {
     "grade": true,
     "grade_id": "cell-3a1e2fc46ba5a7c9",
     "locked": true,
     "points": 1,
     "schema_version": 3,
     "solution": false,
     "task": false
    },
    "tags": []
   },
   "outputs": [
    {
     "name": "stdout",
     "output_type": "stream",
     "text": [
      "OK\n"
     ]
    }
   ],
   "source": [
    "def test_center():\n",
    "    import random\n",
    "    for _ in range(10):\n",
    "        centerx, centery = random.random()*10, random.random()*10\n",
    "        vx, vy = random.random()*10, random.random()*10\n",
    "        fac = random.random()*10\n",
    "        ux, uy = -fac*vy, fac*vx\n",
    "\n",
    "        ax, ay = centerx - (vx + ux)/2, centery - (vy + uy)/2\n",
    "        bx, by = ax + vx, ay + vy\n",
    "        cx, cy = bx + ux, by + uy\n",
    "        dx, dy = ax + ux, ay + uy\n",
    "\n",
    "        rcx, rcy = center(ax, ay, bx, by, cx, cy, dx, dy)\n",
    "        assert math.isclose(centerx, rcx) and math.isclose(centery, rcy), \\\n",
    "            f\"\"\"\n",
    "El centro de (́{ax:6.4f}, {ay:6.4f}) (́{bx:6.4f}, {by:6.4f}) (́{cx:6.4f}, {cy:6.4f}) y  (́{dx:6.4f}, {dy:6.4f})\n",
    "es (́{centerx:6.4f}, {centery:6.4f}) no (́{rcx:6.4f}, {rcy:6.4f})\n",
    "\"\"\"\n",
    "    print('OK')\n",
    "\n",
    "test_center()\n"
   ]
  }
 ],
 "metadata": {
  "kernelspec": {
   "display_name": "Python 3 (ipykernel)",
   "language": "python",
   "name": "python3"
  },
  "language_info": {
   "codemirror_mode": {
    "name": "ipython",
    "version": 3
   },
   "file_extension": ".py",
   "mimetype": "text/x-python",
   "name": "python",
   "nbconvert_exporter": "python",
   "pygments_lexer": "ipython3",
   "version": "3.9.14"
  }
 },
 "nbformat": 4,
 "nbformat_minor": 5
}
