{
 "cells": [
  {
   "cell_type": "markdown",
   "id": "7c5dbbbd-1763-4983-8449-a1a07abeaf00",
   "metadata": {},
   "source": [
    "# Matrices\n",
    "\n",
    "En esta hoja de ejercicios vamos a realizar algunos ejercicios de sobre matrices.Debes generar un fichero llamado `matrices.py` bien comentado y con pruebas propias que contenga las funciones que se indican a continuación.\n",
    "Puedes usar la siguiente función para visualizar matrices.\n",
    "\n"
   ]
  },
  {
   "cell_type": "code",
   "execution_count": null,
   "id": "31e38966-6b45-49c3-b708-9f31a8563f68",
   "metadata": {},
   "outputs": [],
   "source": [
    "def repr_matrix(matrix: list[list[float]]) -> str:\n",
    "    \"\"\"\n",
    "    Procedure to transform a real number matrix into a str.\n",
    "    We do not requiere that is a well form matrix.\n",
    "    \"\"\"\n",
    "    if len(matrix) == 0 or len(matrix[0]) == 0:\n",
    "        s = f'Incorrect list: {matrix}'\n",
    "    else:\n",
    "        s = f'matrix {len(matrix)}x{len(matrix[0])}\\n'\n",
    "        for row in matrix:\n",
    "            s += '|'\n",
    "            for cell in row:\n",
    "                s += \"{0:.2f}  \".format(cell)\n",
    "            s += '|\\n'\n",
    "    return s"
   ]
  },
  {
   "cell_type": "markdown",
   "id": "686d697c-ed35-4bca-addb-236a0a860bc8",
   "metadata": {},
   "source": [
    "Esta hoja la debes ejecutar cuando acabes de hacer el programa para comprobar que las funciones que has hecho son correctas. Si alguna falla y quieres comprobar otra vez deberás reiniciar el kernel, por lo que es conveniente de te que asegures de que son correctas antes de coprobarlas aquí. Cuando hayas acabado el programa y creas estar seguro de comprobarlo ve puslando las casillas de los tests. Empieza por la siguiente para cargar el programa y los tests."
   ]
  },
  {
   "cell_type": "code",
   "execution_count": null,
   "id": "9b69b982-9fae-4c11-a4bd-a0282a04b62d",
   "metadata": {
    "nbgrader": {
     "grade": true,
     "grade_id": "cell-6c75d5356b3e2a0b",
     "locked": true,
     "points": 1,
     "schema_version": 3,
     "solution": false,
     "task": false
    },
    "tags": []
   },
   "outputs": [],
   "source": [
    "import testing"
   ]
  },
  {
   "cell_type": "markdown",
   "id": "ce9ade48-a60c-4ea2-8d6f-7a82c2282890",
   "metadata": {},
   "source": [
    "# Matriz correcta\n",
    "En las funciones que vienen a continuación debes comprobar que los parámetros son matrices correctas. Una matriz será correcta si tiene almenos 1 fila, todas las filas tienen almenos 1 elemento y todas ellas tienen la misma longitud. \n",
    "Para ello debes crear una función llamada `is_correct_matrix`. Recibe como parámtro una matriz y debe comprobar que cumple los requisitos anteriores. \n",
    "\n"
   ]
  },
  {
   "cell_type": "code",
   "execution_count": null,
   "id": "5dce2db3-3054-4a21-a3c1-c93e60c90662",
   "metadata": {
    "nbgrader": {
     "grade": true,
     "grade_id": "cell-b824cdd68e0535d5",
     "locked": true,
     "points": 1,
     "schema_version": 3,
     "solution": false,
     "task": false
    },
    "tags": []
   },
   "outputs": [],
   "source": [
    "# Comprobar que la función funciona correctamente\n",
    "testing.test_is_correct_matrix()"
   ]
  },
  {
   "cell_type": "markdown",
   "id": "351256a1-097b-4060-9112-7fb1b50c51fc",
   "metadata": {},
   "source": [
    "## Crear matriz vacía\n",
    "A continuación debes hacer una función `create_matrix` que cree una matrix de $n$ filas y $m$ columnas cuyo contenido sea todo ceros (como números reales). \n",
    "El número de filas es el primer parámetro y el de columnas el segundo."
   ]
  },
  {
   "cell_type": "code",
   "execution_count": null,
   "id": "fbf5cc38-7601-4197-aabf-57ae8bed5ff6",
   "metadata": {
    "nbgrader": {
     "grade": true,
     "grade_id": "cell-c813ac903a4441b3",
     "locked": true,
     "points": 1,
     "schema_version": 3,
     "solution": false,
     "task": false
    },
    "tags": []
   },
   "outputs": [],
   "source": [
    "# Comprobar que la función funciona correctamente\n",
    "\n",
    "testing.test_create_matrix()"
   ]
  },
  {
   "cell_type": "markdown",
   "id": "755165d3-7d85-4799-8937-4f694c7a7e6a",
   "metadata": {},
   "source": [
    "## Copiar matriz\n",
    "Realiza una función `copy_matrix` que haga una copia de una matriz dada como parámetro.\n"
   ]
  },
  {
   "cell_type": "code",
   "execution_count": null,
   "id": "605bc5ce-dfdf-4118-88ae-37f1cf0f6960",
   "metadata": {
    "nbgrader": {
     "grade": false,
     "grade_id": "cell-4aaa58e200c99e14",
     "locked": false,
     "schema_version": 3,
     "solution": true,
     "task": false
    },
    "tags": []
   },
   "outputs": [],
   "source": [
    "# Comprobar que la función funciona correctamente\n",
    "\n",
    "testing.test_create_matrix()"
   ]
  },
  {
   "cell_type": "markdown",
   "id": "b2baa4e4-b28c-4345-a923-45ea7d1d9f18",
   "metadata": {},
   "source": [
    "# Igualdad de matrices.\n",
    "Debes realizar una función llamada `are_equal_matrix` que reciba dos matrices y compruebe si son iguales. Ten encuenta de que vamos a trabajar con matrices de números reales, recuerdea la igualdad la debes comprobar con la función \n",
    "[`math.isclose`](https://docs.python.org/3/library/math.html#math.isclose)"
   ]
  },
  {
   "cell_type": "code",
   "execution_count": null,
   "id": "239152d8-89a6-4f67-8ff6-32706662f4ed",
   "metadata": {
    "nbgrader": {
     "grade": true,
     "grade_id": "cell-396d7226a568ef4b",
     "locked": true,
     "points": 1,
     "schema_version": 3,
     "solution": false,
     "task": false
    },
    "tags": []
   },
   "outputs": [],
   "source": [
    "# Comprobar que la función funciona correctamente\n",
    "\n",
    "testing.test_are_equal()"
   ]
  },
  {
   "cell_type": "markdown",
   "id": "aedfd69b-3915-48c2-9d67-3b26fed488fb",
   "metadata": {},
   "source": [
    "# Suma de matrices\n",
    "\n",
    "Realiza una función llamada `add` que tome como argumentos 2 matrices y devuelva la suma de ambas."
   ]
  },
  {
   "cell_type": "code",
   "execution_count": null,
   "id": "5694a93f-46be-43d8-8be4-fe9f83674567",
   "metadata": {
    "nbgrader": {
     "grade": true,
     "grade_id": "cell-427de8ef974cd6db",
     "locked": true,
     "points": 1,
     "schema_version": 3,
     "solution": false,
     "task": false
    },
    "tags": []
   },
   "outputs": [],
   "source": [
    "# Comprobar que la función funciona correctamente\n",
    "\n",
    "testing.test_add()"
   ]
  },
  {
   "cell_type": "markdown",
   "id": "2a799000-c042-40df-b43a-bf69b8b6fcda",
   "metadata": {},
   "source": [
    "# Multiplicación de matrices\n",
    "\n",
    "Realiza una función llamada `mult` que tome como argumentos 2 matrices y devuelva la suma de ambas."
   ]
  },
  {
   "cell_type": "code",
   "execution_count": null,
   "id": "380d060f-a81b-4a22-be16-b82a7d1e8c54",
   "metadata": {
    "nbgrader": {
     "grade": true,
     "grade_id": "cell-56901017436fc923",
     "locked": true,
     "points": 1,
     "schema_version": 3,
     "solution": false,
     "task": false
    },
    "tags": []
   },
   "outputs": [],
   "source": [
    "# Comprobar que la función funciona correctamente\n",
    "\n",
    "testing.test_mult()"
   ]
  },
  {
   "cell_type": "markdown",
   "id": "6a564bca-0a13-4e1a-b489-ae5922243e0a",
   "metadata": {},
   "source": [
    "# Determinante de una matriz\n",
    "\n",
    "La forma más sencilla y eficiente de implementar el cálculo del determinante de una matriz es usando el [método de Gauss](https://en.wikipedia.org/wiki/Gaussian_elimination) que habrás estudiado más de una vez.\n",
    "El método consiste en ir recorriendo las filas de la matriz $m$. Por cada fila $i$ se considera la columna $i$ y se hace lo siguiente:\n",
    "* se busca en la columna $i$ el primer elemento $j\\geq i$ de forma que $m[j][i]\\neq 0$. Si no existe tal elemento, el procedimiento para.\n",
    "* si $j=i$ no hay nada que hacer\n",
    "* en caso contrario se cambia la fila $i$ por la fila $j$. Además si $i+j$ es impar se cambia de signo de la fila $i$ (después de intercambiarla)\n",
    "* se hacen ceros por debajo de la diagonal. Cada fila $k\\geq i$ se sustituye por una combinación lineal: $f_k\\leftarrow f_k+\\lambda f_i$. Donde $\\lambda = -\\frac{m[k][i]}{m[i][i]}$\n",
    "\n",
    "$$\\displaystyle\n",
    "  \\left(\\begin{array}{*{3}{c}}\n",
    "    -2 & -1 & 2 \\\\\n",
    "    2 & 1 & 4 \\\\\n",
    "    -3 & 3 & -1\\\\\n",
    "  \\end{array}\\right)\n",
    "  \\to\n",
    "  \\left(\\begin{array}{*{3}{c}}\n",
    "    -2 & -1 & 2 \\\\\n",
    "    0 & 0 & 6 \\\\\n",
    "    0 & 2 & -3\\\\\n",
    "  \\end{array}\\right)\n",
    "  \\to\n",
    "  \\left(\\begin{array}{*{3}{c}}\n",
    "    -2 & -1 & 2 \\\\\n",
    "    0 & -2 & 3\\\\\n",
    "    0 & 0 & 6 \\\\\n",
    "  \\end{array}\\right)\n",
    "$$\n",
    "Cuando se acaba el procedimiento el determinante es el producto de la diagonal.\n",
    "\n",
    "El procedimiento se debe llamar `determinat`. Fíjate que las operaciones anteriores modifican la matriz, por lo que habrá que hacerlas sobre una copia del original usando la función `copy_matrix` anterior.\n",
    "Para que su programacón sea fácil puede ser combeniente hacer las siguientes funcinoes auxiliares:\n",
    "* `find_non_null(matrix: list[list[float], col: int) -> int` que busca el elemento no nulo en la columna col que se indica arriba.\n",
    "* `change_row(matrix: list[list[float], row1: int, row2: int) -> None` que cambia las filas `row1` y `row2`. Esta función modifica la matriz y por tanto no devuelve nada.\n",
    "* `combine_rows(matrix: list[list[float], row1:int, row2:int) -> None` que realiza la combinación lineal indicada arriba tomando como  "
   ]
  },
  {
   "cell_type": "code",
   "execution_count": null,
   "id": "92dd2616-5dfb-4e23-ac8b-16d209441ddb",
   "metadata": {
    "nbgrader": {
     "grade": true,
     "grade_id": "cell-f8aee12a4544d45e",
     "locked": true,
     "points": 5,
     "schema_version": 3,
     "solution": false,
     "task": false
    },
    "tags": []
   },
   "outputs": [],
   "source": [
    "# Comprobar que la función funciona correctamente\n",
    "\n",
    "testing.test_determinant()"
   ]
  }
 ],
 "metadata": {
  "kernelspec": {
   "display_name": "Python 3 (ipykernel)",
   "language": "python",
   "name": "python3"
  },
  "language_info": {
   "codemirror_mode": {
    "name": "ipython",
    "version": 3
   },
   "file_extension": ".py",
   "mimetype": "text/x-python",
   "name": "python",
   "nbconvert_exporter": "python",
   "pygments_lexer": "ipython3",
   "version": "3.9.14"
  }
 },
 "nbformat": 4,
 "nbformat_minor": 5
}
