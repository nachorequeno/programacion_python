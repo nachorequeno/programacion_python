{
 "cells": [
  {
   "cell_type": "markdown",
   "id": "3a7913d4-544f-45d5-b56e-027b76cbddaa",
   "metadata": {},
   "source": [
    "# Análisis de las palabras de un texto.\n",
    "\n",
    "Este cuaderno es para comprobar que el progama echo en un IDE externo a jupyter (spyder por ejemplo) está hecho correctamente. El programa se debe llamar `words.py`. Si se hace cualquier modificación en el programa es necesario borrar el directorio __pycache__ que se genera automáticamennte y reinicializar el kernel de jupyter.\n"
   ]
  },
  {
   "cell_type": "markdown",
   "id": "e2675429-4b7c-47d4-ad79-772784415329",
   "metadata": {},
   "source": [
    "En primer lugar vamos a hacer una función que vamos a llamar `split` que va a dividir un texto en sus palabras. El texto nos lo van a proporcionar en una cadena de caracteres que se pasa como parámetro a la función. Una palabra va a ser cualquier secuencia de caracteres entre los signos de puntuación. Para obtener los signos de puntuación vamos a usar la constante `PUNCTUATION`. La función debe devolver una lista con las palabras que la componen. "
   ]
  },
  {
   "cell_type": "code",
   "execution_count": 1,
   "id": "b92208b9-6bd0-410f-ba7d-bcafa1806b0c",
   "metadata": {},
   "outputs": [],
   "source": [
    "from testing import WrapperStr, WrapperLst, runtests\n",
    "\n",
    "PUNCTUATION = WrapperStr(' ¡!\"#$%&\\'()*+,-./:;<=>¿?@[\\\\]^_`{|}~«»\\n\\t\\r')"
   ]
  },
  {
   "cell_type": "markdown",
   "id": "86dae04b-c5a4-430a-99d4-4c4f7c0accbe",
   "metadata": {},
   "source": [
    "Para hacer esta función primero necesitamos una función auxiliar. La primera es `get_word` que admite como parámetro un texto (un `str`) y una posición. La función devuelve la siguiente palabra después de saltar los signos de puntuación y la posición siguiente a la palabra.\n",
    "\n",
    "Ejemplos:\n",
    "  'desta manera?: «Apenas había', 13 -----> 'Apenas', 22\n",
    "  'desta manera?: «Apenas había', 23 -----> 'Había', 28\n",
    "  'tomaba la\\npodadera. Frisaba', 9  -----> 'podadera', 18\n",
    "\n",
    "**Pista:** puedes hacer usar la función `is_in` que está en alguna hoja de ejercicios anterior."
   ]
  },
  {
   "cell_type": "code",
   "execution_count": 2,
   "id": "4a630480-a721-439d-9ba3-66f81b2635a3",
   "metadata": {
    "nbgrader": {
     "grade": false,
     "grade_id": "cell-ee66cc531b4ea19a",
     "locked": true,
     "schema_version": 3,
     "solution": false,
     "task": false
    },
    "tags": []
   },
   "outputs": [],
   "source": [
    "from words import get_word"
   ]
  },
  {
   "cell_type": "code",
   "execution_count": 3,
   "id": "35dbfa52-3ad5-48f2-b46d-cc2589a3e0e5",
   "metadata": {
    "nbgrader": {
     "grade": false,
     "grade_id": "cell-57b24dc56499f974",
     "locked": true,
     "schema_version": 3,
     "solution": false,
     "task": false
    },
    "tags": []
   },
   "outputs": [
    {
     "name": "stdout",
     "output_type": "stream",
     "text": [
      "\"('desta manera?: «Apenas había', 13)\", \"('Apenas', 22)\"....OK.\n",
      "\"('desta manera?: «Apenas había', 23)\", \"('había', 28)\"....OK.\n",
      "\"('tomaba la\\npodadera. Frisaba', 9)\", \"('podadera', 18)\"....OK.\n",
      "\"('tomaba la\\npodadera. Frisaba', 27)\", \"('', 27)\"....OK.\n",
      "\"('tomaba la\\npodadera. Frisaba!.  ', 27)\", \"('', 31)\"....OK.\n"
     ]
    }
   ],
   "source": [
    "def test_get_word():\n",
    "    def wrapper(txt: str, pos: int):\n",
    "        return get_word(WrapperStr(txt), pos)\n",
    "\n",
    "    tests = [\n",
    "        (('desta manera?: «Apenas había', 13), ('Apenas', 22)),\n",
    "        (('desta manera?: «Apenas había', 23), ('había', 28)),\n",
    "        (('tomaba la\\npodadera. Frisaba', 9), ('podadera', 18)),\n",
    "        (('tomaba la\\npodadera. Frisaba', 27), ('', 27)),\n",
    "        (('tomaba la\\npodadera. Frisaba!.  ', 27), ('', 31))\n",
    "\n",
    "    ]\n",
    "    runtests(tests, wrapper)\n",
    "test_get_word()"
   ]
  },
  {
   "cell_type": "markdown",
   "id": "2a513f3d-f78e-4877-a030-3930317b5077",
   "metadata": {},
   "source": [
    "Usando esa esa función, ya es fácil realizar la función `split` pedida. La función toma como parámetro una cadena de caracteres y devuelve una lista con las palabras que contiene. Fíjate en las últimas pruebas de la función anterior. No introduzcas la palabra vacía en la lista.\n",
    "\n",
    " "
   ]
  },
  {
   "cell_type": "code",
   "execution_count": 4,
   "id": "9f5a6a5e-4b80-4236-89b0-799915bb16d4",
   "metadata": {
    "nbgrader": {
     "grade": false,
     "grade_id": "cell-c5dc51249c8d788d",
     "locked": true,
     "schema_version": 3,
     "solution": false,
     "task": false
    },
    "tags": []
   },
   "outputs": [],
   "source": [
    "from words import split"
   ]
  },
  {
   "cell_type": "code",
   "execution_count": null,
   "id": "98aeeac3-acf1-4568-b708-1b12393194d0",
   "metadata": {},
   "outputs": [],
   "source": []
  },
  {
   "cell_type": "code",
   "execution_count": 5,
   "id": "df24d4b0-d4b5-4230-9e87-c716652ffb16",
   "metadata": {
    "nbgrader": {
     "grade": true,
     "grade_id": "cell-8a2c60c1ad74c11a",
     "locked": true,
     "points": 1,
     "schema_version": 3,
     "solution": false,
     "task": false
    },
    "tags": []
   },
   "outputs": [
    {
     "name": "stdout",
     "output_type": "stream",
     "text": [
      "\"('desta manera?: «Apenas había',)\", \"['Apenas', 'desta', 'había', 'manera']\"....OK.\n",
      "\"('tomaba la\\npodadera. Frisaba',)\", \"['Frisaba', 'la', 'podadera', 'tomaba']\"....OK.\n",
      "\"('tomaba la\\npodadera. ¡Frisaba!. ',)\", \"['Frisaba', 'la', 'podadera', 'tomaba']\"....OK.\n"
     ]
    }
   ],
   "source": [
    "def test_split():\n",
    "    def wrapper(txt: str):\n",
    "        return sorted(split(WrapperStr(txt)))\n",
    "\n",
    "    tests = [\n",
    "        (('desta manera?: «Apenas había', ), ['Apenas', 'desta', 'había', 'manera']),\n",
    "        (('tomaba la\\npodadera. Frisaba', ), ['Frisaba', 'la', 'podadera', 'tomaba']),\n",
    "        (('tomaba la\\npodadera. ¡Frisaba!. ', ), ['Frisaba', 'la', 'podadera', 'tomaba']),\n",
    "    ]\n",
    "    runtests(tests, wrapper)\n",
    "test_split()"
   ]
  },
  {
   "cell_type": "markdown",
   "id": "0fde42aa-e03f-467e-8e38-8552ef0c36f7",
   "metadata": {},
   "source": [
    "Realiza una función que cambie una palabra a minúsculas. La palabra `CIGÜEÑA` la debe transformar a `cigüeña`.\n",
    "Debes tener en cuenta las tildes, las eñes y las diéresis. "
   ]
  },
  {
   "cell_type": "code",
   "execution_count": 6,
   "id": "c03dfdce-52c9-4252-9836-591c9b9f4687",
   "metadata": {
    "nbgrader": {
     "grade": false,
     "grade_id": "cell-a29ca7d293b9ca77",
     "locked": true,
     "schema_version": 3,
     "solution": false,
     "task": false
    },
    "tags": []
   },
   "outputs": [],
   "source": [
    "from words import lower"
   ]
  },
  {
   "cell_type": "code",
   "execution_count": 7,
   "id": "ef8410c3-bcd0-475f-8aa6-789f86d3cde4",
   "metadata": {
    "nbgrader": {
     "grade": true,
     "grade_id": "cell-6f5a1fa37856feac",
     "locked": true,
     "points": 1,
     "schema_version": 3,
     "solution": false,
     "task": false
    },
    "tags": []
   },
   "outputs": [
    {
     "name": "stdout",
     "output_type": "stream",
     "text": [
      "\"('CIGÜEÑA',)\", \"cigüeña\"....OK.\n",
      "\"('Ángel',)\", \"ángel\"....OK.\n",
      "\"('ÁÉÍÓÚÜÑ',)\", \"áéíóúüñ\"....OK.\n"
     ]
    }
   ],
   "source": [
    "def test_lower():\n",
    "    def wrapper(txt: str) -> str:\n",
    "         return lower(WrapperStr(txt))\n",
    "\n",
    "    tests = [\n",
    "        (('CIGÜEÑA',), 'cigüeña'),\n",
    "        (('Ángel',), 'ángel'),\n",
    "        (('ÁÉÍÓÚÜÑ',), 'áéíóúüñ')\n",
    "    ]\n",
    "    runtests(tests, wrapper)\n",
    "test_lower()"
   ]
  },
  {
   "cell_type": "markdown",
   "id": "4580f6d9-b174-4ef3-a8c6-ab7300caaec2",
   "metadata": {},
   "source": [
    "Ahora debemos hacer una función llamada `different` que tenga como parámetro una lista de palabras. La función devuelve una lista con las palabras de la lista original sin repeticiones. Las palabras devueltas deben estar en minúsculas.\n",
    "No se puede hacer una comprobación del tipo `if w not in lst`, para ello se puede usar la función `index` que vimos en clase"
   ]
  },
  {
   "cell_type": "code",
   "execution_count": 8,
   "id": "f0540783-b72e-4429-a66b-3ef35c1f14b0",
   "metadata": {
    "nbgrader": {
     "grade": false,
     "grade_id": "cell-3bb1f11632b336cc",
     "locked": true,
     "schema_version": 3,
     "solution": false,
     "task": false
    },
    "tags": []
   },
   "outputs": [],
   "source": [
    "from words import different_words"
   ]
  },
  {
   "cell_type": "code",
   "execution_count": 9,
   "id": "945ee28a-328d-482b-89ca-b3878b50c143",
   "metadata": {
    "nbgrader": {
     "grade": true,
     "grade_id": "cell-81b70be6469aec14",
     "locked": true,
     "points": 1,
     "schema_version": 3,
     "solution": false,
     "task": false
    },
    "tags": []
   },
   "outputs": [
    {
     "name": "stdout",
     "output_type": "stream",
     "text": [
      "\"([],)\", \"[]\"....OK.\n",
      "\"(['Hola', 'Pepe', 'hola', 'pepe'],)\", \"['hola', 'pepe']\"....OK.\n",
      "\"(['Ángel', 'ángel', 'CIGÜEÑA', 'cigüeña'],)\", \"['cigüeña', 'ángel']\"....OK.\n"
     ]
    }
   ],
   "source": [
    "def test_different():\n",
    "    def wrapper(words: list[str]) -> list[str]:\n",
    "        newlst = list(map(WrapperStr, words))\n",
    "        return sorted(different_words(newlst))\n",
    "\n",
    "    tests = [\n",
    "        (([],),[]),\n",
    "        ((['Hola','Pepe', 'hola', 'pepe'],),['hola', 'pepe']),\n",
    "        ((['Ángel','ángel', 'CIGÜEÑA', 'cigüeña'],),['cigüeña', 'ángel']),\n",
    "\n",
    "    ]\n",
    "    runtests(tests, wrapper)\n",
    "test_different()"
   ]
  },
  {
   "cell_type": "markdown",
   "id": "12a5810d-75d0-41e1-8488-47478e4db9f6",
   "metadata": {},
   "source": [
    "Vamos a realizar una función que calcule unas estadísticas simples: la media y la varianza. La función se llamará `mean_variance`, admite como parámetro una lista de números. Calculará ambos valores realizando una sola pasada sobre la lista, para ello podemos usar lo siguiente\n",
    "\n",
    "$$\n",
    "\\begin{array}{l}\n",
    "\\displaystyle\\frac{1}{n}\\sum_{i=1}^{n} (x_i-\\overline{x})^{2}=\\\\\n",
    "\\displaystyle\\frac{1}{n}\\sum_{i=1}^{n} x_i^{2}+\\overline{x}^{2} - 2 x_{i}\\overline{x}=\\\\\n",
    "\\displaystyle\\left(\\frac{1}{n}\\sum_{i=1}^{n} x_i^{2}\\right) +\\\n",
    "\\frac{n}{n}\\overline{x}^{2} - 2 \\overline{x}^{2}\\frac{1}{n}\\sum_{i=1}^{n} x_i =\\\\\n",
    "\\displaystyle\\left(\\frac{1}{n}\\sum_{i=1}^{n} x_i^{2}\\right) +\n",
    "\\overline{x}^{2} - 2\\overline{x}^{2}=\\\\\n",
    "\\displaystyle\\left(\\frac{1}{n}\\sum_{i=1}^{n} x_i^{2}\\right)- \\overline{x}^{2}\n",
    "\\end{array}\n",
    "$$\n",
    "\n",
    "\n",
    "Donde $\\overline{x}$ es la media de x.\n",
    "Se hace un único bucle que calcula la suma de los valores y la suma de los cuadrados de los valores.\n",
    "La función devuelve una tupla, el primer elemento es la media y el segundo la varianza.\n",
    "Recuerda que es necesario que $n>0$."
   ]
  },
  {
   "cell_type": "code",
   "execution_count": 10,
   "id": "97906fc4-702c-47ab-af33-9de4380b110e",
   "metadata": {
    "nbgrader": {
     "grade": false,
     "grade_id": "cell-f90874ae483f6dba",
     "locked": true,
     "schema_version": 3,
     "solution": false,
     "task": false
    },
    "tags": []
   },
   "outputs": [],
   "source": [
    "from words import mean_variance"
   ]
  },
  {
   "cell_type": "markdown",
   "id": "ae33b92b-7fdc-431e-b014-2296cb4662d0",
   "metadata": {},
   "source": [
    "# "
   ]
  },
  {
   "cell_type": "code",
   "execution_count": 11,
   "id": "442e7bd7-6939-4b3a-8a1b-59eee194dd40",
   "metadata": {
    "nbgrader": {
     "grade": true,
     "grade_id": "cell-dbc36f1ef8e4dce1",
     "locked": true,
     "points": 1,
     "schema_version": 3,
     "solution": false,
     "task": false
    },
    "tags": []
   },
   "outputs": [
    {
     "name": "stdout",
     "output_type": "stream",
     "text": [
      "\"([1.0, 2.0, 3.0],)\", \"(2.0, 0.666667)\"....OK.\n",
      "\"([0.0, 1.0, 2.0, 3.0, 4.0],)\", \"(2.0, 2.0)\"....OK.\n",
      "OK.\n"
     ]
    }
   ],
   "source": [
    "def test_mean_variance():\n",
    "    def wrapper(serie: list[float]) -> (float, float):\n",
    "        mean, var = mean_variance(serie)\n",
    "        return round(mean, 6), round(var, 6)\n",
    "\n",
    "    tests = [\n",
    "        (([1.0, 2.0, 3.0],), (2.0, round(2/3, 6))),\n",
    "        (([0.0, 1.0, 2.0, 3.0, 4.0],), (2.0, 2.0)),\n",
    "    ]\n",
    "    runtests(tests, wrapper)\n",
    "\n",
    "    try:\n",
    "        mean_variance([])\n",
    "    except AssertionError:\n",
    "        print('OK.')\n",
    "    except:\n",
    "        assert False, 'Se debe controlar que la lista no sea vacía'\n",
    "test_mean_variance()"
   ]
  },
  {
   "cell_type": "markdown",
   "id": "562a3acd-c9e6-4fc2-8efc-665fc3db4ba7",
   "metadata": {},
   "source": [
    "La siguiente función que se debe llamar `get_lengths` tiene como parámetro una lista de palabras. Devuelve una lista con las longitudes de cada una de las palabras que aparecen en la lista original\n",
    "\n",
    "**Ejemplo:** `['hola', 'mundo']` ----> `[4, 5]`"
   ]
  },
  {
   "cell_type": "code",
   "execution_count": 14,
   "id": "ef124e62-c03f-4987-b612-02e35bcf7d2d",
   "metadata": {
    "nbgrader": {
     "grade": false,
     "grade_id": "cell-3a4e35aeb7c713b9",
     "locked": true,
     "schema_version": 3,
     "solution": false,
     "task": false
    },
    "tags": []
   },
   "outputs": [],
   "source": [
    "from words import get_lengths"
   ]
  },
  {
   "cell_type": "code",
   "execution_count": 15,
   "id": "3ddc2b9a-aa00-4ef3-ad97-be6a034cc9d3",
   "metadata": {
    "nbgrader": {
     "grade": true,
     "grade_id": "cell-07ab88c655a8dc96",
     "locked": true,
     "points": 1,
     "schema_version": 3,
     "solution": false,
     "task": false
    },
    "tags": []
   },
   "outputs": [
    {
     "name": "stdout",
     "output_type": "stream",
     "text": [
      "\"([],)\", \"[]\"....OK.\n",
      "\"(['a', 'b', 'ab', 'abc', ''],)\", \"[1, 1, 2, 3, 0]\"....OK.\n",
      "\"(['cigüeña', 'ángel'],)\", \"[7, 5]\"....OK.\n"
     ]
    }
   ],
   "source": [
    "def test_get_lenghts():\n",
    "    def wrapper(words: list[str]) -> list[str]:\n",
    "        newlst = list(map(WrapperStr, words))\n",
    "        return get_lengths(newlst)\n",
    "\n",
    "    tests = [\n",
    "        (([],),[]),\n",
    "        ((['a', 'b', 'ab', 'abc', ''],), [1, 1, 2, 3, 0]),\n",
    "        ((['cigüeña', 'ángel'],), [7, 5]),\n",
    "    ]\n",
    "    runtests(tests, wrapper)\n",
    "test_get_lenghts()"
   ]
  },
  {
   "cell_type": "markdown",
   "id": "2e29c3bc-4feb-42ab-b0a7-bf9530e866d2",
   "metadata": {},
   "source": [
    "Finalmente podemos juntar todas las piezas. Debes hacer una función llamada `stats` que recibe como parámetro un texto. Debe devolver una lista de 6 elementos: `[all_len, all_mean, all_var, diff_len, all_mean, all_var]`, donde \n",
    "* `all_len` es el número total de palabras del texto.\n",
    "* `all_mean` y `all_var` es la media y la varianza de las longitudes de todas las palabras del texto.\n",
    "* `diff_len` es el número de palabras diferentes.\n",
    "* `diff_mean` y `diff_var` es la media y la varianza de las longitudes de las palabras diferentes del texto.\n",
    "\n",
    "**Ejemplo**: `'a ab abc A.AB,ABC'` ----> `[6, 2, 0.666667, 3, 2, 0.666667]`\n"
   ]
  },
  {
   "cell_type": "code",
   "execution_count": 17,
   "id": "83578ad7-2dea-41d2-820c-6f6bc9011711",
   "metadata": {
    "nbgrader": {
     "grade": false,
     "grade_id": "cell-7349f930498a92d9",
     "locked": true,
     "schema_version": 3,
     "solution": false,
     "task": false
    },
    "tags": []
   },
   "outputs": [],
   "source": [
    "from words import stats"
   ]
  },
  {
   "cell_type": "code",
   "execution_count": 18,
   "id": "f48c2309-9394-4c87-aa2a-b251689d3055",
   "metadata": {
    "nbgrader": {
     "grade": true,
     "grade_id": "cell-e45cdc51098b81e1",
     "locked": true,
     "points": 1,
     "schema_version": 3,
     "solution": false,
     "task": false
    },
    "tags": []
   },
   "outputs": [
    {
     "name": "stdout",
     "output_type": "stream",
     "text": [
      "\"('a',)\", \"[1, 1, 0, 1, 1, 0]\"....OK.\n",
      "\"('a ab abc',)\", \"[3, 2, 0.666667, 3, 2, 0.666667]\"....OK.\n",
      "\"('a ab abc A.AB,ABC',)\", \"[6, 2, 0.666667, 3, 2, 0.666667]\"....OK.\n"
     ]
    }
   ],
   "source": [
    "def test_stats():\n",
    "    def wrapper(txt: str) -> (int, float, float, int, float, float):\n",
    "        return list(map(lambda x: round(x,6), stats(WrapperStr(txt))))\n",
    "\n",
    "    tests = [\n",
    "        (('a',), [1,1,0,1,1,0]),\n",
    "        (('a ab abc',), [3, 2, round(2/3,6), 3, 2, round(2/3,6)]),\n",
    "        (('a ab abc A.AB,ABC',), [6, 2, round(2/3,6), 3, 2, round(2/3,6)]),\n",
    "    ]\n",
    "    runtests(tests, wrapper)\n",
    "test_stats()"
   ]
  }
 ],
 "metadata": {
  "kernelspec": {
   "display_name": "Python 3 (ipykernel)",
   "language": "python",
   "name": "python3"
  },
  "language_info": {
   "codemirror_mode": {
    "name": "ipython",
    "version": 3
   },
   "file_extension": ".py",
   "mimetype": "text/x-python",
   "name": "python",
   "nbconvert_exporter": "python",
   "pygments_lexer": "ipython3",
   "version": "3.9.14"
  }
 },
 "nbformat": 4,
 "nbformat_minor": 5
}
