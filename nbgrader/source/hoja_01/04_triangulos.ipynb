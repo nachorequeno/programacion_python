{
 "cells": [
  {
   "cell_type": "markdown",
   "id": "5e687d91-394e-4350-98aa-0e5e6d0042fd",
   "metadata": {},
   "source": [
    "# Expresiones de triángulos\n",
    "\n",
    "En este ejercicio vamos a realizar funciones que comprueben si una terna de magnitudes (positivas) pueden formar un triángulo.\n",
    "\n",
    "<img src='./triangulo.png'>\n",
    "\n",
    "Para que tres magnitudes positivas puedan formar un triangulo es necesario y suficiente que la suma de dos de ellas sea superior a la tercera.\n",
    "Escribe una función llamada `is_triangle` que compruebe si tres magnitudes pueden ser las medidas de los lados de un triangulos."
   ]
  },
  {
   "cell_type": "code",
   "execution_count": null,
   "id": "698469a2-38e2-42fb-85f6-5135791016f2",
   "metadata": {
    "nbgrader": {
     "grade": false,
     "grade_id": "cell-707768d95e73b433",
     "locked": false,
     "schema_version": 3,
     "solution": true,
     "task": false
    },
    "tags": []
   },
   "outputs": [],
   "source": [
    "def is_triangle(a: float, b: float, c: float) -> bool:\n",
    "    ### BEGIN SOLUTION\n",
    "    return a>0 and b>0  and c>0 and (a+b)>c and (a+c)>b and (c+b)>a\n",
    "    ### END SOLUTION"
   ]
  },
  {
   "cell_type": "code",
   "execution_count": null,
   "id": "2128c406-a8d5-4da4-b600-dafe34b6bb0c",
   "metadata": {},
   "outputs": [],
   "source": [
    "# Escribe aquí tus pruebas\n",
    "is_triangle(3,4,5), is_triangle(-1,-1,-1), is_triangle(2,3,10)"
   ]
  },
  {
   "cell_type": "code",
   "execution_count": null,
   "id": "2bc28c34-4d21-42b2-927c-39f1c0468290",
   "metadata": {
    "nbgrader": {
     "grade": true,
     "grade_id": "cell-192ef82fca77e11c",
     "locked": true,
     "points": 1,
     "schema_version": 3,
     "solution": false,
     "task": false
    },
    "tags": []
   },
   "outputs": [],
   "source": [
    "def runtest(tests, fun):\n",
    "    for i, o in tests:\n",
    "        print(f'{i}, {o}....', end='')\n",
    "        res = fun(*i)\n",
    "        assert  res == o, f'error input:{i}, out: {res}, expected: {o}' \n",
    "        print('OK')\n",
    "    print('OK')\n",
    "    \n",
    "def test_is_triangle():\n",
    "    tests = [\n",
    "        ((3,4,5), True),\n",
    "        ((1,2,4), False),\n",
    "        ((4,1,2), False),\n",
    "        ((1,4,2), False),\n",
    "        ((-1,2,3), False),\n",
    "        ((1,-2,3), False),\n",
    "    ]\n",
    "    runtest(tests, is_triangle)\n",
    "        \n",
    "test_is_triangle()"
   ]
  },
  {
   "cell_type": "markdown",
   "id": "81916a65-c9de-4fcc-b5d5-a55a5acf7c41",
   "metadata": {},
   "source": [
    "## Triángulo equilátero\n",
    "\n",
    "Realiza una función llamada `is_triangle` que compruebe si tres magnitudes pueden ser los lados de un triángulo equilátero"
   ]
  },
  {
   "cell_type": "code",
   "execution_count": null,
   "id": "02c110c4-363a-43e2-9615-e069d2fce87a",
   "metadata": {
    "nbgrader": {
     "grade": false,
     "grade_id": "cell-b6e9e403b20da31c",
     "locked": false,
     "schema_version": 3,
     "solution": true,
     "task": false
    },
    "tags": []
   },
   "outputs": [],
   "source": [
    "def is_equilateral(a: float, b: float, c: float) -> bool:\n",
    "    ### BEGIN SOLUTION\n",
    "    import math\n",
    "    return is_triangle(a, b, c) and math.isclose(a, b) and math.isclose(b, c)\n",
    "    ### END SOLUTION"
   ]
  },
  {
   "cell_type": "code",
   "execution_count": null,
   "id": "66ba64b9-c373-4124-8143-10ca51a86aa2",
   "metadata": {},
   "outputs": [],
   "source": [
    "# Escribe aquí tus pruebas\n",
    "is_equilateral(1,1,1), is_equilateral(-1, -1, -1), is_equilateral(4,2,2)"
   ]
  },
  {
   "cell_type": "code",
   "execution_count": null,
   "id": "619b0376-0c20-49ba-a136-ba9502c9457d",
   "metadata": {
    "nbgrader": {
     "grade": true,
     "grade_id": "cell-a3cd6f8ac645db55",
     "locked": true,
     "points": 1,
     "schema_version": 3,
     "solution": false,
     "task": false
    },
    "tags": []
   },
   "outputs": [],
   "source": [
    "def test_is_equilateral():\n",
    "    tests = [\n",
    "        ((1,1,1), True),\n",
    "        ((2,2,3), False),\n",
    "        ((3,2,2), False),\n",
    "        ((2,3,2), False),\n",
    "        ((1,2,4), False),\n",
    "        ((-1, -1, -1), False)\n",
    "    ]\n",
    "    test_fun(tests, is_equilateral)\n",
    "        \n",
    "test_is_equilateral()"
   ]
  },
  {
   "cell_type": "markdown",
   "id": "37474d14-15c3-4fef-b973-c482f5544cca",
   "metadata": {},
   "source": [
    "## Triángulo Isósceles\n",
    "\n",
    "Haz ahora una función llamada `is_isosceles` que compruebe si tres magnitudes dadas pueden formar una triángulo isósceles."
   ]
  },
  {
   "cell_type": "code",
   "execution_count": null,
   "id": "f9f6b430-152a-4050-980c-652639e50e3e",
   "metadata": {
    "nbgrader": {
     "grade": false,
     "grade_id": "cell-af62c0c1394a5e05",
     "locked": false,
     "schema_version": 3,
     "solution": true,
     "task": false
    },
    "tags": []
   },
   "outputs": [],
   "source": [
    "def is_isosceles(a: float, b: float, c: float) -> bool:\n",
    "    ### BEGIN SOLUTION\n",
    "    import math\n",
    "    return is_triangle(a, b, c) and \\\n",
    "        (math.isclose(a, b) or math.isclose(a, c) or math.isclose(b, c))\n",
    "    ### END SOLUTION"
   ]
  },
  {
   "cell_type": "code",
   "execution_count": null,
   "id": "706bd007-cc4b-47d5-ad97-31fe413f9404",
   "metadata": {},
   "outputs": [],
   "source": [
    "# Escribe aquí tus pruebas\n",
    "is_isosceles(1,1,1), is_isosceles(-1, -1, -1), is_isosceles(4,2,2)"
   ]
  },
  {
   "cell_type": "code",
   "execution_count": null,
   "id": "dbc5a966-c541-4ca9-9244-45de0fe8b819",
   "metadata": {
    "nbgrader": {
     "grade": true,
     "grade_id": "cell-14357f1df455427b",
     "locked": true,
     "points": 1,
     "schema_version": 3,
     "solution": false,
     "task": false
    },
    "tags": []
   },
   "outputs": [],
   "source": [
    "def test_is_isosceles():\n",
    "    tests = [\n",
    "        ((1,1,1), True),\n",
    "        ((2,2,3), True),\n",
    "        ((3,2,2), True),\n",
    "        ((2,3,2), True),\n",
    "        ((3,4,5), False),\n",
    "        ((1,1,3), False),\n",
    "        ((-1,-1, 1), False),\n",
    "    ]\n",
    "    test_fun(tests, is_isosceles)\n",
    "        \n",
    "test_is_isosceles()"
   ]
  },
  {
   "cell_type": "markdown",
   "id": "37b0392b-5663-4664-889c-dcf5e554e05c",
   "metadata": {},
   "source": [
    "## Triángulo Escaleno\n",
    "\n",
    "Haz ahora una función llamada `is_scalene` que compruebe si tres magnitudes dadas pueden formar una triángulo escaleno."
   ]
  },
  {
   "cell_type": "code",
   "execution_count": null,
   "id": "c727d5d4-7260-45ee-bc05-5cc86c594e43",
   "metadata": {
    "nbgrader": {
     "grade": false,
     "grade_id": "cell-c52187c21aa2805e",
     "locked": false,
     "schema_version": 3,
     "solution": true,
     "task": false
    },
    "tags": []
   },
   "outputs": [],
   "source": [
    "def is_scalene(a: float, b: float, c: float) -> bool:\n",
    "    ### BEGIN SOLUTION\n",
    "        import math\n",
    "        return is_triangle(a, b, c) and \\\n",
    "        not math.isclose(a, b) and\\\n",
    "        not math.isclose(a, c) and\\\n",
    "        not math.isclose(b, c)\n",
    "    ### END SOLUTION"
   ]
  },
  {
   "cell_type": "code",
   "execution_count": null,
   "id": "18b27df8-c9f5-4307-bc76-d453fabf9898",
   "metadata": {},
   "outputs": [],
   "source": [
    "# Escribe aquí tus pruebas\n",
    "is_scalene(3,4,6), is_scalene(3,4,10), is_scalene(4,2,2)"
   ]
  },
  {
   "cell_type": "code",
   "execution_count": null,
   "id": "4312e2c3-ac5c-4154-8cc3-5d67a27d180a",
   "metadata": {
    "nbgrader": {
     "grade": true,
     "grade_id": "cell-ae4eb05977d3e67f",
     "locked": true,
     "points": 1,
     "schema_version": 3,
     "solution": false,
     "task": false
    },
    "tags": []
   },
   "outputs": [],
   "source": [
    "def test_is_scalene():\n",
    "    tests = [\n",
    "        ((3,4,5), True),\n",
    "        ((-3,4,5), False),\n",
    "        ((1,1,1), False),\n",
    "        ((2,2,3), False),\n",
    "        ((3,2,2), False),\n",
    "        ((2,3,2), False),\n",
    "        ((1,1,3), False),\n",
    "        ((1,2,5), False)\n",
    "    ]\n",
    "    test_fun(tests, is_scalene)\n",
    "        \n",
    "test_is_scalene()"
   ]
  }
 ],
 "metadata": {
  "kernelspec": {
   "display_name": "Python 3 (ipykernel)",
   "language": "python",
   "name": "python3"
  },
  "language_info": {
   "codemirror_mode": {
    "name": "ipython",
    "version": 3
   },
   "file_extension": ".py",
   "mimetype": "text/x-python",
   "name": "python",
   "nbconvert_exporter": "python",
   "pygments_lexer": "ipython3",
   "version": "3.10.4"
  }
 },
 "nbformat": 4,
 "nbformat_minor": 5
}
