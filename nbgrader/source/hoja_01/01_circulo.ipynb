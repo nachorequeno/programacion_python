{
 "cells": [
  {
   "cell_type": "markdown",
   "id": "b2d1392b-df5a-4c0f-befd-bf344bbc60a6",
   "metadata": {},
   "source": [
    "## Círculos y circunferencias\n",
    "\n",
    "Realiza una función que calcule la longiutd de una circunferencia de un radio dado"
   ]
  },
  {
   "cell_type": "code",
   "execution_count": 1,
   "id": "17bfbd87-74e1-496b-bbf7-fe61b0477c89",
   "metadata": {},
   "outputs": [],
   "source": [
    "import math"
   ]
  },
  {
   "cell_type": "code",
   "execution_count": 2,
   "id": "60ced20b-e924-4405-b4ca-04d3148432cf",
   "metadata": {
    "nbgrader": {
     "grade": false,
     "grade_id": "cell-f1da7b2c38093314",
     "locked": false,
     "schema_version": 3,
     "solution": true,
     "task": false
    },
    "tags": []
   },
   "outputs": [],
   "source": [
    "\n",
    "def circumference(radius: float) -> float:\n",
    "    ### BEGIN SOLUTION\n",
    "    return 2 * radius * math.pi\n",
    "    ### END SOLUTION"
   ]
  },
  {
   "cell_type": "code",
   "execution_count": null,
   "id": "e94846c4-4cf2-4999-a0f0-5fad8d373ddb",
   "metadata": {},
   "outputs": [],
   "source": [
    "### Escribe aquí tus pruebas\n"
   ]
  },
  {
   "cell_type": "code",
   "execution_count": 3,
   "id": "45802d71-f42b-4c8b-8d14-fd3a2c675430",
   "metadata": {
    "nbgrader": {
     "grade": true,
     "grade_id": "cell-27dea47fbdfe02ba",
     "locked": true,
     "points": 1,
     "schema_version": 3,
     "solution": false,
     "task": false
    },
    "tags": []
   },
   "outputs": [
    {
     "name": "stdout",
     "output_type": "stream",
     "text": [
      "Testing 0.0 0.0....OK\n",
      "Testing 0.5 3.141592653589793....OK\n",
      "Testing 1.0 6.283185307179586....OK\n",
      "Testing 1.5 9.42477796076938....OK\n",
      "Testing 2.0 12.566370614359172....OK\n",
      "Testing 2.5 15.707963267948966....OK\n",
      "Testing 3.0 18.84955592153876....OK\n",
      "Testing 3.5 21.991148575128552....OK\n",
      "Testing 4.0 25.132741228718345....OK\n",
      "Testing 4.5 28.274333882308138....OK\n",
      "Testing 5.0 31.41592653589793....OK\n"
     ]
    }
   ],
   "source": [
    "def test_circumference():\n",
    "    tests = [(0.0, 0.0),\n",
    "            (0.5, 3.141592653589793),\n",
    "            (1.0, 6.283185307179586),\n",
    "            (1.5, 9.42477796076938),\n",
    "            (2.0, 12.566370614359172),\n",
    "            (2.5, 15.707963267948966),\n",
    "            (3.0, 18.84955592153876),\n",
    "            (3.5, 21.991148575128552),\n",
    "            (4.0, 25.132741228718345),\n",
    "            (4.5, 28.274333882308138),\n",
    "            (5.0, 31.41592653589793)]\n",
    "    for rad, length in tests:\n",
    "        print(f'Testing {rad} {length}....', end='')\n",
    "        res = circumference(rad)\n",
    "        assert math.isclose(res, length), f'Error {rad} {length} {res}'\n",
    "        print('OK')\n",
    "\n",
    "test_circumference()"
   ]
  },
  {
   "cell_type": "markdown",
   "id": "ba2ef0c2-89f0-4b79-a66a-b09d53cbd6ea",
   "metadata": {},
   "source": [
    "Escribe ahora una función que calcule la superficie de un círculo de un radio dado"
   ]
  },
  {
   "cell_type": "code",
   "execution_count": 5,
   "id": "42b993cc-55a3-47e8-a3bf-b1f58a292888",
   "metadata": {
    "nbgrader": {
     "grade": false,
     "grade_id": "cell-6ea9edcad255937b",
     "locked": false,
     "schema_version": 3,
     "solution": true,
     "task": false
    },
    "tags": []
   },
   "outputs": [],
   "source": [
    "def circle(radius: float) -> float:\n",
    "    ### BEGIN SOLUTION\n",
    "    return math.pi * radius**2\n",
    "    ### END SOLUTION\n"
   ]
  },
  {
   "cell_type": "code",
   "execution_count": null,
   "id": "7868a342-2523-4358-8ea4-97af6f6599ab",
   "metadata": {},
   "outputs": [],
   "source": [
    "### Escribe aquí tus pruebas\n"
   ]
  },
  {
   "cell_type": "code",
   "execution_count": null,
   "id": "d17feea2-65de-4487-886f-061a2436dbe6",
   "metadata": {
    "nbgrader": {
     "grade": true,
     "grade_id": "cell-6875537885715192",
     "locked": true,
     "points": 1,
     "schema_version": 3,
     "solution": false,
     "task": false
    },
    "tags": []
   },
   "outputs": [],
   "source": [
    "def test_circle():\n",
    "    tests = [(0.0, 0.0),\n",
    "             (0.5, 0.7853981633974483),\n",
    "             (1.0, 3.141592653589793),\n",
    "             (1.5, 7.0685834705770345),\n",
    "             (2.0, 12.566370614359172),\n",
    "             (2.5, 19.634954084936208),\n",
    "             (3.0, 28.274333882308138),\n",
    "             (3.5, 38.48451000647496),\n",
    "             (4.0, 50.26548245743669),\n",
    "             (4.5, 63.61725123519331),\n",
    "             (5.0, 78.53981633974483)]\n",
    "    for rad, surface in tests:\n",
    "        print(f'Testing {rad} {surface}....', end='')\n",
    "        res = circle(rad)\n",
    "        assert math.isclose(res, surface), f'Error {rad} {surface} {res}'\n",
    "        print('OK')\n",
    "\n",
    "def test_circle()"
   ]
  }
 ],
 "metadata": {
  "kernelspec": {
   "display_name": "Python 3 (ipykernel)",
   "language": "python",
   "name": "python3"
  },
  "language_info": {
   "codemirror_mode": {
    "name": "ipython",
    "version": 3
   },
   "file_extension": ".py",
   "mimetype": "text/x-python",
   "name": "python",
   "nbconvert_exporter": "python",
   "pygments_lexer": "ipython3",
   "version": "3.10.4"
  }
 },
 "nbformat": 4,
 "nbformat_minor": 5
}
