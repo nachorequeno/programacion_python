{
 "cells": [
  {
   "cell_type": "markdown",
   "id": "9768e638-9b7f-4584-aa2a-68c0083dc873",
   "metadata": {},
   "source": [
    "# Cambio moneda\n",
    "\n",
    "Supongamos que tenemos una máquina expendedora capaz de devolver cambio. Para ello dispone de monedas de 1, 5, 10 y 50 céntimos. \n",
    "Debemos de realizar una función que dada una cantidad de dinero, expresada en céntimos de euro, nos indique el número mínimo de monedas que debemos devolver de cada tipo. La función deberá devolver una terna de valores `(monedas de 50, monedas de 10, monedas de 1)`\n"
   ]
  },
  {
   "cell_type": "code",
   "execution_count": 18,
   "id": "156f1678-265f-4f54-8c36-7a8fc9b9e5dc",
   "metadata": {
    "nbgrader": {
     "grade": false,
     "grade_id": "cell-811897d1db678576",
     "locked": false,
     "schema_version": 3,
     "solution": true,
     "task": false
    },
    "tags": []
   },
   "outputs": [],
   "source": [
    "def change(amount: int) -> (int, int, int):\n",
    "    ### BEGIN SOLUTION\n",
    "    fifties = amount // 50\n",
    "    amount = amount % 50\n",
    "    tens = amount // 10\n",
    "    amount = amount % 10\n",
    "    fives = amount // 5\n",
    "    amount = amount % 5\n",
    "    ### END SOLUTION\n",
    "    return (fifties, tens, fives, amount)"
   ]
  },
  {
   "cell_type": "code",
   "execution_count": 10,
   "id": "7b8b80f0-0274-4ea6-a7c6-9d21762e9b58",
   "metadata": {},
   "outputs": [
    {
     "data": {
      "text/plain": [
       "(1, 2, 1, 3)"
      ]
     },
     "execution_count": 10,
     "metadata": {},
     "output_type": "execute_result"
    }
   ],
   "source": [
    "### Escribe aquí tus pruebas\n",
    "change(78)"
   ]
  },
  {
   "cell_type": "code",
   "execution_count": 16,
   "id": "6fc1f5fa-ef93-4747-bf86-dbe1472bc64d",
   "metadata": {
    "nbgrader": {
     "grade": true,
     "grade_id": "cell-759cefd3c3ff9d32",
     "locked": true,
     "points": 0,
     "schema_version": 3,
     "solution": false,
     "task": false
    },
    "tags": []
   },
   "outputs": [
    {
     "name": "stdout",
     "output_type": "stream",
     "text": [
      "OK\n"
     ]
    }
   ],
   "source": [
    "def test_change():\n",
    "    for i in range(100):\n",
    "        (fifties, tens, fives, ones) = change(i)\n",
    "        assert i == fifties*50 + tens*10 + fives*5 + 1*ones, f'Error {i}, 50: {fifties}, 10: {tens}, 5: {fives}, 1:{ones}'\n",
    "    print('OK')\n",
    "test_change()"
   ]
  }
 ],
 "metadata": {
  "kernelspec": {
   "display_name": "Python 3 (ipykernel)",
   "language": "python",
   "name": "python3"
  },
  "language_info": {
   "codemirror_mode": {
    "name": "ipython",
    "version": 3
   },
   "file_extension": ".py",
   "mimetype": "text/x-python",
   "name": "python",
   "nbconvert_exporter": "python",
   "pygments_lexer": "ipython3",
   "version": "3.10.4"
  }
 },
 "nbformat": 4,
 "nbformat_minor": 5
}
