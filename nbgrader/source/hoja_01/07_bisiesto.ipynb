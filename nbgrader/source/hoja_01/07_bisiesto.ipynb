{
 "cells": [
  {
   "cell_type": "markdown",
   "id": "bd5f6cc5-ae15-4f42-b479-57eeab150682",
   "metadata": {},
   "source": [
    "# Años bisiestos\n",
    "\n",
    "El antiguo calendario Juliano (introducido por Julio César) [ https://es.wikipedia.org/wiki/Calendario_juliano ] establecía un año bisiesto cada 4 años. Los cual asumía que un año tiene 365,25 días.\n",
    "El error introducido provocó que el año 1582, el equinocio de primavera fuera el 11 de marzo en lugar de 21 de marzo. Puesto que esta fecha es clave en el calendario cristiando porque determina la fecha en la que se debe celebrar la Semana Santa, el papa Gregorio XIII creo la comsión del Calendario en la que destacó la figura del matemático y astónomo español Cristóbal Clavio. Esta comisión determinó la duración del año en 365,2422 días. La nueva norma de los años bisiestos se formuló del siguiente modo: la duración básica del año es de 365 días; pero serán bisiestos (es decir tendrán 366 días) aquellos años divisibles por 4, exceptuando los múltiplos de 100 (1700, 1800, 1900..., que no serán bisiestos), de los que se exceptúan a su vez aquellos que también sean divisibles por 400 (1600, 2000, 2400..., que serán bisiestos). El calendario gregoriano ajusta a 365,2425 días la duración del año, lo que deja una diferencia de 0,0003 días al año de error, es decir, adelanta cerca de 1/2 minuto cada año (aprox. 26 s/año), lo que significa que se requiere el ajuste de un día cada 3323 años.\n",
    "\n",
    "Para ajustar el calendario, al jueves (juliano) 4 de octubre de 1582 le sucedió el viernes (gregoriano) 15 de octubre de 1582. Así, diez días desaparecieron debido a que ya se habían contado de más en el calendario juliano. \n",
    "\n",
    "Extracto de la wikipedia [ https://es.wikipedia.org/wiki/Calendario_gregoriano ]\n",
    "\n",
    "Haz una función `is_leap_year` que indique si un año mayor que 1582 es bisiesto o no "
   ]
  },
  {
   "cell_type": "code",
   "execution_count": 1,
   "id": "b93bd01a-432f-4fe7-ad8a-a539d0e7ecba",
   "metadata": {
    "nbgrader": {
     "grade": false,
     "grade_id": "cell-53807fab75031d29",
     "locked": false,
     "schema_version": 3,
     "solution": true,
     "task": false
    },
    "tags": []
   },
   "outputs": [],
   "source": [
    "def is_leap_year(year: int) -> bool:\n",
    "    ### BEGIN SOLUTION\n",
    "    return year % 4 == 0 and (year % 100 !=0 or year % 400 == 0)\n",
    "    ### END SOLUTION"
   ]
  },
  {
   "cell_type": "code",
   "execution_count": null,
   "id": "23c97a39-e3f7-4474-87c9-27d27e7b52ec",
   "metadata": {},
   "outputs": [],
   "source": [
    "### Escribe tus pruebas"
   ]
  },
  {
   "cell_type": "code",
   "execution_count": 5,
   "id": "3817c714-c8b3-44b1-9bcd-34ce5d0c6972",
   "metadata": {
    "nbgrader": {
     "grade": true,
     "grade_id": "cell-9d5d5d1535db056e",
     "locked": true,
     "points": 1,
     "schema_version": 3,
     "solution": false,
     "task": false
    },
    "tags": []
   },
   "outputs": [
    {
     "name": "stdout",
     "output_type": "stream",
     "text": [
      "OK\n"
     ]
    }
   ],
   "source": [
    "def test_is_leap_year():\n",
    "    tests = [ (1583, False), (1600, True), (1601, False), (1700, False), (2000, True), (2001, False), (2004, True), (2100, False) ]\n",
    "    for year, is_leap in tests:\n",
    "        res = is_leap_year(year)\n",
    "        assert res == is_leap, f'Error {year}, {is_leap}, result: {res}'\n",
    "    print('OK')\n",
    "    \n",
    "test_is_leap_year()"
   ]
  }
 ],
 "metadata": {
  "kernelspec": {
   "display_name": "Python 3 (ipykernel)",
   "language": "python",
   "name": "python3"
  },
  "language_info": {
   "codemirror_mode": {
    "name": "ipython",
    "version": 3
   },
   "file_extension": ".py",
   "mimetype": "text/x-python",
   "name": "python",
   "nbconvert_exporter": "python",
   "pygments_lexer": "ipython3",
   "version": "3.9.14"
  }
 },
 "nbformat": 4,
 "nbformat_minor": 5
}
