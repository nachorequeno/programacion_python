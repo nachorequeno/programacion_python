{
 "cells": [
  {
   "cell_type": "markdown",
   "id": "9d1d267e-2455-4491-9f7b-45ddd1f2702e",
   "metadata": {},
   "source": [
    "# DNI\n",
    "\n",
    "En este ejercicio vamos a calcular la letra correspondiente a un Documento Nacional de Ientidad (DNI) l\n",
    "\n",
    "<img src='dni.jpg'>\n",
    "\n",
    "Para calcular la letra correspondiente al un número, basta dividir este por 23 y fijarse en el resto. La letra se averigua consultando la siguiente tabla\n",
    "\n",
    "| 0 | 1 | 2 | 3 | 4 | 5 | 6 | 7 | 8 | 9 |10 |11 |12 |13 |14 |15 |16 |17 |18 |19 |10 |11 |12 | \n",
    "|---|---|---|---|---|---|---|---|---|---|---|---|---|---|---|---|---|---|---|---|---|---|---|\n",
    "| T | R | W | A | G | M | Y | F | P | D | X | B | N | J | Z | S | Q | V | H | L | C | K | E |\n",
    "\n",
    "Realiza una función llamada `letra` que dado un número de DNI, nos calcule la letra correspondiente. \n",
    "Pista, conviene usar la cadena de caracteres `TRWAGMYFPDXBNJZSQVHLCKE`\n"
   ]
  },
  {
   "cell_type": "code",
   "execution_count": 1,
   "id": "e27fb4c1-2bb0-4d20-83a0-e7bd921edf43",
   "metadata": {
    "nbgrader": {
     "grade": false,
     "grade_id": "cell-c7f7eb71c3270c46",
     "locked": false,
     "schema_version": 3,
     "solution": true,
     "task": false
    },
    "tags": []
   },
   "outputs": [],
   "source": [
    "def letra(dni: int) -> str:\n",
    "    ### BEGIN SOLUTION\n",
    "    tabla = \"TRWAGMYFPDXBNJZSQVHLCKE\"\n",
    "    return tabla[dni%23]\n",
    "    ### END SOLUTION\n"
   ]
  },
  {
   "cell_type": "code",
   "execution_count": 10,
   "id": "1f90d5cd-15ca-4321-8a63-ff6511d0c6f3",
   "metadata": {},
   "outputs": [
    {
     "data": {
      "text/plain": [
       "'C'"
      ]
     },
     "execution_count": 10,
     "metadata": {},
     "output_type": "execute_result"
    }
   ],
   "source": [
    "# Escribe aquí tus pruebas\n",
    "letra(31415927)"
   ]
  },
  {
   "cell_type": "code",
   "execution_count": null,
   "id": "897ac035-7270-4e82-b32a-831aef5359df",
   "metadata": {
    "nbgrader": {
     "grade": false,
     "grade_id": "cell-5719e37b6000831b",
     "locked": false,
     "points": 1,
     "schema_version": 3,
     "solution": false,
     "task": false
    },
    "tags": []
   },
   "outputs": [],
   "source": [
    "def test_letra():\n",
    "    \n",
    "    base = 131232*23\n",
    "    t = 'TRWAGMYFPDXBNJZSQVHLCKE'\n",
    "    for i in range(23):\n",
    "        dni = base + i\n",
    "        l = letra(dni)\n",
    "        print(f'{dni}, {l}.....', end='')\n",
    "        assert l == t[i], f'Error en dni {dni}, obtenido {l}, esperado {t[i]}'\n",
    "        print('ok')\n",
    "    print('ok')\n",
    "    \n",
    "test_letra()"
   ]
  },
  {
   "cell_type": "markdown",
   "id": "bfac15ec-6876-4948-80f2-5adcc3dce80c",
   "metadata": {},
   "source": [
    "Realiza ahora una función `checkdni_int` que compruebe el un DNI completo. La función recibe 2 parámetros: el dni y la letra. Debe comprobar que sea correcto"
   ]
  },
  {
   "cell_type": "code",
   "execution_count": 15,
   "id": "8e374b9c-166e-4848-bf23-f42d2187ef4c",
   "metadata": {
    "nbgrader": {
     "grade": false,
     "grade_id": "cell-f2e0d406fd555b6b",
     "locked": false,
     "schema_version": 3,
     "solution": true,
     "task": false
    },
    "tags": []
   },
   "outputs": [],
   "source": [
    "def checkdni_int(dni:int, ltr: str) -> bool:\n",
    "    ### BEGIN SOLUTION\n",
    "    return letra(dni) == ltr\n",
    "    ### END SOLUTION"
   ]
  },
  {
   "cell_type": "code",
   "execution_count": null,
   "id": "419ed879-38df-4fcd-94b4-4684c47edd18",
   "metadata": {},
   "outputs": [],
   "source": [
    "# Escribe aquí tus pruebas"
   ]
  },
  {
   "cell_type": "code",
   "execution_count": 22,
   "id": "51f0de12-9d79-4300-8f94-cafabf8e0f17",
   "metadata": {
    "nbgrader": {
     "grade": true,
     "grade_id": "cell-99785041350e6271",
     "locked": true,
     "points": 1,
     "schema_version": 3,
     "solution": false,
     "task": false
    },
    "tags": []
   },
   "outputs": [
    {
     "name": "stdout",
     "output_type": "stream",
     "text": [
      "3018336, T, True.....ok\n",
      "3018337, R, True.....ok\n",
      "3018338, W, True.....ok\n",
      "3018339, A, True.....ok\n",
      "3018340, G, True.....ok\n",
      "3018341, M, True.....ok\n",
      "3018342, Y, True.....ok\n",
      "3018343, F, True.....ok\n",
      "3018344, P, True.....ok\n",
      "3018345, D, True.....ok\n",
      "3018346, X, True.....ok\n",
      "3018347, B, True.....ok\n",
      "3018348, N, True.....ok\n",
      "3018349, J, True.....ok\n",
      "3018350, Z, True.....ok\n",
      "3018351, S, True.....ok\n",
      "3018352, Q, True.....ok\n",
      "3018353, V, True.....ok\n",
      "3018354, H, True.....ok\n",
      "3018355, L, True.....ok\n",
      "3018356, C, True.....ok\n",
      "3018357, K, True.....ok\n",
      "3018358, E, True.....ok\n",
      "ok\n",
      "3018339, T, False.....ok\n",
      "3018340, R, False.....ok\n",
      "3018341, W, False.....ok\n",
      "3018342, A, False.....ok\n",
      "3018343, G, False.....ok\n",
      "3018344, M, False.....ok\n",
      "3018345, Y, False.....ok\n",
      "3018346, F, False.....ok\n",
      "3018347, P, False.....ok\n",
      "3018348, D, False.....ok\n",
      "3018349, X, False.....ok\n",
      "3018350, B, False.....ok\n",
      "3018351, N, False.....ok\n",
      "3018352, J, False.....ok\n",
      "3018353, Z, False.....ok\n",
      "3018354, S, False.....ok\n",
      "3018355, Q, False.....ok\n",
      "3018356, V, False.....ok\n",
      "3018357, H, False.....ok\n",
      "3018358, L, False.....ok\n",
      "3018359, C, False.....ok\n",
      "3018360, K, False.....ok\n",
      "3018361, E, False.....ok\n",
      "ok\n"
     ]
    }
   ],
   "source": [
    "def test_checkdni_int():\n",
    "    \n",
    "    base = 131232*23\n",
    "    t = 'TRWAGMYFPDXBNJZSQVHLCKE'\n",
    "    for i in range(23):\n",
    "        dni = base + i\n",
    "        l = t[i]\n",
    "        print(f'{dni}, {l}, True.....', end='')\n",
    "        assert checkdni_int(dni, l), f'Error en dni {dni}, {l}'\n",
    "        print('ok')\n",
    "    print('ok')\n",
    "    \n",
    "    base = 131232*23 + 3 \n",
    "    t = 'TRWAGMYFPDXBNJZSQVHLCKE'\n",
    "    for i in range(23):\n",
    "        dni = base + i\n",
    "        l = t[i]\n",
    "        print(f'{dni}, {l}, False.....', end='')\n",
    "        assert not checkdni_int(dni, l), f'Error en dni {dni}, {l}'\n",
    "        print('ok')\n",
    "    print('ok')\n",
    "    \n",
    "test_checkdni_int()"
   ]
  },
  {
   "cell_type": "markdown",
   "id": "4bd86a0d-a9cc-4407-bdda-d49783fe86c5",
   "metadata": {},
   "source": [
    "Finalmente hay que comprobar si una cadena de caracteres contiene un DNI correcto. Supndremos que la parte inicial, desde la primera posición hasta la penúltima contiene dígitos decimales y la última posición contiene una letra en mayúsculas. Realiza una función que se llame `checkdni`"
   ]
  },
  {
   "cell_type": "code",
   "execution_count": 24,
   "id": "c50a6f03-6489-43a1-a93a-9a676427e715",
   "metadata": {
    "nbgrader": {
     "grade": false,
     "grade_id": "cell-7425d7018d11fb32",
     "locked": false,
     "schema_version": 3,
     "solution": true,
     "task": false
    },
    "tags": []
   },
   "outputs": [],
   "source": [
    "def checkdni(dni: str) -> bool:\n",
    "    ### BEGIN SOLUTION\n",
    "    return checkdni_int(int(dni[:-1]), dni[-1]) \n",
    "    ### END SOLUTION"
   ]
  },
  {
   "cell_type": "code",
   "execution_count": null,
   "id": "2a444ab7-6c49-4da5-8856-a1b6dc1db0a5",
   "metadata": {},
   "outputs": [],
   "source": [
    "# Escribe aquí tus pruebas"
   ]
  },
  {
   "cell_type": "code",
   "execution_count": 26,
   "id": "e309121b-800f-41c3-8166-14c1004b4867",
   "metadata": {},
   "outputs": [
    {
     "name": "stdout",
     "output_type": "stream",
     "text": [
      "3018336T, True.....ok\n",
      "3018337R, True.....ok\n",
      "3018338W, True.....ok\n",
      "3018339A, True.....ok\n",
      "3018340G, True.....ok\n",
      "3018341M, True.....ok\n",
      "3018342Y, True.....ok\n",
      "3018343F, True.....ok\n",
      "3018344P, True.....ok\n",
      "3018345D, True.....ok\n",
      "3018346X, True.....ok\n",
      "3018347B, True.....ok\n",
      "3018348N, True.....ok\n",
      "3018349J, True.....ok\n",
      "3018350Z, True.....ok\n",
      "3018351S, True.....ok\n",
      "3018352Q, True.....ok\n",
      "3018353V, True.....ok\n",
      "3018354H, True.....ok\n",
      "3018355L, True.....ok\n",
      "3018356C, True.....ok\n",
      "3018357K, True.....ok\n",
      "3018358E, True.....ok\n",
      "ok\n",
      "3018339T, False.....ok\n",
      "3018340R, False.....ok\n",
      "3018341W, False.....ok\n",
      "3018342A, False.....ok\n",
      "3018343G, False.....ok\n",
      "3018344M, False.....ok\n",
      "3018345Y, False.....ok\n",
      "3018346F, False.....ok\n",
      "3018347P, False.....ok\n",
      "3018348D, False.....ok\n",
      "3018349X, False.....ok\n",
      "3018350B, False.....ok\n",
      "3018351N, False.....ok\n",
      "3018352J, False.....ok\n",
      "3018353Z, False.....ok\n",
      "3018354S, False.....ok\n",
      "3018355Q, False.....ok\n",
      "3018356V, False.....ok\n",
      "3018357H, False.....ok\n",
      "3018358L, False.....ok\n",
      "3018359C, False.....ok\n",
      "3018360K, False.....ok\n",
      "3018361E, False.....ok\n",
      "ok\n"
     ]
    }
   ],
   "source": [
    "def test_checkdni():\n",
    "    \n",
    "    base = 131232*23\n",
    "    t = 'TRWAGMYFPDXBNJZSQVHLCKE'\n",
    "    for i in range(23):\n",
    "        dni = f'{base + i}{t[i]}'\n",
    "        print(f'{dni}, True.....', end='')\n",
    "        assert checkdni(dni), f'Error en dni {dni}, {l}'\n",
    "        print('ok')\n",
    "    print('ok')\n",
    "    \n",
    "    base = 131232*23 + 3 \n",
    "    t = 'TRWAGMYFPDXBNJZSQVHLCKE'\n",
    "    for i in range(23):\n",
    "        dni = f'{base + i}{t[i]}'\n",
    "        print(f'{dni}, False.....', end='')\n",
    "        assert not checkdni(dni), f'Error en dni {dni}, {l}'\n",
    "        print('ok')\n",
    "    print('ok')\n",
    "    \n",
    "test_checkdni()    "
   ]
  }
 ],
 "metadata": {
  "kernelspec": {
   "display_name": "Python 3 (ipykernel)",
   "language": "python",
   "name": "python3"
  },
  "language_info": {
   "codemirror_mode": {
    "name": "ipython",
    "version": 3
   },
   "file_extension": ".py",
   "mimetype": "text/x-python",
   "name": "python",
   "nbconvert_exporter": "python",
   "pygments_lexer": "ipython3",
   "version": "3.10.4"
  }
 },
 "nbformat": 4,
 "nbformat_minor": 5
}
