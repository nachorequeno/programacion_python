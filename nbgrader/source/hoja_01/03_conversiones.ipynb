{
 "cells": [
  {
   "cell_type": "markdown",
   "id": "5a9874bd-a3c5-44b7-b0d8-933edec9d40a",
   "metadata": {},
   "source": [
    "# Conversiones de unidades\n",
    "\n",
    "Como todos sabemos el mundo anglosajón es reacio a cambiar sus viejas costumbres. Por ello, siglos después de que todo el mundo haya optado por usar el sistema métrico decimal, ellos insisten en usar su arcaico sistema de unidades. \n",
    "\n",
    "## Distancias.\n",
    "Vamos a empezar con las unidades de distancia.\n",
    "\n",
    "* 1 pulgada (in) = 2.54 cm\n",
    "* 1 pie (ft) = 12 in = 30.48 cm\n",
    "* 1 yarda (yd) = 3 ft = 91.44 cm\n",
    "* 1 milla (mi) = 1760 yd = 1.609344 km\n",
    "\n",
    "En este ejercico vamos a realizar funciones que nos ayuden a hacer entender su sistema de unidades.\n",
    "\n",
    "Escribe una función que convierta pulgadas a centimetros `in2cm` y otra que convierta de centímetros a pulgadas `cm2in`. Análogamente:\n",
    "* de pies a metros `ft2m` y `m2ft`\n",
    "* de yardas a metros `yd2m` y `m2yd`\n",
    "* de millas a kilómetros `mi2km` y `km2mi`\n"
   ]
  },
  {
   "cell_type": "code",
   "execution_count": 52,
   "id": "c0b003b9-8ddc-4a15-8d0e-0a8ced560494",
   "metadata": {
    "nbgrader": {
     "grade": false,
     "grade_id": "cell-8f50da666022e0ff",
     "locked": false,
     "schema_version": 3,
     "solution": true,
     "task": false
    },
    "tags": []
   },
   "outputs": [],
   "source": [
    "def in2cm(inches: float) -> float:\n",
    "    ### BEGIN SOLUTION\n",
    "    return inches * 2.54\n",
    "    ### END SOLUTION\n",
    "    \n",
    "def cm2in(centimeters: float) -> float:\n",
    "    ### BEGIN SOLUTION\n",
    "    return centimeters / 2.54\n",
    "    ### END SOLUTION\n",
    "    \n"
   ]
  },
  {
   "cell_type": "code",
   "execution_count": 41,
   "id": "34c244f3-b39c-4453-b073-9dd78e9405f8",
   "metadata": {
    "nbgrader": {
     "grade": false,
     "grade_id": "cell-75c3aeafe04d90d5",
     "locked": false,
     "schema_version": 3,
     "solution": true,
     "task": false
    },
    "tags": []
   },
   "outputs": [],
   "source": [
    "### Escribe aquí tus pruebas"
   ]
  },
  {
   "cell_type": "code",
   "execution_count": 42,
   "id": "6db3c464-12e4-497d-9412-c201fc8dbd8e",
   "metadata": {
    "nbgrader": {
     "grade": true,
     "grade_id": "cell-e057df4058573bc6",
     "locked": true,
     "points": 1,
     "schema_version": 3,
     "solution": false,
     "task": false
    },
    "tags": []
   },
   "outputs": [
    {
     "name": "stdout",
     "output_type": "stream",
     "text": [
      "Testing inches............\n",
      "in: -5.0000 cm:-12.7000....OK\n",
      "in: -4.0000 cm:-10.1600....OK\n",
      "in: -3.0000 cm: -7.6200....OK\n",
      "in: -2.0000 cm: -5.0800....OK\n",
      "in: -1.0000 cm: -2.5400....OK\n",
      "in: +0.0000 cm:  0.0000....OK\n",
      "in: +1.0000 cm:  2.5400....OK\n",
      "in: +2.0000 cm:  5.0800....OK\n",
      "in: +3.0000 cm:  7.6200....OK\n",
      "in: +4.0000 cm: 10.1600....OK\n",
      "in: +5.0000 cm: 12.7000....OK\n",
      "in: -1.9685 cm: -5.0000....OK\n",
      "in: -1.5748 cm: -4.0000....OK\n",
      "in: -1.1811 cm: -3.0000....OK\n",
      "in: -0.7874 cm: -2.0000....OK\n",
      "in: -0.3937 cm: -1.0000....OK\n",
      "in: +0.0000 cm:  0.0000....OK\n",
      "in: +0.3937 cm:  1.0000....OK\n",
      "in: +0.7874 cm:  2.0000....OK\n",
      "in: +1.1811 cm:  3.0000....OK\n",
      "in: +1.5748 cm:  4.0000....OK\n",
      "in: +1.9685 cm:  5.0000....OK\n"
     ]
    }
   ],
   "source": [
    "def test_inches():\n",
    "    import math\n",
    "    print('Testing inches............')\n",
    "    tests = [(-5, -12.7), \n",
    "             (-4, -10.16),\n",
    "             (-3, -7.62),\n",
    "             (-2, -5.08),\n",
    "             (-1, -2.54),\n",
    "             (0, 0.0),\n",
    "             (1, 2.54),\n",
    "             (2, 5.08),\n",
    "             (3, 7.62),\n",
    "             (4, 10.16),\n",
    "             (5, 12.7),\n",
    "             (-1.968503937007874, -5),\n",
    "             (-1.574803149606299, -4),\n",
    "             (-1.1811023622047243, -3),\n",
    "             (-0.7874015748031495, -2),\n",
    "             (-0.39370078740157477, -1),\n",
    "             (0.0, 0),\n",
    "             (0.39370078740157477, 1),\n",
    "             (0.7874015748031495, 2),\n",
    "             (1.1811023622047243, 3),\n",
    "             (1.574803149606299, 4),\n",
    "             (1.968503937007874, 5)]\n",
    "    for inches, centimeters in tests:\n",
    "        print(f'in:{inches:+8.4f} cm:{centimeters: 8.4f}....', end='')\n",
    "        cm = in2cm(inches)\n",
    "        assert math.isclose(cm, centimeters), f'Error in2cm({inches})={cm}'\n",
    "        inches_r = cm2in(centimeters)\n",
    "        assert math.isclose(inches, inches_r), f'Error mc2in({centimeters})={inches_r}'\n",
    "        print('OK')\n",
    "        \n",
    "test_inches()\n",
    "            \n",
    "        "
   ]
  },
  {
   "cell_type": "code",
   "execution_count": 43,
   "id": "c80aab87-f2ab-49ac-ad03-c12360835d62",
   "metadata": {
    "nbgrader": {
     "grade": false,
     "grade_id": "cell-cc989805b5fac988",
     "locked": false,
     "schema_version": 3,
     "solution": true,
     "task": false
    },
    "tags": []
   },
   "outputs": [],
   "source": [
    "def ft2m(feet: float) -> float:\n",
    "    ### BEGIN SOLUTION\n",
    "    return feet * 0.3048\n",
    "    ### END SOLUTION\n",
    "\n",
    "def m2ft(meters: float) -> float:\n",
    "    ### BEGIN SOLUTION\n",
    "    return meters / 0.3048\n",
    "    ### END SOLUTION\n",
    "\n"
   ]
  },
  {
   "cell_type": "code",
   "execution_count": null,
   "id": "d0abe6ea-9daf-4a2b-ba17-ffcea29e3be3",
   "metadata": {},
   "outputs": [],
   "source": [
    "#Escribe aquí tus pruebas"
   ]
  },
  {
   "cell_type": "code",
   "execution_count": 44,
   "id": "5337bf4c-8741-43d2-a4bb-d89cc658d252",
   "metadata": {
    "nbgrader": {
     "grade": true,
     "grade_id": "cell-20fb724e090610ec",
     "locked": true,
     "points": 1,
     "schema_version": 3,
     "solution": false,
     "task": false
    },
    "tags": []
   },
   "outputs": [
    {
     "name": "stdout",
     "output_type": "stream",
     "text": [
      "Testing feet............\n",
      "feet: -5.0000 meters: -1.5240....OK\n",
      "feet: -4.0000 meters: -1.2192....OK\n",
      "feet: -3.0000 meters: -0.9144....OK\n",
      "feet: -2.0000 meters: -0.6096....OK\n",
      "feet: -1.0000 meters: -0.3048....OK\n",
      "feet: +0.0000 meters:  0.0000....OK\n",
      "feet: +1.0000 meters:  0.3048....OK\n",
      "feet: +2.0000 meters:  0.6096....OK\n",
      "feet: +3.0000 meters:  0.9144....OK\n",
      "feet: +4.0000 meters:  1.2192....OK\n",
      "feet: +5.0000 meters:  1.5240....OK\n",
      "feet:-16.4042 meters: -5.0000....OK\n",
      "feet:-13.1234 meters: -4.0000....OK\n",
      "feet: -9.8425 meters: -3.0000....OK\n",
      "feet: -6.5617 meters: -2.0000....OK\n",
      "feet: -3.2808 meters: -1.0000....OK\n",
      "feet: +0.0000 meters:  0.0000....OK\n",
      "feet: +3.2808 meters:  1.0000....OK\n",
      "feet: +6.5617 meters:  2.0000....OK\n",
      "feet: +9.8425 meters:  3.0000....OK\n",
      "feet:+13.1234 meters:  4.0000....OK\n",
      "feet:+16.4042 meters:  5.0000....OK\n"
     ]
    }
   ],
   "source": [
    "def test_feet():\n",
    "    import math\n",
    "    print('Testing feet............')\n",
    "    tests = [(-5, -1.524),\n",
    "             (-4, -1.2192),\n",
    "             (-3, -0.9144000000000001),\n",
    "             (-2, -0.6096),\n",
    "             (-1, -0.3048),\n",
    "             (0, 0.0),\n",
    "             (1, 0.3048),\n",
    "             (2, 0.6096),\n",
    "             (3, 0.9144000000000001),\n",
    "             (4, 1.2192),\n",
    "             (5, 1.524),\n",
    "             (-16.404199475065617, -5),\n",
    "             (-13.123359580052492, -4),\n",
    "             (-9.84251968503937, -3),\n",
    "             (-6.561679790026246, -2),\n",
    "             (-3.280839895013123, -1),\n",
    "             (0.0, 0),\n",
    "             (3.280839895013123, 1),\n",
    "             (6.561679790026246, 2),\n",
    "             (9.84251968503937, 3),\n",
    "             (13.123359580052492, 4),\n",
    "             (16.404199475065617, 5)]\n",
    "\n",
    "    for feet, centimeters in tests:\n",
    "        print(f'feet:{feet:+8.4f} meters:{centimeters: 8.4f}....', end='')\n",
    "        meters = ft2m(feet)\n",
    "        assert math.isclose(meters, centimeters), f'Error ft2m({feet})={meters}'\n",
    "        feet_r = m2ft(centimeters)\n",
    "        assert math.isclose(feet, feet_r), f'Error m2ft({centimeters})={feet_r}'\n",
    "        print('OK')\n",
    "\n",
    "test_feet()\n"
   ]
  },
  {
   "cell_type": "code",
   "execution_count": 45,
   "id": "f5eee6ec-486b-4e64-ad34-62ef4b6415c3",
   "metadata": {
    "nbgrader": {
     "grade": false,
     "grade_id": "cell-f4e17e8ac95e4a22",
     "locked": false,
     "schema_version": 3,
     "solution": true,
     "task": false
    },
    "tags": []
   },
   "outputs": [],
   "source": [
    "def yd2m(yards: float) -> float:\n",
    "    ### BEGIN SOLUTION\n",
    "    return yards * 0.9144\n",
    "    ### END SOLUTION\n",
    "\n",
    "def m2yd(meters: float) -> float:\n",
    "    ### BEGIN SOLUTION\n",
    "    return meters / 0.9144\n",
    "    ### END SOLUTION\n",
    "\n"
   ]
  },
  {
   "cell_type": "code",
   "execution_count": null,
   "id": "accc1f54-1afb-4df1-a7ca-60b9db27647e",
   "metadata": {},
   "outputs": [],
   "source": [
    "### Escribe aquí tus pruebas\n"
   ]
  },
  {
   "cell_type": "code",
   "execution_count": 46,
   "id": "e10374c7-1b6d-4ce8-bca7-0212be359a27",
   "metadata": {},
   "outputs": [
    {
     "name": "stdout",
     "output_type": "stream",
     "text": [
      "Testing yards............\n",
      "yards: -5.0000 meters: -4.5720....OK\n",
      "yards: -4.0000 meters: -3.6576....OK\n",
      "yards: -3.0000 meters: -2.7432....OK\n",
      "yards: -2.0000 meters: -1.8288....OK\n",
      "yards: -1.0000 meters: -0.9144....OK\n",
      "yards: +0.0000 meters:  0.0000....OK\n",
      "yards: +1.0000 meters:  0.9144....OK\n",
      "yards: +2.0000 meters:  1.8288....OK\n",
      "yards: +3.0000 meters:  2.7432....OK\n",
      "yards: +4.0000 meters:  3.6576....OK\n",
      "yards: +5.0000 meters:  4.5720....OK\n",
      "yards: -5.4681 meters: -5.0000....OK\n",
      "yards: -4.3745 meters: -4.0000....OK\n",
      "yards: -3.2808 meters: -3.0000....OK\n",
      "yards: -2.1872 meters: -2.0000....OK\n",
      "yards: -1.0936 meters: -1.0000....OK\n",
      "yards: +0.0000 meters:  0.0000....OK\n",
      "yards: +1.0936 meters:  1.0000....OK\n",
      "yards: +2.1872 meters:  2.0000....OK\n",
      "yards: +3.2808 meters:  3.0000....OK\n",
      "yards: +4.3745 meters:  4.0000....OK\n",
      "yards: +5.4681 meters:  5.0000....OK\n"
     ]
    }
   ],
   "source": [
    "def test_yards():\n",
    "    import math\n",
    "    print('Testing yards............')\n",
    "    tests = [(-5, -4.572),\n",
    "             (-4, -3.6576),\n",
    "             (-3, -2.7432),\n",
    "             (-2, -1.8288),\n",
    "             (-1, -0.9144),\n",
    "             (0, 0.0),\n",
    "             (1, 0.9144),\n",
    "             (2, 1.8288),\n",
    "             (3, 2.7432),\n",
    "             (4, 3.6576),\n",
    "             (5, 4.572),\n",
    "             (-5.468066491688539, -5),\n",
    "             (-4.374453193350831, -4),\n",
    "             (-3.2808398950131235, -3),\n",
    "             (-2.1872265966754156, -2),\n",
    "             (-1.0936132983377078, -1),\n",
    "             (0.0, 0),\n",
    "             (1.0936132983377078, 1),\n",
    "             (2.1872265966754156, 2),\n",
    "             (3.2808398950131235, 3),\n",
    "             (4.374453193350831, 4),\n",
    "             (5.468066491688539, 5)]\n",
    "\n",
    "    for yards, centimeters in tests:\n",
    "        print(f'yards:{yards:+8.4f} meters:{centimeters: 8.4f}....', end='')\n",
    "        meters = yd2m(yards)\n",
    "        assert math.isclose(meters, centimeters), f'Error yd2m({yards})={meters}'\n",
    "        yards_r = m2yd(centimeters)\n",
    "        assert math.isclose(yards, yards_r), f'Error m2yd({centimeters})={yards_r}'\n",
    "        print('OK')\n",
    "\n",
    "test_yards()\n"
   ]
  },
  {
   "cell_type": "code",
   "execution_count": 47,
   "id": "08fc8e88-edbf-45fd-9dd4-057eeb51b3c4",
   "metadata": {
    "nbgrader": {
     "grade": false,
     "grade_id": "cell-08030cecc7c9cc73",
     "locked": false,
     "schema_version": 3,
     "solution": true,
     "task": false
    },
    "tags": []
   },
   "outputs": [],
   "source": [
    "def mi2km(miles: float) -> float:\n",
    "    ### BEGIN SOLUTION\n",
    "    return miles * 1.609344\n",
    "    ### END SOLUTION\n",
    "\n",
    "def km2mi(kilometers: float) -> float:\n",
    "    ### BEGIN SOLUTION\n",
    "    return kilometers / 1.609344\n",
    "    ### END SOLUTION\n"
   ]
  },
  {
   "cell_type": "code",
   "execution_count": null,
   "id": "e76bc240-c3c8-4b2e-a637-27c5f85b2663",
   "metadata": {},
   "outputs": [],
   "source": [
    "# Escribe aquí tus pruebas"
   ]
  },
  {
   "cell_type": "code",
   "execution_count": 48,
   "id": "aa071779-b4a0-4fd9-9f2b-cb0df10fb562",
   "metadata": {
    "nbgrader": {
     "grade": true,
     "grade_id": "cell-ab61d23dd739eb24",
     "locked": true,
     "points": 1,
     "schema_version": 3,
     "solution": false,
     "task": false
    },
    "tags": []
   },
   "outputs": [
    {
     "name": "stdout",
     "output_type": "stream",
     "text": [
      "Testing miles............\n",
      "miles: -5.0000 meters: -8.0467....OK\n",
      "miles: -4.0000 meters: -6.4374....OK\n",
      "miles: -3.0000 meters: -4.8280....OK\n",
      "miles: -2.0000 meters: -3.2187....OK\n",
      "miles: -1.0000 meters: -1.6093....OK\n",
      "miles: +0.0000 meters:  0.0000....OK\n",
      "miles: +1.0000 meters:  1.6093....OK\n",
      "miles: +2.0000 meters:  3.2187....OK\n",
      "miles: +3.0000 meters:  4.8280....OK\n",
      "miles: +4.0000 meters:  6.4374....OK\n",
      "miles: +5.0000 meters:  8.0467....OK\n",
      "miles: -3.1069 meters: -5.0000....OK\n",
      "miles: -2.4855 meters: -4.0000....OK\n",
      "miles: -1.8641 meters: -3.0000....OK\n",
      "miles: -1.2427 meters: -2.0000....OK\n",
      "miles: -0.6214 meters: -1.0000....OK\n",
      "miles: +0.0000 meters:  0.0000....OK\n",
      "miles: +0.6214 meters:  1.0000....OK\n",
      "miles: +1.2427 meters:  2.0000....OK\n",
      "miles: +1.8641 meters:  3.0000....OK\n",
      "miles: +2.4855 meters:  4.0000....OK\n",
      "miles: +3.1069 meters:  5.0000....OK\n"
     ]
    }
   ],
   "source": [
    "def test_miles():\n",
    "    import math\n",
    "    print('Testing miles............')\n",
    "    tests = [(-5, -8.04672),\n",
    "             (-4, -6.437376),\n",
    "             (-3, -4.828032),\n",
    "             (-2, -3.218688),\n",
    "             (-1, -1.609344),\n",
    "             (0, 0.0),\n",
    "             (1, 1.609344),\n",
    "             (2, 3.218688),\n",
    "             (3, 4.828032),\n",
    "             (4, 6.437376),\n",
    "             (5, 8.04672),\n",
    "             (-3.1068559611866697, -5),\n",
    "             (-2.485484768949336, -4),\n",
    "             (-1.8641135767120018, -3),\n",
    "             (-1.242742384474668, -2),\n",
    "             (-0.621371192237334, -1),\n",
    "             (0.0, 0),\n",
    "             (0.621371192237334, 1),\n",
    "             (1.242742384474668, 2),\n",
    "             (1.8641135767120018, 3),\n",
    "             (2.485484768949336, 4),\n",
    "             (3.1068559611866697, 5)]\n",
    "\n",
    "    for miles, kilometers in tests:\n",
    "        print(f'miles:{miles:+8.4f} meters:{kilometers: 8.4f}....', end='')\n",
    "        meters = mi2km(miles)\n",
    "        assert math.isclose(meters, kilometers), f'Error mi2km({miles})={meters}'\n",
    "        miles_r = km2mi(kilometers)\n",
    "        assert math.isclose(miles, miles_r), f'Error km2yd({kilometers})={miles_r}'\n",
    "        print('OK')\n",
    "\n",
    "test_miles()\n"
   ]
  },
  {
   "cell_type": "markdown",
   "id": "cee8df6f-9bee-45b2-95d7-9a79e6cd0026",
   "metadata": {},
   "source": [
    "## Temperaturas\n",
    "Vamos a seguir con las unidades de temperatura. El grado Fahrenheit (representado como °F) es una escala de temperatura propuesta por el físico e ingeniero polaco Daniel Gabriel Fahrenheit en 1724. La escala establece como las temperaturas de congelación y ebullición del agua, 32 °F y 212 °F, respectivamente. El método de definición es similar al utilizado para el grado Celsius (°C) [https://es.wikipedia.org/wiki/Grado_Fahrenheit].\n",
    "\n",
    "Realiza una función `fhr2cel` que transforme los gradeos Fahrenhiet a Celsius, y la inversa `cel2fhr` que realize la transofrmación inversa. "
   ]
  },
  {
   "cell_type": "code",
   "execution_count": 49,
   "id": "2333c653-8986-4d0f-b6a5-d0fae73eec6c",
   "metadata": {
    "nbgrader": {
     "grade": false,
     "grade_id": "cell-5fbaf6dfdae387cb",
     "locked": false,
     "schema_version": 3,
     "solution": true,
     "task": false
    },
    "tags": []
   },
   "outputs": [],
   "source": [
    "def fhr2cel(fhr: float) -> float:\n",
    "    ### BEGIN SOLUTION\n",
    "    return ( fhr-32 )/1.8\n",
    "    ### END SOLUTION\n",
    "\n",
    "def cel2fhr(cel: float) -> float:\n",
    "    ### BEGIN SOLUTION\n",
    "    return 32 +  cel * 1.8\n",
    "    ### END SOLUTION\n"
   ]
  },
  {
   "cell_type": "code",
   "execution_count": 51,
   "id": "7a3f4015-9e2a-420d-8263-60d5a2956e0a",
   "metadata": {},
   "outputs": [],
   "source": [
    "# Escribe aquí tus pruebas"
   ]
  },
  {
   "cell_type": "code",
   "execution_count": 50,
   "id": "33989eb0-9ae3-46bc-bd62-50e39562a8d4",
   "metadata": {
    "nbgrader": {
     "grade": true,
     "grade_id": "cell-ee23e7c673f5833a",
     "locked": true,
     "points": 1,
     "schema_version": 3,
     "solution": false,
     "task": false
    },
    "tags": []
   },
   "outputs": [],
   "source": [
    "def test_fhr():\n",
    "    import math\n",
    "    print('Testing fhr............')\n",
    "    tests = [(-40, -40.0),\n",
    "             (-30, -34.44444444444444),\n",
    "             (-20, -28.88888888888889),\n",
    "             (-10, -23.333333333333332),\n",
    "             (0, -17.77777777777778),\n",
    "             (10, -12.222222222222221),\n",
    "             (20, -6.666666666666666),\n",
    "             (30, -1.1111111111111112),\n",
    "             (40, 4.444444444444445),\n",
    "             (50, 10.0),\n",
    "             (60, 15.555555555555555),\n",
    "             (70, 21.11111111111111),\n",
    "             (80, 26.666666666666664),\n",
    "             (90, 32.22222222222222),\n",
    "             (-40.0, -40),\n",
    "             (-22.0, -30),\n",
    "             (-4.0, -20),\n",
    "             (14.0, -10),\n",
    "             (32.0, 0),\n",
    "             (50.0, 10),\n",
    "             (68.0, 20),\n",
    "             (86.0, 30),\n",
    "             (104.0, 40),\n",
    "             (122.0, 50),\n",
    "             (140.0, 60),\n",
    "             (158.0, 70),\n",
    "             (176.0, 80),\n",
    "             (194.0, 90)]\n",
    "\n",
    "    for fhr, cel in tests:\n",
    "        print(f'fhr:{fhr:+8.4f} cel:{cel: 8.4f}....', end='')\n",
    "        cel = fhr2cel(fhr)\n",
    "        assert math.isclose(cel, cel), f'Error mi2km({fhr})={cel}'\n",
    "        fhr_r = cel2fhr(cel)\n",
    "        assert math.isclose(fhr, fhr_r), f'Error km2yd({cel})={fhr_r}'\n",
    "        print('OK')\n"
   ]
  }
 ],
 "metadata": {
  "kernelspec": {
   "display_name": "Python 3 (ipykernel)",
   "language": "python",
   "name": "python3"
  },
  "language_info": {
   "codemirror_mode": {
    "name": "ipython",
    "version": 3
   },
   "file_extension": ".py",
   "mimetype": "text/x-python",
   "name": "python",
   "nbconvert_exporter": "python",
   "pygments_lexer": "ipython3",
   "version": "3.10.4"
  }
 },
 "nbformat": 4,
 "nbformat_minor": 5
}
