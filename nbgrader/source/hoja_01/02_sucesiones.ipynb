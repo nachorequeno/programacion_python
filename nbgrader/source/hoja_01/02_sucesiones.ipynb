{
 "cells": [
  {
   "cell_type": "markdown",
   "id": "8fe24e06-641f-4029-9d30-48098e7f2566",
   "metadata": {},
   "source": [
    "# Término general de una sucesión.\n",
    "\n",
    "Encuentra una expresión en python que sean el término general de las siguientes sucesiones. "
   ]
  },
  {
   "cell_type": "markdown",
   "id": "54a96ed2-111f-4ecf-a6b2-983ee4147b2d",
   "metadata": {},
   "source": [
    "0, 1, 0, 1, 0, 1, ...."
   ]
  },
  {
   "cell_type": "code",
   "execution_count": 1,
   "id": "af575c86-21d9-4d66-8d33-0690130accba",
   "metadata": {
    "nbgrader": {
     "grade": false,
     "grade_id": "cell-24b48743b02321e3",
     "locked": false,
     "schema_version": 3,
     "solution": true,
     "task": false
    },
    "tags": []
   },
   "outputs": [],
   "source": [
    "def zero_one(n: int) -> int:\n",
    "    ### BEGIN SOLUTION\n",
    "    return n % 2\n",
    "    ### END SOLUTION"
   ]
  },
  {
   "cell_type": "code",
   "execution_count": null,
   "id": "3dba051f-02fd-4bc7-bf03-7869a52da262",
   "metadata": {},
   "outputs": [],
   "source": [
    "# Escribe aquí tus pruebas"
   ]
  },
  {
   "cell_type": "code",
   "execution_count": 2,
   "id": "849edcee-b717-41b8-872d-85c691438da5",
   "metadata": {
    "nbgrader": {
     "grade": true,
     "grade_id": "cell-5c181fd49e5f56ae",
     "locked": true,
     "points": 1,
     "schema_version": 3,
     "solution": false,
     "task": false
    },
    "tags": []
   },
   "outputs": [
    {
     "name": "stdout",
     "output_type": "stream",
     "text": [
      "OK\n"
     ]
    }
   ],
   "source": [
    "def test_zero_one():\n",
    "    result = list(map(zero_one, range(6)))\n",
    "    assert result == [0, 1, 0, 1, 0, 1], f'Error {result} is incorrect'\n",
    "    print('OK')             \n",
    "test_zero_one()"
   ]
  },
  {
   "cell_type": "markdown",
   "id": "a846a071-c44b-47e9-8ea5-f68c62f7b3f6",
   "metadata": {
    "tags": []
   },
   "source": [
    "1, -1, 1, -1, 1, -1, ....\n",
    "\n",
    "Intenta encontrar una expresión una expresión que no involucre una potencia: $-1^n$. Usa el operador `%`."
   ]
  },
  {
   "cell_type": "code",
   "execution_count": 17,
   "id": "6f2aad7a-797a-4ac3-8f3c-4233c264242d",
   "metadata": {
    "nbgrader": {
     "grade": false,
     "grade_id": "cell-c63ef72c9ecbb0b0",
     "locked": false,
     "schema_version": 3,
     "solution": true,
     "task": false
    },
    "tags": []
   },
   "outputs": [],
   "source": [
    "def signo(n: int) -> int:\n",
    "    ### BEGIN SOLUTION\n",
    "    return 1 - 2 * (n % 2)\n",
    "    ### END SOLUTION"
   ]
  },
  {
   "cell_type": "code",
   "execution_count": null,
   "id": "61d4241f-fed3-47a6-98aa-c88dbc960814",
   "metadata": {},
   "outputs": [],
   "source": [
    "# Escribe aquí tus pruebas"
   ]
  },
  {
   "cell_type": "code",
   "execution_count": 18,
   "id": "0993c162-b242-4625-8e22-b3bdd3fd11d9",
   "metadata": {},
   "outputs": [
    {
     "name": "stdout",
     "output_type": "stream",
     "text": [
      "OK\n"
     ]
    }
   ],
   "source": [
    "def test_signo():\n",
    "    result = list(map(signo, range(6)))\n",
    "    assert result == [1, -1, 1, -1, 1, -1], f'Error {result} is incorrect'\n",
    "    print('OK')             \n",
    "test_signo()"
   ]
  },
  {
   "cell_type": "markdown",
   "id": "165e286a-3243-4a32-9fa6-a746f229d109",
   "metadata": {
    "tags": []
   },
   "source": [
    "-1, 1, -1, 1, -1, 1,"
   ]
  },
  {
   "cell_type": "code",
   "execution_count": 20,
   "id": "6d80078b-62b7-442e-b875-8f3313c87c2b",
   "metadata": {
    "nbgrader": {
     "grade": false,
     "grade_id": "cell-2a8159ac238d391c",
     "locked": false,
     "schema_version": 3,
     "solution": true,
     "task": false
    },
    "tags": []
   },
   "outputs": [],
   "source": [
    "def signo2(n: int) -> int:\n",
    "    ### BEGIN SOLUTION\n",
    "    return -1 + 2 * (n % 2)\n",
    "    ### END SOLUTION"
   ]
  },
  {
   "cell_type": "code",
   "execution_count": null,
   "id": "4205f9fa-0dbd-4fce-b663-7ad5f159173d",
   "metadata": {},
   "outputs": [],
   "source": [
    "# Escribe aquí tus pruebas"
   ]
  },
  {
   "cell_type": "code",
   "execution_count": 14,
   "id": "d9b95129-a58e-4ca9-a59d-965c895b276b",
   "metadata": {
    "nbgrader": {
     "grade": true,
     "grade_id": "cell-54dcce97dbf074be",
     "locked": true,
     "points": 1,
     "schema_version": 3,
     "solution": false,
     "task": false
    },
    "tags": []
   },
   "outputs": [
    {
     "name": "stdout",
     "output_type": "stream",
     "text": [
      "OK\n"
     ]
    }
   ],
   "source": [
    "def test_signo2():\n",
    "    result = list(map(signo2, range(6)))\n",
    "    assert result == [-1, 1, -1, 1, -1, 1], f'Error {result} is incorrect'\n",
    "    print('OK')             \n",
    "test_signo2()"
   ]
  },
  {
   "cell_type": "markdown",
   "id": "96eb7878-57c7-4fdc-9dc2-317c955c96c7",
   "metadata": {},
   "source": [
    " 3, 8, 13, 18, 23, ....."
   ]
  },
  {
   "cell_type": "code",
   "execution_count": 23,
   "id": "f1c90150-7c18-4d63-baff-bb2495968c40",
   "metadata": {
    "nbgrader": {
     "grade": false,
     "grade_id": "cell-feb2cade1fa63009",
     "locked": false,
     "schema_version": 3,
     "solution": true,
     "task": false
    },
    "tags": []
   },
   "outputs": [],
   "source": [
    "def lineal(n: int) -> int:\n",
    "    ### BEGIN SOLUTION\n",
    "    return 3 + 5*n\n",
    "    ### END SOLUTION"
   ]
  },
  {
   "cell_type": "code",
   "execution_count": null,
   "id": "b970403f-e149-44f7-9b88-a67e92e53586",
   "metadata": {},
   "outputs": [],
   "source": [
    "# Escribe aquí tus pruebas"
   ]
  },
  {
   "cell_type": "code",
   "execution_count": 24,
   "id": "c40a35e3-531d-4a09-93b5-05efa2c90b8e",
   "metadata": {
    "nbgrader": {
     "grade": true,
     "grade_id": "cell-ea572850101eddf7",
     "locked": true,
     "points": 1,
     "schema_version": 3,
     "solution": false,
     "task": false
    },
    "tags": []
   },
   "outputs": [
    {
     "name": "stdout",
     "output_type": "stream",
     "text": [
      "OK\n"
     ]
    }
   ],
   "source": [
    "def test_lineal():\n",
    "    result = list(map(lineal, range(6)))\n",
    "    assert result == [3, 8, 13, 18, 23, 28], f'Error {result} is incorrect'\n",
    "    print('OK')             \n",
    "test_lineal()"
   ]
  },
  {
   "cell_type": "markdown",
   "id": "91b60f17-bff6-4121-94c7-f4d34baf1cff",
   "metadata": {},
   "source": [
    "0, 1, 2, 3, 0, 1, 2, 3, 0, 1, 2, 3, ...."
   ]
  },
  {
   "cell_type": "code",
   "execution_count": 25,
   "id": "4751f77e-3614-468e-a316-e75eed83888d",
   "metadata": {
    "nbgrader": {
     "grade": false,
     "grade_id": "cell-53df024e93817f97",
     "locked": false,
     "schema_version": 3,
     "solution": true,
     "task": false
    },
    "tags": []
   },
   "outputs": [],
   "source": [
    "def modulo(n: int) -> int:\n",
    "    ### BEGIN SOLUTION\n",
    "    return n%4\n",
    "    ### END SOLUTION"
   ]
  },
  {
   "cell_type": "code",
   "execution_count": null,
   "id": "6cbc2e38-088c-4436-818c-fe46259a1d28",
   "metadata": {},
   "outputs": [],
   "source": [
    "# Escribe aquí tus pruebas"
   ]
  },
  {
   "cell_type": "code",
   "execution_count": 27,
   "id": "b78d8a7b-e3b3-4375-92cc-70ca717687ca",
   "metadata": {
    "nbgrader": {
     "grade": true,
     "grade_id": "cell-479eebd9215d1f3f",
     "locked": true,
     "points": 1,
     "schema_version": 3,
     "solution": false,
     "task": false
    },
    "tags": []
   },
   "outputs": [
    {
     "name": "stdout",
     "output_type": "stream",
     "text": [
      "OK\n"
     ]
    }
   ],
   "source": [
    "def test_modulo():\n",
    "    result = list(map(modulo, range(12)))\n",
    "    assert result == [0, 1, 2, 3, 0, 1, 2, 3, 0, 1, 2, 3], f'Error {result} is incorrect'\n",
    "    print('OK')             \n",
    "test_modulo()"
   ]
  },
  {
   "cell_type": "markdown",
   "id": "d9f33d61-5e83-4609-ac70-3e36b8ad1aa3",
   "metadata": {},
   "source": [
    "1, 1, 2, 3, 5, 8, 13, 21 ...\n",
    "\n",
    "Consulta un término general para la sucesión de Fibonacci \n",
    "\n",
    "<img src='Fibonacci_spiral_34.svg' width='250px'> \n",
    "<img src='nautilius.jpg' width='250px'> \n",
    "\n",
    "[https://es.wikipedia.org/wiki/Sucesi%C3%B3n_de_Fibonacci]: "
   ]
  },
  {
   "cell_type": "code",
   "execution_count": 11,
   "id": "16edd833-4517-4312-a243-4dfcae59f2f0",
   "metadata": {
    "nbgrader": {
     "grade": false,
     "grade_id": "cell-3aed57907e9717d9",
     "locked": false,
     "schema_version": 3,
     "solution": true,
     "task": false
    },
    "tags": []
   },
   "outputs": [],
   "source": [
    "def fibonacci(n: int) -> int:\n",
    "    ### BEGIN SOLUTION\n",
    "    import math\n",
    "    phi = (1 + math.sqrt(5)) / 2\n",
    "    return int(phi**(n+1)/math.sqrt(5) + 0.5)\n",
    "    ### END SOLUTION"
   ]
  },
  {
   "cell_type": "code",
   "execution_count": 14,
   "id": "15f88024-ec77-46f1-ac21-23afa07740f4",
   "metadata": {},
   "outputs": [
    {
     "data": {
      "text/plain": [
       "2"
      ]
     },
     "execution_count": 14,
     "metadata": {},
     "output_type": "execute_result"
    }
   ],
   "source": [
    "# Escribe aquí tus pruebas\n"
   ]
  },
  {
   "cell_type": "code",
   "execution_count": 15,
   "id": "3673a13d-aea0-4628-8f9d-d53712694bce",
   "metadata": {},
   "outputs": [
    {
     "name": "stdout",
     "output_type": "stream",
     "text": [
      "OK\n"
     ]
    }
   ],
   "source": [
    "def test_fibonacci():\n",
    "    result = list(map(fibonacci, range(8)))\n",
    "    assert result == [1, 1, 2, 3, 5, 8, 13, 21], f'Error {result} is incorrect'\n",
    "    print('OK')             \n",
    "test_fibonacci()"
   ]
  }
 ],
 "metadata": {
  "kernelspec": {
   "display_name": "Python 3 (ipykernel)",
   "language": "python",
   "name": "python3"
  },
  "language_info": {
   "codemirror_mode": {
    "name": "ipython",
    "version": 3
   },
   "file_extension": ".py",
   "mimetype": "text/x-python",
   "name": "python",
   "nbconvert_exporter": "python",
   "pygments_lexer": "ipython3",
   "version": "3.10.4"
  }
 },
 "nbformat": 4,
 "nbformat_minor": 5
}
