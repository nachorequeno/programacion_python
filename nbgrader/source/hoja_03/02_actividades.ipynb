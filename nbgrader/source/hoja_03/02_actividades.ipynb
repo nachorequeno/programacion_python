{
 "cells": [
  {
   "cell_type": "markdown",
   "id": "9438bf19-578e-46e2-acff-a74bca3e1294",
   "metadata": {},
   "source": [
    "Escribe un función que indique la actividad mas apropiada para una temperatura teniendo en cuenta los siguientes criterios:\n",
    "\n",
    "\n",
    "* Natación si $t>30$ (`swimming`)\n",
    "* Tenis si  $20< t<\\leq  30$  (`tennis`)\n",
    "* Golf si $10<t\\leq 20$ (`golf`)\n",
    "* Esquí si $5<t\\leq 10$  (`ski`)\n",
    "* Parchís si $t\\leq 5$ (`parchis`)\n",
    "\n",
    "La función debe devolver la cadena de caracteres indicada entre paréntesis."
   ]
  },
  {
   "cell_type": "code",
   "execution_count": 10,
   "id": "2ca5bed4-24b0-4239-84e8-cac994043473",
   "metadata": {
    "nbgrader": {
     "grade": false,
     "grade_id": "cell-a80f4451c8f37f60",
     "locked": false,
     "schema_version": 3,
     "solution": true,
     "task": false
    },
    "tags": []
   },
   "outputs": [],
   "source": [
    "def activity(temp: float) -> str:\n",
    "    ### BEGIN SOLUTION\n",
    "    if temp > 30:\n",
    "        act = \"swimming\"\n",
    "    elif 20 < temp <= 30:\n",
    "        act = \"tennis\"\n",
    "    elif 10 < temp <= 20:\n",
    "        act = \"golf\"\n",
    "    elif 5 < temp <= 10:\n",
    "        act = \"ski\"\n",
    "    else:\n",
    "        act = \"parchis\"\n",
    "    return act\n",
    "    ### END SOLUTION"
   ]
  },
  {
   "cell_type": "code",
   "execution_count": null,
   "id": "9827cea9-747e-4140-9fe8-167e4e87ace8",
   "metadata": {},
   "outputs": [],
   "source": [
    "### escribe aquí tu solución\n"
   ]
  },
  {
   "cell_type": "code",
   "execution_count": 11,
   "id": "d01880d5-a1ff-4c00-8cfd-7b2f05436f80",
   "metadata": {
    "nbgrader": {
     "grade": true,
     "grade_id": "cell-3dad62f0121bd594",
     "locked": true,
     "points": 0,
     "schema_version": 3,
     "solution": false,
     "task": false
    },
    "tags": []
   },
   "outputs": [
    {
     "name": "stdout",
     "output_type": "stream",
     "text": [
      "(31,), swimming....OK.\n",
      "(30,), tennis....OK.\n",
      "(25,), tennis....OK.\n",
      "(20,), golf....OK.\n",
      "(15,), golf....OK.\n",
      "(10,), ski....OK.\n",
      "(7,), ski....OK.\n",
      "(5,), parchis....OK.\n",
      "(2,), parchis....OK.\n"
     ]
    }
   ],
   "source": [
    "def runtests(tests, fun):\n",
    "    for test, ex_res in tests:\n",
    "        res = fun(*test)\n",
    "        print(f'{test}, {res}....', end='')\n",
    "        assert res == ex_res, f'Error, the expexted result is {ex_res}'\n",
    "        print('OK.')\n",
    "        \n",
    "def test_activity():\n",
    "    tests = [\n",
    "        ((31,),\"swimming\"),\n",
    "        ((30,),\"tennis\"),\n",
    "        ((25,),\"tennis\"),\n",
    "        ((20,),\"golf\"),\n",
    "        ((15,),\"golf\"),\n",
    "        ((10,),\"ski\"),\n",
    "        ((7,),\"ski\"),\n",
    "        ((5,),\"parchis\"),\n",
    "        ((2,),\"parchis\"),\n",
    "    ]\n",
    "    runtests(tests, activity)\n",
    "\n",
    "test_activity()"
   ]
  }
 ],
 "metadata": {
  "kernelspec": {
   "display_name": "Python 3 (ipykernel)",
   "language": "python",
   "name": "python3"
  },
  "language_info": {
   "codemirror_mode": {
    "name": "ipython",
    "version": 3
   },
   "file_extension": ".py",
   "mimetype": "text/x-python",
   "name": "python",
   "nbconvert_exporter": "python",
   "pygments_lexer": "ipython3",
   "version": "3.9.14"
  }
 },
 "nbformat": 4,
 "nbformat_minor": 5
}
