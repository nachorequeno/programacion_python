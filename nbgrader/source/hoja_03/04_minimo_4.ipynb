{
 "cells": [
  {
   "cell_type": "markdown",
   "id": "e15104e4-52c3-4c6a-a1b3-66adf366e5e7",
   "metadata": {},
   "source": [
    "##Mínimo de 4 valores\n",
    "\n",
    "Haz una función que calcule el mínimo de 4 valores. Intenta que en el código aparezca un solo `if`"
   ]
  },
  {
   "cell_type": "code",
   "execution_count": 5,
   "id": "6b1ad4f0-100d-4724-8ef4-445f7993f047",
   "metadata": {
    "nbgrader": {
     "grade": false,
     "grade_id": "cell-5fe050e73bb01351",
     "locked": false,
     "schema_version": 3,
     "solution": true,
     "task": false
    },
    "tags": []
   },
   "outputs": [],
   "source": [
    "def min4(a, b, c, d):\n",
    "    ### BEGIN SOLUTION\n",
    "    def min2(a,b):\n",
    "        m = a\n",
    "        if m>b:\n",
    "            m = b\n",
    "        return m\n",
    "    return min2(min2(a,b), min2(c,d))\n",
    "    ### END SOLUTION\n",
    "    "
   ]
  },
  {
   "cell_type": "code",
   "execution_count": null,
   "id": "c3f63c0c-d4d3-4d63-a5d0-1e0e3e019d49",
   "metadata": {
    "nbgrader": {
     "grade": true,
     "grade_id": "cell-71618d487cf44b79",
     "locked": true,
     "points": 0,
     "schema_version": 3,
     "solution": false,
     "task": false
    }
   },
   "outputs": [],
   "source": [
    "### escribe aquí tu solución\n"
   ]
  },
  {
   "cell_type": "code",
   "execution_count": 6,
   "id": "7533d115-59db-4af7-9a47-7989e8e1c9d0",
   "metadata": {},
   "outputs": [
    {
     "name": "stdout",
     "output_type": "stream",
     "text": [
      "(1, 2, 3, 4), 1....OK.\n",
      "(2, 1, 3, 4), 1....OK.\n",
      "(2, 3, 1, 4), 1....OK.\n",
      "(2, 3, 4, 1), 1....OK.\n"
     ]
    }
   ],
   "source": [
    "def runtests(tests, fun):\n",
    "    for test, ex_res in tests:\n",
    "        res = fun(*test)\n",
    "        print(f'{test}, {res}....', end='')\n",
    "        assert res == ex_res, f'Error, the expexted result is {ex_res}'\n",
    "        print('OK.')\n",
    "        \n",
    "def test_min4():\n",
    "    tests = [\n",
    "        ((1,2,3,4), 1),\n",
    "        ((2,1,3,4), 1),\n",
    "        ((2,3,1,4), 1),\n",
    "        ((2,3,4,1), 1),\n",
    "    ]\n",
    "    runtests(tests, min4)\n",
    "    \n",
    "test_min4()"
   ]
  }
 ],
 "metadata": {
  "kernelspec": {
   "display_name": "Python 3 (ipykernel)",
   "language": "python",
   "name": "python3"
  },
  "language_info": {
   "codemirror_mode": {
    "name": "ipython",
    "version": 3
   },
   "file_extension": ".py",
   "mimetype": "text/x-python",
   "name": "python",
   "nbconvert_exporter": "python",
   "pygments_lexer": "ipython3",
   "version": "3.9.14"
  }
 },
 "nbformat": 4,
 "nbformat_minor": 5
}