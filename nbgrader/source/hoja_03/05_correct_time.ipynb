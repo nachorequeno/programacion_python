{
 "cells": [
  {
   "cell_type": "markdown",
   "id": "a8e0bb24-dbfa-4f5f-9fde-6e73c33cb9f6",
   "metadata": {},
   "source": [
    "#  ¿Me puede decir la hora?  \n",
    "\n",
    "Escribe un programa que reciba tres valores de entrada que corresponden a horas, minutos y  \n",
    "segundos. El programa debe indicar si se trata de una hora correcta o no."
   ]
  },
  {
   "cell_type": "code",
   "execution_count": 1,
   "id": "31162bce-cd47-49c2-be62-338adafb4c3d",
   "metadata": {
    "nbgrader": {
     "grade": false,
     "grade_id": "cell-683d3114d4f866c7",
     "locked": false,
     "schema_version": 3,
     "solution": true,
     "task": false
    },
    "tags": []
   },
   "outputs": [],
   "source": [
    "def is_correct_time(hour:int, minute:int, second:int) -> bool:\n",
    "    ### BEGIN SOLUTION\n",
    "    \"\"\"\n",
    "    This function checks if the passed time is correct\n",
    "    @type hour: int\n",
    "    @type minute: int\n",
    "    @type secomd: int\n",
    "    @rtype: bool\n",
    "    \"\"\"\n",
    "    return ( 0<=hour and hour<24 ) and \\\n",
    "        (0<=minute and minute<60 ) and \\\n",
    "        (0<=second and second<60 )\n",
    "    ### END SOLUTION\n",
    "    \n",
    "    "
   ]
  },
  {
   "cell_type": "code",
   "execution_count": 2,
   "id": "52b91009-5ecd-442a-b220-3a686b208257",
   "metadata": {},
   "outputs": [],
   "source": [
    "### Pruebas"
   ]
  },
  {
   "cell_type": "code",
   "execution_count": 3,
   "id": "04856222-a1d6-4217-9aa2-6f09722b663b",
   "metadata": {
    "nbgrader": {
     "grade": true,
     "grade_id": "cell-4d9a374ac8f23b04",
     "locked": true,
     "points": 0,
     "schema_version": 3,
     "solution": false,
     "task": false
    },
    "tags": []
   },
   "outputs": [
    {
     "name": "stdout",
     "output_type": "stream",
     "text": [
      "(10, 10, 10), True....OK.\n",
      "(0, 0, 0), True....OK.\n",
      "(23, 59, 59), True....OK.\n",
      "(24, 59, 59), False....OK.\n",
      "(24, 60, 59), False....OK.\n",
      "(24, 59, 60), False....OK.\n",
      "(-1, 59, 59), False....OK.\n",
      "(24, -1, 59), False....OK.\n",
      "(24, 59, -1), False....OK.\n"
     ]
    }
   ],
   "source": [
    "def runtests(tests, fun):\n",
    "    for test, ex_res in tests:\n",
    "        res = fun(*test)\n",
    "        print(f'{test}, {res}....', end='')\n",
    "        assert res == ex_res, f'Error, the expexted result is {ex_res}'\n",
    "        print('OK.')\n",
    "\n",
    "\n",
    "def test_is_correct_time():\n",
    "    tests = [\n",
    "        ((10, 10, 10), True),\n",
    "        ((0, 0, 0), True),\n",
    "        ((23, 59, 59), True),\n",
    "        ((24, 59, 59), False),\n",
    "        ((24, 60, 59), False),\n",
    "        ((24, 59, 60), False),\n",
    "        ((-1, 59, 59), False),\n",
    "        ((24, -1, 59), False),\n",
    "        ((24, 59, -1), False),\n",
    "    ]\n",
    "    runtests(tests, is_correct_time)\n",
    "\n",
    "test_is_correct_time()\n"
   ]
  }
 ],
 "metadata": {
  "kernelspec": {
   "display_name": "Python 3 (ipykernel)",
   "language": "python",
   "name": "python3"
  },
  "language_info": {
   "codemirror_mode": {
    "name": "ipython",
    "version": 3
   },
   "file_extension": ".py",
   "mimetype": "text/x-python",
   "name": "python",
   "nbconvert_exporter": "python",
   "pygments_lexer": "ipython3",
   "version": "3.9.14"
  }
 },
 "nbformat": 4,
 "nbformat_minor": 5
}
