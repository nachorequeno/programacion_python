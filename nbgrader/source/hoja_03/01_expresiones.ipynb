{
 "cells": [
  {
   "cell_type": "markdown",
   "id": "58e9a10a-0ac4-4136-9acd-79c0d92a7ef5",
   "metadata": {},
   "source": [
    "# Expresiones en Python\n",
    "\n",
    "Considera las siguientes funciones definidas en Python\n",
    "\n",
    "<img src='def.png' alt=''>\n",
    "\n",
    "\n",
    "Indica si son correctas las siguientes llamadas y en caso afirmativo indica \n",
    "el valor y el tipo que tienen:\n",
    "\n",
    "<img src='calls.png' alt=''>\n"
   ]
  },
  {
   "cell_type": "code",
   "execution_count": null,
   "id": "30562514-ac4a-46aa-a82c-fc7fdb2df294",
   "metadata": {},
   "outputs": [],
   "source": []
  }
 ],
 "metadata": {
  "kernelspec": {
   "display_name": "Python 3 (ipykernel)",
   "language": "python",
   "name": "python3"
  },
  "language_info": {
   "codemirror_mode": {
    "name": "ipython",
    "version": 3
   },
   "file_extension": ".py",
   "mimetype": "text/x-python",
   "name": "python",
   "nbconvert_exporter": "python",
   "pygments_lexer": "ipython3",
   "version": "3.10.8"
  }
 },
 "nbformat": 4,
 "nbformat_minor": 5
}
