{
 "cells": [
  {
   "cell_type": "markdown",
   "id": "c2d00cd4-8cad-47e6-abe8-349cdaab736a",
   "metadata": {},
   "source": [
    "# Rotaciones\n",
    "\n",
    "Imaginemos las letras del alfabeto ordenadas y dispuestas en círculo.\n",
    "Esto es, a la derecha de la `A` se encuentra la `B`, luego la `C` y así\n",
    "sucesivamente hasta la `Z`; a la derecha de la `Z` se encuentra \n",
    "nuevamente la `A`.\n",
    "\n",
    "Definimos una rotación de longitud $n$ como aquella que \n",
    "lleva a una determinada letra $n$ posiciones hacia su derecha.\n",
    "\n",
    "Vamos a considerar letras en mayúsculas sin tildes ni `Ñ`.\n",
    "\n",
    "## Ejemplo\n",
    "La rotación de longitud 1 lleva la $A$ a la $B$, la \n",
    "$V$ a la $W$ y la $Z$ a la $A$.\n",
    "\n",
    "La rotación de longitud 3 lleva la $A$ a la $D$, la $V$ a la $Y$ y la\n",
    "$Z$ a la $C$.\n",
    "\n"
   ]
  },
  {
   "cell_type": "markdown",
   "id": "e08b6f2a-69c6-4c89-a095-6a777cde944f",
   "metadata": {},
   "source": [
    "## Rotación de longitud 1\n",
    "\n",
    "Escribe en python una función que permita calcular la rotación de longitud 1. Es decir,\n",
    "dada una letra del alfabeto \n",
    "la función debería devolver la letra corrrespondiente a su rotación.\n"
   ]
  },
  {
   "cell_type": "code",
   "execution_count": 1,
   "id": "5d1370b7-8810-4754-ae2a-3f1afe783092",
   "metadata": {
    "nbgrader": {
     "grade": false,
     "grade_id": "cell-cb766c0e262b9d26",
     "locked": false,
     "schema_version": 3,
     "solution": true,
     "task": false
    },
    "tags": []
   },
   "outputs": [],
   "source": [
    "def rotation1(ltr: str) -> str:\n",
    "    ### BEGIN SOLUTION\n",
    "    def _rotation(ltr: str, lrot) -> str:\n",
    "        nchars = ord('Z') - ord('A') + 1\n",
    "        num = (ord(ltr) - ord('A') + lrot) % nchars\n",
    "        return chr(num + ord('A'))\n",
    "    return _rotation(ltr, 1)\n",
    "    ### END SOLUTION\n"
   ]
  },
  {
   "cell_type": "code",
   "execution_count": null,
   "id": "b36e6d5c-3c94-4337-9dfc-eed446ac8857",
   "metadata": {},
   "outputs": [],
   "source": [
    "### Pruebas"
   ]
  },
  {
   "cell_type": "code",
   "execution_count": 2,
   "id": "a7899fd5-15b0-4f84-8de7-96f75d338bd7",
   "metadata": {
    "nbgrader": {
     "grade": true,
     "grade_id": "cell-dbbf06cd9763e2d9",
     "locked": true,
     "points": 1,
     "schema_version": 3,
     "solution": false,
     "task": false
    },
    "tags": []
   },
   "outputs": [
    {
     "name": "stdout",
     "output_type": "stream",
     "text": [
      "('A',), B....OK.\n",
      "('L',), M....OK.\n",
      "('Y',), Z....OK.\n",
      "('Z',), A....OK.\n"
     ]
    }
   ],
   "source": [
    "def runtests(tests, fun):\n",
    "    for test, ex_res in tests:\n",
    "        res = fun(*test)\n",
    "        print(f'{test}, {res}....', end='')\n",
    "        assert res == ex_res, f'Error, the expexted result is {ex_res}'\n",
    "        print('OK.')\n",
    "\n",
    "def test_rotation1():\n",
    "    tests = [\n",
    "        (('A',), 'B'),\n",
    "        (('L',), 'M'),\n",
    "        (('Y',), 'Z'),\n",
    "        (('Z',), 'A'),\n",
    "    ]\n",
    "    runtests(tests, rotation1)\n",
    "\n",
    "test_rotation1()\n"
   ]
  },
  {
   "cell_type": "markdown",
   "id": "6d38e9d4-6128-460b-9ea5-e6d18d6b11dd",
   "metadata": {},
   "source": [
    "## Rotación de longitud arbitraria\n",
    "\n",
    "Escribe en python una función que permita calcular la rotación de longitud $n$"
   ]
  },
  {
   "cell_type": "code",
   "execution_count": 3,
   "id": "35c52da9-730c-4013-847f-fa1563cca7ed",
   "metadata": {
    "nbgrader": {
     "grade": false,
     "grade_id": "cell-3690770508a6802a",
     "locked": false,
     "schema_version": 3,
     "solution": true,
     "task": false
    },
    "tags": []
   },
   "outputs": [],
   "source": [
    "def rotation(ltr: str, lrot) -> str:\n",
    "    nchars = ord('Z') - ord('A') + 1\n",
    "    num = (ord(ltr) - ord('A') + lrot) % nchars\n",
    "    return chr(num + ord('A'))\n"
   ]
  },
  {
   "cell_type": "code",
   "execution_count": null,
   "id": "19c54c22-d409-48ce-92cc-922047f55d38",
   "metadata": {},
   "outputs": [],
   "source": [
    "### Pruebas"
   ]
  },
  {
   "cell_type": "code",
   "execution_count": 4,
   "id": "faa5ffd5-6c1d-48be-80b3-70ddb310a4b1",
   "metadata": {
    "nbgrader": {
     "grade": true,
     "grade_id": "cell-680781279db82f5e",
     "locked": true,
     "points": 1,
     "schema_version": 3,
     "solution": false,
     "task": false
    },
    "tags": []
   },
   "outputs": [
    {
     "name": "stdout",
     "output_type": "stream",
     "text": [
      "('A', 1), B....OK.\n",
      "('A', 2), C....OK.\n",
      "('A', 3), D....OK.\n",
      "('L', 1), M....OK.\n",
      "('L', 2), N....OK.\n",
      "('L', 3), O....OK.\n",
      "('Y', 1), Z....OK.\n",
      "('Y', 2), A....OK.\n",
      "('Y', 3), B....OK.\n",
      "('Z', 1), A....OK.\n",
      "('Z', 2), B....OK.\n",
      "('Z', 3), C....OK.\n"
     ]
    }
   ],
   "source": [
    "def test_rotation():\n",
    "    tests = [\n",
    "        (('A',1), 'B'),\n",
    "        (('A',2), 'C'),\n",
    "        (('A',3), 'D'),\n",
    "        (('L',1), 'M'),\n",
    "        (('L',2), 'N'),\n",
    "        (('L',3), 'O'),\n",
    "        (('Y',1), 'Z'),\n",
    "        (('Y',2), 'A'),\n",
    "        (('Y',3), 'B'),\n",
    "        (('Z',1), 'A'),\n",
    "        (('Z',2), 'B'),\n",
    "        (('Z',3), 'C'),\n",
    "    ]\n",
    "    runtests(tests, rotation)\n",
    "\n",
    "test_rotation()\n"
   ]
  }
 ],
 "metadata": {
  "kernelspec": {
   "display_name": "Python 3 (ipykernel)",
   "language": "python",
   "name": "python3"
  },
  "language_info": {
   "codemirror_mode": {
    "name": "ipython",
    "version": 3
   },
   "file_extension": ".py",
   "mimetype": "text/x-python",
   "name": "python",
   "nbconvert_exporter": "python",
   "pygments_lexer": "ipython3",
   "version": "3.9.14"
  }
 },
 "nbformat": 4,
 "nbformat_minor": 5
}
