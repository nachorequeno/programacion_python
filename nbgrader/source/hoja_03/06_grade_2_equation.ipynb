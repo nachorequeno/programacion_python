{
 "cells": [
  {
   "cell_type": "markdown",
   "id": "538e78ee-cd89-49ea-9e91-156a681bc4c5",
   "metadata": {},
   "source": [
    "# Ecuación de segundo grado.\n",
    "\n",
    "Escribe un programa que calcule la solución de una ecuación de segundo grado $Ax^2 + Bx + C = 0$. \n",
    "La función debe devolver las dos soluciones.\n",
    "\n",
    "La solución debe tener en cuenta que $A$ puede ser $0$, en este caso la función debe debe devolver 2 soluciones la segunda de ellas es `None`.\n",
    "\n",
    "Si el discriminante es negativo (no hay soluciones reales), los dos valores que se devuelven son `None`."
   ]
  },
  {
   "cell_type": "code",
   "execution_count": 2,
   "id": "6ebe153b-7497-4d40-8f8d-09ddf324de62",
   "metadata": {
    "nbgrader": {
     "grade": false,
     "grade_id": "cell-c0a75aec99d347b2",
     "locked": false,
     "schema_version": 3,
     "solution": true,
     "task": false
    },
    "tags": []
   },
   "outputs": [],
   "source": [
    "import math\n",
    "\n",
    "def grade_2_equation(a: float, b: float, c: float) -> (float, float):\n",
    "    assert not math.isclose(a, 0) or not math.isclose(b, 0), f'Error: there is no equation'\n",
    "    ### BEGIN SOLUTION\n",
    "    disc = b*b - 4*a*c\n",
    "    if disc < 0:\n",
    "        sol1, sol2 = None, None\n",
    "    elif math.isclose(a, 0):\n",
    "        sol1 = -c/b\n",
    "        sol2 = None\n",
    "    else:\n",
    "        sol1 = (-b + math.sqrt(disc)) / (2*a)\n",
    "        sol2 = (-b - math.sqrt(disc)) / (2*a)\n",
    "    \n",
    "    return sol1, sol2\n",
    "    ### END SOLUTION"
   ]
  },
  {
   "cell_type": "code",
   "execution_count": 10,
   "id": "f9cec3b6-9f93-4c8f-b373-3cd857dae0ba",
   "metadata": {},
   "outputs": [
    {
     "data": {
      "text/plain": [
       "(None, None)"
      ]
     },
     "execution_count": 10,
     "metadata": {},
     "output_type": "execute_result"
    }
   ],
   "source": [
    "### Escribe tus pruebas\n",
    "grade_2_equation(3, 0,18)"
   ]
  },
  {
   "cell_type": "code",
   "execution_count": 21,
   "id": "b229c700-95a2-4483-9873-1dfc7cc4cb9f",
   "metadata": {
    "nbgrader": {
     "grade": true,
     "grade_id": "cell-2d8e869ca8cfe038",
     "locked": true,
     "points": 0,
     "schema_version": 3,
     "solution": false,
     "task": false
    },
    "tags": []
   },
   "outputs": [
    {
     "name": "stdout",
     "output_type": "stream",
     "text": [
      "(3, -15, 18), (3.0, 2.0)....OK.\n",
      "(0, 4, 18), (-4.5, None)....OK.\n",
      "(3, 0, 18), (None, None)....OK.\n",
      "(3, 0, -12), (2.0, -2.0)....OK.\n",
      "(2, -12, 18), (3.0, 3.0)....OK.\n",
      "(45, 1, 2), (None, None)....OK.\n"
     ]
    }
   ],
   "source": [
    "def runtests(tests, fun):\n",
    "    for test, ex_res in tests:\n",
    "        res = fun(*test)\n",
    "        sol1, sol2 = res\n",
    "        ex_s1, ex_s2 = ex_res\n",
    "        print(f'{test}, {res}....', end='')\n",
    "        err_msg = f'Error, the expexted result is {ex_res}'\n",
    "        if ex_s1 is None and ex_s2 is None:\n",
    "            assert sol1 is None and sol2 is None, err_msg        \n",
    "        elif ex_s2 is None:\n",
    "            assert math.isclose(sol1, ex_s1) and sol2 is None, err_msg\n",
    "        else:\n",
    "            assert math.isclose(sol1, ex_s1) and math.isclose(sol2, ex_s2), err_msg            \n",
    "        print('OK.')\n",
    "\n",
    "def test_grade_2_equation():\n",
    "    tests = [\n",
    "        ((3,-15,18), (3.0, 2.0)),\n",
    "        ((0, 4,18), (-4.5, None)),\n",
    "        ((3, 0, 18),  (None, None)),\n",
    "        ((3, 0, -12), (2,-2)),\n",
    "        ((2,-12,18), (3,3)),\n",
    "        ((45, 1, 2), (None, None))\n",
    "    ]\n",
    "    runtests(tests, grade_2_equation)\n",
    "    \n",
    "test_grade_2_equation()\n",
    "    \n",
    "        "
   ]
  }
 ],
 "metadata": {
  "kernelspec": {
   "display_name": "Python 3 (ipykernel)",
   "language": "python",
   "name": "python3"
  },
  "language_info": {
   "codemirror_mode": {
    "name": "ipython",
    "version": 3
   },
   "file_extension": ".py",
   "mimetype": "text/x-python",
   "name": "python",
   "nbconvert_exporter": "python",
   "pygments_lexer": "ipython3",
   "version": "3.9.14"
  }
 },
 "nbformat": 4,
 "nbformat_minor": 5
}
