{
 "cells": [
  {
   "cell_type": "markdown",
   "id": "0e11f0c0-725c-4855-b873-891e1af07a7a",
   "metadata": {},
   "source": [
    "# Cuadrantes\n",
    "\n",
    "Escribe una función que nos indique el cuadrante en el que se encuentra un punto en el plano.\n",
    "\n",
    "<img src='cuadrantes.svg' alt=''>\n",
    "\n",
    "Si alguna de las componentes es 0 (el punto está en un eje), debe devolver el cuadrante menor que delimita el eje."
   ]
  },
  {
   "cell_type": "code",
   "execution_count": 2,
   "id": "86d3b94c-3867-4b5c-84c8-d47a8a2c47d3",
   "metadata": {
    "nbgrader": {
     "grade": false,
     "grade_id": "cell-d396b81a2b451f50",
     "locked": false,
     "schema_version": 3,
     "solution": true,
     "task": false
    },
    "tags": []
   },
   "outputs": [],
   "source": [
    "def quadrant(x: float, y:float) -> int:\n",
    "    #### BEGIN SOLUTION\n",
    "    if x>=0 and y>=0:\n",
    "        q = 1\n",
    "    elif y>=0: # x<0\n",
    "        q = 2\n",
    "    elif x<=0: #y<0\n",
    "        q = 3\n",
    "    else: #x<0 and y<0\n",
    "        q = 4\n",
    "    return q\n",
    "    #### END SOLUTION"
   ]
  },
  {
   "cell_type": "code",
   "execution_count": null,
   "id": "37382689-4753-4402-a8a7-76214cb15420",
   "metadata": {},
   "outputs": [],
   "source": [
    "### Pruebas"
   ]
  },
  {
   "cell_type": "code",
   "execution_count": 3,
   "id": "1f6356cf-39ee-4262-90c2-4f4baa3f1b56",
   "metadata": {
    "nbgrader": {
     "grade": true,
     "grade_id": "cell-c9820ac49790dcf6",
     "locked": true,
     "points": 1,
     "schema_version": 3,
     "solution": false,
     "task": false
    },
    "tags": []
   },
   "outputs": [
    {
     "name": "stdout",
     "output_type": "stream",
     "text": [
      "(0, 0), 1....OK.\n",
      "(1, 0), 1....OK.\n",
      "(1, 1), 1....OK.\n",
      "(0, 1), 1....OK.\n",
      "(-1, 1), 2....OK.\n",
      "(-1, 0), 2....OK.\n",
      "(-1, -1), 3....OK.\n",
      "(0, -1), 3....OK.\n",
      "(1, -1), 4....OK.\n"
     ]
    }
   ],
   "source": [
    "def runtests(tests, fun):\n",
    "    for test, ex_res in tests:\n",
    "        res = fun(*test)\n",
    "        print(f'{test}, {res}....', end='')\n",
    "        assert res == ex_res, f'Error, the expexted result is {ex_res}'\n",
    "        print('OK.')\n",
    "\n",
    "        \n",
    "def test_quadrant():\n",
    "    tests = [\n",
    "        ((0,0), 1),\n",
    "        ((1,0), 1),\n",
    "        ((1, 1), 1),\n",
    "        ((0, 1), 1),\n",
    "        ((-1, 1), 2),\n",
    "        ((-1, 0), 2),\n",
    "        ((-1, -1), 3),\n",
    "        ((0, -1), 3),\n",
    "        ((1, -1), 4)\n",
    "    ]\n",
    "    runtests(tests, quadrant)\n",
    "    \n",
    "test_quadrant()"
   ]
  }
 ],
 "metadata": {
  "kernelspec": {
   "display_name": "Python 3 (ipykernel)",
   "language": "python",
   "name": "python3"
  },
  "language_info": {
   "codemirror_mode": {
    "name": "ipython",
    "version": 3
   },
   "file_extension": ".py",
   "mimetype": "text/x-python",
   "name": "python",
   "nbconvert_exporter": "python",
   "pygments_lexer": "ipython3",
   "version": "3.9.14"
  }
 },
 "nbformat": 4,
 "nbformat_minor": 5
}
